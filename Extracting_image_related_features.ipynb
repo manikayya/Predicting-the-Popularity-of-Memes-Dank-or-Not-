{
  "nbformat": 4,
  "nbformat_minor": 0,
  "metadata": {
    "colab": {
      "name": "Extracting_image_related_features.ipynb",
      "provenance": [],
      "collapsed_sections": []
    },
    "kernelspec": {
      "name": "python3",
      "display_name": "Python 3"
    },
    "language_info": {
      "name": "python"
    },
    "accelerator": "GPU"
  },
  "cells": [
    {
      "cell_type": "code",
      "metadata": {
        "id": "PwbV403YVNNV"
      },
      "source": [
        "import pandas as pd\n",
        "import numpy as np\n",
        "import seaborn as sns\n",
        "import matplotlib.pyplot as plt\n",
        "sns.set(color_codes=True)\n",
        "%matplotlib inline\n",
        "import cv2\n",
        "import urllib.request\n",
        "import json\n",
        "from tqdm import tqdm\n",
        "import requests\n",
        "import warnings\n",
        "warnings.filterwarnings('ignore')\n",
        "from time import time\n",
        "from matplotlib.colors import hsv_to_rgb\n",
        "import colorsys"
      ],
      "execution_count": 1,
      "outputs": []
    },
    {
      "cell_type": "code",
      "metadata": {
        "id": "okxfGLro_yl8"
      },
      "source": [
        "data = pd.read_csv('/content/drive/MyDrive/case_study_2/input/Sentiment_data.csv')"
      ],
      "execution_count": 2,
      "outputs": []
    },
    {
      "cell_type": "code",
      "metadata": {
        "colab": {
          "base_uri": "https://localhost:8080/",
          "height": 287
        },
        "id": "SiAhw-ffonrV",
        "outputId": "4272b8b7-f939-4154-eca0-a49ccaf9bf4e"
      },
      "source": [
        "data.head(2)"
      ],
      "execution_count": 3,
      "outputs": [
        {
          "output_type": "execute_result",
          "data": {
            "text/html": [
              "<div>\n",
              "<style scoped>\n",
              "    .dataframe tbody tr th:only-of-type {\n",
              "        vertical-align: middle;\n",
              "    }\n",
              "\n",
              "    .dataframe tbody tr th {\n",
              "        vertical-align: top;\n",
              "    }\n",
              "\n",
              "    .dataframe thead th {\n",
              "        text-align: right;\n",
              "    }\n",
              "</style>\n",
              "<table border=\"1\" class=\"dataframe\">\n",
              "  <thead>\n",
              "    <tr style=\"text-align: right;\">\n",
              "      <th></th>\n",
              "      <th>created_utc</th>\n",
              "      <th>id</th>\n",
              "      <th>is_nsfw</th>\n",
              "      <th>media</th>\n",
              "      <th>subreddit</th>\n",
              "      <th>subscribers</th>\n",
              "      <th>thumbnail.height</th>\n",
              "      <th>thumbnail.thumbnail</th>\n",
              "      <th>thumbnail.width</th>\n",
              "      <th>title</th>\n",
              "      <th>ups</th>\n",
              "      <th>text_words</th>\n",
              "      <th>processed_words</th>\n",
              "      <th>Text</th>\n",
              "      <th>url</th>\n",
              "      <th>upvote ratio</th>\n",
              "      <th>dank_level</th>\n",
              "      <th>Time_of_day</th>\n",
              "      <th>Sentiment</th>\n",
              "      <th>word_count</th>\n",
              "      <th>char_count</th>\n",
              "    </tr>\n",
              "  </thead>\n",
              "  <tbody>\n",
              "    <tr>\n",
              "      <th>0</th>\n",
              "      <td>1.628380e+09</td>\n",
              "      <td>p040e9</td>\n",
              "      <td>0</td>\n",
              "      <td>https://i.redd.it/238mczwev0g71.jpg</td>\n",
              "      <td>0</td>\n",
              "      <td>1430077</td>\n",
              "      <td>114.0</td>\n",
              "      <td>https://b.thumbs.redditmedia.com/WBdc-Nus6faSe...</td>\n",
              "      <td>140.0</td>\n",
              "      <td>Invest in ye mudders credit card</td>\n",
              "      <td>167</td>\n",
              "      <td>Invest in ye mudders credit card {E || V] C ME...</td>\n",
              "      <td>['invest', 'mudders', 'credit', 'card', 'meeti...</td>\n",
              "      <td>invest mudders credit card meetin purchase hsi...</td>\n",
              "      <td>/r/MemeEconomy/comments/p040e9/invest_in_ye_mu...</td>\n",
              "      <td>0.000117</td>\n",
              "      <td>0</td>\n",
              "      <td>5</td>\n",
              "      <td>0.45</td>\n",
              "      <td>10</td>\n",
              "      <td>101</td>\n",
              "    </tr>\n",
              "    <tr>\n",
              "      <th>1</th>\n",
              "      <td>1.628366e+09</td>\n",
              "      <td>p002qn</td>\n",
              "      <td>0</td>\n",
              "      <td>https://i.redd.it/4yacuh18qzf71.jpg</td>\n",
              "      <td>0</td>\n",
              "      <td>1430077</td>\n",
              "      <td>140.0</td>\n",
              "      <td>https://b.thumbs.redditmedia.com/avzbtegaypC3l...</td>\n",
              "      <td>140.0</td>\n",
              "      <td>Invest in bio-security</td>\n",
              "      <td>60</td>\n",
              "      <td>Invest in bio-security Mucch</td>\n",
              "      <td>['invest', 'security', 'mucch']</td>\n",
              "      <td>invest security mucch</td>\n",
              "      <td>/r/MemeEconomy/comments/p002qn/invest_in_biose...</td>\n",
              "      <td>0.000042</td>\n",
              "      <td>0</td>\n",
              "      <td>4</td>\n",
              "      <td>0.50</td>\n",
              "      <td>3</td>\n",
              "      <td>28</td>\n",
              "    </tr>\n",
              "  </tbody>\n",
              "</table>\n",
              "</div>"
            ],
            "text/plain": [
              "    created_utc      id  is_nsfw  ... Sentiment  word_count  char_count\n",
              "0  1.628380e+09  p040e9        0  ...      0.45          10         101\n",
              "1  1.628366e+09  p002qn        0  ...      0.50           3          28\n",
              "\n",
              "[2 rows x 21 columns]"
            ]
          },
          "metadata": {},
          "execution_count": 3
        }
      ]
    },
    {
      "cell_type": "code",
      "metadata": {
        "id": "86KgkQSIsXv5"
      },
      "source": [
        "from skimage import io\n",
        "def url_to_cvimage(url):\n",
        "    try:\n",
        "        image = io.imread(url)\n",
        "        image = cv2.cvtColor(image, cv2.COLOR_BGR2RGB)\n",
        "        cv2.waitKey(0)\n",
        "    except:\n",
        "        image =  np.array([None,None,None]) \n",
        "    return image"
      ],
      "execution_count": 4,
      "outputs": []
    },
    {
      "cell_type": "code",
      "metadata": {
        "id": "HgB6AxChsZes"
      },
      "source": [
        "def cvimage_to_pic(cvimage):\n",
        "    meme = cv2.cvtColor(cvimage, cv2.COLOR_BGR2RGB)\n",
        "    plt.axis('off')\n",
        "    plt.imshow(meme)\n",
        "    plt.show()\n",
        "    return meme"
      ],
      "execution_count": 5,
      "outputs": []
    },
    {
      "cell_type": "code",
      "metadata": {
        "colab": {
          "base_uri": "https://localhost:8080/",
          "height": 248
        },
        "id": "rMKxoVsMsfcu",
        "outputId": "19ba1510-8deb-4074-e79b-8dd8e9f7764d"
      },
      "source": [
        "meme = cvimage_to_pic(url_to_cvimage(data.media.values[5150]))"
      ],
      "execution_count": 6,
      "outputs": [
        {
          "output_type": "display_data",
          "data": {
            "image/png": "[encoded data removed]",
            "text/plain": [
              "<Figure size 432x288 with 1 Axes>"
            ]
          },
          "metadata": {
            "needs_background": "light"
          }
        }
      ]
    },
    {
      "cell_type": "code",
      "metadata": {
        "colab": {
          "base_uri": "https://localhost:8080/"
        },
        "id": "jHVRq8zysu7e",
        "outputId": "35757240-eb79-4692-af54-d83c766c5ee7"
      },
      "source": [
        "# compute average h,s and v components\n",
        "def average_hsv(meme):\n",
        "    hsv_meme = cv2.cvtColor(meme, cv2.COLOR_RGB2HSV)\n",
        "    h, s, v = cv2.split(hsv_meme)\n",
        "    return [h.mean(),s.mean(),v.mean()]\n",
        "\n",
        "# check function\n",
        "average_hsv(meme)"
      ],
      "execution_count": 7,
      "outputs": [
        {
          "output_type": "execute_result",
          "data": {
            "text/plain": [
              "[73.05549260989676, 109.28021922063373, 144.6839454621838]"
            ]
          },
          "metadata": {},
          "execution_count": 7
        }
      ]
    },
    {
      "cell_type": "code",
      "metadata": {
        "colab": {
          "base_uri": "https://localhost:8080/"
        },
        "id": "IW5DDBDAvrCO",
        "outputId": "8c807b06-347a-437e-8302-369cddf68a32"
      },
      "source": [
        "# compute average r g and b components\n",
        "def average_rgb(meme):\n",
        "    r, g, b = cv2.split(meme)\n",
        "    return [r.mean(),g.mean(),b.mean()]\n",
        "\n",
        "# check function\n",
        "average_rgb(meme)"
      ],
      "execution_count": 8,
      "outputs": [
        {
          "output_type": "execute_result",
          "data": {
            "text/plain": [
              "[140.49769321841862, 111.56604626293745, 107.05992412572724]"
            ]
          },
          "metadata": {},
          "execution_count": 8
        }
      ]
    },
    {
      "cell_type": "code",
      "metadata": {
        "id": "UHGyXDzSwNQJ"
      },
      "source": [
        "# colors in hsv\n",
        "colors_to_mask = []\n",
        "tan1 = (0, 45, 140)\n",
        "tan2 = (30, 130, 250)\n",
        "colors_to_mask.append([tan1,tan2])\n",
        "light_orange = (1, 190, 200)\n",
        "dark_orange = (18, 255, 255)\n",
        "colors_to_mask.append([light_orange,dark_orange])"
      ],
      "execution_count": 9,
      "outputs": []
    },
    {
      "cell_type": "code",
      "metadata": {
        "colab": {
          "base_uri": "https://localhost:8080/"
        },
        "id": "oi-uAjT3wPym",
        "outputId": "66e49480-eeef-4fe2-be08-e995cc345130"
      },
      "source": [
        "# function gets data about the amount of one color in image\n",
        "def getColorMask(meme,color1,color2):\n",
        "    hsv_meme = cv2.cvtColor(meme, cv2.COLOR_RGB2HSV)\n",
        "    mask = cv2.inRange(hsv_meme, color1, color2)\n",
        "    result = cv2.bitwise_and(meme, meme, mask=mask)\n",
        "    return (np.sum(mask)/(meme.shape[0]*meme.shape[1]))\n",
        "\n",
        "# check\n",
        "getColorMask(meme,tan1,tan2)"
      ],
      "execution_count": 10,
      "outputs": [
        {
          "output_type": "execute_result",
          "data": {
            "text/plain": [
              "22.374463724204656"
            ]
          },
          "metadata": {},
          "execution_count": 10
        }
      ]
    },
    {
      "cell_type": "code",
      "metadata": {
        "colab": {
          "base_uri": "https://localhost:8080/"
        },
        "id": "9KUiQc3Gwfrl",
        "outputId": "5ee404b7-ed35-40bc-ab80-8dfc445aeb6e"
      },
      "source": [
        "# loop over rows of data frame and gather average r,g,b and h,s,v data\n",
        "# do this in sections / copy this file and run multiple sections of data simultaneousnessly on different kernel\n",
        "# takes ~7 minutes to run over 500 records\n",
        "avg_hsv_list = []\n",
        "avg_rgb_list = [] \n",
        "color_list = [[],[]]\n",
        "for row in tqdm(range(0,data.shape[0])):\n",
        "    x = data.iloc[row]\n",
        "    url = x['media']\n",
        "    meme = url_to_cvimage(url)\n",
        "    try:\n",
        "        avg_hsv_list.append(average_hsv(meme))\n",
        "        avg_rgb_list.append(average_rgb(meme))\n",
        "        for i in range(0,len(colors_to_mask)):\n",
        "            color_list[i].append(getColorMask(meme,colors_to_mask[i][0],colors_to_mask[i][1]))\n",
        "    except:  \n",
        "        avg_hsv_list.append([None,None,None])\n",
        "        avg_rgb_list.append([None,None,None])\n",
        "        color_list[0].append(None)\n",
        "        color_list[1].append(None)\n",
        "        continue       "
      ],
      "execution_count": null,
      "outputs": [
        {
          "output_type": "stream",
          "text": [
            "100%|██████████| 30000/30000 [1:26:28<00:00,  5.78it/s]\n"
          ],
          "name": "stderr"
        }
      ]
    },
    {
      "cell_type": "code",
      "metadata": {
        "id": "UHbJsei_DxDH"
      },
      "source": [
        "# add attributes to data frame\n",
        "data['avg_hue'] = [row[0] for row in avg_hsv_list]\n",
        "data['avg_saturation'] = [row[1] for row in avg_hsv_list]\n",
        "data['avg_value'] = [row[2] for row in avg_hsv_list]\n",
        "data['avg_redRGB'] = [row[0] for row in avg_rgb_list]\n",
        "data['avg_greenRGB'] = [row[1] for row in avg_rgb_list]\n",
        "data['avg_blueRGB'] = [row[2] for row in avg_rgb_list]\n",
        "data['avg_tan'] = color_list[0]\n",
        "data['avg_orange'] = color_list[1]"
      ],
      "execution_count": null,
      "outputs": []
    },
    {
      "cell_type": "code",
      "metadata": {
        "colab": {
          "base_uri": "https://localhost:8080/",
          "height": 287
        },
        "id": "ptMFafVlD_KJ",
        "outputId": "cebcf20b-aac3-4ad7-82db-3ae317166e87"
      },
      "source": [
        "data.head(2)"
      ],
      "execution_count": null,
      "outputs": [
        {
          "output_type": "execute_result",
          "data": {
            "text/html": [
              "<div>\n",
              "<style scoped>\n",
              "    .dataframe tbody tr th:only-of-type {\n",
              "        vertical-align: middle;\n",
              "    }\n",
              "\n",
              "    .dataframe tbody tr th {\n",
              "        vertical-align: top;\n",
              "    }\n",
              "\n",
              "    .dataframe thead th {\n",
              "        text-align: right;\n",
              "    }\n",
              "</style>\n",
              "<table border=\"1\" class=\"dataframe\">\n",
              "  <thead>\n",
              "    <tr style=\"text-align: right;\">\n",
              "      <th></th>\n",
              "      <th>created_utc</th>\n",
              "      <th>id</th>\n",
              "      <th>is_nsfw</th>\n",
              "      <th>media</th>\n",
              "      <th>subreddit</th>\n",
              "      <th>subscribers</th>\n",
              "      <th>thumbnail.height</th>\n",
              "      <th>thumbnail.thumbnail</th>\n",
              "      <th>thumbnail.width</th>\n",
              "      <th>title</th>\n",
              "      <th>ups</th>\n",
              "      <th>text_words</th>\n",
              "      <th>processed_words</th>\n",
              "      <th>Text</th>\n",
              "      <th>url</th>\n",
              "      <th>upvote ratio</th>\n",
              "      <th>dank_level</th>\n",
              "      <th>Time_of_day</th>\n",
              "      <th>Sentiment</th>\n",
              "      <th>word_count</th>\n",
              "      <th>char_count</th>\n",
              "      <th>avg_hue</th>\n",
              "      <th>avg_saturation</th>\n",
              "      <th>avg_value</th>\n",
              "      <th>avg_redRGB</th>\n",
              "      <th>avg_greenRGB</th>\n",
              "      <th>avg_blueRGB</th>\n",
              "      <th>avg_tan</th>\n",
              "      <th>avg_orange</th>\n",
              "    </tr>\n",
              "  </thead>\n",
              "  <tbody>\n",
              "    <tr>\n",
              "      <th>0</th>\n",
              "      <td>1.628380e+09</td>\n",
              "      <td>p040e9</td>\n",
              "      <td>0</td>\n",
              "      <td>https://i.redd.it/238mczwev0g71.jpg</td>\n",
              "      <td>0</td>\n",
              "      <td>1430077</td>\n",
              "      <td>114.0</td>\n",
              "      <td>https://b.thumbs.redditmedia.com/WBdc-Nus6faSe...</td>\n",
              "      <td>140.0</td>\n",
              "      <td>Invest in ye mudders credit card</td>\n",
              "      <td>167</td>\n",
              "      <td>Invest in ye mudders credit card {E || V] C ME...</td>\n",
              "      <td>['invest', 'mudders', 'credit', 'card', 'meeti...</td>\n",
              "      <td>invest mudders credit card meetin purchase hsi...</td>\n",
              "      <td>/r/MemeEconomy/comments/p040e9/invest_in_ye_mu...</td>\n",
              "      <td>0.000117</td>\n",
              "      <td>0</td>\n",
              "      <td>5</td>\n",
              "      <td>0.45</td>\n",
              "      <td>10</td>\n",
              "      <td>101</td>\n",
              "      <td>46.715343</td>\n",
              "      <td>115.816747</td>\n",
              "      <td>173.073604</td>\n",
              "      <td>159.565135</td>\n",
              "      <td>119.666843</td>\n",
              "      <td>111.009154</td>\n",
              "      <td>119.731336</td>\n",
              "      <td>0.0</td>\n",
              "    </tr>\n",
              "    <tr>\n",
              "      <th>1</th>\n",
              "      <td>1.628366e+09</td>\n",
              "      <td>p002qn</td>\n",
              "      <td>0</td>\n",
              "      <td>https://i.redd.it/4yacuh18qzf71.jpg</td>\n",
              "      <td>0</td>\n",
              "      <td>1430077</td>\n",
              "      <td>140.0</td>\n",
              "      <td>https://b.thumbs.redditmedia.com/avzbtegaypC3l...</td>\n",
              "      <td>140.0</td>\n",
              "      <td>Invest in bio-security</td>\n",
              "      <td>60</td>\n",
              "      <td>Invest in bio-security Mucch</td>\n",
              "      <td>['invest', 'security', 'mucch']</td>\n",
              "      <td>invest security mucch</td>\n",
              "      <td>/r/MemeEconomy/comments/p002qn/invest_in_biose...</td>\n",
              "      <td>0.000042</td>\n",
              "      <td>0</td>\n",
              "      <td>4</td>\n",
              "      <td>0.50</td>\n",
              "      <td>3</td>\n",
              "      <td>28</td>\n",
              "      <td>64.133123</td>\n",
              "      <td>88.576772</td>\n",
              "      <td>135.897159</td>\n",
              "      <td>124.226934</td>\n",
              "      <td>113.670314</td>\n",
              "      <td>110.440120</td>\n",
              "      <td>1.147583</td>\n",
              "      <td>0.0</td>\n",
              "    </tr>\n",
              "  </tbody>\n",
              "</table>\n",
              "</div>"
            ],
            "text/plain": [
              "    created_utc      id  is_nsfw  ... avg_blueRGB     avg_tan  avg_orange\n",
              "0  1.628380e+09  p040e9        0  ...  111.009154  119.731336         0.0\n",
              "1  1.628366e+09  p002qn        0  ...  110.440120    1.147583         0.0\n",
              "\n",
              "[2 rows x 29 columns]"
            ]
          },
          "metadata": {},
          "execution_count": 48
        }
      ]
    },
    {
      "cell_type": "code",
      "metadata": {
        "id": "zsGfgt9-xxuM"
      },
      "source": [
        "data.to_csv('/content/drive/MyDrive/case_study_2/input/data_8.csv',index=False)"
      ],
      "execution_count": null,
      "outputs": []
    },
    {
      "cell_type": "code",
      "metadata": {
        "id": "XAdeyZWHEU9b"
      },
      "source": [
        "data = pd.read_csv('/content/drive/MyDrive/case_study_2/input/data_8.csv')"
      ],
      "execution_count": 11,
      "outputs": []
    },
    {
      "cell_type": "code",
      "metadata": {
        "colab": {
          "base_uri": "https://localhost:8080/",
          "height": 153
        },
        "id": "aiiDXTReEPsY",
        "outputId": "66366af5-5510-474f-e280-e386b0a1e105"
      },
      "source": [
        "# functions to convert an rgb color to a range in hsv that can be used to mask the images\n",
        "def rgb_hsv_converter(rgb):\n",
        "    (r,g,b) = rgb_normalizer(rgb)\n",
        "    hsv = colorsys.rgb_to_hsv(r,g,b)\n",
        "    (h,s,v) = hsv_normalizer(hsv)\n",
        "    upper_band = [h+10, s+40, v+40] \n",
        "    lower_band = [h-10, s-40, v-40]                     \n",
        "    return {\n",
        "        'upper_band': upper_band,\n",
        "        'lower_band': lower_band\n",
        "    }\n",
        "\n",
        "def rgb_normalizer(rgb):\n",
        "    (r,g,b) = rgb\n",
        "    return (r/255, g/255, b/255)\n",
        "\n",
        "def hsv_normalizer(hsv):\n",
        "    (h,s,v) = hsv\n",
        "    return (h*360, s*255, v*255)\n",
        "\n",
        "# display range of colors to check functions\n",
        "rgb = (250,235,215) # green: (128, 255, 0)\n",
        "dict_colors = rgb_hsv_converter(rgb)\n",
        "\n",
        "color_2 = tuple(dict_colors['lower_band'])\n",
        "color_1 = tuple(dict_colors['upper_band'])\n",
        "\n",
        "do_square = np.full((10, 10, 3), color_2, dtype=np.uint8) / 255.0\n",
        "lo_square = np.full((10, 10, 3), color_1, dtype=np.uint8) / 255.0\n",
        "\n",
        "plt.subplot(1, 3, 1)\n",
        "plt.imshow(hsv_to_rgb(do_square))\n",
        "plt.subplot(1, 3, 2)\n",
        "plt.imshow([[rgb]]) \n",
        "plt.subplot(1, 3, 3)\n",
        "plt.imshow(hsv_to_rgb(lo_square))\n",
        "plt.show()"
      ],
      "execution_count": 11,
      "outputs": [
        {
          "output_type": "display_data",
          "data": {
            "image/png": "[encoded data removed]",
            "text/plain": [
              "<Figure size 432x288 with 3 Axes>"
            ]
          },
          "metadata": {
            "needs_background": "light"
          }
        }
      ]
    },
    {
      "cell_type": "code",
      "metadata": {
        "id": "6nToSXHOep0Z"
      },
      "source": [
        "# define the rgb colors to extract from memes\n",
        "\n",
        "rgb_colors = [(250,235,215),\n",
        "              (127,255,212),\n",
        "              (227,207,87),\n",
        "              (0,0,0),\n",
        "              (138,43,226),\n",
        "              (165,42,42),\n",
        "              (139,115,85),\n",
        "              (83,134,139),\n",
        "              (255,97,3),\n",
        "              (255,127,80),\n",
        "              (0,100,0),\n",
        "              (255,20,147),\n",
        "              (248,248,255),\n",
        "              (173,255,47),\n",
        "              (255,255,0)\n",
        "             ]\n",
        "colr_dict = { 'off-white': [],\n",
        "              'aqua': [],\n",
        "              'mustard': [],\n",
        "              'black': [],\n",
        "              'purple': [],\n",
        "              'red-brown': [],\n",
        "              'dust-brown': [],\n",
        "              'gray-blue': [],\n",
        "              'orange': [],\n",
        "              'salmon': [],\n",
        "              'dark-green': [],\n",
        "              'pink': [],\n",
        "              'white': [],\n",
        "              'yellow-green': [],\n",
        "              'bright-yellow': []\n",
        "            }"
      ],
      "execution_count": 12,
      "outputs": []
    },
    {
      "cell_type": "code",
      "metadata": {
        "id": "pYTYLsMTEUdw"
      },
      "source": [
        "t0 = time()\n",
        "for i in tqdm(range(0,len(data))): \n",
        "    try:\n",
        "        url = data.iloc[i]['media']\n",
        "        im = url_to_cvimage(url)\n",
        "        meme = cv2.cvtColor(im, cv2.COLOR_BGR2RGB)\n",
        "        counter = 0\n",
        "        for key in colr_dict:\n",
        "            dict_colors = rgb_hsv_converter(rgb_colors[counter])\n",
        "            color_2 = tuple(dict_colors['lower_band'])\n",
        "            color_1 = tuple(dict_colors['upper_band'])\n",
        "            colr_dict[key].append(getColorMask(meme,color_2,color_1))\n",
        "            counter += 1\n",
        "    except:\n",
        "        for key in colr_dict:\n",
        "            colr_dict[key].append(None)\n",
        "        print(\"Fail\")\n",
        "t1 = time()   \n",
        "print('seconds to run: %f' %(t1-t0))"
      ],
      "execution_count": null,
      "outputs": []
    },
    {
      "cell_type": "code",
      "metadata": {
        "id": "tTCZQxzoQ1St"
      },
      "source": [
        "for key in colr_dict:\n",
        "    data[key] = colr_dict[key]\n",
        "# save new data frame to json file\n",
        "data.to_json(r'/content/drive/MyDrive/case_study_2/input/dank_cleaned.json')\n"
      ],
      "execution_count": 16,
      "outputs": []
    },
    {
      "cell_type": "code",
      "metadata": {
        "colab": {
          "base_uri": "https://localhost:8080/",
          "height": 571
        },
        "id": "6KHL9NAWwGqi",
        "outputId": "3fd8aee7-0d02-40b2-a662-1f066593beee"
      },
      "source": [
        "data.head()"
      ],
      "execution_count": 17,
      "outputs": [
        {
          "output_type": "execute_result",
          "data": {
            "text/html": [
              "<div>\n",
              "<style scoped>\n",
              "    .dataframe tbody tr th:only-of-type {\n",
              "        vertical-align: middle;\n",
              "    }\n",
              "\n",
              "    .dataframe tbody tr th {\n",
              "        vertical-align: top;\n",
              "    }\n",
              "\n",
              "    .dataframe thead th {\n",
              "        text-align: right;\n",
              "    }\n",
              "</style>\n",
              "<table border=\"1\" class=\"dataframe\">\n",
              "  <thead>\n",
              "    <tr style=\"text-align: right;\">\n",
              "      <th></th>\n",
              "      <th>created_utc</th>\n",
              "      <th>id</th>\n",
              "      <th>is_nsfw</th>\n",
              "      <th>media</th>\n",
              "      <th>subreddit</th>\n",
              "      <th>subscribers</th>\n",
              "      <th>thumbnail.height</th>\n",
              "      <th>thumbnail.thumbnail</th>\n",
              "      <th>thumbnail.width</th>\n",
              "      <th>title</th>\n",
              "      <th>ups</th>\n",
              "      <th>text_words</th>\n",
              "      <th>processed_words</th>\n",
              "      <th>Text</th>\n",
              "      <th>url</th>\n",
              "      <th>upvote ratio</th>\n",
              "      <th>dank_level</th>\n",
              "      <th>Time_of_day</th>\n",
              "      <th>Sentiment</th>\n",
              "      <th>word_count</th>\n",
              "      <th>char_count</th>\n",
              "      <th>avg_hue</th>\n",
              "      <th>avg_saturation</th>\n",
              "      <th>avg_value</th>\n",
              "      <th>avg_redRGB</th>\n",
              "      <th>avg_greenRGB</th>\n",
              "      <th>avg_blueRGB</th>\n",
              "      <th>avg_tan</th>\n",
              "      <th>avg_orange</th>\n",
              "      <th>off-white</th>\n",
              "      <th>aqua</th>\n",
              "      <th>mustard</th>\n",
              "      <th>black</th>\n",
              "      <th>purple</th>\n",
              "      <th>red-brown</th>\n",
              "      <th>dust-brown</th>\n",
              "      <th>gray-blue</th>\n",
              "      <th>orange</th>\n",
              "      <th>salmon</th>\n",
              "      <th>dark-green</th>\n",
              "      <th>pink</th>\n",
              "      <th>white</th>\n",
              "      <th>yellow-green</th>\n",
              "      <th>bright-yellow</th>\n",
              "    </tr>\n",
              "  </thead>\n",
              "  <tbody>\n",
              "    <tr>\n",
              "      <th>0</th>\n",
              "      <td>1.628380e+09</td>\n",
              "      <td>p040e9</td>\n",
              "      <td>0</td>\n",
              "      <td>https://i.redd.it/238mczwev0g71.jpg</td>\n",
              "      <td>0</td>\n",
              "      <td>1430077</td>\n",
              "      <td>114.0</td>\n",
              "      <td>https://b.thumbs.redditmedia.com/WBdc-Nus6faSe...</td>\n",
              "      <td>140.0</td>\n",
              "      <td>Invest in ye mudders credit card</td>\n",
              "      <td>167</td>\n",
              "      <td>Invest in ye mudders credit card {E || V] C ME...</td>\n",
              "      <td>['invest', 'mudders', 'credit', 'card', 'meeti...</td>\n",
              "      <td>invest mudders credit card meetin purchase hsi...</td>\n",
              "      <td>/r/MemeEconomy/comments/p040e9/invest_in_ye_mu...</td>\n",
              "      <td>0.000117</td>\n",
              "      <td>0</td>\n",
              "      <td>5</td>\n",
              "      <td>0.45</td>\n",
              "      <td>10</td>\n",
              "      <td>101</td>\n",
              "      <td>46.715343</td>\n",
              "      <td>115.816747</td>\n",
              "      <td>173.073604</td>\n",
              "      <td>159.565135</td>\n",
              "      <td>119.666843</td>\n",
              "      <td>111.009154</td>\n",
              "      <td>119.731336</td>\n",
              "      <td>0.0</td>\n",
              "      <td>0.141470</td>\n",
              "      <td>0.009757</td>\n",
              "      <td>0.0</td>\n",
              "      <td>0.024391</td>\n",
              "      <td>0.0</td>\n",
              "      <td>0.825039</td>\n",
              "      <td>0.096549</td>\n",
              "      <td>0.071345</td>\n",
              "      <td>0.013415</td>\n",
              "      <td>1.887489</td>\n",
              "      <td>0.760605</td>\n",
              "      <td>0.0</td>\n",
              "      <td>0.0</td>\n",
              "      <td>0.234767</td>\n",
              "      <td>0.0</td>\n",
              "    </tr>\n",
              "    <tr>\n",
              "      <th>1</th>\n",
              "      <td>1.628366e+09</td>\n",
              "      <td>p002qn</td>\n",
              "      <td>0</td>\n",
              "      <td>https://i.redd.it/4yacuh18qzf71.jpg</td>\n",
              "      <td>0</td>\n",
              "      <td>1430077</td>\n",
              "      <td>140.0</td>\n",
              "      <td>https://b.thumbs.redditmedia.com/avzbtegaypC3l...</td>\n",
              "      <td>140.0</td>\n",
              "      <td>Invest in bio-security</td>\n",
              "      <td>60</td>\n",
              "      <td>Invest in bio-security Mucch</td>\n",
              "      <td>['invest', 'security', 'mucch']</td>\n",
              "      <td>invest security mucch</td>\n",
              "      <td>/r/MemeEconomy/comments/p002qn/invest_in_biose...</td>\n",
              "      <td>0.000042</td>\n",
              "      <td>0</td>\n",
              "      <td>4</td>\n",
              "      <td>0.50</td>\n",
              "      <td>3</td>\n",
              "      <td>28</td>\n",
              "      <td>64.133123</td>\n",
              "      <td>88.576772</td>\n",
              "      <td>135.897159</td>\n",
              "      <td>124.226934</td>\n",
              "      <td>113.670314</td>\n",
              "      <td>110.440120</td>\n",
              "      <td>1.147583</td>\n",
              "      <td>0.0</td>\n",
              "      <td>3.154712</td>\n",
              "      <td>0.000208</td>\n",
              "      <td>0.0</td>\n",
              "      <td>0.439941</td>\n",
              "      <td>0.0</td>\n",
              "      <td>0.026562</td>\n",
              "      <td>0.059351</td>\n",
              "      <td>0.068896</td>\n",
              "      <td>0.000623</td>\n",
              "      <td>0.055823</td>\n",
              "      <td>39.820715</td>\n",
              "      <td>0.0</td>\n",
              "      <td>0.0</td>\n",
              "      <td>0.000000</td>\n",
              "      <td>0.0</td>\n",
              "    </tr>\n",
              "    <tr>\n",
              "      <th>2</th>\n",
              "      <td>1.628364e+09</td>\n",
              "      <td>ozzmum</td>\n",
              "      <td>0</td>\n",
              "      <td>https://i.redd.it/fkqta3ctlzf71.jpg</td>\n",
              "      <td>0</td>\n",
              "      <td>1430077</td>\n",
              "      <td>140.0</td>\n",
              "      <td>default</td>\n",
              "      <td>140.0</td>\n",
              "      <td>INVEST in Jontron slicing the price in half! A...</td>\n",
              "      <td>15</td>\n",
              "      <td>INVEST in Jontron slicing the price in half! A...</td>\n",
              "      <td>['invest', 'jontron', 'slice', 'price', 'half'...</td>\n",
              "      <td>invest jontron slice price half bargain sure g...</td>\n",
              "      <td>/r/MemeEconomy/comments/ozzmum/invest_in_jontr...</td>\n",
              "      <td>0.000010</td>\n",
              "      <td>0</td>\n",
              "      <td>4</td>\n",
              "      <td>0.51</td>\n",
              "      <td>13</td>\n",
              "      <td>135</td>\n",
              "      <td>93.662060</td>\n",
              "      <td>62.428856</td>\n",
              "      <td>130.200325</td>\n",
              "      <td>114.445672</td>\n",
              "      <td>105.270329</td>\n",
              "      <td>117.187462</td>\n",
              "      <td>17.447007</td>\n",
              "      <td>0.0</td>\n",
              "      <td>0.094066</td>\n",
              "      <td>0.000000</td>\n",
              "      <td>0.0</td>\n",
              "      <td>4.056133</td>\n",
              "      <td>0.0</td>\n",
              "      <td>0.224274</td>\n",
              "      <td>0.028004</td>\n",
              "      <td>3.597819</td>\n",
              "      <td>0.000000</td>\n",
              "      <td>0.593357</td>\n",
              "      <td>0.000000</td>\n",
              "      <td>0.0</td>\n",
              "      <td>0.0</td>\n",
              "      <td>0.000000</td>\n",
              "      <td>0.0</td>\n",
              "    </tr>\n",
              "    <tr>\n",
              "      <th>3</th>\n",
              "      <td>1.628357e+09</td>\n",
              "      <td>ozxfph</td>\n",
              "      <td>0</td>\n",
              "      <td>https://i.redd.it/xv0li2430zf71.png</td>\n",
              "      <td>0</td>\n",
              "      <td>1430077</td>\n",
              "      <td>140.0</td>\n",
              "      <td>https://b.thumbs.redditmedia.com/2GQTtYFKN3Om9...</td>\n",
              "      <td>140.0</td>\n",
              "      <td>Invest in Elmo in Vietnam</td>\n",
              "      <td>26</td>\n",
              "      <td>Invest in Elmo in Vietnam</td>\n",
              "      <td>['invest', 'elmo', 'vietnam']</td>\n",
              "      <td>invest elmo vietnam</td>\n",
              "      <td>/r/MemeEconomy/comments/ozxfph/invest_in_elmo_...</td>\n",
              "      <td>0.000018</td>\n",
              "      <td>0</td>\n",
              "      <td>4</td>\n",
              "      <td>0.50</td>\n",
              "      <td>3</td>\n",
              "      <td>26</td>\n",
              "      <td>19.343506</td>\n",
              "      <td>40.170647</td>\n",
              "      <td>35.248237</td>\n",
              "      <td>16.409659</td>\n",
              "      <td>16.465027</td>\n",
              "      <td>35.248237</td>\n",
              "      <td>0.000000</td>\n",
              "      <td>0.0</td>\n",
              "      <td>0.015111</td>\n",
              "      <td>0.000000</td>\n",
              "      <td>0.0</td>\n",
              "      <td>176.462519</td>\n",
              "      <td>0.0</td>\n",
              "      <td>0.141037</td>\n",
              "      <td>0.000000</td>\n",
              "      <td>0.030222</td>\n",
              "      <td>0.000000</td>\n",
              "      <td>0.065481</td>\n",
              "      <td>0.000000</td>\n",
              "      <td>0.0</td>\n",
              "      <td>0.0</td>\n",
              "      <td>0.000000</td>\n",
              "      <td>0.0</td>\n",
              "    </tr>\n",
              "    <tr>\n",
              "      <th>4</th>\n",
              "      <td>1.628355e+09</td>\n",
              "      <td>ozwwz7</td>\n",
              "      <td>0</td>\n",
              "      <td>https://i.redd.it/n4ouph71vyf71.jpg</td>\n",
              "      <td>0</td>\n",
              "      <td>1430077</td>\n",
              "      <td>140.0</td>\n",
              "      <td>default</td>\n",
              "      <td>140.0</td>\n",
              "      <td>Invest in woman with her statue</td>\n",
              "      <td>23</td>\n",
              "      <td>Invest in woman with her statue</td>\n",
              "      <td>['invest', 'woman', 'statue']</td>\n",
              "      <td>invest woman statue</td>\n",
              "      <td>/r/MemeEconomy/comments/ozwwz7/invest_in_woman...</td>\n",
              "      <td>0.000016</td>\n",
              "      <td>0</td>\n",
              "      <td>3</td>\n",
              "      <td>0.49</td>\n",
              "      <td>3</td>\n",
              "      <td>32</td>\n",
              "      <td>35.058768</td>\n",
              "      <td>43.135258</td>\n",
              "      <td>137.853427</td>\n",
              "      <td>135.663968</td>\n",
              "      <td>131.371310</td>\n",
              "      <td>121.080027</td>\n",
              "      <td>30.750222</td>\n",
              "      <td>0.0</td>\n",
              "      <td>1.416236</td>\n",
              "      <td>0.000000</td>\n",
              "      <td>0.0</td>\n",
              "      <td>0.486460</td>\n",
              "      <td>0.0</td>\n",
              "      <td>0.000000</td>\n",
              "      <td>0.142843</td>\n",
              "      <td>0.011545</td>\n",
              "      <td>0.000000</td>\n",
              "      <td>0.000000</td>\n",
              "      <td>0.000000</td>\n",
              "      <td>0.0</td>\n",
              "      <td>0.0</td>\n",
              "      <td>0.000000</td>\n",
              "      <td>0.0</td>\n",
              "    </tr>\n",
              "  </tbody>\n",
              "</table>\n",
              "</div>"
            ],
            "text/plain": [
              "    created_utc      id  is_nsfw  ... white  yellow-green  bright-yellow\n",
              "0  1.628380e+09  p040e9        0  ...   0.0      0.234767            0.0\n",
              "1  1.628366e+09  p002qn        0  ...   0.0      0.000000            0.0\n",
              "2  1.628364e+09  ozzmum        0  ...   0.0      0.000000            0.0\n",
              "3  1.628357e+09  ozxfph        0  ...   0.0      0.000000            0.0\n",
              "4  1.628355e+09  ozwwz7        0  ...   0.0      0.000000            0.0\n",
              "\n",
              "[5 rows x 44 columns]"
            ]
          },
          "metadata": {},
          "execution_count": 17
        }
      ]
    },
    {
      "cell_type": "code",
      "metadata": {
        "id": "dA_OTs9CkYUA"
      },
      "source": [
        "data = pd.read_json('/content/drive/MyDrive/case_study_2/input/dank_cleaned.json')"
      ],
      "execution_count": 13,
      "outputs": []
    },
    {
      "cell_type": "code",
      "metadata": {
        "id": "REjawdLMxPDU"
      },
      "source": [
        "\n",
        "more_colors = [(60,179,113),\n",
        "               (30,144,255),\n",
        "               (221,160,221),\n",
        "               (139,69,19),\n",
        "               (199,21,133),\n",
        "               (72,61,139),\n",
        "               (25,25,112),\n",
        "               (95,158,160),\n",
        "               (0,250,154),\n",
        "               (128,128,0),\n",
        "               (255,99,71),\n",
        "               (34,139,34),\n",
        "               (232,91,31),\n",
        "               (206,166,149)\n",
        "              ]\n",
        "more_colDic = { 'medium_sea_green': [],\n",
        "               'dodgerblue': [],\n",
        "               'plum': [],\n",
        "               'saddlebrown': [],\n",
        "               'medium_violet_red': [],\n",
        "               'dark_slate_blue': [],\n",
        "               'midnight_blue': [],\n",
        "               'cadet_blue': [],\n",
        "               'medium_spring_green': [],\n",
        "               'olive': [],\n",
        "               'tomato': [],\n",
        "               'forestgreen': [],\n",
        "               'thick_pink'\n",
        "               'desaturated_orange':[]\n",
        "              }"
      ],
      "execution_count": 14,
      "outputs": []
    },
    {
      "cell_type": "code",
      "metadata": {
        "colab": {
          "base_uri": "https://localhost:8080/"
        },
        "id": "pchNV1OBxXCY",
        "outputId": "c325367d-9e50-4b9d-aa41-68b0317de89e"
      },
      "source": [
        "t0 = time()\n",
        "for i in tqdm(range(0,len(data))): \n",
        "    try:\n",
        "        url = data.iloc[i]['media']\n",
        "        im = url_to_cvimage(url)\n",
        "        meme = cv2.cvtColor(im, cv2.COLOR_BGR2RGB)\n",
        "        counter = 0\n",
        "        for key in more_colDic:\n",
        "            dict_colors = rgb_hsv_converter(more_colors[counter])\n",
        "            color_2 = tuple(dict_colors['lower_band'])\n",
        "            color_1 = tuple(dict_colors['upper_band'])\n",
        "            more_colDic[key].append(getColorMask(meme,color_2,color_1))\n",
        "            counter += 1\n",
        "    except:\n",
        "        for key in more_colDic:\n",
        "             more_colDic[key].append(None)\n",
        "        print(\"Fail\")\n",
        "t1 = time()   \n",
        "print('seconds to run: %f' %(t1-t0))\n",
        "more_colDic"
      ],
      "execution_count": 15,
      "outputs": [
        {
          "metadata": {
            "tags": null
          },
          "name": "stderr",
          "output_type": "stream",
          "text": [
            "  0%|          | 19/30000 [00:05<1:07:26,  7.41it/s]"
          ]
        },
        {
          "metadata": {
            "tags": null
          },
          "name": "stdout",
          "output_type": "stream",
          "text": [
            "Fail\n"
          ]
        },
        {
          "metadata": {
            "tags": null
          },
          "name": "stderr",
          "output_type": "stream",
          "text": [
            "  0%|          | 34/30000 [00:09<1:58:40,  4.21it/s]"
          ]
        },
        {
          "metadata": {
            "tags": null
          },
          "name": "stdout",
          "output_type": "stream",
          "text": [
            "Fail\n"
          ]
        },
        {
          "metadata": {
            "tags": null
          },
          "name": "stderr",
          "output_type": "stream",
          "text": [
            "  0%|          | 63/30000 [00:13<1:04:04,  7.79it/s]"
          ]
        },
        {
          "metadata": {
            "tags": null
          },
          "name": "stdout",
          "output_type": "stream",
          "text": [
            "Fail\n"
          ]
        },
        {
          "metadata": {
            "tags": null
          },
          "name": "stderr",
          "output_type": "stream",
          "text": [
            "  1%|          | 237/30000 [00:43<1:04:35,  7.68it/s]"
          ]
        },
        {
          "metadata": {
            "tags": null
          },
          "name": "stdout",
          "output_type": "stream",
          "text": [
            "Fail\n"
          ]
        },
        {
          "metadata": {
            "tags": null
          },
          "name": "stderr",
          "output_type": "stream",
          "text": [
            "  1%|          | 263/30000 [00:49<1:26:34,  5.73it/s]"
          ]
        },
        {
          "metadata": {
            "tags": null
          },
          "name": "stdout",
          "output_type": "stream",
          "text": [
            "Fail\n"
          ]
        },
        {
          "metadata": {
            "tags": null
          },
          "name": "stderr",
          "output_type": "stream",
          "text": [
            "  1%|          | 344/30000 [01:04<1:30:22,  5.47it/s]"
          ]
        },
        {
          "metadata": {
            "tags": null
          },
          "name": "stdout",
          "output_type": "stream",
          "text": [
            "Fail\n"
          ]
        },
        {
          "metadata": {
            "tags": null
          },
          "name": "stderr",
          "output_type": "stream",
          "text": [
            "  1%|          | 363/30000 [01:07<1:03:16,  7.81it/s]"
          ]
        },
        {
          "metadata": {
            "tags": null
          },
          "name": "stdout",
          "output_type": "stream",
          "text": [
            "Fail\n"
          ]
        },
        {
          "metadata": {
            "tags": null
          },
          "name": "stderr",
          "output_type": "stream",
          "text": [
            "  1%|▏         | 432/30000 [01:21<51:04,  9.65it/s]"
          ]
        },
        {
          "metadata": {
            "tags": null
          },
          "name": "stdout",
          "output_type": "stream",
          "text": [
            "Fail\n"
          ]
        },
        {
          "metadata": {
            "tags": null
          },
          "name": "stderr",
          "output_type": "stream",
          "text": [
            "  2%|▏         | 500/30000 [01:33<59:13,  8.30it/s]  "
          ]
        },
        {
          "metadata": {
            "tags": null
          },
          "name": "stdout",
          "output_type": "stream",
          "text": [
            "Fail\n"
          ]
        },
        {
          "metadata": {
            "tags": null
          },
          "name": "stderr",
          "output_type": "stream",
          "text": [
            "  2%|▏         | 519/30000 [01:37<1:13:16,  6.70it/s]"
          ]
        },
        {
          "metadata": {
            "tags": null
          },
          "name": "stdout",
          "output_type": "stream",
          "text": [
            "Fail\n"
          ]
        },
        {
          "metadata": {
            "tags": null
          },
          "name": "stderr",
          "output_type": "stream",
          "text": [
            "  2%|▏         | 525/30000 [01:37<1:07:56,  7.23it/s]"
          ]
        },
        {
          "metadata": {
            "tags": null
          },
          "name": "stdout",
          "output_type": "stream",
          "text": [
            "Fail\n"
          ]
        },
        {
          "metadata": {
            "tags": null
          },
          "name": "stderr",
          "output_type": "stream",
          "text": [
            "  2%|▏         | 564/30000 [01:46<1:29:18,  5.49it/s]"
          ]
        },
        {
          "metadata": {
            "tags": null
          },
          "name": "stdout",
          "output_type": "stream",
          "text": [
            "Fail\n"
          ]
        },
        {
          "metadata": {
            "tags": null
          },
          "name": "stderr",
          "output_type": "stream",
          "text": [
            "  2%|▏         | 590/30000 [01:50<1:15:36,  6.48it/s]"
          ]
        },
        {
          "metadata": {
            "tags": null
          },
          "name": "stdout",
          "output_type": "stream",
          "text": [
            "Fail\n"
          ]
        },
        {
          "metadata": {
            "tags": null
          },
          "name": "stderr",
          "output_type": "stream",
          "text": [
            "  2%|▏         | 634/30000 [01:57<1:12:20,  6.77it/s]"
          ]
        },
        {
          "metadata": {
            "tags": null
          },
          "name": "stdout",
          "output_type": "stream",
          "text": [
            "Fail\n"
          ]
        },
        {
          "metadata": {
            "tags": null
          },
          "name": "stderr",
          "output_type": "stream",
          "text": [
            "  2%|▏         | 715/30000 [02:10<1:03:28,  7.69it/s]"
          ]
        },
        {
          "metadata": {
            "tags": null
          },
          "name": "stdout",
          "output_type": "stream",
          "text": [
            "Fail\n"
          ]
        },
        {
          "metadata": {
            "tags": null
          },
          "name": "stderr",
          "output_type": "stream",
          "text": [
            "  2%|▏         | 726/30000 [02:12<55:52,  8.73it/s]  "
          ]
        },
        {
          "metadata": {
            "tags": null
          },
          "name": "stdout",
          "output_type": "stream",
          "text": [
            "Fail\n"
          ]
        },
        {
          "metadata": {
            "tags": null
          },
          "name": "stderr",
          "output_type": "stream",
          "text": [
            "  3%|▎         | 815/30000 [02:26<1:00:42,  8.01it/s]"
          ]
        },
        {
          "metadata": {
            "tags": null
          },
          "name": "stdout",
          "output_type": "stream",
          "text": [
            "Fail\n"
          ]
        },
        {
          "metadata": {
            "tags": null
          },
          "name": "stderr",
          "output_type": "stream",
          "text": [
            "  3%|▎         | 866/30000 [02:38<1:06:33,  7.29it/s]"
          ]
        },
        {
          "metadata": {
            "tags": null
          },
          "name": "stdout",
          "output_type": "stream",
          "text": [
            "Fail\n"
          ]
        },
        {
          "metadata": {
            "tags": null
          },
          "name": "stderr",
          "output_type": "stream",
          "text": [
            "  3%|▎         | 937/30000 [02:48<57:04,  8.49it/s]  "
          ]
        },
        {
          "metadata": {
            "tags": null
          },
          "name": "stdout",
          "output_type": "stream",
          "text": [
            "Fail\n"
          ]
        },
        {
          "metadata": {
            "tags": null
          },
          "name": "stderr",
          "output_type": "stream",
          "text": [
            "  3%|▎         | 1026/30000 [03:06<1:36:24,  5.01it/s]"
          ]
        },
        {
          "metadata": {
            "tags": null
          },
          "name": "stdout",
          "output_type": "stream",
          "text": [
            "Fail\n"
          ]
        },
        {
          "metadata": {
            "tags": null
          },
          "name": "stderr",
          "output_type": "stream",
          "text": [
            "  4%|▎         | 1102/30000 [03:17<49:29,  9.73it/s]"
          ]
        },
        {
          "metadata": {
            "tags": null
          },
          "name": "stdout",
          "output_type": "stream",
          "text": [
            "Fail\n"
          ]
        },
        {
          "metadata": {
            "tags": null
          },
          "name": "stderr",
          "output_type": "stream",
          "text": [
            "  4%|▎         | 1120/30000 [03:20<1:08:06,  7.07it/s]"
          ]
        },
        {
          "metadata": {
            "tags": null
          },
          "name": "stdout",
          "output_type": "stream",
          "text": [
            "Fail\n"
          ]
        },
        {
          "metadata": {
            "tags": null
          },
          "name": "stderr",
          "output_type": "stream",
          "text": [
            "  4%|▍         | 1164/30000 [03:26<1:15:23,  6.38it/s]"
          ]
        },
        {
          "metadata": {
            "tags": null
          },
          "name": "stdout",
          "output_type": "stream",
          "text": [
            "Fail\n"
          ]
        },
        {
          "metadata": {
            "tags": null
          },
          "name": "stderr",
          "output_type": "stream",
          "text": [
            "  4%|▍         | 1271/30000 [03:43<59:23,  8.06it/s]  "
          ]
        },
        {
          "metadata": {
            "tags": null
          },
          "name": "stdout",
          "output_type": "stream",
          "text": [
            "Fail\n"
          ]
        },
        {
          "metadata": {
            "tags": null
          },
          "name": "stderr",
          "output_type": "stream",
          "text": [
            "  5%|▍         | 1429/30000 [04:12<57:44,  8.25it/s]  "
          ]
        },
        {
          "metadata": {
            "tags": null
          },
          "name": "stdout",
          "output_type": "stream",
          "text": [
            "Fail\n"
          ]
        },
        {
          "metadata": {
            "tags": null
          },
          "name": "stderr",
          "output_type": "stream",
          "text": [
            "  5%|▍         | 1472/30000 [04:20<1:15:55,  6.26it/s]"
          ]
        },
        {
          "metadata": {
            "tags": null
          },
          "name": "stdout",
          "output_type": "stream",
          "text": [
            "Fail\n"
          ]
        },
        {
          "metadata": {
            "tags": null
          },
          "name": "stderr",
          "output_type": "stream",
          "text": [
            "  5%|▌         | 1535/30000 [04:30<50:35,  9.38it/s]"
          ]
        },
        {
          "metadata": {
            "tags": null
          },
          "name": "stdout",
          "output_type": "stream",
          "text": [
            "Fail\n"
          ]
        },
        {
          "metadata": {
            "tags": null
          },
          "name": "stderr",
          "output_type": "stream",
          "text": [
            "  5%|▌         | 1637/30000 [04:46<1:20:06,  5.90it/s]"
          ]
        },
        {
          "metadata": {
            "tags": null
          },
          "name": "stdout",
          "output_type": "stream",
          "text": [
            "Fail\n"
          ]
        },
        {
          "metadata": {
            "tags": null
          },
          "name": "stderr",
          "output_type": "stream",
          "text": [
            "  6%|▌         | 1660/30000 [04:49<1:16:22,  6.18it/s]"
          ]
        },
        {
          "metadata": {
            "tags": null
          },
          "name": "stdout",
          "output_type": "stream",
          "text": [
            "Fail\n"
          ]
        },
        {
          "metadata": {
            "tags": null
          },
          "name": "stderr",
          "output_type": "stream",
          "text": [
            "  6%|▌         | 1745/30000 [05:02<1:06:58,  7.03it/s]"
          ]
        },
        {
          "metadata": {
            "tags": null
          },
          "name": "stdout",
          "output_type": "stream",
          "text": [
            "Fail\n"
          ]
        },
        {
          "metadata": {
            "tags": null
          },
          "name": "stderr",
          "output_type": "stream",
          "text": [
            "  6%|▋         | 1920/30000 [05:28<1:00:59,  7.67it/s]"
          ]
        },
        {
          "metadata": {
            "tags": null
          },
          "name": "stdout",
          "output_type": "stream",
          "text": [
            "Fail\n"
          ]
        },
        {
          "metadata": {
            "tags": null
          },
          "name": "stderr",
          "output_type": "stream",
          "text": [
            "  7%|▋         | 1969/30000 [05:36<43:55, 10.64it/s]"
          ]
        },
        {
          "metadata": {
            "tags": null
          },
          "name": "stdout",
          "output_type": "stream",
          "text": [
            "Fail\n"
          ]
        },
        {
          "metadata": {
            "tags": null
          },
          "name": "stderr",
          "output_type": "stream",
          "text": [
            "  7%|▋         | 1994/30000 [05:39<1:01:11,  7.63it/s]"
          ]
        },
        {
          "metadata": {
            "tags": null
          },
          "name": "stdout",
          "output_type": "stream",
          "text": [
            "Fail\n"
          ]
        },
        {
          "metadata": {
            "tags": null
          },
          "name": "stderr",
          "output_type": "stream",
          "text": [
            "  7%|▋         | 2003/30000 [05:40<43:00, 10.85it/s]"
          ]
        },
        {
          "metadata": {
            "tags": null
          },
          "name": "stdout",
          "output_type": "stream",
          "text": [
            "Fail\n"
          ]
        },
        {
          "metadata": {
            "tags": null
          },
          "name": "stderr",
          "output_type": "stream",
          "text": [
            "  7%|▋         | 2028/30000 [05:45<1:10:15,  6.64it/s]"
          ]
        },
        {
          "metadata": {
            "tags": null
          },
          "name": "stdout",
          "output_type": "stream",
          "text": [
            "Fail\n"
          ]
        },
        {
          "metadata": {
            "tags": null
          },
          "name": "stderr",
          "output_type": "stream",
          "text": [
            "  7%|▋         | 2150/30000 [06:05<43:11, 10.75it/s]"
          ]
        },
        {
          "metadata": {
            "tags": null
          },
          "name": "stdout",
          "output_type": "stream",
          "text": [
            "Fail\n"
          ]
        },
        {
          "metadata": {
            "tags": null
          },
          "name": "stderr",
          "output_type": "stream",
          "text": [
            "  7%|▋         | 2201/30000 [06:13<1:01:57,  7.48it/s]"
          ]
        },
        {
          "metadata": {
            "tags": null
          },
          "name": "stdout",
          "output_type": "stream",
          "text": [
            "Fail\n"
          ]
        },
        {
          "metadata": {
            "tags": null
          },
          "name": "stderr",
          "output_type": "stream",
          "text": [
            "  7%|▋         | 2213/30000 [06:15<1:08:04,  6.80it/s]"
          ]
        },
        {
          "metadata": {
            "tags": null
          },
          "name": "stdout",
          "output_type": "stream",
          "text": [
            "Fail\n"
          ]
        },
        {
          "metadata": {
            "tags": null
          },
          "name": "stderr",
          "output_type": "stream",
          "text": [
            "  8%|▊         | 2259/30000 [06:23<54:58,  8.41it/s]"
          ]
        },
        {
          "metadata": {
            "tags": null
          },
          "name": "stdout",
          "output_type": "stream",
          "text": [
            "Fail\n"
          ]
        },
        {
          "metadata": {
            "tags": null
          },
          "name": "stderr",
          "output_type": "stream",
          "text": [
            "  8%|▊         | 2310/30000 [06:37<1:24:17,  5.48it/s]"
          ]
        },
        {
          "metadata": {
            "tags": null
          },
          "name": "stdout",
          "output_type": "stream",
          "text": [
            "Fail\n"
          ]
        },
        {
          "metadata": {
            "tags": null
          },
          "name": "stderr",
          "output_type": "stream",
          "text": [
            "  8%|▊         | 2318/30000 [06:39<1:11:52,  6.42it/s]"
          ]
        },
        {
          "metadata": {
            "tags": null
          },
          "name": "stdout",
          "output_type": "stream",
          "text": [
            "Fail\n"
          ]
        },
        {
          "metadata": {
            "tags": null
          },
          "name": "stderr",
          "output_type": "stream",
          "text": [
            "  8%|▊         | 2352/30000 [06:43<1:03:40,  7.24it/s]"
          ]
        },
        {
          "metadata": {
            "tags": null
          },
          "name": "stdout",
          "output_type": "stream",
          "text": [
            "Fail\n"
          ]
        },
        {
          "metadata": {
            "tags": null
          },
          "name": "stderr",
          "output_type": "stream",
          "text": [
            "  8%|▊         | 2394/30000 [06:51<1:03:25,  7.25it/s]"
          ]
        },
        {
          "metadata": {
            "tags": null
          },
          "name": "stdout",
          "output_type": "stream",
          "text": [
            "Fail\n"
          ]
        },
        {
          "metadata": {
            "tags": null
          },
          "name": "stderr",
          "output_type": "stream",
          "text": [
            "  8%|▊         | 2468/30000 [07:03<1:03:18,  7.25it/s]"
          ]
        },
        {
          "metadata": {
            "tags": null
          },
          "name": "stdout",
          "output_type": "stream",
          "text": [
            "Fail\n",
            "Fail\n"
          ]
        },
        {
          "metadata": {
            "tags": null
          },
          "name": "stderr",
          "output_type": "stream",
          "text": [
            "  8%|▊         | 2490/30000 [07:08<1:09:58,  6.55it/s]"
          ]
        },
        {
          "metadata": {
            "tags": null
          },
          "name": "stdout",
          "output_type": "stream",
          "text": [
            "Fail\n"
          ]
        },
        {
          "metadata": {
            "tags": null
          },
          "name": "stderr",
          "output_type": "stream",
          "text": [
            "  8%|▊         | 2521/30000 [07:13<1:06:09,  6.92it/s]"
          ]
        },
        {
          "metadata": {
            "tags": null
          },
          "name": "stdout",
          "output_type": "stream",
          "text": [
            "Fail\n"
          ]
        },
        {
          "metadata": {
            "tags": null
          },
          "name": "stderr",
          "output_type": "stream",
          "text": [
            "  9%|▉         | 2716/30000 [07:47<48:04,  9.46it/s]"
          ]
        },
        {
          "metadata": {
            "tags": null
          },
          "name": "stdout",
          "output_type": "stream",
          "text": [
            "Fail\n"
          ]
        },
        {
          "metadata": {
            "tags": null
          },
          "name": "stderr",
          "output_type": "stream",
          "text": [
            "  9%|▉         | 2782/30000 [07:58<1:02:51,  7.22it/s]"
          ]
        },
        {
          "metadata": {
            "tags": null
          },
          "name": "stdout",
          "output_type": "stream",
          "text": [
            "Fail\n"
          ]
        },
        {
          "metadata": {
            "tags": null
          },
          "name": "stderr",
          "output_type": "stream",
          "text": [
            "  9%|▉         | 2844/30000 [08:07<1:02:49,  7.20it/s]"
          ]
        },
        {
          "metadata": {
            "tags": null
          },
          "name": "stdout",
          "output_type": "stream",
          "text": [
            "Fail\n"
          ]
        },
        {
          "metadata": {
            "tags": null
          },
          "name": "stderr",
          "output_type": "stream",
          "text": [
            " 10%|▉         | 2986/30000 [08:28<1:12:24,  6.22it/s]"
          ]
        },
        {
          "metadata": {
            "tags": null
          },
          "name": "stdout",
          "output_type": "stream",
          "text": [
            "Fail\n"
          ]
        },
        {
          "metadata": {
            "tags": null
          },
          "name": "stderr",
          "output_type": "stream",
          "text": [
            " 10%|█         | 3012/30000 [08:32<1:02:23,  7.21it/s]"
          ]
        },
        {
          "metadata": {
            "tags": null
          },
          "name": "stdout",
          "output_type": "stream",
          "text": [
            "Fail\n"
          ]
        },
        {
          "metadata": {
            "tags": null
          },
          "name": "stderr",
          "output_type": "stream",
          "text": [
            " 10%|█         | 3080/30000 [08:42<57:23,  7.82it/s]"
          ]
        },
        {
          "metadata": {
            "tags": null
          },
          "name": "stdout",
          "output_type": "stream",
          "text": [
            "Fail\n"
          ]
        },
        {
          "metadata": {
            "tags": null
          },
          "name": "stderr",
          "output_type": "stream",
          "text": [
            " 10%|█         | 3102/30000 [08:45<46:32,  9.63it/s]"
          ]
        },
        {
          "metadata": {
            "tags": null
          },
          "name": "stdout",
          "output_type": "stream",
          "text": [
            "Fail\n"
          ]
        },
        {
          "metadata": {
            "tags": null
          },
          "name": "stderr",
          "output_type": "stream",
          "text": [
            " 10%|█         | 3147/30000 [08:53<52:02,  8.60it/s]"
          ]
        },
        {
          "metadata": {
            "tags": null
          },
          "name": "stdout",
          "output_type": "stream",
          "text": [
            "Fail\n"
          ]
        },
        {
          "metadata": {
            "tags": null
          },
          "name": "stderr",
          "output_type": "stream",
          "text": [
            " 11%|█         | 3183/30000 [08:59<50:20,  8.88it/s]"
          ]
        },
        {
          "metadata": {
            "tags": null
          },
          "name": "stdout",
          "output_type": "stream",
          "text": [
            "Fail\n"
          ]
        },
        {
          "metadata": {
            "tags": null
          },
          "name": "stderr",
          "output_type": "stream",
          "text": [
            " 11%|█         | 3233/30000 [09:06<50:27,  8.84it/s]"
          ]
        },
        {
          "metadata": {
            "tags": null
          },
          "name": "stdout",
          "output_type": "stream",
          "text": [
            "Fail\n"
          ]
        },
        {
          "metadata": {
            "tags": null
          },
          "name": "stderr",
          "output_type": "stream",
          "text": [
            " 12%|█▏        | 3530/30000 [10:03<1:14:00,  5.96it/s]"
          ]
        },
        {
          "metadata": {
            "tags": null
          },
          "name": "stdout",
          "output_type": "stream",
          "text": [
            "Fail\n"
          ]
        },
        {
          "metadata": {
            "tags": null
          },
          "name": "stderr",
          "output_type": "stream",
          "text": [
            " 12%|█▏        | 3537/30000 [10:05<1:06:30,  6.63it/s]"
          ]
        },
        {
          "metadata": {
            "tags": null
          },
          "name": "stdout",
          "output_type": "stream",
          "text": [
            "Fail\n"
          ]
        },
        {
          "metadata": {
            "tags": null
          },
          "name": "stderr",
          "output_type": "stream",
          "text": [
            " 12%|█▏        | 3674/30000 [10:27<57:49,  7.59it/s]"
          ]
        },
        {
          "metadata": {
            "tags": null
          },
          "name": "stdout",
          "output_type": "stream",
          "text": [
            "Fail\n"
          ]
        },
        {
          "metadata": {
            "tags": null
          },
          "name": "stderr",
          "output_type": "stream",
          "text": [
            " 13%|█▎        | 3770/30000 [10:43<1:38:45,  4.43it/s]"
          ]
        },
        {
          "metadata": {
            "tags": null
          },
          "name": "stdout",
          "output_type": "stream",
          "text": [
            "Fail\n"
          ]
        },
        {
          "metadata": {
            "tags": null
          },
          "name": "stderr",
          "output_type": "stream",
          "text": [
            " 13%|█▎        | 3779/30000 [10:44<57:29,  7.60it/s]"
          ]
        },
        {
          "metadata": {
            "tags": null
          },
          "name": "stdout",
          "output_type": "stream",
          "text": [
            "Fail\n"
          ]
        },
        {
          "metadata": {
            "tags": null
          },
          "name": "stderr",
          "output_type": "stream",
          "text": [
            " 13%|█▎        | 3916/30000 [11:12<1:03:27,  6.85it/s]"
          ]
        },
        {
          "metadata": {
            "tags": null
          },
          "name": "stdout",
          "output_type": "stream",
          "text": [
            "Fail\n"
          ]
        },
        {
          "metadata": {
            "tags": null
          },
          "name": "stderr",
          "output_type": "stream",
          "text": [
            " 14%|█▍        | 4145/30000 [11:51<56:28,  7.63it/s]"
          ]
        },
        {
          "metadata": {
            "tags": null
          },
          "name": "stdout",
          "output_type": "stream",
          "text": [
            "Fail\n"
          ]
        },
        {
          "metadata": {
            "tags": null
          },
          "name": "stderr",
          "output_type": "stream",
          "text": [
            " 14%|█▍        | 4189/30000 [11:56<1:03:00,  6.83it/s]"
          ]
        },
        {
          "metadata": {
            "tags": null
          },
          "name": "stdout",
          "output_type": "stream",
          "text": [
            "Fail\n"
          ]
        },
        {
          "metadata": {
            "tags": null
          },
          "name": "stderr",
          "output_type": "stream",
          "text": [
            " 14%|█▍        | 4202/30000 [11:58<52:42,  8.16it/s]"
          ]
        },
        {
          "metadata": {
            "tags": null
          },
          "name": "stdout",
          "output_type": "stream",
          "text": [
            "Fail\n"
          ]
        },
        {
          "metadata": {
            "tags": null
          },
          "name": "stderr",
          "output_type": "stream",
          "text": [
            " 14%|█▍        | 4284/30000 [12:12<2:02:49,  3.49it/s]"
          ]
        },
        {
          "metadata": {
            "tags": null
          },
          "name": "stdout",
          "output_type": "stream",
          "text": [
            "Fail\n"
          ]
        },
        {
          "metadata": {
            "tags": null
          },
          "name": "stderr",
          "output_type": "stream",
          "text": [
            " 14%|█▍        | 4297/30000 [12:14<1:00:40,  7.06it/s]"
          ]
        },
        {
          "metadata": {
            "tags": null
          },
          "name": "stdout",
          "output_type": "stream",
          "text": [
            "Fail\n"
          ]
        },
        {
          "metadata": {
            "tags": null
          },
          "name": "stderr",
          "output_type": "stream",
          "text": [
            " 15%|█▌        | 4586/30000 [13:03<1:40:23,  4.22it/s]"
          ]
        },
        {
          "metadata": {
            "tags": null
          },
          "name": "stdout",
          "output_type": "stream",
          "text": [
            "Fail\n"
          ]
        },
        {
          "metadata": {
            "tags": null
          },
          "name": "stderr",
          "output_type": "stream",
          "text": [
            " 15%|█▌        | 4635/30000 [13:11<55:51,  7.57it/s]  "
          ]
        },
        {
          "metadata": {
            "tags": null
          },
          "name": "stdout",
          "output_type": "stream",
          "text": [
            "Fail\n"
          ]
        },
        {
          "metadata": {
            "tags": null
          },
          "name": "stderr",
          "output_type": "stream",
          "text": [
            " 16%|█▌        | 4694/30000 [13:19<46:44,  9.02it/s]"
          ]
        },
        {
          "metadata": {
            "tags": null
          },
          "name": "stdout",
          "output_type": "stream",
          "text": [
            "Fail\n"
          ]
        },
        {
          "metadata": {
            "tags": null
          },
          "name": "stderr",
          "output_type": "stream",
          "text": [
            " 16%|█▋        | 4901/30000 [13:56<55:25,  7.55it/s]"
          ]
        },
        {
          "metadata": {
            "tags": null
          },
          "name": "stdout",
          "output_type": "stream",
          "text": [
            "Fail\n"
          ]
        },
        {
          "metadata": {
            "tags": null
          },
          "name": "stderr",
          "output_type": "stream",
          "text": [
            " 17%|█▋        | 5013/30000 [14:16<1:02:11,  6.70it/s]"
          ]
        },
        {
          "metadata": {
            "tags": null
          },
          "name": "stdout",
          "output_type": "stream",
          "text": [
            "Fail\n"
          ]
        },
        {
          "metadata": {
            "tags": null
          },
          "name": "stderr",
          "output_type": "stream",
          "text": [
            " 17%|█▋        | 5151/30000 [14:38<44:23,  9.33it/s]"
          ]
        },
        {
          "metadata": {
            "tags": null
          },
          "name": "stdout",
          "output_type": "stream",
          "text": [
            "Fail\n"
          ]
        },
        {
          "metadata": {
            "tags": null
          },
          "name": "stderr",
          "output_type": "stream",
          "text": [
            " 18%|█▊        | 5281/30000 [15:03<1:14:03,  5.56it/s]"
          ]
        },
        {
          "metadata": {
            "tags": null
          },
          "name": "stdout",
          "output_type": "stream",
          "text": [
            "Fail\n"
          ]
        },
        {
          "metadata": {
            "tags": null
          },
          "name": "stderr",
          "output_type": "stream",
          "text": [
            " 18%|█▊        | 5299/30000 [15:07<1:09:29,  5.92it/s]"
          ]
        },
        {
          "metadata": {
            "tags": null
          },
          "name": "stdout",
          "output_type": "stream",
          "text": [
            "Fail\n"
          ]
        },
        {
          "metadata": {
            "tags": null
          },
          "name": "stderr",
          "output_type": "stream",
          "text": [
            " 18%|█▊        | 5428/30000 [15:27<42:39,  9.60it/s]"
          ]
        },
        {
          "metadata": {
            "tags": null
          },
          "name": "stdout",
          "output_type": "stream",
          "text": [
            "Fail\n"
          ]
        },
        {
          "metadata": {
            "tags": null
          },
          "name": "stderr",
          "output_type": "stream",
          "text": [
            " 18%|█▊        | 5440/30000 [15:28<51:59,  7.87it/s]"
          ]
        },
        {
          "metadata": {
            "tags": null
          },
          "name": "stdout",
          "output_type": "stream",
          "text": [
            "Fail\n"
          ]
        },
        {
          "metadata": {
            "tags": null
          },
          "name": "stderr",
          "output_type": "stream",
          "text": [
            " 18%|█▊        | 5513/30000 [15:39<57:37,  7.08it/s]  "
          ]
        },
        {
          "metadata": {
            "tags": null
          },
          "name": "stdout",
          "output_type": "stream",
          "text": [
            "Fail\n"
          ]
        },
        {
          "metadata": {
            "tags": null
          },
          "name": "stderr",
          "output_type": "stream",
          "text": [
            " 19%|█▊        | 5613/30000 [15:55<59:31,  6.83it/s]  "
          ]
        },
        {
          "metadata": {
            "tags": null
          },
          "name": "stdout",
          "output_type": "stream",
          "text": [
            "Fail\n"
          ]
        },
        {
          "metadata": {
            "tags": null
          },
          "name": "stderr",
          "output_type": "stream",
          "text": [
            " 19%|█▉        | 5645/30000 [15:59<1:02:31,  6.49it/s]"
          ]
        },
        {
          "metadata": {
            "tags": null
          },
          "name": "stdout",
          "output_type": "stream",
          "text": [
            "Fail\n"
          ]
        },
        {
          "metadata": {
            "tags": null
          },
          "name": "stderr",
          "output_type": "stream",
          "text": [
            " 19%|█▉        | 5671/30000 [16:04<1:17:21,  5.24it/s]"
          ]
        },
        {
          "metadata": {
            "tags": null
          },
          "name": "stdout",
          "output_type": "stream",
          "text": [
            "Fail\n"
          ]
        },
        {
          "metadata": {
            "tags": null
          },
          "name": "stderr",
          "output_type": "stream",
          "text": [
            " 19%|█▉        | 5797/30000 [16:22<43:11,  9.34it/s]"
          ]
        },
        {
          "metadata": {
            "tags": null
          },
          "name": "stdout",
          "output_type": "stream",
          "text": [
            "Fail\n"
          ]
        },
        {
          "metadata": {
            "tags": null
          },
          "name": "stderr",
          "output_type": "stream",
          "text": [
            " 20%|█▉        | 5898/30000 [16:36<45:45,  8.78it/s]"
          ]
        },
        {
          "metadata": {
            "tags": null
          },
          "name": "stdout",
          "output_type": "stream",
          "text": [
            "Fail\n"
          ]
        },
        {
          "metadata": {
            "tags": null
          },
          "name": "stderr",
          "output_type": "stream",
          "text": [
            " 20%|█▉        | 5961/30000 [16:46<42:47,  9.36it/s]"
          ]
        },
        {
          "metadata": {
            "tags": null
          },
          "name": "stdout",
          "output_type": "stream",
          "text": [
            "Fail\n",
            "Fail\n"
          ]
        },
        {
          "metadata": {
            "tags": null
          },
          "name": "stderr",
          "output_type": "stream",
          "text": [
            " 20%|██        | 6053/30000 [16:58<38:06, 10.47it/s]"
          ]
        },
        {
          "metadata": {
            "tags": null
          },
          "name": "stdout",
          "output_type": "stream",
          "text": [
            "Fail\n"
          ]
        },
        {
          "metadata": {
            "tags": null
          },
          "name": "stderr",
          "output_type": "stream",
          "text": [
            " 20%|██        | 6100/30000 [17:06<55:35,  7.17it/s]"
          ]
        },
        {
          "metadata": {
            "tags": null
          },
          "name": "stdout",
          "output_type": "stream",
          "text": [
            "Fail\n"
          ]
        },
        {
          "metadata": {
            "tags": null
          },
          "name": "stderr",
          "output_type": "stream",
          "text": [
            " 21%|██        | 6177/30000 [17:20<51:37,  7.69it/s]"
          ]
        },
        {
          "metadata": {
            "tags": null
          },
          "name": "stdout",
          "output_type": "stream",
          "text": [
            "Fail\n"
          ]
        },
        {
          "metadata": {
            "tags": null
          },
          "name": "stderr",
          "output_type": "stream",
          "text": [
            " 21%|██        | 6236/30000 [17:30<51:47,  7.65it/s]"
          ]
        },
        {
          "metadata": {
            "tags": null
          },
          "name": "stdout",
          "output_type": "stream",
          "text": [
            "Fail\n",
            "Fail\n"
          ]
        },
        {
          "metadata": {
            "tags": null
          },
          "name": "stderr",
          "output_type": "stream",
          "text": [
            " 21%|██        | 6250/30000 [17:39<6:44:55,  1.02s/it] "
          ]
        },
        {
          "metadata": {
            "tags": null
          },
          "name": "stdout",
          "output_type": "stream",
          "text": [
            "Fail\n"
          ]
        },
        {
          "metadata": {
            "tags": null
          },
          "name": "stderr",
          "output_type": "stream",
          "text": [
            " 21%|██        | 6362/30000 [17:57<1:22:11,  4.79it/s]"
          ]
        },
        {
          "metadata": {
            "tags": null
          },
          "name": "stdout",
          "output_type": "stream",
          "text": [
            "Fail\n"
          ]
        },
        {
          "metadata": {
            "tags": null
          },
          "name": "stderr",
          "output_type": "stream",
          "text": [
            " 21%|██▏       | 6441/30000 [18:11<46:20,  8.47it/s]"
          ]
        },
        {
          "metadata": {
            "tags": null
          },
          "name": "stdout",
          "output_type": "stream",
          "text": [
            "Fail\n"
          ]
        },
        {
          "metadata": {
            "tags": null
          },
          "name": "stderr",
          "output_type": "stream",
          "text": [
            " 22%|██▏       | 6469/30000 [18:15<52:17,  7.50it/s]  "
          ]
        },
        {
          "metadata": {
            "tags": null
          },
          "name": "stdout",
          "output_type": "stream",
          "text": [
            "Fail\n"
          ]
        },
        {
          "metadata": {
            "tags": null
          },
          "name": "stderr",
          "output_type": "stream",
          "text": [
            " 22%|██▏       | 6484/30000 [18:18<53:29,  7.33it/s]  "
          ]
        },
        {
          "metadata": {
            "tags": null
          },
          "name": "stdout",
          "output_type": "stream",
          "text": [
            "Fail\n"
          ]
        },
        {
          "metadata": {
            "tags": null
          },
          "name": "stderr",
          "output_type": "stream",
          "text": [
            " 22%|██▏       | 6555/30000 [18:29<1:08:08,  5.74it/s]"
          ]
        },
        {
          "metadata": {
            "tags": null
          },
          "name": "stdout",
          "output_type": "stream",
          "text": [
            "Fail\n"
          ]
        },
        {
          "metadata": {
            "tags": null
          },
          "name": "stderr",
          "output_type": "stream",
          "text": [
            " 22%|██▏       | 6597/30000 [18:37<1:17:16,  5.05it/s]"
          ]
        },
        {
          "metadata": {
            "tags": null
          },
          "name": "stdout",
          "output_type": "stream",
          "text": [
            "Fail\n"
          ]
        },
        {
          "metadata": {
            "tags": null
          },
          "name": "stderr",
          "output_type": "stream",
          "text": [
            " 22%|██▏       | 6738/30000 [19:01<1:10:43,  5.48it/s]"
          ]
        },
        {
          "metadata": {
            "tags": null
          },
          "name": "stdout",
          "output_type": "stream",
          "text": [
            "Fail\n"
          ]
        },
        {
          "metadata": {
            "tags": null
          },
          "name": "stderr",
          "output_type": "stream",
          "text": [
            " 23%|██▎       | 6816/30000 [19:15<54:18,  7.12it/s]"
          ]
        },
        {
          "metadata": {
            "tags": null
          },
          "name": "stdout",
          "output_type": "stream",
          "text": [
            "Fail\n"
          ]
        },
        {
          "metadata": {
            "tags": null
          },
          "name": "stderr",
          "output_type": "stream",
          "text": [
            " 23%|██▎       | 6882/30000 [19:28<49:04,  7.85it/s]"
          ]
        },
        {
          "metadata": {
            "tags": null
          },
          "name": "stdout",
          "output_type": "stream",
          "text": [
            "Fail\n"
          ]
        },
        {
          "metadata": {
            "tags": null
          },
          "name": "stderr",
          "output_type": "stream",
          "text": [
            " 23%|██▎       | 6887/30000 [19:29<1:13:19,  5.25it/s]"
          ]
        },
        {
          "metadata": {
            "tags": null
          },
          "name": "stdout",
          "output_type": "stream",
          "text": [
            "Fail\n"
          ]
        },
        {
          "metadata": {
            "tags": null
          },
          "name": "stderr",
          "output_type": "stream",
          "text": [
            " 23%|██▎       | 6908/30000 [19:33<48:31,  7.93it/s]"
          ]
        },
        {
          "metadata": {
            "tags": null
          },
          "name": "stdout",
          "output_type": "stream",
          "text": [
            "Fail\n"
          ]
        },
        {
          "metadata": {
            "tags": null
          },
          "name": "stderr",
          "output_type": "stream",
          "text": [
            " 23%|██▎       | 6996/30000 [19:51<1:09:46,  5.49it/s]"
          ]
        },
        {
          "metadata": {
            "tags": null
          },
          "name": "stdout",
          "output_type": "stream",
          "text": [
            "Fail\n"
          ]
        },
        {
          "metadata": {
            "tags": null
          },
          "name": "stderr",
          "output_type": "stream",
          "text": [
            " 23%|██▎       | 7002/30000 [19:52<56:20,  6.80it/s]  "
          ]
        },
        {
          "metadata": {
            "tags": null
          },
          "name": "stdout",
          "output_type": "stream",
          "text": [
            "Fail\n"
          ]
        },
        {
          "metadata": {
            "tags": null
          },
          "name": "stderr",
          "output_type": "stream",
          "text": [
            " 23%|██▎       | 7009/30000 [19:54<57:58,  6.61it/s]  "
          ]
        },
        {
          "metadata": {
            "tags": null
          },
          "name": "stdout",
          "output_type": "stream",
          "text": [
            "Fail\n"
          ]
        },
        {
          "metadata": {
            "tags": null
          },
          "name": "stderr",
          "output_type": "stream",
          "text": [
            " 23%|██▎       | 7049/30000 [20:01<2:02:33,  3.12it/s]"
          ]
        },
        {
          "metadata": {
            "tags": null
          },
          "name": "stdout",
          "output_type": "stream",
          "text": [
            "Fail\n"
          ]
        },
        {
          "metadata": {
            "tags": null
          },
          "name": "stderr",
          "output_type": "stream",
          "text": [
            " 24%|██▎       | 7053/30000 [20:01<1:13:16,  5.22it/s]"
          ]
        },
        {
          "metadata": {
            "tags": null
          },
          "name": "stdout",
          "output_type": "stream",
          "text": [
            "Fail\n"
          ]
        },
        {
          "metadata": {
            "tags": null
          },
          "name": "stderr",
          "output_type": "stream",
          "text": [
            " 24%|██▎       | 7072/30000 [20:05<1:00:58,  6.27it/s]"
          ]
        },
        {
          "metadata": {
            "tags": null
          },
          "name": "stdout",
          "output_type": "stream",
          "text": [
            "Fail\n"
          ]
        },
        {
          "metadata": {
            "tags": null
          },
          "name": "stderr",
          "output_type": "stream",
          "text": [
            " 24%|██▎       | 7087/30000 [20:07<39:52,  9.58it/s]"
          ]
        },
        {
          "metadata": {
            "tags": null
          },
          "name": "stdout",
          "output_type": "stream",
          "text": [
            "Fail\n"
          ]
        },
        {
          "metadata": {
            "tags": null
          },
          "name": "stderr",
          "output_type": "stream",
          "text": [
            " 24%|██▎       | 7104/30000 [20:10<1:17:38,  4.91it/s]"
          ]
        },
        {
          "metadata": {
            "tags": null
          },
          "name": "stdout",
          "output_type": "stream",
          "text": [
            "Fail\n"
          ]
        },
        {
          "metadata": {
            "tags": null
          },
          "name": "stderr",
          "output_type": "stream",
          "text": [
            " 24%|██▍       | 7195/30000 [20:31<1:29:35,  4.24it/s]"
          ]
        },
        {
          "metadata": {
            "tags": null
          },
          "name": "stdout",
          "output_type": "stream",
          "text": [
            "Fail\n"
          ]
        },
        {
          "metadata": {
            "tags": null
          },
          "name": "stderr",
          "output_type": "stream",
          "text": [
            " 24%|██▍       | 7260/30000 [20:40<52:32,  7.21it/s]"
          ]
        },
        {
          "metadata": {
            "tags": null
          },
          "name": "stdout",
          "output_type": "stream",
          "text": [
            "Fail\n"
          ]
        },
        {
          "metadata": {
            "tags": null
          },
          "name": "stderr",
          "output_type": "stream",
          "text": [
            " 25%|██▍       | 7377/30000 [21:01<47:05,  8.01it/s]"
          ]
        },
        {
          "metadata": {
            "tags": null
          },
          "name": "stdout",
          "output_type": "stream",
          "text": [
            "Fail\n"
          ]
        },
        {
          "metadata": {
            "tags": null
          },
          "name": "stderr",
          "output_type": "stream",
          "text": [
            " 25%|██▍       | 7416/30000 [21:08<52:26,  7.18it/s]"
          ]
        },
        {
          "metadata": {
            "tags": null
          },
          "name": "stdout",
          "output_type": "stream",
          "text": [
            "Fail\n"
          ]
        },
        {
          "metadata": {
            "tags": null
          },
          "name": "stderr",
          "output_type": "stream",
          "text": [
            " 25%|██▍       | 7431/30000 [21:10<45:56,  8.19it/s]"
          ]
        },
        {
          "metadata": {
            "tags": null
          },
          "name": "stdout",
          "output_type": "stream",
          "text": [
            "Fail\n"
          ]
        },
        {
          "metadata": {
            "tags": null
          },
          "name": "stderr",
          "output_type": "stream",
          "text": [
            " 25%|██▍       | 7440/30000 [21:11<41:45,  9.00it/s]"
          ]
        },
        {
          "metadata": {
            "tags": null
          },
          "name": "stdout",
          "output_type": "stream",
          "text": [
            "Fail\n"
          ]
        },
        {
          "metadata": {
            "tags": null
          },
          "name": "stderr",
          "output_type": "stream",
          "text": [
            " 25%|██▍       | 7458/30000 [21:14<1:00:26,  6.22it/s]"
          ]
        },
        {
          "metadata": {
            "tags": null
          },
          "name": "stdout",
          "output_type": "stream",
          "text": [
            "Fail\n"
          ]
        },
        {
          "metadata": {
            "tags": null
          },
          "name": "stderr",
          "output_type": "stream",
          "text": [
            " 25%|██▍       | 7466/30000 [21:16<51:07,  7.35it/s]"
          ]
        },
        {
          "metadata": {
            "tags": null
          },
          "name": "stdout",
          "output_type": "stream",
          "text": [
            "Fail\n"
          ]
        },
        {
          "metadata": {
            "tags": null
          },
          "name": "stderr",
          "output_type": "stream",
          "text": [
            " 25%|██▍       | 7476/30000 [21:18<1:41:04,  3.71it/s]"
          ]
        },
        {
          "metadata": {
            "tags": null
          },
          "name": "stdout",
          "output_type": "stream",
          "text": [
            "Fail\n"
          ]
        },
        {
          "metadata": {
            "tags": null
          },
          "name": "stderr",
          "output_type": "stream",
          "text": [
            " 25%|██▍       | 7483/30000 [21:19<59:28,  6.31it/s]  "
          ]
        },
        {
          "metadata": {
            "tags": null
          },
          "name": "stdout",
          "output_type": "stream",
          "text": [
            "Fail\n"
          ]
        },
        {
          "metadata": {
            "tags": null
          },
          "name": "stderr",
          "output_type": "stream",
          "text": [
            " 25%|██▍       | 7491/30000 [21:21<55:29,  6.76it/s]  "
          ]
        },
        {
          "metadata": {
            "tags": null
          },
          "name": "stdout",
          "output_type": "stream",
          "text": [
            "Fail\n"
          ]
        },
        {
          "metadata": {
            "tags": null
          },
          "name": "stderr",
          "output_type": "stream",
          "text": [
            " 25%|██▌       | 7553/30000 [21:32<45:08,  8.29it/s]"
          ]
        },
        {
          "metadata": {
            "tags": null
          },
          "name": "stdout",
          "output_type": "stream",
          "text": [
            "Fail\n"
          ]
        },
        {
          "metadata": {
            "tags": null
          },
          "name": "stderr",
          "output_type": "stream",
          "text": [
            " 25%|██▌       | 7556/30000 [21:32<52:37,  7.11it/s]"
          ]
        },
        {
          "metadata": {
            "tags": null
          },
          "name": "stdout",
          "output_type": "stream",
          "text": [
            "Fail\n"
          ]
        },
        {
          "metadata": {
            "tags": null
          },
          "name": "stderr",
          "output_type": "stream",
          "text": [
            " 25%|██▌       | 7597/30000 [21:40<55:54,  6.68it/s]  "
          ]
        },
        {
          "metadata": {
            "tags": null
          },
          "name": "stdout",
          "output_type": "stream",
          "text": [
            "Fail\n"
          ]
        },
        {
          "metadata": {
            "tags": null
          },
          "name": "stderr",
          "output_type": "stream",
          "text": [
            " 26%|██▋       | 7892/30000 [22:35<48:21,  7.62it/s]"
          ]
        },
        {
          "metadata": {
            "tags": null
          },
          "name": "stdout",
          "output_type": "stream",
          "text": [
            "Fail\n"
          ]
        },
        {
          "metadata": {
            "tags": null
          },
          "name": "stderr",
          "output_type": "stream",
          "text": [
            " 26%|██▋       | 7942/30000 [22:44<1:06:04,  5.56it/s]"
          ]
        },
        {
          "metadata": {
            "tags": null
          },
          "name": "stdout",
          "output_type": "stream",
          "text": [
            "Fail\n"
          ]
        },
        {
          "metadata": {
            "tags": null
          },
          "name": "stderr",
          "output_type": "stream",
          "text": [
            " 27%|██▋       | 8008/30000 [22:55<50:27,  7.27it/s]"
          ]
        },
        {
          "metadata": {
            "tags": null
          },
          "name": "stdout",
          "output_type": "stream",
          "text": [
            "Fail\n"
          ]
        },
        {
          "metadata": {
            "tags": null
          },
          "name": "stderr",
          "output_type": "stream",
          "text": [
            " 27%|██▋       | 8014/30000 [22:55<49:14,  7.44it/s]"
          ]
        },
        {
          "metadata": {
            "tags": null
          },
          "name": "stdout",
          "output_type": "stream",
          "text": [
            "Fail\n"
          ]
        },
        {
          "metadata": {
            "tags": null
          },
          "name": "stderr",
          "output_type": "stream",
          "text": [
            " 27%|██▋       | 8019/30000 [22:56<44:28,  8.24it/s]"
          ]
        },
        {
          "metadata": {
            "tags": null
          },
          "name": "stdout",
          "output_type": "stream",
          "text": [
            "Fail\n"
          ]
        },
        {
          "metadata": {
            "tags": null
          },
          "name": "stderr",
          "output_type": "stream",
          "text": [
            " 27%|██▋       | 8029/30000 [22:58<52:59,  6.91it/s]"
          ]
        },
        {
          "metadata": {
            "tags": null
          },
          "name": "stdout",
          "output_type": "stream",
          "text": [
            "Fail\n"
          ]
        },
        {
          "metadata": {
            "tags": null
          },
          "name": "stderr",
          "output_type": "stream",
          "text": [
            " 27%|██▋       | 8045/30000 [23:00<49:02,  7.46it/s]"
          ]
        },
        {
          "metadata": {
            "tags": null
          },
          "name": "stdout",
          "output_type": "stream",
          "text": [
            "Fail\n"
          ]
        },
        {
          "metadata": {
            "tags": null
          },
          "name": "stderr",
          "output_type": "stream",
          "text": [
            " 27%|██▋       | 8076/30000 [23:04<51:41,  7.07it/s]"
          ]
        },
        {
          "metadata": {
            "tags": null
          },
          "name": "stdout",
          "output_type": "stream",
          "text": [
            "Fail\n"
          ]
        },
        {
          "metadata": {
            "tags": null
          },
          "name": "stderr",
          "output_type": "stream",
          "text": [
            " 27%|██▋       | 8093/30000 [23:06<44:46,  8.15it/s]"
          ]
        },
        {
          "metadata": {
            "tags": null
          },
          "name": "stdout",
          "output_type": "stream",
          "text": [
            "Fail\n"
          ]
        },
        {
          "metadata": {
            "tags": null
          },
          "name": "stderr",
          "output_type": "stream",
          "text": [
            " 27%|██▋       | 8205/30000 [23:27<51:32,  7.05it/s]"
          ]
        },
        {
          "metadata": {
            "tags": null
          },
          "name": "stdout",
          "output_type": "stream",
          "text": [
            "Fail\n"
          ]
        },
        {
          "metadata": {
            "tags": null
          },
          "name": "stderr",
          "output_type": "stream",
          "text": [
            " 27%|██▋       | 8209/30000 [23:27<52:10,  6.96it/s]"
          ]
        },
        {
          "metadata": {
            "tags": null
          },
          "name": "stdout",
          "output_type": "stream",
          "text": [
            "Fail\n"
          ]
        },
        {
          "metadata": {
            "tags": null
          },
          "name": "stderr",
          "output_type": "stream",
          "text": [
            " 27%|██▋       | 8247/30000 [23:33<55:27,  6.54it/s]"
          ]
        },
        {
          "metadata": {
            "tags": null
          },
          "name": "stdout",
          "output_type": "stream",
          "text": [
            "Fail\n"
          ]
        },
        {
          "metadata": {
            "tags": null
          },
          "name": "stderr",
          "output_type": "stream",
          "text": [
            " 28%|██▊       | 8268/30000 [23:36<53:23,  6.78it/s]"
          ]
        },
        {
          "metadata": {
            "tags": null
          },
          "name": "stdout",
          "output_type": "stream",
          "text": [
            "Fail\n"
          ]
        },
        {
          "metadata": {
            "tags": null
          },
          "name": "stderr",
          "output_type": "stream",
          "text": [
            " 28%|██▊       | 8311/30000 [23:43<43:41,  8.27it/s]"
          ]
        },
        {
          "metadata": {
            "tags": null
          },
          "name": "stdout",
          "output_type": "stream",
          "text": [
            "Fail\n"
          ]
        },
        {
          "metadata": {
            "tags": null
          },
          "name": "stderr",
          "output_type": "stream",
          "text": [
            " 28%|██▊       | 8355/30000 [23:51<43:40,  8.26it/s]"
          ]
        },
        {
          "metadata": {
            "tags": null
          },
          "name": "stdout",
          "output_type": "stream",
          "text": [
            "Fail\n"
          ]
        },
        {
          "metadata": {
            "tags": null
          },
          "name": "stderr",
          "output_type": "stream",
          "text": [
            " 28%|██▊       | 8391/30000 [23:56<39:32,  9.11it/s]"
          ]
        },
        {
          "metadata": {
            "tags": null
          },
          "name": "stdout",
          "output_type": "stream",
          "text": [
            "Fail\n"
          ]
        },
        {
          "metadata": {
            "tags": null
          },
          "name": "stderr",
          "output_type": "stream",
          "text": [
            " 28%|██▊       | 8409/30000 [24:00<1:04:43,  5.56it/s]"
          ]
        },
        {
          "metadata": {
            "tags": null
          },
          "name": "stdout",
          "output_type": "stream",
          "text": [
            "Fail\n"
          ]
        },
        {
          "metadata": {
            "tags": null
          },
          "name": "stderr",
          "output_type": "stream",
          "text": [
            " 28%|██▊       | 8460/30000 [24:08<48:49,  7.35it/s]  "
          ]
        },
        {
          "metadata": {
            "tags": null
          },
          "name": "stdout",
          "output_type": "stream",
          "text": [
            "Fail\n"
          ]
        },
        {
          "metadata": {
            "tags": null
          },
          "name": "stderr",
          "output_type": "stream",
          "text": [
            " 29%|██▊       | 8574/30000 [24:29<1:47:27,  3.32it/s]"
          ]
        },
        {
          "metadata": {
            "tags": null
          },
          "name": "stdout",
          "output_type": "stream",
          "text": [
            "Fail\n"
          ]
        },
        {
          "metadata": {
            "tags": null
          },
          "name": "stderr",
          "output_type": "stream",
          "text": [
            " 29%|██▊       | 8579/30000 [24:30<58:07,  6.14it/s]"
          ]
        },
        {
          "metadata": {
            "tags": null
          },
          "name": "stdout",
          "output_type": "stream",
          "text": [
            "Fail\n"
          ]
        },
        {
          "metadata": {
            "tags": null
          },
          "name": "stderr",
          "output_type": "stream",
          "text": [
            " 29%|██▉       | 8633/30000 [24:40<1:15:16,  4.73it/s]"
          ]
        },
        {
          "metadata": {
            "tags": null
          },
          "name": "stdout",
          "output_type": "stream",
          "text": [
            "Fail\n"
          ]
        },
        {
          "metadata": {
            "tags": null
          },
          "name": "stderr",
          "output_type": "stream",
          "text": [
            " 29%|██▉       | 8738/30000 [24:57<45:16,  7.83it/s]"
          ]
        },
        {
          "metadata": {
            "tags": null
          },
          "name": "stdout",
          "output_type": "stream",
          "text": [
            "Fail\n"
          ]
        },
        {
          "metadata": {
            "tags": null
          },
          "name": "stderr",
          "output_type": "stream",
          "text": [
            " 29%|██▉       | 8832/30000 [25:14<42:15,  8.35it/s]"
          ]
        },
        {
          "metadata": {
            "tags": null
          },
          "name": "stdout",
          "output_type": "stream",
          "text": [
            "Fail\n"
          ]
        },
        {
          "metadata": {
            "tags": null
          },
          "name": "stderr",
          "output_type": "stream",
          "text": [
            " 29%|██▉       | 8847/30000 [25:18<55:05,  6.40it/s]"
          ]
        },
        {
          "metadata": {
            "tags": null
          },
          "name": "stdout",
          "output_type": "stream",
          "text": [
            "Fail\n"
          ]
        },
        {
          "metadata": {
            "tags": null
          },
          "name": "stderr",
          "output_type": "stream",
          "text": [
            "\r 29%|██▉       | 8848/30000 [25:18<51:04,  6.90it/s]"
          ]
        },
        {
          "metadata": {
            "tags": null
          },
          "name": "stdout",
          "output_type": "stream",
          "text": [
            "Fail\n"
          ]
        },
        {
          "metadata": {
            "tags": null
          },
          "name": "stderr",
          "output_type": "stream",
          "text": [
            " 30%|██▉       | 8948/30000 [25:34<46:15,  7.59it/s]"
          ]
        },
        {
          "metadata": {
            "tags": null
          },
          "name": "stdout",
          "output_type": "stream",
          "text": [
            "Fail\n"
          ]
        },
        {
          "metadata": {
            "tags": null
          },
          "name": "stderr",
          "output_type": "stream",
          "text": [
            " 30%|██▉       | 8971/30000 [25:37<39:01,  8.98it/s]"
          ]
        },
        {
          "metadata": {
            "tags": null
          },
          "name": "stdout",
          "output_type": "stream",
          "text": [
            "Fail\n"
          ]
        },
        {
          "metadata": {
            "tags": null
          },
          "name": "stderr",
          "output_type": "stream",
          "text": [
            " 30%|███       | 9090/30000 [25:55<49:48,  7.00it/s]"
          ]
        },
        {
          "metadata": {
            "tags": null
          },
          "name": "stdout",
          "output_type": "stream",
          "text": [
            "Fail\n"
          ]
        },
        {
          "metadata": {
            "tags": null
          },
          "name": "stderr",
          "output_type": "stream",
          "text": [
            " 30%|███       | 9104/30000 [25:58<52:48,  6.59it/s]"
          ]
        },
        {
          "metadata": {
            "tags": null
          },
          "name": "stdout",
          "output_type": "stream",
          "text": [
            "Fail\n"
          ]
        },
        {
          "metadata": {
            "tags": null
          },
          "name": "stderr",
          "output_type": "stream",
          "text": [
            "\r 30%|███       | 9105/30000 [25:58<48:51,  7.13it/s]"
          ]
        },
        {
          "metadata": {
            "tags": null
          },
          "name": "stdout",
          "output_type": "stream",
          "text": [
            "Fail\n"
          ]
        },
        {
          "metadata": {
            "tags": null
          },
          "name": "stderr",
          "output_type": "stream",
          "text": [
            " 31%|███       | 9183/30000 [26:12<40:51,  8.49it/s]"
          ]
        },
        {
          "metadata": {
            "tags": null
          },
          "name": "stdout",
          "output_type": "stream",
          "text": [
            "Fail\n"
          ]
        },
        {
          "metadata": {
            "tags": null
          },
          "name": "stderr",
          "output_type": "stream",
          "text": [
            " 31%|███       | 9210/30000 [26:18<40:56,  8.46it/s]"
          ]
        },
        {
          "metadata": {
            "tags": null
          },
          "name": "stdout",
          "output_type": "stream",
          "text": [
            "Fail\n"
          ]
        },
        {
          "metadata": {
            "tags": null
          },
          "name": "stderr",
          "output_type": "stream",
          "text": [
            " 31%|███       | 9256/30000 [26:26<43:30,  7.95it/s]"
          ]
        },
        {
          "metadata": {
            "tags": null
          },
          "name": "stdout",
          "output_type": "stream",
          "text": [
            "Fail\n"
          ]
        },
        {
          "metadata": {
            "tags": null
          },
          "name": "stderr",
          "output_type": "stream",
          "text": [
            " 31%|███▏      | 9422/30000 [26:53<53:09,  6.45it/s]"
          ]
        },
        {
          "metadata": {
            "tags": null
          },
          "name": "stdout",
          "output_type": "stream",
          "text": [
            "Fail\n"
          ]
        },
        {
          "metadata": {
            "tags": null
          },
          "name": "stderr",
          "output_type": "stream",
          "text": [
            " 31%|███▏      | 9444/30000 [26:56<37:50,  9.05it/s]"
          ]
        },
        {
          "metadata": {
            "tags": null
          },
          "name": "stdout",
          "output_type": "stream",
          "text": [
            "Fail\n"
          ]
        },
        {
          "metadata": {
            "tags": null
          },
          "name": "stderr",
          "output_type": "stream",
          "text": [
            " 32%|███▏      | 9619/30000 [27:25<45:11,  7.52it/s]"
          ]
        },
        {
          "metadata": {
            "tags": null
          },
          "name": "stdout",
          "output_type": "stream",
          "text": [
            "Fail\n"
          ]
        },
        {
          "metadata": {
            "tags": null
          },
          "name": "stderr",
          "output_type": "stream",
          "text": [
            " 33%|███▎      | 9843/30000 [27:57<47:13,  7.11it/s]"
          ]
        },
        {
          "metadata": {
            "tags": null
          },
          "name": "stdout",
          "output_type": "stream",
          "text": [
            "Fail\n"
          ]
        },
        {
          "metadata": {
            "tags": null
          },
          "name": "stderr",
          "output_type": "stream",
          "text": [
            " 33%|███▎      | 9973/30000 [28:20<50:21,  6.63it/s]"
          ]
        },
        {
          "metadata": {
            "tags": null
          },
          "name": "stdout",
          "output_type": "stream",
          "text": [
            "Fail\n"
          ]
        },
        {
          "metadata": {
            "tags": null
          },
          "name": "stderr",
          "output_type": "stream",
          "text": [
            " 34%|███▍      | 10188/30000 [28:52<47:45,  6.91it/s]"
          ]
        },
        {
          "metadata": {
            "tags": null
          },
          "name": "stdout",
          "output_type": "stream",
          "text": [
            "Fail\n"
          ]
        },
        {
          "metadata": {
            "tags": null
          },
          "name": "stderr",
          "output_type": "stream",
          "text": [
            " 34%|███▍      | 10282/30000 [29:09<38:21,  8.57it/s]"
          ]
        },
        {
          "metadata": {
            "tags": null
          },
          "name": "stdout",
          "output_type": "stream",
          "text": [
            "Fail\n"
          ]
        },
        {
          "metadata": {
            "tags": null
          },
          "name": "stderr",
          "output_type": "stream",
          "text": [
            " 35%|███▍      | 10478/30000 [29:42<39:15,  8.29it/s]"
          ]
        },
        {
          "metadata": {
            "tags": null
          },
          "name": "stdout",
          "output_type": "stream",
          "text": [
            "Fail\n"
          ]
        },
        {
          "metadata": {
            "tags": null
          },
          "name": "stderr",
          "output_type": "stream",
          "text": [
            " 35%|███▌      | 10626/30000 [30:08<37:32,  8.60it/s]"
          ]
        },
        {
          "metadata": {
            "tags": null
          },
          "name": "stdout",
          "output_type": "stream",
          "text": [
            "Fail\n"
          ]
        },
        {
          "metadata": {
            "tags": null
          },
          "name": "stderr",
          "output_type": "stream",
          "text": [
            " 36%|███▌      | 10698/30000 [30:19<40:17,  7.98it/s]"
          ]
        },
        {
          "metadata": {
            "tags": null
          },
          "name": "stdout",
          "output_type": "stream",
          "text": [
            "Fail\n"
          ]
        },
        {
          "metadata": {
            "tags": null
          },
          "name": "stderr",
          "output_type": "stream",
          "text": [
            " 36%|███▌      | 10725/30000 [30:23<45:36,  7.04it/s]"
          ]
        },
        {
          "metadata": {
            "tags": null
          },
          "name": "stdout",
          "output_type": "stream",
          "text": [
            "Fail\n"
          ]
        },
        {
          "metadata": {
            "tags": null
          },
          "name": "stderr",
          "output_type": "stream",
          "text": [
            " 36%|███▌      | 10737/30000 [30:24<38:58,  8.24it/s]"
          ]
        },
        {
          "metadata": {
            "tags": null
          },
          "name": "stdout",
          "output_type": "stream",
          "text": [
            "Fail\n"
          ]
        },
        {
          "metadata": {
            "tags": null
          },
          "name": "stderr",
          "output_type": "stream",
          "text": [
            " 36%|███▌      | 10744/30000 [30:25<44:18,  7.24it/s]"
          ]
        },
        {
          "metadata": {
            "tags": null
          },
          "name": "stdout",
          "output_type": "stream",
          "text": [
            "Fail\n"
          ]
        },
        {
          "metadata": {
            "tags": null
          },
          "name": "stderr",
          "output_type": "stream",
          "text": [
            " 36%|███▌      | 10808/30000 [30:35<39:26,  8.11it/s]"
          ]
        },
        {
          "metadata": {
            "tags": null
          },
          "name": "stdout",
          "output_type": "stream",
          "text": [
            "Fail\n"
          ]
        },
        {
          "metadata": {
            "tags": null
          },
          "name": "stderr",
          "output_type": "stream",
          "text": [
            " 36%|███▋      | 10880/30000 [30:48<1:11:31,  4.45it/s]"
          ]
        },
        {
          "metadata": {
            "tags": null
          },
          "name": "stdout",
          "output_type": "stream",
          "text": [
            "Fail\n"
          ]
        },
        {
          "metadata": {
            "tags": null
          },
          "name": "stderr",
          "output_type": "stream",
          "text": [
            " 36%|███▋      | 10934/30000 [31:01<40:16,  7.89it/s]"
          ]
        },
        {
          "metadata": {
            "tags": null
          },
          "name": "stdout",
          "output_type": "stream",
          "text": [
            "Fail\n"
          ]
        },
        {
          "metadata": {
            "tags": null
          },
          "name": "stderr",
          "output_type": "stream",
          "text": [
            " 37%|███▋      | 10991/30000 [31:11<44:29,  7.12it/s]"
          ]
        },
        {
          "metadata": {
            "tags": null
          },
          "name": "stdout",
          "output_type": "stream",
          "text": [
            "Fail\n"
          ]
        },
        {
          "metadata": {
            "tags": null
          },
          "name": "stderr",
          "output_type": "stream",
          "text": [
            " 37%|███▋      | 11045/30000 [31:18<39:47,  7.94it/s]"
          ]
        },
        {
          "metadata": {
            "tags": null
          },
          "name": "stdout",
          "output_type": "stream",
          "text": [
            "Fail\n"
          ]
        },
        {
          "metadata": {
            "tags": null
          },
          "name": "stderr",
          "output_type": "stream",
          "text": [
            " 37%|███▋      | 11062/30000 [31:21<42:00,  7.51it/s]"
          ]
        },
        {
          "metadata": {
            "tags": null
          },
          "name": "stdout",
          "output_type": "stream",
          "text": [
            "Fail\n"
          ]
        },
        {
          "metadata": {
            "tags": null
          },
          "name": "stderr",
          "output_type": "stream",
          "text": [
            " 37%|███▋      | 11225/30000 [31:49<48:51,  6.40it/s]"
          ]
        },
        {
          "metadata": {
            "tags": null
          },
          "name": "stdout",
          "output_type": "stream",
          "text": [
            "Fail\n"
          ]
        },
        {
          "metadata": {
            "tags": null
          },
          "name": "stderr",
          "output_type": "stream",
          "text": [
            " 38%|███▊      | 11326/30000 [32:04<40:40,  7.65it/s]"
          ]
        },
        {
          "metadata": {
            "tags": null
          },
          "name": "stdout",
          "output_type": "stream",
          "text": [
            "Fail\n"
          ]
        },
        {
          "metadata": {
            "tags": null
          },
          "name": "stderr",
          "output_type": "stream",
          "text": [
            " 38%|███▊      | 11447/30000 [32:24<44:12,  6.99it/s]"
          ]
        },
        {
          "metadata": {
            "tags": null
          },
          "name": "stdout",
          "output_type": "stream",
          "text": [
            "Fail\n"
          ]
        },
        {
          "metadata": {
            "tags": null
          },
          "name": "stderr",
          "output_type": "stream",
          "text": [
            " 38%|███▊      | 11467/30000 [32:28<50:12,  6.15it/s]"
          ]
        },
        {
          "metadata": {
            "tags": null
          },
          "name": "stdout",
          "output_type": "stream",
          "text": [
            "Fail\n"
          ]
        },
        {
          "metadata": {
            "tags": null
          },
          "name": "stderr",
          "output_type": "stream",
          "text": [
            " 39%|███▉      | 11628/30000 [32:57<42:27,  7.21it/s]"
          ]
        },
        {
          "metadata": {
            "tags": null
          },
          "name": "stdout",
          "output_type": "stream",
          "text": [
            "Fail\n"
          ]
        },
        {
          "metadata": {
            "tags": null
          },
          "name": "stderr",
          "output_type": "stream",
          "text": [
            " 39%|███▉      | 11642/30000 [33:00<36:09,  8.46it/s]"
          ]
        },
        {
          "metadata": {
            "tags": null
          },
          "name": "stdout",
          "output_type": "stream",
          "text": [
            "Fail\n"
          ]
        },
        {
          "metadata": {
            "tags": null
          },
          "name": "stderr",
          "output_type": "stream",
          "text": [
            " 40%|███▉      | 11886/30000 [33:46<39:17,  7.68it/s]"
          ]
        },
        {
          "metadata": {
            "tags": null
          },
          "name": "stdout",
          "output_type": "stream",
          "text": [
            "Fail\n"
          ]
        },
        {
          "metadata": {
            "tags": null
          },
          "name": "stderr",
          "output_type": "stream",
          "text": [
            " 40%|███▉      | 11896/30000 [33:49<54:56,  5.49it/s]"
          ]
        },
        {
          "metadata": {
            "tags": null
          },
          "name": "stdout",
          "output_type": "stream",
          "text": [
            "Fail\n"
          ]
        },
        {
          "metadata": {
            "tags": null
          },
          "name": "stderr",
          "output_type": "stream",
          "text": [
            " 40%|████      | 12012/30000 [34:06<34:53,  8.59it/s]"
          ]
        },
        {
          "metadata": {
            "tags": null
          },
          "name": "stdout",
          "output_type": "stream",
          "text": [
            "Fail\n"
          ]
        },
        {
          "metadata": {
            "tags": null
          },
          "name": "stderr",
          "output_type": "stream",
          "text": [
            " 41%|████      | 12286/30000 [34:51<36:59,  7.98it/s]"
          ]
        },
        {
          "metadata": {
            "tags": null
          },
          "name": "stdout",
          "output_type": "stream",
          "text": [
            "Fail\n"
          ]
        },
        {
          "metadata": {
            "tags": null
          },
          "name": "stderr",
          "output_type": "stream",
          "text": [
            " 42%|████▏     | 12481/30000 [35:22<30:43,  9.51it/s]"
          ]
        },
        {
          "metadata": {
            "tags": null
          },
          "name": "stdout",
          "output_type": "stream",
          "text": [
            "Fail\n"
          ]
        },
        {
          "metadata": {
            "tags": null
          },
          "name": "stderr",
          "output_type": "stream",
          "text": [
            " 42%|████▏     | 12564/30000 [35:35<29:50,  9.74it/s]"
          ]
        },
        {
          "metadata": {
            "tags": null
          },
          "name": "stdout",
          "output_type": "stream",
          "text": [
            "Fail\n"
          ]
        },
        {
          "metadata": {
            "tags": null
          },
          "name": "stderr",
          "output_type": "stream",
          "text": [
            " 42%|████▏     | 12575/30000 [35:37<39:22,  7.38it/s]"
          ]
        },
        {
          "metadata": {
            "tags": null
          },
          "name": "stdout",
          "output_type": "stream",
          "text": [
            "Fail\n"
          ]
        },
        {
          "metadata": {
            "tags": null
          },
          "name": "stderr",
          "output_type": "stream",
          "text": [
            " 42%|████▏     | 12621/30000 [35:47<39:12,  7.39it/s]"
          ]
        },
        {
          "metadata": {
            "tags": null
          },
          "name": "stdout",
          "output_type": "stream",
          "text": [
            "Fail\n"
          ]
        },
        {
          "metadata": {
            "tags": null
          },
          "name": "stderr",
          "output_type": "stream",
          "text": [
            " 42%|████▏     | 12687/30000 [35:57<53:39,  5.38it/s]  "
          ]
        },
        {
          "metadata": {
            "tags": null
          },
          "name": "stdout",
          "output_type": "stream",
          "text": [
            "Fail\n"
          ]
        },
        {
          "metadata": {
            "tags": null
          },
          "name": "stderr",
          "output_type": "stream",
          "text": [
            " 42%|████▏     | 12703/30000 [36:01<52:05,  5.53it/s]"
          ]
        },
        {
          "metadata": {
            "tags": null
          },
          "name": "stdout",
          "output_type": "stream",
          "text": [
            "Fail\n"
          ]
        },
        {
          "metadata": {
            "tags": null
          },
          "name": "stderr",
          "output_type": "stream",
          "text": [
            " 42%|████▏     | 12744/30000 [36:08<34:13,  8.40it/s]"
          ]
        },
        {
          "metadata": {
            "tags": null
          },
          "name": "stdout",
          "output_type": "stream",
          "text": [
            "Fail\n"
          ]
        },
        {
          "metadata": {
            "tags": null
          },
          "name": "stderr",
          "output_type": "stream",
          "text": [
            " 43%|████▎     | 12937/30000 [36:38<34:32,  8.23it/s]"
          ]
        },
        {
          "metadata": {
            "tags": null
          },
          "name": "stdout",
          "output_type": "stream",
          "text": [
            "Fail\n"
          ]
        },
        {
          "metadata": {
            "tags": null
          },
          "name": "stderr",
          "output_type": "stream",
          "text": [
            " 44%|████▎     | 13060/30000 [37:00<36:06,  7.82it/s]"
          ]
        },
        {
          "metadata": {
            "tags": null
          },
          "name": "stdout",
          "output_type": "stream",
          "text": [
            "Fail\n"
          ]
        },
        {
          "metadata": {
            "tags": null
          },
          "name": "stderr",
          "output_type": "stream",
          "text": [
            " 44%|████▍     | 13169/30000 [37:26<49:47,  5.63it/s]"
          ]
        },
        {
          "metadata": {
            "tags": null
          },
          "name": "stdout",
          "output_type": "stream",
          "text": [
            "Fail\n"
          ]
        },
        {
          "metadata": {
            "tags": null
          },
          "name": "stderr",
          "output_type": "stream",
          "text": [
            " 44%|████▍     | 13254/30000 [37:40<43:46,  6.37it/s]"
          ]
        },
        {
          "metadata": {
            "tags": null
          },
          "name": "stdout",
          "output_type": "stream",
          "text": [
            "Fail\n"
          ]
        },
        {
          "metadata": {
            "tags": null
          },
          "name": "stderr",
          "output_type": "stream",
          "text": [
            " 44%|████▍     | 13286/30000 [37:44<32:05,  8.68it/s]"
          ]
        },
        {
          "metadata": {
            "tags": null
          },
          "name": "stdout",
          "output_type": "stream",
          "text": [
            "Fail\n"
          ]
        },
        {
          "metadata": {
            "tags": null
          },
          "name": "stderr",
          "output_type": "stream",
          "text": [
            " 45%|████▍     | 13362/30000 [37:56<34:06,  8.13it/s]"
          ]
        },
        {
          "metadata": {
            "tags": null
          },
          "name": "stdout",
          "output_type": "stream",
          "text": [
            "Fail\n"
          ]
        },
        {
          "metadata": {
            "tags": null
          },
          "name": "stderr",
          "output_type": "stream",
          "text": [
            " 45%|████▍     | 13401/30000 [38:04<40:19,  6.86it/s]"
          ]
        },
        {
          "metadata": {
            "tags": null
          },
          "name": "stdout",
          "output_type": "stream",
          "text": [
            "Fail\n"
          ]
        },
        {
          "metadata": {
            "tags": null
          },
          "name": "stderr",
          "output_type": "stream",
          "text": [
            " 45%|████▌     | 13528/30000 [38:28<45:58,  5.97it/s]"
          ]
        },
        {
          "metadata": {
            "tags": null
          },
          "name": "stdout",
          "output_type": "stream",
          "text": [
            "Fail\n"
          ]
        },
        {
          "metadata": {
            "tags": null
          },
          "name": "stderr",
          "output_type": "stream",
          "text": [
            " 45%|████▌     | 13547/30000 [38:32<42:03,  6.52it/s]"
          ]
        },
        {
          "metadata": {
            "tags": null
          },
          "name": "stdout",
          "output_type": "stream",
          "text": [
            "Fail\n"
          ]
        },
        {
          "metadata": {
            "tags": null
          },
          "name": "stderr",
          "output_type": "stream",
          "text": [
            " 45%|████▌     | 13628/30000 [38:48<39:24,  6.93it/s]"
          ]
        },
        {
          "metadata": {
            "tags": null
          },
          "name": "stdout",
          "output_type": "stream",
          "text": [
            "Fail\n"
          ]
        },
        {
          "metadata": {
            "tags": null
          },
          "name": "stderr",
          "output_type": "stream",
          "text": [
            " 46%|████▌     | 13848/30000 [39:22<32:24,  8.31it/s]"
          ]
        },
        {
          "metadata": {
            "tags": null
          },
          "name": "stdout",
          "output_type": "stream",
          "text": [
            "Fail\n"
          ]
        },
        {
          "metadata": {
            "tags": null
          },
          "name": "stderr",
          "output_type": "stream",
          "text": [
            " 46%|████▌     | 13866/30000 [39:25<37:04,  7.25it/s]"
          ]
        },
        {
          "metadata": {
            "tags": null
          },
          "name": "stdout",
          "output_type": "stream",
          "text": [
            "Fail\n"
          ]
        },
        {
          "metadata": {
            "tags": null
          },
          "name": "stderr",
          "output_type": "stream",
          "text": [
            " 47%|████▋     | 13997/30000 [39:47<30:35,  8.72it/s]"
          ]
        },
        {
          "metadata": {
            "tags": null
          },
          "name": "stdout",
          "output_type": "stream",
          "text": [
            "Fail\n"
          ]
        },
        {
          "metadata": {
            "tags": null
          },
          "name": "stderr",
          "output_type": "stream",
          "text": [
            " 47%|████▋     | 14010/30000 [39:49<31:59,  8.33it/s]"
          ]
        },
        {
          "metadata": {
            "tags": null
          },
          "name": "stdout",
          "output_type": "stream",
          "text": [
            "Fail\n"
          ]
        },
        {
          "metadata": {
            "tags": null
          },
          "name": "stderr",
          "output_type": "stream",
          "text": [
            " 47%|████▋     | 14037/30000 [39:55<44:24,  5.99it/s]"
          ]
        },
        {
          "metadata": {
            "tags": null
          },
          "name": "stdout",
          "output_type": "stream",
          "text": [
            "Fail\n"
          ]
        },
        {
          "metadata": {
            "tags": null
          },
          "name": "stderr",
          "output_type": "stream",
          "text": [
            " 47%|████▋     | 14041/30000 [39:55<33:22,  7.97it/s]"
          ]
        },
        {
          "metadata": {
            "tags": null
          },
          "name": "stdout",
          "output_type": "stream",
          "text": [
            "Fail\n"
          ]
        },
        {
          "metadata": {
            "tags": null
          },
          "name": "stderr",
          "output_type": "stream",
          "text": [
            " 47%|████▋     | 14138/30000 [40:10<48:32,  5.45it/s]"
          ]
        },
        {
          "metadata": {
            "tags": null
          },
          "name": "stdout",
          "output_type": "stream",
          "text": [
            "Fail\n"
          ]
        },
        {
          "metadata": {
            "tags": null
          },
          "name": "stderr",
          "output_type": "stream",
          "text": [
            " 47%|████▋     | 14184/30000 [40:18<52:47,  4.99it/s]  "
          ]
        },
        {
          "metadata": {
            "tags": null
          },
          "name": "stdout",
          "output_type": "stream",
          "text": [
            "Fail\n"
          ]
        },
        {
          "metadata": {
            "tags": null
          },
          "name": "stderr",
          "output_type": "stream",
          "text": [
            " 48%|████▊     | 14290/30000 [40:34<32:03,  8.17it/s]"
          ]
        },
        {
          "metadata": {
            "tags": null
          },
          "name": "stdout",
          "output_type": "stream",
          "text": [
            "Fail\n"
          ]
        },
        {
          "metadata": {
            "tags": null
          },
          "name": "stderr",
          "output_type": "stream",
          "text": [
            " 48%|████▊     | 14353/30000 [40:47<33:13,  7.85it/s]"
          ]
        },
        {
          "metadata": {
            "tags": null
          },
          "name": "stdout",
          "output_type": "stream",
          "text": [
            "Fail\n"
          ]
        },
        {
          "metadata": {
            "tags": null
          },
          "name": "stderr",
          "output_type": "stream",
          "text": [
            " 48%|████▊     | 14361/30000 [40:48<42:47,  6.09it/s]"
          ]
        },
        {
          "metadata": {
            "tags": null
          },
          "name": "stdout",
          "output_type": "stream",
          "text": [
            "Fail\n"
          ]
        },
        {
          "metadata": {
            "tags": null
          },
          "name": "stderr",
          "output_type": "stream",
          "text": [
            " 49%|████▉     | 14735/30000 [41:56<46:35,  5.46it/s]"
          ]
        },
        {
          "metadata": {
            "tags": null
          },
          "name": "stdout",
          "output_type": "stream",
          "text": [
            "Fail\n"
          ]
        },
        {
          "metadata": {
            "tags": null
          },
          "name": "stderr",
          "output_type": "stream",
          "text": [
            " 49%|████▉     | 14770/30000 [42:01<49:23,  5.14it/s]  "
          ]
        },
        {
          "metadata": {
            "tags": null
          },
          "name": "stdout",
          "output_type": "stream",
          "text": [
            "Fail\n"
          ]
        },
        {
          "metadata": {
            "tags": null
          },
          "name": "stderr",
          "output_type": "stream",
          "text": [
            " 49%|████▉     | 14796/30000 [42:07<35:24,  7.16it/s]"
          ]
        },
        {
          "metadata": {
            "tags": null
          },
          "name": "stdout",
          "output_type": "stream",
          "text": [
            "Fail\n"
          ]
        },
        {
          "metadata": {
            "tags": null
          },
          "name": "stderr",
          "output_type": "stream",
          "text": [
            " 50%|████▉     | 14965/30000 [42:35<1:22:39,  3.03it/s]"
          ]
        },
        {
          "metadata": {
            "tags": null
          },
          "name": "stdout",
          "output_type": "stream",
          "text": [
            "Fail\n"
          ]
        },
        {
          "metadata": {
            "tags": null
          },
          "name": "stderr",
          "output_type": "stream",
          "text": [
            " 50%|████▉     | 14982/30000 [42:37<26:05,  9.59it/s]"
          ]
        },
        {
          "metadata": {
            "tags": null
          },
          "name": "stdout",
          "output_type": "stream",
          "text": [
            "Fail\n"
          ]
        },
        {
          "metadata": {
            "tags": null
          },
          "name": "stderr",
          "output_type": "stream",
          "text": [
            " 51%|█████     | 15212/30000 [43:17<28:58,  8.50it/s]"
          ]
        },
        {
          "metadata": {
            "tags": null
          },
          "name": "stdout",
          "output_type": "stream",
          "text": [
            "Fail\n"
          ]
        },
        {
          "metadata": {
            "tags": null
          },
          "name": "stderr",
          "output_type": "stream",
          "text": [
            " 51%|█████     | 15270/30000 [43:24<26:53,  9.13it/s]"
          ]
        },
        {
          "metadata": {
            "tags": null
          },
          "name": "stdout",
          "output_type": "stream",
          "text": [
            "Fail\n"
          ]
        },
        {
          "metadata": {
            "tags": null
          },
          "name": "stderr",
          "output_type": "stream",
          "text": [
            " 51%|█████▏    | 15402/30000 [43:47<43:41,  5.57it/s]"
          ]
        },
        {
          "metadata": {
            "tags": null
          },
          "name": "stdout",
          "output_type": "stream",
          "text": [
            "Fail\n",
            "Fail\n"
          ]
        },
        {
          "metadata": {
            "tags": null
          },
          "name": "stderr",
          "output_type": "stream",
          "text": [
            " 51%|█████▏    | 15422/30000 [43:50<34:13,  7.10it/s]"
          ]
        },
        {
          "metadata": {
            "tags": null
          },
          "name": "stdout",
          "output_type": "stream",
          "text": [
            "Fail\n"
          ]
        },
        {
          "metadata": {
            "tags": null
          },
          "name": "stderr",
          "output_type": "stream",
          "text": [
            " 52%|█████▏    | 15526/30000 [44:06<28:45,  8.39it/s]"
          ]
        },
        {
          "metadata": {
            "tags": null
          },
          "name": "stdout",
          "output_type": "stream",
          "text": [
            "Fail\n"
          ]
        },
        {
          "metadata": {
            "tags": null
          },
          "name": "stderr",
          "output_type": "stream",
          "text": [
            " 52%|█████▏    | 15743/30000 [44:42<27:21,  8.68it/s]"
          ]
        },
        {
          "metadata": {
            "tags": null
          },
          "name": "stdout",
          "output_type": "stream",
          "text": [
            "Fail\n"
          ]
        },
        {
          "metadata": {
            "tags": null
          },
          "name": "stderr",
          "output_type": "stream",
          "text": [
            " 53%|█████▎    | 15813/30000 [44:53<47:01,  5.03it/s]  "
          ]
        },
        {
          "metadata": {
            "tags": null
          },
          "name": "stdout",
          "output_type": "stream",
          "text": [
            "Fail\n"
          ]
        },
        {
          "metadata": {
            "tags": null
          },
          "name": "stderr",
          "output_type": "stream",
          "text": [
            " 53%|█████▎    | 15909/30000 [45:13<36:43,  6.40it/s]"
          ]
        },
        {
          "metadata": {
            "tags": null
          },
          "name": "stdout",
          "output_type": "stream",
          "text": [
            "Fail\n"
          ]
        },
        {
          "metadata": {
            "tags": null
          },
          "name": "stderr",
          "output_type": "stream",
          "text": [
            " 53%|█████▎    | 15923/30000 [45:18<59:10,  3.96it/s]  "
          ]
        },
        {
          "metadata": {
            "tags": null
          },
          "name": "stdout",
          "output_type": "stream",
          "text": [
            "Fail\n"
          ]
        },
        {
          "metadata": {
            "tags": null
          },
          "name": "stderr",
          "output_type": "stream",
          "text": [
            " 53%|█████▎    | 16011/30000 [45:31<25:59,  8.97it/s]"
          ]
        },
        {
          "metadata": {
            "tags": null
          },
          "name": "stdout",
          "output_type": "stream",
          "text": [
            "Fail\n"
          ]
        },
        {
          "metadata": {
            "tags": null
          },
          "name": "stderr",
          "output_type": "stream",
          "text": [
            " 53%|█████▎    | 16023/30000 [45:33<43:01,  5.41it/s]"
          ]
        },
        {
          "metadata": {
            "tags": null
          },
          "name": "stdout",
          "output_type": "stream",
          "text": [
            "Fail\n"
          ]
        },
        {
          "metadata": {
            "tags": null
          },
          "name": "stderr",
          "output_type": "stream",
          "text": [
            " 54%|█████▎    | 16098/30000 [45:46<35:02,  6.61it/s]"
          ]
        },
        {
          "metadata": {
            "tags": null
          },
          "name": "stdout",
          "output_type": "stream",
          "text": [
            "Fail\n"
          ]
        },
        {
          "metadata": {
            "tags": null
          },
          "name": "stderr",
          "output_type": "stream",
          "text": [
            " 54%|█████▎    | 16111/30000 [45:48<30:29,  7.59it/s]"
          ]
        },
        {
          "metadata": {
            "tags": null
          },
          "name": "stdout",
          "output_type": "stream",
          "text": [
            "Fail\n"
          ]
        },
        {
          "metadata": {
            "tags": null
          },
          "name": "stderr",
          "output_type": "stream",
          "text": [
            " 54%|█████▍    | 16163/30000 [45:54<27:12,  8.48it/s]"
          ]
        },
        {
          "metadata": {
            "tags": null
          },
          "name": "stdout",
          "output_type": "stream",
          "text": [
            "Fail\n"
          ]
        },
        {
          "metadata": {
            "tags": null
          },
          "name": "stderr",
          "output_type": "stream",
          "text": [
            " 54%|█████▍    | 16254/30000 [46:11<31:00,  7.39it/s]"
          ]
        },
        {
          "metadata": {
            "tags": null
          },
          "name": "stdout",
          "output_type": "stream",
          "text": [
            "Fail\n"
          ]
        },
        {
          "metadata": {
            "tags": null
          },
          "name": "stderr",
          "output_type": "stream",
          "text": [
            " 56%|█████▌    | 16725/30000 [47:31<33:23,  6.63it/s]"
          ]
        },
        {
          "metadata": {
            "tags": null
          },
          "name": "stdout",
          "output_type": "stream",
          "text": [
            "Fail\n"
          ]
        },
        {
          "metadata": {
            "tags": null
          },
          "name": "stderr",
          "output_type": "stream",
          "text": [
            " 56%|█████▌    | 16730/30000 [47:32<27:37,  8.00it/s]"
          ]
        },
        {
          "metadata": {
            "tags": null
          },
          "name": "stdout",
          "output_type": "stream",
          "text": [
            "Fail\n"
          ]
        },
        {
          "metadata": {
            "tags": null
          },
          "name": "stderr",
          "output_type": "stream",
          "text": [
            " 56%|█████▋    | 16928/30000 [48:09<39:55,  5.46it/s]"
          ]
        },
        {
          "metadata": {
            "tags": null
          },
          "name": "stdout",
          "output_type": "stream",
          "text": [
            "Fail\n"
          ]
        },
        {
          "metadata": {
            "tags": null
          },
          "name": "stderr",
          "output_type": "stream",
          "text": [
            " 56%|█████▋    | 16933/30000 [48:10<27:20,  7.97it/s]"
          ]
        },
        {
          "metadata": {
            "tags": null
          },
          "name": "stdout",
          "output_type": "stream",
          "text": [
            "Fail\n"
          ]
        },
        {
          "metadata": {
            "tags": null
          },
          "name": "stderr",
          "output_type": "stream",
          "text": [
            " 57%|█████▋    | 17046/30000 [48:29<25:50,  8.36it/s]"
          ]
        },
        {
          "metadata": {
            "tags": null
          },
          "name": "stdout",
          "output_type": "stream",
          "text": [
            "Fail\n"
          ]
        },
        {
          "metadata": {
            "tags": null
          },
          "name": "stderr",
          "output_type": "stream",
          "text": [
            " 57%|█████▋    | 17107/30000 [48:39<47:40,  4.51it/s]"
          ]
        },
        {
          "metadata": {
            "tags": null
          },
          "name": "stdout",
          "output_type": "stream",
          "text": [
            "Fail\n"
          ]
        },
        {
          "output_type": "stream",
          "text": [
            " 57%|█████▋    | 17216/30000 [48:56<22:54,  9.30it/s]"
          ],
          "name": "stderr"
        },
        {
          "output_type": "stream",
          "text": [
            "Fail\n"
          ],
          "name": "stdout"
        },
        {
          "output_type": "stream",
          "text": [
            " 58%|█████▊    | 17257/30000 [49:06<58:48,  3.61it/s]  "
          ],
          "name": "stderr"
        },
        {
          "output_type": "stream",
          "text": [
            "Fail\n",
            "Fail\n"
          ],
          "name": "stdout"
        },
        {
          "output_type": "stream",
          "text": [
            " 58%|█████▊    | 17495/30000 [49:41<25:15,  8.25it/s]"
          ],
          "name": "stderr"
        },
        {
          "output_type": "stream",
          "text": [
            "Fail\n"
          ],
          "name": "stdout"
        },
        {
          "output_type": "stream",
          "text": [
            " 58%|█████▊    | 17517/30000 [49:46<30:30,  6.82it/s]"
          ],
          "name": "stderr"
        },
        {
          "output_type": "stream",
          "text": [
            "Fail\n"
          ],
          "name": "stdout"
        },
        {
          "output_type": "stream",
          "text": [
            " 58%|█████▊    | 17525/30000 [49:47<31:08,  6.68it/s]"
          ],
          "name": "stderr"
        },
        {
          "output_type": "stream",
          "text": [
            "Fail\n"
          ],
          "name": "stdout"
        },
        {
          "output_type": "stream",
          "text": [
            " 59%|█████▊    | 17562/30000 [49:52<24:53,  8.33it/s]"
          ],
          "name": "stderr"
        },
        {
          "output_type": "stream",
          "text": [
            "Fail\n"
          ],
          "name": "stdout"
        },
        {
          "output_type": "stream",
          "text": [
            " 59%|█████▊    | 17596/30000 [49:57<23:07,  8.94it/s]"
          ],
          "name": "stderr"
        },
        {
          "output_type": "stream",
          "text": [
            "Fail\n"
          ],
          "name": "stdout"
        },
        {
          "output_type": "stream",
          "text": [
            " 59%|█████▊    | 17612/30000 [50:00<23:04,  8.95it/s]"
          ],
          "name": "stderr"
        },
        {
          "output_type": "stream",
          "text": [
            "Fail\n",
            "Fail\n"
          ],
          "name": "stdout"
        },
        {
          "output_type": "stream",
          "text": [
            " 59%|█████▉    | 17625/30000 [50:02<26:59,  7.64it/s]"
          ],
          "name": "stderr"
        },
        {
          "output_type": "stream",
          "text": [
            "Fail\n"
          ],
          "name": "stdout"
        },
        {
          "output_type": "stream",
          "text": [
            " 59%|█████▉    | 17646/30000 [50:05<20:10, 10.20it/s]"
          ],
          "name": "stderr"
        },
        {
          "output_type": "stream",
          "text": [
            "Fail\n"
          ],
          "name": "stdout"
        },
        {
          "output_type": "stream",
          "text": [
            "\r 59%|█████▉    | 17648/30000 [50:05<19:58, 10.30it/s]"
          ],
          "name": "stderr"
        },
        {
          "output_type": "stream",
          "text": [
            "Fail\n"
          ],
          "name": "stdout"
        },
        {
          "output_type": "stream",
          "text": [
            " 59%|█████▉    | 17654/30000 [50:05<18:46, 10.96it/s]"
          ],
          "name": "stderr"
        },
        {
          "output_type": "stream",
          "text": [
            "Fail\n"
          ],
          "name": "stdout"
        },
        {
          "output_type": "stream",
          "text": [
            " 59%|█████▉    | 17667/30000 [50:08<34:05,  6.03it/s]"
          ],
          "name": "stderr"
        },
        {
          "output_type": "stream",
          "text": [
            "Fail\n"
          ],
          "name": "stdout"
        },
        {
          "output_type": "stream",
          "text": [
            " 59%|█████▉    | 17701/30000 [50:13<29:56,  6.85it/s]"
          ],
          "name": "stderr"
        },
        {
          "output_type": "stream",
          "text": [
            "Fail\n"
          ],
          "name": "stdout"
        },
        {
          "output_type": "stream",
          "text": [
            " 59%|█████▉    | 17717/30000 [50:17<36:52,  5.55it/s]"
          ],
          "name": "stderr"
        },
        {
          "output_type": "stream",
          "text": [
            "Fail\n"
          ],
          "name": "stdout"
        },
        {
          "output_type": "stream",
          "text": [
            " 59%|█████▉    | 17726/30000 [50:19<30:14,  6.76it/s]"
          ],
          "name": "stderr"
        },
        {
          "output_type": "stream",
          "text": [
            "Fail\n"
          ],
          "name": "stdout"
        },
        {
          "output_type": "stream",
          "text": [
            " 59%|█████▉    | 17729/30000 [50:19<21:37,  9.46it/s]"
          ],
          "name": "stderr"
        },
        {
          "output_type": "stream",
          "text": [
            "Fail\n"
          ],
          "name": "stdout"
        },
        {
          "output_type": "stream",
          "text": [
            " 59%|█████▉    | 17733/30000 [50:19<26:26,  7.73it/s]"
          ],
          "name": "stderr"
        },
        {
          "output_type": "stream",
          "text": [
            "Fail\n"
          ],
          "name": "stdout"
        },
        {
          "output_type": "stream",
          "text": [
            " 59%|█████▉    | 17746/30000 [50:23<39:56,  5.11it/s]"
          ],
          "name": "stderr"
        },
        {
          "output_type": "stream",
          "text": [
            "Fail\n",
            "Fail\n"
          ],
          "name": "stdout"
        },
        {
          "output_type": "stream",
          "text": [
            " 59%|█████▉    | 17751/30000 [50:23<36:26,  5.60it/s]"
          ],
          "name": "stderr"
        },
        {
          "output_type": "stream",
          "text": [
            "Fail\n"
          ],
          "name": "stdout"
        },
        {
          "output_type": "stream",
          "text": [
            " 59%|█████▉    | 17808/30000 [50:34<31:12,  6.51it/s]"
          ],
          "name": "stderr"
        },
        {
          "output_type": "stream",
          "text": [
            "Fail\n",
            "Fail\n"
          ],
          "name": "stdout"
        },
        {
          "output_type": "stream",
          "text": [
            " 60%|█████▉    | 17901/30000 [50:50<23:26,  8.60it/s]"
          ],
          "name": "stderr"
        },
        {
          "output_type": "stream",
          "text": [
            "Fail\n"
          ],
          "name": "stdout"
        },
        {
          "output_type": "stream",
          "text": [
            " 60%|█████▉    | 17906/30000 [50:50<22:52,  8.81it/s]"
          ],
          "name": "stderr"
        },
        {
          "output_type": "stream",
          "text": [
            "Fail\n"
          ],
          "name": "stdout"
        },
        {
          "output_type": "stream",
          "text": [
            " 60%|█████▉    | 17910/30000 [50:51<27:13,  7.40it/s]"
          ],
          "name": "stderr"
        },
        {
          "output_type": "stream",
          "text": [
            "Fail\n"
          ],
          "name": "stdout"
        },
        {
          "output_type": "stream",
          "text": [
            " 60%|██████    | 18007/30000 [51:08<21:47,  9.18it/s]"
          ],
          "name": "stderr"
        },
        {
          "output_type": "stream",
          "text": [
            "Fail\n"
          ],
          "name": "stdout"
        },
        {
          "output_type": "stream",
          "text": [
            " 60%|██████    | 18045/30000 [51:15<22:59,  8.67it/s]"
          ],
          "name": "stderr"
        },
        {
          "output_type": "stream",
          "text": [
            "Fail\n"
          ],
          "name": "stdout"
        },
        {
          "output_type": "stream",
          "text": [
            " 60%|██████    | 18124/30000 [51:29<26:12,  7.55it/s]"
          ],
          "name": "stderr"
        },
        {
          "output_type": "stream",
          "text": [
            "Fail\n"
          ],
          "name": "stdout"
        },
        {
          "output_type": "stream",
          "text": [
            " 60%|██████    | 18134/30000 [51:32<39:03,  5.06it/s]"
          ],
          "name": "stderr"
        },
        {
          "output_type": "stream",
          "text": [
            "Fail\n"
          ],
          "name": "stdout"
        },
        {
          "output_type": "stream",
          "text": [
            " 60%|██████    | 18138/30000 [51:32<31:25,  6.29it/s]"
          ],
          "name": "stderr"
        },
        {
          "output_type": "stream",
          "text": [
            "Fail\n"
          ],
          "name": "stdout"
        },
        {
          "output_type": "stream",
          "text": [
            " 60%|██████    | 18145/30000 [51:34<33:38,  5.87it/s]"
          ],
          "name": "stderr"
        },
        {
          "output_type": "stream",
          "text": [
            "Fail\n",
            "Fail\n"
          ],
          "name": "stdout"
        },
        {
          "output_type": "stream",
          "text": [
            " 61%|██████    | 18180/30000 [51:39<28:00,  7.04it/s]"
          ],
          "name": "stderr"
        },
        {
          "output_type": "stream",
          "text": [
            "Fail\n"
          ],
          "name": "stdout"
        },
        {
          "output_type": "stream",
          "text": [
            " 61%|██████    | 18195/30000 [51:43<36:54,  5.33it/s]"
          ],
          "name": "stderr"
        },
        {
          "output_type": "stream",
          "text": [
            "Fail\n"
          ],
          "name": "stdout"
        },
        {
          "output_type": "stream",
          "text": [
            " 61%|██████    | 18237/30000 [51:50<26:52,  7.30it/s]"
          ],
          "name": "stderr"
        },
        {
          "output_type": "stream",
          "text": [
            "Fail\n"
          ],
          "name": "stdout"
        },
        {
          "output_type": "stream",
          "text": [
            " 61%|██████    | 18361/30000 [52:15<27:19,  7.10it/s]"
          ],
          "name": "stderr"
        },
        {
          "output_type": "stream",
          "text": [
            "Fail\n"
          ],
          "name": "stdout"
        },
        {
          "output_type": "stream",
          "text": [
            " 61%|██████▏   | 18394/30000 [52:22<28:50,  6.71it/s]"
          ],
          "name": "stderr"
        },
        {
          "output_type": "stream",
          "text": [
            "Fail\n"
          ],
          "name": "stdout"
        },
        {
          "output_type": "stream",
          "text": [
            " 61%|██████▏   | 18445/30000 [52:35<23:07,  8.33it/s]"
          ],
          "name": "stderr"
        },
        {
          "output_type": "stream",
          "text": [
            "Fail\n"
          ],
          "name": "stdout"
        },
        {
          "output_type": "stream",
          "text": [
            " 62%|██████▏   | 18509/30000 [52:48<45:53,  4.17it/s]"
          ],
          "name": "stderr"
        },
        {
          "output_type": "stream",
          "text": [
            "Fail\n"
          ],
          "name": "stdout"
        },
        {
          "output_type": "stream",
          "text": [
            " 62%|██████▏   | 18667/30000 [53:20<52:53,  3.57it/s]  "
          ],
          "name": "stderr"
        },
        {
          "output_type": "stream",
          "text": [
            "Fail\n"
          ],
          "name": "stdout"
        },
        {
          "output_type": "stream",
          "text": [
            " 62%|██████▏   | 18708/30000 [53:30<32:55,  5.72it/s]"
          ],
          "name": "stderr"
        },
        {
          "output_type": "stream",
          "text": [
            "Fail\n"
          ],
          "name": "stdout"
        },
        {
          "output_type": "stream",
          "text": [
            " 62%|██████▏   | 18737/30000 [53:38<1:13:11,  2.56it/s]"
          ],
          "name": "stderr"
        },
        {
          "output_type": "stream",
          "text": [
            "Fail\n"
          ],
          "name": "stdout"
        },
        {
          "output_type": "stream",
          "text": [
            " 63%|██████▎   | 18771/30000 [53:45<38:22,  4.88it/s]"
          ],
          "name": "stderr"
        },
        {
          "output_type": "stream",
          "text": [
            "Fail\n"
          ],
          "name": "stdout"
        },
        {
          "output_type": "stream",
          "text": [
            " 63%|██████▎   | 18794/30000 [53:50<27:36,  6.77it/s]"
          ],
          "name": "stderr"
        },
        {
          "output_type": "stream",
          "text": [
            "Fail\n"
          ],
          "name": "stdout"
        },
        {
          "output_type": "stream",
          "text": [
            " 63%|██████▎   | 18853/30000 [54:02<30:10,  6.16it/s]"
          ],
          "name": "stderr"
        },
        {
          "output_type": "stream",
          "text": [
            "Fail\n"
          ],
          "name": "stdout"
        },
        {
          "output_type": "stream",
          "text": [
            " 63%|██████▎   | 18861/30000 [54:03<26:41,  6.96it/s]"
          ],
          "name": "stderr"
        },
        {
          "output_type": "stream",
          "text": [
            "Fail\n"
          ],
          "name": "stdout"
        },
        {
          "output_type": "stream",
          "text": [
            " 63%|██████▎   | 18939/30000 [54:16<25:28,  7.24it/s]"
          ],
          "name": "stderr"
        },
        {
          "output_type": "stream",
          "text": [
            "Fail\n"
          ],
          "name": "stdout"
        },
        {
          "output_type": "stream",
          "text": [
            " 63%|██████▎   | 18947/30000 [54:17<23:14,  7.93it/s]"
          ],
          "name": "stderr"
        },
        {
          "output_type": "stream",
          "text": [
            "Fail\n"
          ],
          "name": "stdout"
        },
        {
          "output_type": "stream",
          "text": [
            " 63%|██████▎   | 19021/30000 [54:31<35:30,  5.15it/s]"
          ],
          "name": "stderr"
        },
        {
          "output_type": "stream",
          "text": [
            "Fail\n"
          ],
          "name": "stdout"
        },
        {
          "output_type": "stream",
          "text": [
            " 64%|██████▎   | 19056/30000 [54:39<41:13,  4.42it/s]"
          ],
          "name": "stderr"
        },
        {
          "output_type": "stream",
          "text": [
            "Fail\n"
          ],
          "name": "stdout"
        },
        {
          "output_type": "stream",
          "text": [
            " 64%|██████▎   | 19102/30000 [54:50<26:17,  6.91it/s]"
          ],
          "name": "stderr"
        },
        {
          "output_type": "stream",
          "text": [
            "Fail\n"
          ],
          "name": "stdout"
        },
        {
          "output_type": "stream",
          "text": [
            " 64%|██████▍   | 19160/30000 [55:01<32:52,  5.50it/s]"
          ],
          "name": "stderr"
        },
        {
          "output_type": "stream",
          "text": [
            "Fail\n"
          ],
          "name": "stdout"
        },
        {
          "output_type": "stream",
          "text": [
            " 64%|██████▍   | 19307/30000 [55:31<28:44,  6.20it/s]"
          ],
          "name": "stderr"
        },
        {
          "output_type": "stream",
          "text": [
            "Fail\n"
          ],
          "name": "stdout"
        },
        {
          "output_type": "stream",
          "text": [
            " 65%|██████▍   | 19444/30000 [55:59<22:09,  7.94it/s]"
          ],
          "name": "stderr"
        },
        {
          "output_type": "stream",
          "text": [
            "Fail\n"
          ],
          "name": "stdout"
        },
        {
          "output_type": "stream",
          "text": [
            " 65%|██████▌   | 19578/30000 [56:30<26:30,  6.55it/s]"
          ],
          "name": "stderr"
        },
        {
          "output_type": "stream",
          "text": [
            "Fail\n"
          ],
          "name": "stdout"
        },
        {
          "output_type": "stream",
          "text": [
            " 65%|██████▌   | 19635/30000 [56:44<40:36,  4.25it/s]"
          ],
          "name": "stderr"
        },
        {
          "output_type": "stream",
          "text": [
            "Fail\n"
          ],
          "name": "stdout"
        },
        {
          "output_type": "stream",
          "text": [
            " 66%|██████▌   | 19655/30000 [56:48<43:33,  3.96it/s]"
          ],
          "name": "stderr"
        },
        {
          "output_type": "stream",
          "text": [
            "Fail\n"
          ],
          "name": "stdout"
        },
        {
          "output_type": "stream",
          "text": [
            " 66%|██████▌   | 19757/30000 [57:09<30:37,  5.58it/s]"
          ],
          "name": "stderr"
        },
        {
          "output_type": "stream",
          "text": [
            "Fail\n"
          ],
          "name": "stdout"
        },
        {
          "output_type": "stream",
          "text": [
            " 66%|██████▌   | 19778/30000 [57:13<28:18,  6.02it/s]"
          ],
          "name": "stderr"
        },
        {
          "output_type": "stream",
          "text": [
            "Fail\n"
          ],
          "name": "stdout"
        },
        {
          "output_type": "stream",
          "text": [
            " 66%|██████▌   | 19827/30000 [57:26<58:52,  2.88it/s]  "
          ],
          "name": "stderr"
        },
        {
          "output_type": "stream",
          "text": [
            "Fail\n"
          ],
          "name": "stdout"
        },
        {
          "output_type": "stream",
          "text": [
            " 66%|██████▌   | 19868/30000 [57:34<36:00,  4.69it/s]"
          ],
          "name": "stderr"
        },
        {
          "output_type": "stream",
          "text": [
            "Fail\n"
          ],
          "name": "stdout"
        },
        {
          "output_type": "stream",
          "text": [
            " 67%|██████▋   | 19965/30000 [57:54<28:23,  5.89it/s]"
          ],
          "name": "stderr"
        },
        {
          "output_type": "stream",
          "text": [
            "Fail\n"
          ],
          "name": "stdout"
        },
        {
          "output_type": "stream",
          "text": [
            " 67%|██████▋   | 19997/30000 [58:01<27:10,  6.14it/s]"
          ],
          "name": "stderr"
        },
        {
          "output_type": "stream",
          "text": [
            "Fail\n"
          ],
          "name": "stdout"
        },
        {
          "output_type": "stream",
          "text": [
            " 67%|██████▋   | 20069/30000 [58:18<35:53,  4.61it/s]"
          ],
          "name": "stderr"
        },
        {
          "output_type": "stream",
          "text": [
            "Fail\n"
          ],
          "name": "stdout"
        },
        {
          "output_type": "stream",
          "text": [
            " 67%|██████▋   | 20150/30000 [58:35<26:10,  6.27it/s]"
          ],
          "name": "stderr"
        },
        {
          "output_type": "stream",
          "text": [
            "Fail\n"
          ],
          "name": "stdout"
        },
        {
          "output_type": "stream",
          "text": [
            " 67%|██████▋   | 20159/30000 [58:36<24:20,  6.74it/s]"
          ],
          "name": "stderr"
        },
        {
          "output_type": "stream",
          "text": [
            "Fail\n"
          ],
          "name": "stdout"
        },
        {
          "output_type": "stream",
          "text": [
            " 67%|██████▋   | 20192/30000 [58:43<22:53,  7.14it/s]"
          ],
          "name": "stderr"
        },
        {
          "output_type": "stream",
          "text": [
            "Fail\n"
          ],
          "name": "stdout"
        },
        {
          "output_type": "stream",
          "text": [
            " 67%|██████▋   | 20207/30000 [58:45<19:05,  8.55it/s]"
          ],
          "name": "stderr"
        },
        {
          "output_type": "stream",
          "text": [
            "Fail\n"
          ],
          "name": "stdout"
        },
        {
          "output_type": "stream",
          "text": [
            " 68%|██████▊   | 20346/30000 [59:16<26:13,  6.14it/s]"
          ],
          "name": "stderr"
        },
        {
          "output_type": "stream",
          "text": [
            "Fail\n"
          ],
          "name": "stdout"
        },
        {
          "output_type": "stream",
          "text": [
            " 68%|██████▊   | 20359/30000 [59:18<24:49,  6.47it/s]"
          ],
          "name": "stderr"
        },
        {
          "output_type": "stream",
          "text": [
            "Fail\n"
          ],
          "name": "stdout"
        },
        {
          "output_type": "stream",
          "text": [
            " 68%|██████▊   | 20431/30000 [59:34<22:02,  7.23it/s]"
          ],
          "name": "stderr"
        },
        {
          "output_type": "stream",
          "text": [
            "Fail\n"
          ],
          "name": "stdout"
        },
        {
          "output_type": "stream",
          "text": [
            " 69%|██████▉   | 20632/30000 [1:00:15<38:04,  4.10it/s]"
          ],
          "name": "stderr"
        },
        {
          "output_type": "stream",
          "text": [
            "Fail\n"
          ],
          "name": "stdout"
        },
        {
          "output_type": "stream",
          "text": [
            " 69%|██████▉   | 20727/30000 [1:00:38<49:56,  3.09it/s]"
          ],
          "name": "stderr"
        },
        {
          "output_type": "stream",
          "text": [
            "Fail\n"
          ],
          "name": "stdout"
        },
        {
          "output_type": "stream",
          "text": [
            " 69%|██████▉   | 20798/30000 [1:00:53<19:41,  7.79it/s]"
          ],
          "name": "stderr"
        },
        {
          "output_type": "stream",
          "text": [
            "Fail\n"
          ],
          "name": "stdout"
        },
        {
          "output_type": "stream",
          "text": [
            " 69%|██████▉   | 20828/30000 [1:00:59<18:14,  8.38it/s]"
          ],
          "name": "stderr"
        },
        {
          "output_type": "stream",
          "text": [
            "Fail\n"
          ],
          "name": "stdout"
        },
        {
          "output_type": "stream",
          "text": [
            " 69%|██████▉   | 20849/30000 [1:01:05<31:03,  4.91it/s]"
          ],
          "name": "stderr"
        },
        {
          "output_type": "stream",
          "text": [
            "Fail\n"
          ],
          "name": "stdout"
        },
        {
          "output_type": "stream",
          "text": [
            " 70%|██████▉   | 20859/30000 [1:01:06<17:15,  8.83it/s]"
          ],
          "name": "stderr"
        },
        {
          "output_type": "stream",
          "text": [
            "Fail\n"
          ],
          "name": "stdout"
        },
        {
          "output_type": "stream",
          "text": [
            " 70%|██████▉   | 20944/30000 [1:01:21<22:39,  6.66it/s]"
          ],
          "name": "stderr"
        },
        {
          "output_type": "stream",
          "text": [
            "Fail\n"
          ],
          "name": "stdout"
        },
        {
          "output_type": "stream",
          "text": [
            " 70%|███████   | 21062/30000 [1:01:44<21:20,  6.98it/s]"
          ],
          "name": "stderr"
        },
        {
          "output_type": "stream",
          "text": [
            "Fail\n"
          ],
          "name": "stdout"
        },
        {
          "output_type": "stream",
          "text": [
            " 70%|███████   | 21093/30000 [1:01:49<52:41,  2.82it/s]  "
          ],
          "name": "stderr"
        },
        {
          "output_type": "stream",
          "text": [
            "Fail\n"
          ],
          "name": "stdout"
        },
        {
          "output_type": "stream",
          "text": [
            " 71%|███████   | 21162/30000 [1:02:03<20:57,  7.03it/s]"
          ],
          "name": "stderr"
        },
        {
          "output_type": "stream",
          "text": [
            "Fail\n"
          ],
          "name": "stdout"
        },
        {
          "output_type": "stream",
          "text": [
            " 71%|███████   | 21178/30000 [1:02:06<20:57,  7.01it/s]"
          ],
          "name": "stderr"
        },
        {
          "output_type": "stream",
          "text": [
            "Fail\n"
          ],
          "name": "stdout"
        },
        {
          "output_type": "stream",
          "text": [
            " 72%|███████▏  | 21483/30000 [1:03:11<23:53,  5.94it/s]"
          ],
          "name": "stderr"
        },
        {
          "output_type": "stream",
          "text": [
            "Fail\n",
            "Fail\n"
          ],
          "name": "stdout"
        },
        {
          "output_type": "stream",
          "text": [
            " 72%|███████▏  | 21530/30000 [1:03:19<19:59,  7.06it/s]"
          ],
          "name": "stderr"
        },
        {
          "output_type": "stream",
          "text": [
            "Fail\n"
          ],
          "name": "stdout"
        },
        {
          "output_type": "stream",
          "text": [
            " 72%|███████▏  | 21609/30000 [1:03:38<25:11,  5.55it/s]"
          ],
          "name": "stderr"
        },
        {
          "output_type": "stream",
          "text": [
            "Fail\n"
          ],
          "name": "stdout"
        },
        {
          "output_type": "stream",
          "text": [
            " 73%|███████▎  | 21857/30000 [1:04:33<29:21,  4.62it/s]"
          ],
          "name": "stderr"
        },
        {
          "output_type": "stream",
          "text": [
            "Fail\n"
          ],
          "name": "stdout"
        },
        {
          "output_type": "stream",
          "text": [
            " 73%|███████▎  | 21939/30000 [1:04:53<41:45,  3.22it/s]"
          ],
          "name": "stderr"
        },
        {
          "output_type": "stream",
          "text": [
            "Fail\n"
          ],
          "name": "stdout"
        },
        {
          "output_type": "stream",
          "text": [
            " 73%|███████▎  | 21984/30000 [1:05:04<31:35,  4.23it/s]"
          ],
          "name": "stderr"
        },
        {
          "output_type": "stream",
          "text": [
            "Fail\n"
          ],
          "name": "stdout"
        },
        {
          "output_type": "stream",
          "text": [
            " 74%|███████▍  | 22328/30000 [1:06:18<18:06,  7.06it/s]"
          ],
          "name": "stderr"
        },
        {
          "output_type": "stream",
          "text": [
            "Fail\n"
          ],
          "name": "stdout"
        },
        {
          "output_type": "stream",
          "text": [
            " 75%|███████▍  | 22457/30000 [1:06:47<18:59,  6.62it/s]"
          ],
          "name": "stderr"
        },
        {
          "output_type": "stream",
          "text": [
            "Fail\n"
          ],
          "name": "stdout"
        },
        {
          "output_type": "stream",
          "text": [
            " 76%|███████▌  | 22684/30000 [1:07:37<22:34,  5.40it/s]"
          ],
          "name": "stderr"
        },
        {
          "output_type": "stream",
          "text": [
            "Fail\n"
          ],
          "name": "stdout"
        },
        {
          "output_type": "stream",
          "text": [
            " 76%|███████▌  | 22699/30000 [1:07:41<20:55,  5.82it/s]"
          ],
          "name": "stderr"
        },
        {
          "output_type": "stream",
          "text": [
            "Fail\n"
          ],
          "name": "stdout"
        },
        {
          "output_type": "stream",
          "text": [
            " 77%|███████▋  | 23137/30000 [1:09:10<26:59,  4.24it/s]"
          ],
          "name": "stderr"
        },
        {
          "output_type": "stream",
          "text": [
            "Fail\n"
          ],
          "name": "stdout"
        },
        {
          "output_type": "stream",
          "text": [
            " 79%|███████▉  | 23694/30000 [1:11:04<15:25,  6.81it/s]"
          ],
          "name": "stderr"
        },
        {
          "output_type": "stream",
          "text": [
            "Fail\n"
          ],
          "name": "stdout"
        },
        {
          "output_type": "stream",
          "text": [
            " 80%|███████▉  | 23939/30000 [1:11:55<22:29,  4.49it/s]"
          ],
          "name": "stderr"
        },
        {
          "output_type": "stream",
          "text": [
            "Fail\n"
          ],
          "name": "stdout"
        },
        {
          "output_type": "stream",
          "text": [
            " 80%|████████  | 24114/30000 [1:12:33<13:08,  7.47it/s]"
          ],
          "name": "stderr"
        },
        {
          "output_type": "stream",
          "text": [
            "Fail\n"
          ],
          "name": "stdout"
        },
        {
          "output_type": "stream",
          "text": [
            " 81%|████████  | 24256/30000 [1:13:03<20:36,  4.64it/s]"
          ],
          "name": "stderr"
        },
        {
          "output_type": "stream",
          "text": [
            "Fail\n"
          ],
          "name": "stdout"
        },
        {
          "output_type": "stream",
          "text": [
            " 81%|████████▏ | 24376/30000 [1:13:27<14:49,  6.32it/s]"
          ],
          "name": "stderr"
        },
        {
          "output_type": "stream",
          "text": [
            "Fail\n"
          ],
          "name": "stdout"
        },
        {
          "output_type": "stream",
          "text": [
            " 81%|████████▏ | 24387/30000 [1:13:29<13:01,  7.19it/s]"
          ],
          "name": "stderr"
        },
        {
          "output_type": "stream",
          "text": [
            "Fail\n"
          ],
          "name": "stdout"
        },
        {
          "output_type": "stream",
          "text": [
            " 82%|████████▏ | 24480/30000 [1:13:46<12:34,  7.31it/s]"
          ],
          "name": "stderr"
        },
        {
          "output_type": "stream",
          "text": [
            "Fail\n"
          ],
          "name": "stdout"
        },
        {
          "output_type": "stream",
          "text": [
            " 82%|████████▏ | 24708/30000 [1:14:34<12:57,  6.80it/s]"
          ],
          "name": "stderr"
        },
        {
          "output_type": "stream",
          "text": [
            "Fail\n"
          ],
          "name": "stdout"
        },
        {
          "output_type": "stream",
          "text": [
            " 83%|████████▎ | 24775/30000 [1:14:47<12:00,  7.25it/s]"
          ],
          "name": "stderr"
        },
        {
          "output_type": "stream",
          "text": [
            "Fail\n"
          ],
          "name": "stdout"
        },
        {
          "output_type": "stream",
          "text": [
            " 83%|████████▎ | 24820/30000 [1:14:56<14:08,  6.11it/s]"
          ],
          "name": "stderr"
        },
        {
          "output_type": "stream",
          "text": [
            "Fail\n"
          ],
          "name": "stdout"
        },
        {
          "output_type": "stream",
          "text": [
            " 84%|████████▎ | 25091/30000 [1:15:57<15:16,  5.36it/s]"
          ],
          "name": "stderr"
        },
        {
          "output_type": "stream",
          "text": [
            "Fail\n"
          ],
          "name": "stdout"
        },
        {
          "output_type": "stream",
          "text": [
            " 84%|████████▍ | 25176/30000 [1:16:14<10:30,  7.65it/s]"
          ],
          "name": "stderr"
        },
        {
          "output_type": "stream",
          "text": [
            "Fail\n"
          ],
          "name": "stdout"
        },
        {
          "output_type": "stream",
          "text": [
            " 84%|████████▍ | 25206/30000 [1:16:21<23:47,  3.36it/s]"
          ],
          "name": "stderr"
        },
        {
          "output_type": "stream",
          "text": [
            "Fail\n"
          ],
          "name": "stdout"
        },
        {
          "output_type": "stream",
          "text": [
            " 85%|████████▍ | 25359/30000 [1:16:50<11:13,  6.89it/s]"
          ],
          "name": "stderr"
        },
        {
          "output_type": "stream",
          "text": [
            "Fail\n"
          ],
          "name": "stdout"
        },
        {
          "output_type": "stream",
          "text": [
            " 85%|████████▍ | 25452/30000 [1:17:06<12:16,  6.18it/s]"
          ],
          "name": "stderr"
        },
        {
          "output_type": "stream",
          "text": [
            "Fail\n"
          ],
          "name": "stdout"
        },
        {
          "output_type": "stream",
          "text": [
            " 85%|████████▍ | 25495/30000 [1:17:13<08:46,  8.55it/s]"
          ],
          "name": "stderr"
        },
        {
          "output_type": "stream",
          "text": [
            "Fail\n"
          ],
          "name": "stdout"
        },
        {
          "output_type": "stream",
          "text": [
            " 85%|████████▌ | 25581/30000 [1:17:32<16:39,  4.42it/s]"
          ],
          "name": "stderr"
        },
        {
          "output_type": "stream",
          "text": [
            "Fail\n"
          ],
          "name": "stdout"
        },
        {
          "output_type": "stream",
          "text": [
            " 86%|████████▌ | 25728/30000 [1:18:02<12:55,  5.51it/s]"
          ],
          "name": "stderr"
        },
        {
          "output_type": "stream",
          "text": [
            "Fail\n"
          ],
          "name": "stdout"
        },
        {
          "output_type": "stream",
          "text": [
            " 86%|████████▌ | 25744/30000 [1:18:06<26:57,  2.63it/s]"
          ],
          "name": "stderr"
        },
        {
          "output_type": "stream",
          "text": [
            "Fail\n"
          ],
          "name": "stdout"
        },
        {
          "output_type": "stream",
          "text": [
            " 86%|████████▌ | 25749/30000 [1:18:06<12:17,  5.76it/s]"
          ],
          "name": "stderr"
        },
        {
          "output_type": "stream",
          "text": [
            "Fail\n",
            "Fail\n"
          ],
          "name": "stdout"
        },
        {
          "output_type": "stream",
          "text": [
            " 86%|████████▌ | 25752/30000 [1:18:07<10:06,  7.00it/s]"
          ],
          "name": "stderr"
        },
        {
          "output_type": "stream",
          "text": [
            "Fail\n"
          ],
          "name": "stdout"
        },
        {
          "output_type": "stream",
          "text": [
            " 87%|████████▋ | 25967/30000 [1:18:55<10:20,  6.50it/s]"
          ],
          "name": "stderr"
        },
        {
          "output_type": "stream",
          "text": [
            "Fail\n"
          ],
          "name": "stdout"
        },
        {
          "output_type": "stream",
          "text": [
            " 87%|████████▋ | 26004/30000 [1:19:03<09:14,  7.20it/s]"
          ],
          "name": "stderr"
        },
        {
          "output_type": "stream",
          "text": [
            "Fail\n"
          ],
          "name": "stdout"
        },
        {
          "output_type": "stream",
          "text": [
            " 87%|████████▋ | 26117/30000 [1:19:23<06:39,  9.71it/s]"
          ],
          "name": "stderr"
        },
        {
          "output_type": "stream",
          "text": [
            "Fail\n"
          ],
          "name": "stdout"
        },
        {
          "output_type": "stream",
          "text": [
            " 88%|████████▊ | 26314/30000 [1:20:07<24:07,  2.55it/s]"
          ],
          "name": "stderr"
        },
        {
          "output_type": "stream",
          "text": [
            "Fail\n"
          ],
          "name": "stdout"
        },
        {
          "output_type": "stream",
          "text": [
            " 88%|████████▊ | 26338/30000 [1:20:11<08:46,  6.95it/s]"
          ],
          "name": "stderr"
        },
        {
          "output_type": "stream",
          "text": [
            "Fail\n"
          ],
          "name": "stdout"
        },
        {
          "output_type": "stream",
          "text": [
            " 89%|████████▊ | 26562/30000 [1:20:54<13:36,  4.21it/s]"
          ],
          "name": "stderr"
        },
        {
          "output_type": "stream",
          "text": [
            "Fail\n"
          ],
          "name": "stdout"
        },
        {
          "output_type": "stream",
          "text": [
            " 89%|████████▉ | 26843/30000 [1:21:48<07:41,  6.84it/s]"
          ],
          "name": "stderr"
        },
        {
          "output_type": "stream",
          "text": [
            "Fail\n"
          ],
          "name": "stdout"
        },
        {
          "output_type": "stream",
          "text": [
            " 90%|████████▉ | 26919/30000 [1:22:07<09:25,  5.44it/s]"
          ],
          "name": "stderr"
        },
        {
          "output_type": "stream",
          "text": [
            "Fail\n"
          ],
          "name": "stdout"
        },
        {
          "output_type": "stream",
          "text": [
            " 91%|█████████ | 27286/30000 [1:23:14<06:25,  7.04it/s]"
          ],
          "name": "stderr"
        },
        {
          "output_type": "stream",
          "text": [
            "Fail\n"
          ],
          "name": "stdout"
        },
        {
          "output_type": "stream",
          "text": [
            " 91%|█████████ | 27302/30000 [1:23:17<05:25,  8.29it/s]"
          ],
          "name": "stderr"
        },
        {
          "output_type": "stream",
          "text": [
            "Fail\n"
          ],
          "name": "stdout"
        },
        {
          "output_type": "stream",
          "text": [
            " 91%|█████████ | 27330/30000 [1:23:24<07:51,  5.66it/s]"
          ],
          "name": "stderr"
        },
        {
          "output_type": "stream",
          "text": [
            "Fail\n"
          ],
          "name": "stdout"
        },
        {
          "output_type": "stream",
          "text": [
            " 91%|█████████▏| 27424/30000 [1:23:45<06:29,  6.61it/s]"
          ],
          "name": "stderr"
        },
        {
          "output_type": "stream",
          "text": [
            "Fail\n"
          ],
          "name": "stdout"
        },
        {
          "output_type": "stream",
          "text": [
            " 92%|█████████▏| 27524/30000 [1:24:03<11:00,  3.75it/s]"
          ],
          "name": "stderr"
        },
        {
          "output_type": "stream",
          "text": [
            "Fail\n"
          ],
          "name": "stdout"
        },
        {
          "output_type": "stream",
          "text": [
            " 93%|█████████▎| 27813/30000 [1:25:05<06:21,  5.73it/s]"
          ],
          "name": "stderr"
        },
        {
          "output_type": "stream",
          "text": [
            "Fail\n"
          ],
          "name": "stdout"
        },
        {
          "output_type": "stream",
          "text": [
            " 93%|█████████▎| 27847/30000 [1:25:14<06:58,  5.15it/s]"
          ],
          "name": "stderr"
        },
        {
          "output_type": "stream",
          "text": [
            "Fail\n"
          ],
          "name": "stdout"
        },
        {
          "output_type": "stream",
          "text": [
            " 93%|█████████▎| 27895/30000 [1:25:27<06:34,  5.33it/s]"
          ],
          "name": "stderr"
        },
        {
          "output_type": "stream",
          "text": [
            "Fail\n"
          ],
          "name": "stdout"
        },
        {
          "output_type": "stream",
          "text": [
            " 93%|█████████▎| 27943/30000 [1:25:43<06:33,  5.23it/s]"
          ],
          "name": "stderr"
        },
        {
          "output_type": "stream",
          "text": [
            "Fail\n"
          ],
          "name": "stdout"
        },
        {
          "output_type": "stream",
          "text": [
            " 93%|█████████▎| 28004/30000 [1:25:52<06:20,  5.25it/s]"
          ],
          "name": "stderr"
        },
        {
          "output_type": "stream",
          "text": [
            "Fail\n"
          ],
          "name": "stdout"
        },
        {
          "output_type": "stream",
          "text": [
            " 94%|█████████▍| 28215/30000 [1:26:42<07:26,  4.00it/s]"
          ],
          "name": "stderr"
        },
        {
          "output_type": "stream",
          "text": [
            "Fail\n"
          ],
          "name": "stdout"
        },
        {
          "output_type": "stream",
          "text": [
            " 94%|█████████▍| 28235/30000 [1:26:45<04:11,  7.01it/s]"
          ],
          "name": "stderr"
        },
        {
          "output_type": "stream",
          "text": [
            "Fail\n"
          ],
          "name": "stdout"
        },
        {
          "output_type": "stream",
          "text": [
            " 95%|█████████▍| 28354/30000 [1:27:12<03:33,  7.73it/s]"
          ],
          "name": "stderr"
        },
        {
          "output_type": "stream",
          "text": [
            "Fail\n"
          ],
          "name": "stdout"
        },
        {
          "output_type": "stream",
          "text": [
            " 95%|█████████▍| 28472/30000 [1:27:34<04:19,  5.90it/s]"
          ],
          "name": "stderr"
        },
        {
          "output_type": "stream",
          "text": [
            "Fail\n"
          ],
          "name": "stdout"
        },
        {
          "output_type": "stream",
          "text": [
            " 95%|█████████▌| 28550/30000 [1:27:47<04:57,  4.88it/s]"
          ],
          "name": "stderr"
        },
        {
          "output_type": "stream",
          "text": [
            "Fail\n"
          ],
          "name": "stdout"
        },
        {
          "output_type": "stream",
          "text": [
            " 96%|█████████▌| 28861/30000 [1:28:52<03:19,  5.72it/s]"
          ],
          "name": "stderr"
        },
        {
          "output_type": "stream",
          "text": [
            "Fail\n"
          ],
          "name": "stdout"
        },
        {
          "output_type": "stream",
          "text": [
            " 97%|█████████▋| 28971/30000 [1:29:13<03:51,  4.45it/s]"
          ],
          "name": "stderr"
        },
        {
          "output_type": "stream",
          "text": [
            "Fail\n"
          ],
          "name": "stdout"
        },
        {
          "output_type": "stream",
          "text": [
            " 97%|█████████▋| 29008/30000 [1:29:20<02:26,  6.76it/s]"
          ],
          "name": "stderr"
        },
        {
          "output_type": "stream",
          "text": [
            "Fail\n"
          ],
          "name": "stdout"
        },
        {
          "output_type": "stream",
          "text": [
            " 97%|█████████▋| 29022/30000 [1:29:23<04:27,  3.66it/s]"
          ],
          "name": "stderr"
        },
        {
          "output_type": "stream",
          "text": [
            "Fail\n"
          ],
          "name": "stdout"
        },
        {
          "output_type": "stream",
          "text": [
            " 97%|█████████▋| 29204/30000 [1:30:01<01:33,  8.54it/s]"
          ],
          "name": "stderr"
        },
        {
          "output_type": "stream",
          "text": [
            "Fail\n"
          ],
          "name": "stdout"
        },
        {
          "output_type": "stream",
          "text": [
            " 98%|█████████▊| 29323/30000 [1:30:32<01:34,  7.17it/s]"
          ],
          "name": "stderr"
        },
        {
          "output_type": "stream",
          "text": [
            "Fail\n"
          ],
          "name": "stdout"
        },
        {
          "output_type": "stream",
          "text": [
            " 98%|█████████▊| 29336/30000 [1:30:35<02:38,  4.19it/s]"
          ],
          "name": "stderr"
        },
        {
          "output_type": "stream",
          "text": [
            "Fail\n"
          ],
          "name": "stdout"
        },
        {
          "output_type": "stream",
          "text": [
            " 98%|█████████▊| 29362/30000 [1:30:41<02:10,  4.90it/s]"
          ],
          "name": "stderr"
        },
        {
          "output_type": "stream",
          "text": [
            "Fail\n"
          ],
          "name": "stdout"
        },
        {
          "output_type": "stream",
          "text": [
            "100%|█████████▉| 29880/30000 [1:32:36<00:16,  7.06it/s]"
          ],
          "name": "stderr"
        },
        {
          "output_type": "stream",
          "text": [
            "Fail\n"
          ],
          "name": "stdout"
        },
        {
          "output_type": "stream",
          "text": [
            "100%|██████████| 30000/30000 [1:33:04<00:00,  5.37it/s]\n"
          ],
          "name": "stderr"
        },
        {
          "output_type": "stream",
          "text": [
            "seconds to run: 5584.378185\n"
          ],
          "name": "stdout"
        },
        {
          "output_type": "execute_result",
          "data": {
            "text/plain": [
              "{'cadet_blue': [0.09350040652350662,\n",
              "  0.11724853515625,\n",
              "  2.864679074754902,\n",
              "  0.04533333333333334,\n",
              "  0.008846637613378686,\n",
              "  0.022934751157407406,\n",
              "  0.000627856129845572,\n",
              "  0.13751627604166666,\n",
              "  4.607284111230523,\n",
              "  0.0,\n",
              "  0.0,\n",
              "  0.3578277461114868,\n",
              "  15.203082138605662,\n",
              "  7.543886332463165,\n",
              "  0.0,\n",
              "  0.03371949291401961,\n",
              "  0.001944028609447771,\n",
              "  5.543460735963581,\n",
              "  None,\n",
              "  0.002294981640146879,\n",
              "  0.20917542031711797,\n",
              "  1.4339516562720436,\n",
              "  0.38433627330579434,\n",
              "  0.45766654784908917,\n",
              "  0.0,\n",
              "  0.0,\n",
              "  0.2421724061815178,\n",
              "  1.189588519381001,\n",
              "  0.0,\n",
              "  0.227375,\n",
              "  0.19410300925925925,\n",
              "  1.1922645568847656,\n",
              "  0.0002962730591936144,\n",
              "  0.20794885969015323,\n",
              "  None,\n",
              "  0.0,\n",
              "  0.9067445443944694,\n",
              "  0.0042740613825983315,\n",
              "  1.6078724614695032,\n",
              "  0.039367071472772276,\n",
              "  0.0,\n",
              "  23.120653367496338,\n",
              "  0.46386339012117545,\n",
              "  0.05495469595064268,\n",
              "  1.620224887556222,\n",
              "  0.09798021622494131,\n",
              "  0.0,\n",
              "  0.16506448608640242,\n",
              "  10.508665841975048,\n",
              "  0.6337719298245614,\n",
              "  2.46340625,\n",
              "  0.0,\n",
              "  0.13006495747010907,\n",
              "  0.7740151515151515,\n",
              "  1.8125833589822509,\n",
              "  0.0,\n",
              "  0.03368451015350421,\n",
              "  0.02472263868065967,\n",
              "  4.451315789473684,\n",
              "  0.0,\n",
              "  0.018492879746835444,\n",
              "  None,\n",
              "  1.7151510740165632,\n",
              "  1.28828125,\n",
              "  0.0033203125,\n",
              "  3.3267677885880667,\n",
              "  0.4864155094183968,\n",
              "  0.0,\n",
              "  0.0,\n",
              "  0.5875593932748538,\n",
              "  3.643772551546392,\n",
              "  1.3631008583690987,\n",
              "  0.0,\n",
              "  1.3297466422466422,\n",
              "  0.41120622600901774,\n",
              "  2.52841796875,\n",
              "  0.42088576960309776,\n",
              "  0.007348703170028818,\n",
              "  0.053469655908680296,\n",
              "  2.0195636687444347,\n",
              "  0.010728388457816698,\n",
              "  0.024917423616845583,\n",
              "  0.2704974882727718,\n",
              "  0.1420859760394644,\n",
              "  0.0,\n",
              "  0.0,\n",
              "  0.3493245442708333,\n",
              "  0.0,\n",
              "  0.051915499124343255,\n",
              "  0.004690517796376345,\n",
              "  0.019203703703703702,\n",
              "  0.008095238095238095,\n",
              "  0.00957862890526581,\n",
              "  0.0013230693132664938,\n",
              "  0.1043349906774394,\n",
              "  11.626715443121693,\n",
              "  0.00045625335480407945,\n",
              "  0.0,\n",
              "  3.445254375779469,\n",
              "  0.7744571029329987,\n",
              "  0.0,\n",
              "  0.0021513540875727666,\n",
              "  0.015970772442588727,\n",
              "  0.0,\n",
              "  0.0,\n",
              "  0.9169806684141546,\n",
              "  0.0,\n",
              "  0.0,\n",
              "  0.05749076638965836,\n",
              "  0.0,\n",
              "  3.2696666666666667,\n",
              "  0.0,\n",
              "  0.004110417086439653,\n",
              "  0.2552449567723343,\n",
              "  0.022148475909537856,\n",
              "  0.0,\n",
              "  0.3248510292524377,\n",
              "  1.2992033898305084,\n",
              "  1.419437661905762,\n",
              "  0.02289547124487777,\n",
              "  0.0,\n",
              "  0.050170514165792233,\n",
              "  0.9639,\n",
              "  0.06357224864687551,\n",
              "  1.012390706762933,\n",
              "  1.7119431201709683,\n",
              "  0.0016472868217054263,\n",
              "  0.0,\n",
              "  4.448787540584416,\n",
              "  0.0006097560975609756,\n",
              "  0.20558268229166668,\n",
              "  7.591713857686228e-05,\n",
              "  0.0,\n",
              "  0.04106280193236715,\n",
              "  0.10740386585615737,\n",
              "  0.003831110621441199,\n",
              "  0.002870070232306861,\n",
              "  0.014086057861277076,\n",
              "  0.0017770034843205575,\n",
              "  0.0,\n",
              "  0.0,\n",
              "  0.9043006354640304,\n",
              "  0.0,\n",
              "  0.0,\n",
              "  0.07032033426183844,\n",
              "  0.6404698456540979,\n",
              "  0.13963304563080048,\n",
              "  0.19228753351886355,\n",
              "  0.0,\n",
              "  0.10106355179262047,\n",
              "  0.23609596010523712,\n",
              "  0.014419896063651117,\n",
              "  0.0,\n",
              "  0.12584633500147188,\n",
              "  19.37899537512847,\n",
              "  0.0,\n",
              "  0.006238410012770392,\n",
              "  0.048025,\n",
              "  0.00102,\n",
              "  1.2460291385650635,\n",
              "  0.021092592592592593,\n",
              "  0.0007083333333333334,\n",
              "  0.0,\n",
              "  0.0,\n",
              "  0.014109657947686116,\n",
              "  1.0270833333333333,\n",
              "  0.0,\n",
              "  0.05286286193091891,\n",
              "  0.10241500340510241,\n",
              "  0.08219679457543536,\n",
              "  0.5531279629226121,\n",
              "  0.0,\n",
              "  0.007742963961057446,\n",
              "  0.0050984780662488806,\n",
              "  0.00018430182133564614,\n",
              "  0.002777777777777778,\n",
              "  1.8166729561492891,\n",
              "  0.6440054835493519,\n",
              "  0.0,\n",
              "  0.6615362971299944,\n",
              "  0.5514416775884666,\n",
              "  8.857169117647059,\n",
              "  0.16423775994760112,\n",
              "  0.008677083333333334,\n",
              "  0.3931905864197531,\n",
              "  1.9139985895627645,\n",
              "  1.2284161714532844,\n",
              "  0.0,\n",
              "  0.03398125172318721,\n",
              "  15.35331541218638,\n",
              "  0.0032144091969919615,\n",
              "  0.0010230117465819372,\n",
              "  0.12409873992048696,\n",
              "  0.0,\n",
              "  0.059111743322269636,\n",
              "  0.7520181402687081,\n",
              "  0.0,\n",
              "  1.1547792333818534,\n",
              "  0.12466666666666666,\n",
              "  0.009265988372093024,\n",
              "  0.4288828903654485,\n",
              "  0.7134954657873042,\n",
              "  0.07694218699135917,\n",
              "  0.0004528213433344698,\n",
              "  0.0008858226687231648,\n",
              "  0.0,\n",
              "  2.1385530727607365,\n",
              "  0.0007231170598911071,\n",
              "  0.0007430719468485007,\n",
              "  0.7900414937759336,\n",
              "  0.011789060573682912,\n",
              "  0.5756814393567997,\n",
              "  1.4084782139653196,\n",
              "  0.0,\n",
              "  0.0,\n",
              "  0.08722451790633609,\n",
              "  0.24038817005545288,\n",
              "  2.4168496003602384,\n",
              "  6.153023255813953,\n",
              "  0.11749354225818158,\n",
              "  0.8351817935151269,\n",
              "  0.028945111492281305,\n",
              "  0.5857588232461842,\n",
              "  0.06354931794333683,\n",
              "  0.0933837890625,\n",
              "  0.0,\n",
              "  3.429771144278607,\n",
              "  0.0,\n",
              "  0.0,\n",
              "  0.233587786259542,\n",
              "  1.540414066931367,\n",
              "  0.004856203635340857,\n",
              "  0.08200320512820512,\n",
              "  0.010932475884244373,\n",
              "  0.1672274979355904,\n",
              "  None,\n",
              "  0.020198567708333334,\n",
              "  0.0010071090047393365,\n",
              "  0.001267962806424345,\n",
              "  0.0,\n",
              "  0.14384615384615385,\n",
              "  0.16756679389312978,\n",
              "  0.019029233314947602,\n",
              "  1.79928,\n",
              "  0.8313236267372601,\n",
              "  0.07194010416666667,\n",
              "  0.021165338645418325,\n",
              "  2.194205794205794,\n",
              "  0.0,\n",
              "  0.00046959466614121173,\n",
              "  0.0004918981481481481,\n",
              "  0.46884694611967337,\n",
              "  0.3267824649810791,\n",
              "  2.109352260447439,\n",
              "  0.0,\n",
              "  0.013983320354794148,\n",
              "  0.06612466444090181,\n",
              "  0.003048107690610173,\n",
              "  0.06544834307992203,\n",
              "  0.32024971859082163,\n",
              "  None,\n",
              "  0.3579395914274972,\n",
              "  0.01825013419216318,\n",
              "  0.048353293413173654,\n",
              "  0.0,\n",
              "  0.004429390307451798,\n",
              "  0.053576382182570055,\n",
              "  0.16302734375,\n",
              "  3.1311033878794223,\n",
              "  0.09816704459561602,\n",
              "  0.0023198669856285214,\n",
              "  0.0,\n",
              "  0.41528571428571426,\n",
              "  0.012812690665039659,\n",
              "  0.0,\n",
              "  0.0,\n",
              "  0.0,\n",
              "  0.004227773988176444,\n",
              "  0.5256567515077175,\n",
              "  0.12411076025018242,\n",
              "  0.0378551912568306,\n",
              "  0.06475435323383084,\n",
              "  0.0,\n",
              "  4.1049957275390625,\n",
              "  0.0932822394933794,\n",
              "  0.21619152046783627,\n",
              "  0.04041284494542285,\n",
              "  1.6385562489458594,\n",
              "  0.0,\n",
              "  0.2608199492814877,\n",
              "  0.04336032388663968,\n",
              "  0.018449346955678386,\n",
              "  0.0,\n",
              "  0.017383276886262337,\n",
              "  0.01224,\n",
              "  0.001640926640926641,\n",
              "  0.43371584410689795,\n",
              "  6.019257042253521,\n",
              "  0.22314655225258506,\n",
              "  0.0038918613588050373,\n",
              "  0.4955846207865168,\n",
              "  0.01590987868284229,\n",
              "  0.8732876712328768,\n",
              "  0.0,\n",
              "  0.0,\n",
              "  0.9578490802675586,\n",
              "  0.985192654416721,\n",
              "  0.7542589703588144,\n",
              "  2.074148177496038,\n",
              "  0.085,\n",
              "  0.09577116688171261,\n",
              "  0.6701520912547528,\n",
              "  0.020644430051813472,\n",
              "  0.001960327079932657,\n",
              "  0.9147937131630648,\n",
              "  0.006858095690605754,\n",
              "  0.10389307897071873,\n",
              "  0.0510912343470483,\n",
              "  0.00196078431372549,\n",
              "  0.0,\n",
              "  0.0029653116678230737,\n",
              "  2.4938859714928734,\n",
              "  0.0,\n",
              "  0.10352052005012531,\n",
              "  0.008001111639040047,\n",
              "  0.06314678205562652,\n",
              "  3.1752789699570814,\n",
              "  0.4689846053655095,\n",
              "  0.17878031223286994,\n",
              "  0.0,\n",
              "  0.006884139482564679,\n",
              "  0.5593334397196219,\n",
              "  0.5155296444791371,\n",
              "  0.5257262522219787,\n",
              "  0.0,\n",
              "  0.0,\n",
              "  0.015135327635327635,\n",
              "  0.22014578163771711,\n",
              "  0.06708421360243651,\n",
              "  72.53830552359034,\n",
              "  0.005118492618492619,\n",
              "  0.14101871101871102,\n",
              "  None,\n",
              "  0.04834375,\n",
              "  0.6306920446364291,\n",
              "  0.09785935394472553,\n",
              "  0.022609857306678333,\n",
              "  0.05805914788627445,\n",
              "  0.2613908406158158,\n",
              "  1.3630909090909091,\n",
              "  1.2493054012002667,\n",
              "  0.10513493253373313,\n",
              "  0.03327552754932093,\n",
              "  5.1420478723404255,\n",
              "  0.637925,\n",
              "  0.039380450581395346,\n",
              "  0.18303915733351217,\n",
              "  0.202439376443418,\n",
              "  0.152575,\n",
              "  0.5546032524380604,\n",
              "  0.0005272952853598015,\n",
              "  None,\n",
              "  0.0,\n",
              "  0.6607204395040878,\n",
              "  0.061149722536501264,\n",
              "  0.1982936956780569,\n",
              "  1.4657330597256724,\n",
              "  0.15693143100511073,\n",
              "  0.10615965136054421,\n",
              "  0.02023038842345773,\n",
              "  0.0,\n",
              "  0.000753661910222611,\n",
              "  0.06968468468468468,\n",
              "  10.440047852225838,\n",
              "  0.03705357142857143,\n",
              "  0.022611326531156495,\n",
              "  0.0308125,\n",
              "  0.14776714513556619,\n",
              "  0.003320889043236673,\n",
              "  0.0,\n",
              "  0.012808219178082192,\n",
              "  0.05707581227436823,\n",
              "  0.08621162280701754,\n",
              "  0.09180989950220719,\n",
              "  0.1333590534979424,\n",
              "  0.030315896739130436,\n",
              "  0.0009593679458239278,\n",
              "  0.012426900584795321,\n",
              "  0.0651491769547325,\n",
              "  0.5672094508301405,\n",
              "  0.07527743557013443,\n",
              "  0.0,\n",
              "  2.1297951306413303,\n",
              "  0.0,\n",
              "  0.012253944989397934,\n",
              "  0.9962301975431078,\n",
              "  0.0,\n",
              "  0.05901227678571429,\n",
              "  0.0,\n",
              "  0.0029031656328244253,\n",
              "  0.6140182648401826,\n",
              "  0.03976422155688623,\n",
              "  1.2233636553743203,\n",
              "  0.0,\n",
              "  0.0021553711387736285,\n",
              "  0.00021862139917695473,\n",
              "  0.7468343343343343,\n",
              "  0.018145576131687245,\n",
              "  0.22612179487179487,\n",
              "  2.4382661290322583,\n",
              "  0.03914609678988327,\n",
              "  0.0,\n",
              "  0.003927529182879377,\n",
              "  0.004583140074211503,\n",
              "  0.0,\n",
              "  0.7023128473357306,\n",
              "  0.0,\n",
              "  0.0,\n",
              "  0.0,\n",
              "  0.06718314973974095,\n",
              "  0.0,\n",
              "  0.04131389150203826,\n",
              "  0.04105842071059294,\n",
              "  0.20163316582914573,\n",
              "  0.09408396946564886,\n",
              "  0.03944512028860876,\n",
              "  3.7212253123740426,\n",
              "  34.6780174365942,\n",
              "  0.14026402640264027,\n",
              "  0.7159423828125,\n",
              "  None,\n",
              "  1.7212574905845903,\n",
              "  0.7187721946022727,\n",
              "  0.03751521915584415,\n",
              "  0.002137468566638726,\n",
              "  0.0,\n",
              "  2.313754755013239,\n",
              "  0.5951212553495007,\n",
              "  0.0,\n",
              "  0.8621926229508197,\n",
              "  0.0,\n",
              "  0.5080226532075585,\n",
              "  0.0017522280782524444,\n",
              "  0.001192346537986758,\n",
              "  0.4560085836909871,\n",
              "  0.0102,\n",
              "  0.0015728604471858135,\n",
              "  0.06075261544011544,\n",
              "  1.7842842842842843,\n",
              "  6.939884406182151,\n",
              "  0.0,\n",
              "  0.1491514718804921,\n",
              "  1.445858585858586,\n",
              "  0.11120373124084919,\n",
              "  0.01052400351465772,\n",
              "  0.0,\n",
              "  0.0017,\n",
              "  0.17754329004329003,\n",
              "  0.019006708249970576,\n",
              "  0.20049557597413648,\n",
              "  0.0,\n",
              "  0.010551266743116555,\n",
              "  0.7545289855072463,\n",
              "  0.004807377049180328,\n",
              "  0.3855944854400049,\n",
              "  0.0,\n",
              "  0.23525363167760074,\n",
              "  0.0,\n",
              "  0.0,\n",
              "  0.69275,\n",
              "  0.18626794258373205,\n",
              "  0.5420977089313763,\n",
              "  0.10884850543478261,\n",
              "  0.06430224279102884,\n",
              "  0.0,\n",
              "  5.949239095052083,\n",
              "  0.03243948367065318,\n",
              "  0.0,\n",
              "  0.1455930729383295,\n",
              "  0.574505928853755,\n",
              "  0.6166101694915255,\n",
              "  1.8183717942754087,\n",
              "  0.008389914639262143,\n",
              "  0.0,\n",
              "  0.15018983644859812,\n",
              "  0.13703835227272726,\n",
              "  0.12309586411251618,\n",
              "  1.0058547212199604,\n",
              "  0.0635528564453125,\n",
              "  0.0,\n",
              "  0.2281363088057901,\n",
              "  3.1137240356083087,\n",
              "  0.047030482562544156,\n",
              "  0.001293103448275862,\n",
              "  0.00196078431372549,\n",
              "  0.0,\n",
              "  0.37055974165769645,\n",
              "  2.821950629235237,\n",
              "  0.00204,\n",
              "  None,\n",
              "  0.08494343935039636,\n",
              "  0.49642310268925255,\n",
              "  1.3934017595307917,\n",
              "  0.0,\n",
              "  2.483057777777778,\n",
              "  0.0,\n",
              "  0.1650840743987976,\n",
              "  0.1379272409738791,\n",
              "  0.01857199855603899,\n",
              "  0.0,\n",
              "  0.3726143959699034,\n",
              "  1.6814575463826817,\n",
              "  0.038564814814814816,\n",
              "  0.013184488836662749,\n",
              "  0.0036991801437556153,\n",
              "  0.04801829268292683,\n",
              "  None,\n",
              "  3.3524660457509823,\n",
              "  0.0,\n",
              "  5.8009511993382965,\n",
              "  0.07114001466865404,\n",
              "  0.4147153024911032,\n",
              "  0.26005015432098766,\n",
              "  None,\n",
              "  1.5354195344435146,\n",
              "  6.40239630044843,\n",
              "  0.006375,\n",
              "  0.003668600234790415,\n",
              "  0.1888365650969529,\n",
              "  0.06414351851851852,\n",
              "  0.0,\n",
              "  3.199437349147232,\n",
              "  0.0,\n",
              "  0.26277946174840516,\n",
              "  0.0003541666666666667,\n",
              "  0.023105705270339418,\n",
              "  0.005488547758284601,\n",
              "  0.673379891516965,\n",
              "  0.042967022236008436,\n",
              "  0.011316568047337277,\n",
              "  0.0,\n",
              "  0.004124989889730662,\n",
              "  0.017062717013888888,\n",
              "  0.467296827466319,\n",
              "  2.0207175925925926,\n",
              "  0.9564850663716814,\n",
              "  0.003935185185185185,\n",
              "  0.07524976060142638,\n",
              "  7.231236675753322,\n",
              "  0.0949827868389864,\n",
              "  0.020888350938967137,\n",
              "  5.7713851351351355,\n",
              "  0.026156567758815485,\n",
              "  2.0469045606408245,\n",
              "  0.017415149006622516,\n",
              "  0.0,\n",
              "  0.0,\n",
              "  0.004846756949394155,\n",
              "  0.13168568549314444,\n",
              "  2.9847907670743563,\n",
              "  0.06982828739267961,\n",
              "  None,\n",
              "  1.3047729235582641,\n",
              "  4.6996376811594205,\n",
              "  0.003271840784671533,\n",
              "  0.003260702777351542,\n",
              "  0.09677300028496898,\n",
              "  5.3154674556213015,\n",
              "  0.059454345703125,\n",
              "  0.31301281011837195,\n",
              "  0.0009783513054001703,\n",
              "  0.0,\n",
              "  0.2867253521126761,\n",
              "  1.229904933896688,\n",
              "  0.0,\n",
              "  0.02270364481409002,\n",
              "  0.012435421518673082,\n",
              "  0.03118532455315146,\n",
              "  0.01888888888888889,\n",
              "  0.008608217592592593,\n",
              "  20.069603405595203,\n",
              "  0.12635215541912184,\n",
              "  0.0,\n",
              "  0.0,\n",
              "  0.4569576569055456,\n",
              "  0.0,\n",
              "  0.043289482770526896,\n",
              "  0.0,\n",
              "  0.11282317636195753,\n",
              "  None,\n",
              "  0.0040597707423580785,\n",
              "  0.022863924050632912,\n",
              "  0.024982078853046596,\n",
              "  0.05295352823239468,\n",
              "  0.05513359697026761,\n",
              "  2.0576858520507812,\n",
              "  0.0,\n",
              "  0.5341769972451791,\n",
              "  0.00883352880918093,\n",
              "  0.06200052774427021,\n",
              "  0.0,\n",
              "  0.0,\n",
              "  0.9483826130907252,\n",
              "  0.27615470852017937,\n",
              "  0.016668081494057727,\n",
              "  0.46265784619750283,\n",
              "  0.052697391925687745,\n",
              "  0.002859385512446737,\n",
              "  0.0002546821566684777,\n",
              "  0.006689401888772298,\n",
              "  8.584317653769634,\n",
              "  0.11646685851433485,\n",
              "  0.628231859883236,\n",
              "  8.226992753623188,\n",
              "  0.425575101488498,\n",
              "  0.0,\n",
              "  9.70424316921957,\n",
              "  0.007913450057337417,\n",
              "  0.3732365574841111,\n",
              "  4.896922011084719,\n",
              "  0.14347336834208552,\n",
              "  0.0033464566929133858,\n",
              "  0.07473127701834327,\n",
              "  0.026113671274961597,\n",
              "  0.0,\n",
              "  0.3455686569213867,\n",
              "  0.07055750748903468,\n",
              "  0.09345774164713318,\n",
              "  0.01864035087719298,\n",
              "  0.0,\n",
              "  3.1284722222222223,\n",
              "  0.19343667546174143,\n",
              "  None,\n",
              "  1.8277288372410032,\n",
              "  0.0,\n",
              "  0.04954671547459033,\n",
              "  1.780500637755102,\n",
              "  2.5175719655331883,\n",
              "  0.676195987654321,\n",
              "  0.0,\n",
              "  0.0018361523672618943,\n",
              "  0.010625,\n",
              "  0.1702284946236559,\n",
              "  0.3744551681195517,\n",
              "  0.21792266778222674,\n",
              "  3.469577080491132,\n",
              "  2.1584065490001825,\n",
              "  0.04274455841881411,\n",
              "  0.00188608769937981,\n",
              "  0.0,\n",
              "  0.382219236367708,\n",
              "  0.0,\n",
              "  0.010456630525437865,\n",
              "  6.273557248384118,\n",
              "  1.4931666666666668,\n",
              "  0.0,\n",
              "  0.110925,\n",
              "  0.3319279574293901,\n",
              "  0.002446043165467626,\n",
              "  0.4502307530941892,\n",
              "  0.28811458333333334,\n",
              "  0.38745990624228965,\n",
              "  0.0,\n",
              "  0.11142936671126236,\n",
              "  0.0008326231547601555,\n",
              "  0.19258870080614707,\n",
              "  0.044452887537993924,\n",
              "  0.1919858454798214,\n",
              "  0.3800532193791946,\n",
              "  0.07888,\n",
              "  1.2465481100276152,\n",
              "  1.551089015151515,\n",
              "  0.3463420542635659,\n",
              "  0.0036444591029023746,\n",
              "  0.3879760041731873,\n",
              "  0.12566172695242647,\n",
              "  0.0,\n",
              "  0.05573279574101621,\n",
              "  0.33055555555555555,\n",
              "  0.051227262765724306,\n",
              "  0.0014818688981868898,\n",
              "  0.06067048698956524,\n",
              "  1.2787561374795418,\n",
              "  0.7549306755446922,\n",
              "  0.0,\n",
              "  0.009290697674418605,\n",
              "  1.1893333333333334,\n",
              "  0.40203232626338403,\n",
              "  0.43018853345696184,\n",
              "  0.0,\n",
              "  0.0,\n",
              "  1.0927792409508374,\n",
              "  0.4017409783951402,\n",
              "  1.2533282922944502,\n",
              "  0.0,\n",
              "  0.004879362724318214,\n",
              "  0.1501172844557183,\n",
              "  0.018781565656565656,\n",
              "  0.521092937050766,\n",
              "  0.0446078431372549,\n",
              "  0.211246473454732,\n",
              "  0.16003086419753088,\n",
              "  0.0524675493240687,\n",
              "  0.3530535714285714,\n",
              "  0.02585760517799353,\n",
              "  0.12729119425547997,\n",
              "  2.249938499384994,\n",
              "  0.000696893948227612,\n",
              "  0.15609015609015608,\n",
              "  0.0,\n",
              "  0.3230326295585413,\n",
              "  0.28019762845849805,\n",
              "  1.741726118422747,\n",
              "  None,\n",
              "  0.4672270869819031,\n",
              "  0.37267575928009,\n",
              "  1.2945488061797752,\n",
              "  8.75636645962733,\n",
              "  55.51663479254612,\n",
              "  0.0,\n",
              "  0.7043038896601953,\n",
              "  0.5269396551724138,\n",
              "  0.13242888402625821,\n",
              "  None,\n",
              "  0.17372509960159363,\n",
              "  0.0,\n",
              "  0.2568660394265233,\n",
              "  0.5814115646258503,\n",
              "  0.0,\n",
              "  0.4437725360576923,\n",
              "  0.7619247080999005,\n",
              "  0.00019213381555153707,\n",
              "  0.14868057300829354,\n",
              "  0.01501363002097983,\n",
              "  0.1887893249580067,\n",
              "  0.16003086419753088,\n",
              "  0.42719298245614035,\n",
              "  0.14660991218236175,\n",
              "  0.09326388888888888,\n",
              "  0.4344147915576487,\n",
              "  0.0,\n",
              "  0.0,\n",
              "  0.0064479015873216555,\n",
              "  1.903560830860534,\n",
              "  0.06325155254934536,\n",
              "  0.07588566827697263,\n",
              "  0.0,\n",
              "  0.008814814814814815,\n",
              "  0.48054363019169327,\n",
              "  0.02170212765957447,\n",
              "  0.0,\n",
              "  1.2690047021943573,\n",
              "  0.04405442389938514,\n",
              "  0.050061451093405665,\n",
              "  0.0,\n",
              "  0.005365623619140981,\n",
              "  0.0,\n",
              "  0.004424332091470897,\n",
              "  0.00786877032992565,\n",
              "  0.017741935483870968,\n",
              "  0.2593201975070107,\n",
              "  0.12469437652811736,\n",
              "  0.11274458874458874,\n",
              "  0.6074985354422964,\n",
              "  0.83572265625,\n",
              "  0.045441527446300714,\n",
              "  1.5973970251716247,\n",
              "  0.04977477477477477,\n",
              "  0.3899421241268332,\n",
              "  0.012727272727272728,\n",
              "  0.0,\n",
              "  0.030372186644369654,\n",
              "  0.0,\n",
              "  3.8524916768074036,\n",
              "  5.6089920948616605,\n",
              "  37.653397817460316,\n",
              "  0.001955951461722158,\n",
              "  6.4036875,\n",
              "  0.046842521559776605,\n",
              "  0.001946943195069132,\n",
              "  0.10877482096354167,\n",
              "  0.10837925851703407,\n",
              "  0.037379850480598074,\n",
              "  0.008032628522056353,\n",
              "  3.9305397351374363,\n",
              "  0.14255208333333333,\n",
              "  1.0550625,\n",
              "  0.592365409175754,\n",
              "  0.0004846066134549601,\n",
              "  0.0,\n",
              "  0.2814965187623001,\n",
              "  0.7115205585725368,\n",
              "  0.2553013392857143,\n",
              "  0.0,\n",
              "  0.7536212446351931,\n",
              "  0.015080645161290323,\n",
              "  0.8757395654044751,\n",
              "  1.7506506849315069,\n",
              "  0.00021902700474129045,\n",
              "  0.0,\n",
              "  0.17542553191489363,\n",
              "  0.10592152199762188,\n",
              "  0.015306903413439462,\n",
              "  0.47682568221216914,\n",
              "  0.0026673640167364015,\n",
              "  2.2794661190965093,\n",
              "  1.0227354601128769,\n",
              "  0.007913793103448277,\n",
              "  3.0895638526568456,\n",
              "  0.5306483086118199,\n",
              "  0.0,\n",
              "  0.0,\n",
              "  0.8605117270788912,\n",
              "  0.7410036925142666,\n",
              "  None,\n",
              "  4.542892918154993,\n",
              "  0.0029901500938086306,\n",
              "  0.0,\n",
              "  1.57156727765905,\n",
              "  0.0031026820240120756,\n",
              "  0.08103100381889071,\n",
              "  0.0,\n",
              "  0.6307835820895522,\n",
              "  2.304893111638955,\n",
              "  0.2506892067620286,\n",
              "  0.0,\n",
              "  0.0033939895530460604,\n",
              "  0.0012773407268820113,\n",
              "  0.7831877301923384,\n",
              "  3.17475,\n",
              "  2.4801548396636406,\n",
              "  0.05696944131983502,\n",
              "  0.0012097922003985197,\n",
              "  3.015741887058425,\n",
              "  0.30216763005780345,\n",
              "  1.3578598024931197,\n",
              "  0.7175184337655733,\n",
              "  0.6110599078341014,\n",
              "  0.0,\n",
              "  30.931232693829113,\n",
              "  0.0,\n",
              "  0.0,\n",
              "  0.8679310107881536,\n",
              "  0.04971305333187118,\n",
              "  0.3296847198895854,\n",
              "  0.0,\n",
              "  0.0,\n",
              "  6.977836879432624,\n",
              "  0.021202955941504786,\n",
              "  0.15182993445010926,\n",
              "  1.907454890788224,\n",
              "  0.03462406753042795,\n",
              "  0.003919940970300683,\n",
              "  1.069067651098901,\n",
              "  2.736949788213021,\n",
              "  6.977469295969556,\n",
              "  0.0,\n",
              "  0.5366141717684489,\n",
              "  0.038359670928030304,\n",
              "  0.04038516359950588,\n",
              "  0.08432836697075365,\n",
              "  0.06532154450230347,\n",
              "  0.0014166666666666668,\n",
              "  0.8179758402184423,\n",
              "  None,\n",
              "  1.2937229954187204,\n",
              "  5.779156327543424,\n",
              "  0.00035798517520215634,\n",
              "  0.04998,\n",
              "  0.2557382133995037,\n",
              "  0.44871485061511424,\n",
              "  0.43636363636363634,\n",
              "  3.748301734139342,\n",
              "  1.1321649484536083,\n",
              "  0.0,\n",
              "  0.003970404140430859,\n",
              "  0.0,\n",
              "  0.013044812768569674,\n",
              "  0.5945755476804123,\n",
              "  0.41256549464534736,\n",
              "  4.468379446640316,\n",
              "  0.0037650602409638554,\n",
              "  0.0,\n",
              "  0.48715625,\n",
              "  0.05246014057946168,\n",
              "  0.0010090218423551758,\n",
              "  3.196574145962733,\n",
              "  0.0,\n",
              "  0.03518031314168378,\n",
              "  2.0950858369098713,\n",
              "  0.0016443620949817938,\n",
              "  0.0035416666666666665,\n",
              "  0.5190009715025907,\n",
              "  0.09593622167149383,\n",
              "  0.0,\n",
              "  0.1400680368365819,\n",
              "  0.8870397439949431,\n",
              "  0.05217326786099719,\n",
              "  0.0019976498237367804,\n",
              "  0.0013280143321389884,\n",
              "  0.006542575264714938,\n",
              "  2.8661635110374313,\n",
              "  4.549127252252252,\n",
              "  0.0,\n",
              "  0.4632950530035336,\n",
              "  0.0,\n",
              "  4.190442584937998,\n",
              "  0.29506646216768917,\n",
              "  0.0,\n",
              "  0.0518405111568696,\n",
              "  0.0019081589384151057,\n",
              "  0.14344703770197487,\n",
              "  0.003911042944785276,\n",
              "  0.04782066052227343,\n",
              "  15.494945652173913,\n",
              "  0.012481400266269873,\n",
              "  0.0,\n",
              "  0.0,\n",
              "  0.03010625737898465,\n",
              "  0.0,\n",
              "  0.7474804941482445,\n",
              "  0.0016288147622427252,\n",
              "  1.3446276595744682,\n",
              "  0.6544748520710059,\n",
              "  0.0,\n",
              "  0.1971890251836103,\n",
              "  0.34093406593406594,\n",
              "  0.003621301775147929,\n",
              "  1.013104370060437,\n",
              "  0.1630580357142857,\n",
              "  0.0,\n",
              "  0.007463385508739478,\n",
              "  7.416675,\n",
              "  0.2598719832920792,\n",
              "  None,\n",
              "  0.0,\n",
              "  2.101978332548281,\n",
              "  0.052708149490805885,\n",
              "  0.03306400576117319,\n",
              "  0.10424774824863783,\n",
              "  0.5919642857142857,\n",
              "  0.0,\n",
              "  0.0,\n",
              "  0.8969369578686494,\n",
              "  0.002390625,\n",
              "  0.48020462633451955,\n",
              "  0.6947597287735849,\n",
              "  0.9028813073394495,\n",
              "  0.011712793126044965,\n",
              "  0.007390019127108329,\n",
              "  0.0034274193548387098,\n",
              "  0.0,\n",
              "  0.6278666666666667,\n",
              "  1.50576171875,\n",
              "  0.1884384868209061,\n",
              "  0.0,\n",
              "  0.18403271692745377,\n",
              "  0.08082340621974013,\n",
              "  0.048560996563573884,\n",
              "  0.0,\n",
              "  1.9803698650901924,\n",
              "  0.8812276992202986,\n",
              "  0.3284334906601077,\n",
              "  0.032837026982006086,\n",
              "  0.07200665607745253,\n",
              "  0.0008030990173847317,\n",
              "  0.15609015609015608,\n",
              "  0.7590822784810126,\n",
              "  0.0032952286282306163,\n",
              "  0.08551587301587302,\n",
              "  0.03771219135802469,\n",
              "  0.003523316062176166,\n",
              "  0.22512993070362472,\n",
              "  0.9973306139587895,\n",
              "  4.071481208548268,\n",
              "  14.006489394563427,\n",
              "  0.04677850663357267,\n",
              "  3.505703304196888,\n",
              "  0.44355852766346593,\n",
              "  0.0,\n",
              "  0.0,\n",
              "  18.753062785481855,\n",
              "  0.06867986125280555,\n",
              "  0.004064207650273224,\n",
              "  0.0,\n",
              "  0.018012290739563466,\n",
              "  0.045078918790259,\n",
              "  3.2209173387096772,\n",
              "  2.263924995185827,\n",
              "  0.004953379953379953,\n",
              "  0.0,\n",
              "  0.017624676684978944,\n",
              "  0.004494723222767574,\n",
              "  1.033321853636578,\n",
              "  5.090201175406872,\n",
              "  0.06792884575581262,\n",
              "  0.03418230563002681,\n",
              "  0.048650019319938176,\n",
              "  0.019224050749287486,\n",
              "  0.0,\n",
              "  ...],\n",
              " 'dark_slate_blue': [0.0,\n",
              "  0.0,\n",
              "  0.0,\n",
              "  0.0,\n",
              "  0.0,\n",
              "  0.0,\n",
              "  0.0,\n",
              "  0.0,\n",
              "  0.0,\n",
              "  0.0,\n",
              "  0.0,\n",
              "  0.0,\n",
              "  0.0,\n",
              "  0.0,\n",
              "  0.0,\n",
              "  0.0,\n",
              "  0.0,\n",
              "  0.0,\n",
              "  None,\n",
              "  0.0,\n",
              "  0.0,\n",
              "  0.0,\n",
              "  0.0,\n",
              "  0.0,\n",
              "  0.0,\n",
              "  0.0,\n",
              "  0.0,\n",
              "  0.0,\n",
              "  0.0,\n",
              "  0.0,\n",
              "  0.0,\n",
              "  0.0,\n",
              "  0.0,\n",
              "  0.0,\n",
              "  None,\n",
              "  0.0,\n",
              "  0.0,\n",
              "  0.0,\n",
              "  0.0,\n",
              "  0.0,\n",
              "  0.0,\n",
              "  0.0,\n",
              "  0.0,\n",
              "  0.0,\n",
              "  0.0,\n",
              "  0.0,\n",
              "  0.0,\n",
              "  0.0,\n",
              "  0.0,\n",
              "  0.0,\n",
              "  0.0,\n",
              "  0.0,\n",
              "  0.0,\n",
              "  0.0,\n",
              "  0.0,\n",
              "  0.0,\n",
              "  0.0,\n",
              "  0.0,\n",
              "  0.0,\n",
              "  0.0,\n",
              "  0.0,\n",
              "  None,\n",
              "  0.0,\n",
              "  0.0,\n",
              "  0.0,\n",
              "  0.0,\n",
              "  0.0,\n",
              "  0.0,\n",
              "  0.0,\n",
              "  0.0,\n",
              "  0.0,\n",
              "  0.0,\n",
              "  0.0,\n",
              "  0.0,\n",
              "  0.0,\n",
              "  0.0,\n",
              "  0.0,\n",
              "  0.0,\n",
              "  0.0,\n",
              "  0.0,\n",
              "  0.0,\n",
              "  0.0,\n",
              "  0.0,\n",
              "  0.0,\n",
              "  0.0,\n",
              "  0.0,\n",
              "  0.0,\n",
              "  0.0,\n",
              "  0.0,\n",
              "  0.0,\n",
              "  0.0,\n",
              "  0.0,\n",
              "  0.0,\n",
              "  0.0,\n",
              "  0.0,\n",
              "  0.0,\n",
              "  0.0,\n",
              "  0.0,\n",
              "  0.0,\n",
              "  0.0,\n",
              "  0.0,\n",
              "  0.0,\n",
              "  0.0,\n",
              "  0.0,\n",
              "  0.0,\n",
              "  0.0,\n",
              "  0.0,\n",
              "  0.0,\n",
              "  0.0,\n",
              "  0.0,\n",
              "  0.0,\n",
              "  0.0,\n",
              "  0.0,\n",
              "  0.0,\n",
              "  0.0,\n",
              "  0.0,\n",
              "  0.0,\n",
              "  0.0,\n",
              "  0.0,\n",
              "  0.0,\n",
              "  0.0,\n",
              "  0.0,\n",
              "  0.0,\n",
              "  0.0,\n",
              "  0.0,\n",
              "  0.0,\n",
              "  0.0,\n",
              "  0.0,\n",
              "  0.0,\n",
              "  0.0,\n",
              "  0.0,\n",
              "  0.0,\n",
              "  0.0,\n",
              "  0.0,\n",
              "  0.0,\n",
              "  0.0,\n",
              "  0.0,\n",
              "  0.0,\n",
              "  0.0,\n",
              "  0.0,\n",
              "  0.0,\n",
              "  0.0,\n",
              "  0.0,\n",
              "  0.0,\n",
              "  0.0,\n",
              "  0.0,\n",
              "  0.0,\n",
              "  0.0,\n",
              "  0.0,\n",
              "  0.0,\n",
              "  0.0,\n",
              "  0.0,\n",
              "  0.0,\n",
              "  0.0,\n",
              "  0.0,\n",
              "  0.0,\n",
              "  0.0,\n",
              "  0.0,\n",
              "  0.0,\n",
              "  0.0,\n",
              "  0.0,\n",
              "  0.0,\n",
              "  0.0,\n",
              "  0.0,\n",
              "  0.0,\n",
              "  0.0,\n",
              "  0.0,\n",
              "  0.0,\n",
              "  0.0,\n",
              "  0.0,\n",
              "  0.0,\n",
              "  0.0,\n",
              "  0.0,\n",
              "  0.0,\n",
              "  0.0,\n",
              "  0.0,\n",
              "  0.0,\n",
              "  0.0,\n",
              "  0.0,\n",
              "  0.0,\n",
              "  0.0,\n",
              "  0.0,\n",
              "  0.0,\n",
              "  0.0,\n",
              "  0.0,\n",
              "  0.0,\n",
              "  0.0,\n",
              "  0.0,\n",
              "  0.0,\n",
              "  0.0,\n",
              "  0.0,\n",
              "  0.0,\n",
              "  0.0,\n",
              "  0.0,\n",
              "  0.0,\n",
              "  0.0,\n",
              "  0.0,\n",
              "  0.0,\n",
              "  0.0,\n",
              "  0.0,\n",
              "  0.0,\n",
              "  0.0,\n",
              "  0.0,\n",
              "  0.0,\n",
              "  0.0,\n",
              "  0.0,\n",
              "  0.0,\n",
              "  0.0,\n",
              "  0.0,\n",
              "  0.0,\n",
              "  0.0,\n",
              "  0.0,\n",
              "  0.0,\n",
              "  0.0,\n",
              "  0.0,\n",
              "  0.0,\n",
              "  0.0,\n",
              "  0.0,\n",
              "  0.0,\n",
              "  0.0,\n",
              "  0.0,\n",
              "  0.0,\n",
              "  0.0,\n",
              "  0.0,\n",
              "  0.0,\n",
              "  0.0,\n",
              "  0.0,\n",
              "  0.0,\n",
              "  0.0,\n",
              "  0.0,\n",
              "  0.0,\n",
              "  0.0,\n",
              "  0.0,\n",
              "  0.0,\n",
              "  0.0,\n",
              "  None,\n",
              "  0.0,\n",
              "  0.0,\n",
              "  0.0,\n",
              "  0.0,\n",
              "  0.0,\n",
              "  0.0,\n",
              "  0.0,\n",
              "  0.0,\n",
              "  0.0,\n",
              "  0.0,\n",
              "  0.0,\n",
              "  0.0,\n",
              "  0.0,\n",
              "  0.0,\n",
              "  0.0,\n",
              "  0.0,\n",
              "  0.0,\n",
              "  0.0,\n",
              "  0.0,\n",
              "  0.0,\n",
              "  0.0,\n",
              "  0.0,\n",
              "  0.0,\n",
              "  0.0,\n",
              "  None,\n",
              "  0.0,\n",
              "  0.0,\n",
              "  0.0,\n",
              "  0.0,\n",
              "  0.0,\n",
              "  0.0,\n",
              "  0.0,\n",
              "  0.0,\n",
              "  0.0,\n",
              "  0.0,\n",
              "  0.0,\n",
              "  0.0,\n",
              "  0.0,\n",
              "  0.0,\n",
              "  0.0,\n",
              "  0.0,\n",
              "  0.0,\n",
              "  0.0,\n",
              "  0.0,\n",
              "  0.0,\n",
              "  0.0,\n",
              "  0.0,\n",
              "  0.0,\n",
              "  0.0,\n",
              "  0.0,\n",
              "  0.0,\n",
              "  0.0,\n",
              "  0.0,\n",
              "  0.0,\n",
              "  0.0,\n",
              "  0.0,\n",
              "  0.0,\n",
              "  0.0,\n",
              "  0.0,\n",
              "  0.0,\n",
              "  0.0,\n",
              "  0.0,\n",
              "  0.0,\n",
              "  0.0,\n",
              "  0.0,\n",
              "  0.0,\n",
              "  0.0,\n",
              "  0.0,\n",
              "  0.0,\n",
              "  0.0,\n",
              "  0.0,\n",
              "  0.0,\n",
              "  0.0,\n",
              "  0.0,\n",
              "  0.0,\n",
              "  0.0,\n",
              "  0.0,\n",
              "  0.0,\n",
              "  0.0,\n",
              "  0.0,\n",
              "  0.0,\n",
              "  0.0,\n",
              "  0.0,\n",
              "  0.0,\n",
              "  0.0,\n",
              "  0.0,\n",
              "  0.0,\n",
              "  0.0,\n",
              "  0.0,\n",
              "  0.0,\n",
              "  0.0,\n",
              "  0.0,\n",
              "  0.0,\n",
              "  0.0,\n",
              "  0.0,\n",
              "  0.0,\n",
              "  0.0,\n",
              "  0.0,\n",
              "  0.0,\n",
              "  0.0,\n",
              "  0.0,\n",
              "  0.0,\n",
              "  0.0,\n",
              "  0.0,\n",
              "  0.0,\n",
              "  0.0,\n",
              "  None,\n",
              "  0.0,\n",
              "  0.0,\n",
              "  0.0,\n",
              "  0.0,\n",
              "  0.0,\n",
              "  0.0,\n",
              "  0.0,\n",
              "  0.0,\n",
              "  0.0,\n",
              "  0.0,\n",
              "  0.0,\n",
              "  0.0,\n",
              "  0.0,\n",
              "  0.0,\n",
              "  0.0,\n",
              "  0.0,\n",
              "  0.0,\n",
              "  0.0,\n",
              "  None,\n",
              "  0.0,\n",
              "  0.0,\n",
              "  0.0,\n",
              "  0.0,\n",
              "  0.0,\n",
              "  0.0,\n",
              "  0.0,\n",
              "  0.0,\n",
              "  0.0,\n",
              "  0.0,\n",
              "  0.0,\n",
              "  0.0,\n",
              "  0.0,\n",
              "  0.0,\n",
              "  0.0,\n",
              "  0.0,\n",
              "  0.0,\n",
              "  0.0,\n",
              "  0.0,\n",
              "  0.0,\n",
              "  0.0,\n",
              "  0.0,\n",
              "  0.0,\n",
              "  0.0,\n",
              "  0.0,\n",
              "  0.0,\n",
              "  0.0,\n",
              "  0.0,\n",
              "  0.0,\n",
              "  0.0,\n",
              "  0.0,\n",
              "  0.0,\n",
              "  0.0,\n",
              "  0.0,\n",
              "  0.0,\n",
              "  0.0,\n",
              "  0.0,\n",
              "  0.0,\n",
              "  0.0,\n",
              "  0.0,\n",
              "  0.0,\n",
              "  0.0,\n",
              "  0.0,\n",
              "  0.0,\n",
              "  0.0,\n",
              "  0.0,\n",
              "  0.0,\n",
              "  0.0,\n",
              "  0.0,\n",
              "  0.0,\n",
              "  0.0,\n",
              "  0.0,\n",
              "  0.0,\n",
              "  0.0,\n",
              "  0.0,\n",
              "  0.0,\n",
              "  0.0,\n",
              "  0.0,\n",
              "  0.0,\n",
              "  0.0,\n",
              "  0.0,\n",
              "  0.0,\n",
              "  0.0,\n",
              "  0.0,\n",
              "  0.0,\n",
              "  0.0,\n",
              "  0.0,\n",
              "  0.0,\n",
              "  None,\n",
              "  0.0,\n",
              "  0.0,\n",
              "  0.0,\n",
              "  0.0,\n",
              "  0.0,\n",
              "  0.0,\n",
              "  0.0,\n",
              "  0.0,\n",
              "  0.0,\n",
              "  0.0,\n",
              "  0.0,\n",
              "  0.0,\n",
              "  0.0,\n",
              "  0.0,\n",
              "  0.0,\n",
              "  0.0,\n",
              "  0.0,\n",
              "  0.0,\n",
              "  0.0,\n",
              "  0.0,\n",
              "  0.0,\n",
              "  0.0,\n",
              "  0.0,\n",
              "  0.0,\n",
              "  0.0,\n",
              "  0.0,\n",
              "  0.0,\n",
              "  0.0,\n",
              "  0.0,\n",
              "  0.0,\n",
              "  0.0,\n",
              "  0.0,\n",
              "  0.0,\n",
              "  0.0,\n",
              "  0.0,\n",
              "  0.0,\n",
              "  0.0,\n",
              "  0.0,\n",
              "  0.0,\n",
              "  0.0,\n",
              "  0.0,\n",
              "  0.0,\n",
              "  0.0,\n",
              "  0.0,\n",
              "  0.0,\n",
              "  0.0,\n",
              "  0.0,\n",
              "  0.0,\n",
              "  0.0,\n",
              "  0.0,\n",
              "  0.0,\n",
              "  0.0,\n",
              "  0.0,\n",
              "  0.0,\n",
              "  0.0,\n",
              "  0.0,\n",
              "  0.0,\n",
              "  0.0,\n",
              "  0.0,\n",
              "  0.0,\n",
              "  0.0,\n",
              "  0.0,\n",
              "  0.0,\n",
              "  0.0,\n",
              "  0.0,\n",
              "  0.0,\n",
              "  0.0,\n",
              "  0.0,\n",
              "  None,\n",
              "  0.0,\n",
              "  0.0,\n",
              "  0.0,\n",
              "  0.0,\n",
              "  0.0,\n",
              "  0.0,\n",
              "  0.0,\n",
              "  0.0,\n",
              "  0.0,\n",
              "  0.0,\n",
              "  0.0,\n",
              "  0.0,\n",
              "  0.0,\n",
              "  0.0,\n",
              "  0.0,\n",
              "  0.0,\n",
              "  None,\n",
              "  0.0,\n",
              "  0.0,\n",
              "  0.0,\n",
              "  0.0,\n",
              "  0.0,\n",
              "  0.0,\n",
              "  None,\n",
              "  0.0,\n",
              "  0.0,\n",
              "  0.0,\n",
              "  0.0,\n",
              "  0.0,\n",
              "  0.0,\n",
              "  0.0,\n",
              "  0.0,\n",
              "  0.0,\n",
              "  0.0,\n",
              "  0.0,\n",
              "  0.0,\n",
              "  0.0,\n",
              "  0.0,\n",
              "  0.0,\n",
              "  0.0,\n",
              "  0.0,\n",
              "  0.0,\n",
              "  0.0,\n",
              "  0.0,\n",
              "  0.0,\n",
              "  0.0,\n",
              "  0.0,\n",
              "  0.0,\n",
              "  0.0,\n",
              "  0.0,\n",
              "  0.0,\n",
              "  0.0,\n",
              "  0.0,\n",
              "  0.0,\n",
              "  0.0,\n",
              "  0.0,\n",
              "  0.0,\n",
              "  0.0,\n",
              "  0.0,\n",
              "  0.0,\n",
              "  0.0,\n",
              "  None,\n",
              "  0.0,\n",
              "  0.0,\n",
              "  0.0,\n",
              "  0.0,\n",
              "  0.0,\n",
              "  0.0,\n",
              "  0.0,\n",
              "  0.0,\n",
              "  0.0,\n",
              "  0.0,\n",
              "  0.0,\n",
              "  0.0,\n",
              "  0.0,\n",
              "  0.0,\n",
              "  0.0,\n",
              "  0.0,\n",
              "  0.0,\n",
              "  0.0,\n",
              "  0.0,\n",
              "  0.0,\n",
              "  0.0,\n",
              "  0.0,\n",
              "  0.0,\n",
              "  0.0,\n",
              "  0.0,\n",
              "  0.0,\n",
              "  0.0,\n",
              "  None,\n",
              "  0.0,\n",
              "  0.0,\n",
              "  0.0,\n",
              "  0.0,\n",
              "  0.0,\n",
              "  0.0,\n",
              "  0.0,\n",
              "  0.0,\n",
              "  0.0,\n",
              "  0.0,\n",
              "  0.0,\n",
              "  0.0,\n",
              "  0.0,\n",
              "  0.0,\n",
              "  0.0,\n",
              "  0.0,\n",
              "  0.0,\n",
              "  0.0,\n",
              "  0.0,\n",
              "  0.0,\n",
              "  0.0,\n",
              "  0.0,\n",
              "  0.0,\n",
              "  0.0,\n",
              "  0.0,\n",
              "  0.0,\n",
              "  0.0,\n",
              "  0.0,\n",
              "  0.0,\n",
              "  0.0,\n",
              "  0.0,\n",
              "  0.0,\n",
              "  0.0,\n",
              "  0.0,\n",
              "  0.0,\n",
              "  0.0,\n",
              "  0.0,\n",
              "  0.0,\n",
              "  0.0,\n",
              "  0.0,\n",
              "  0.0,\n",
              "  0.0,\n",
              "  None,\n",
              "  0.0,\n",
              "  0.0,\n",
              "  0.0,\n",
              "  0.0,\n",
              "  0.0,\n",
              "  0.0,\n",
              "  0.0,\n",
              "  0.0,\n",
              "  0.0,\n",
              "  0.0,\n",
              "  0.0,\n",
              "  0.0,\n",
              "  0.0,\n",
              "  0.0,\n",
              "  0.0,\n",
              "  0.0,\n",
              "  0.0,\n",
              "  0.0,\n",
              "  0.0,\n",
              "  0.0,\n",
              "  0.0,\n",
              "  0.0,\n",
              "  0.0,\n",
              "  0.0,\n",
              "  0.0,\n",
              "  0.0,\n",
              "  0.0,\n",
              "  0.0,\n",
              "  0.0,\n",
              "  0.0,\n",
              "  0.0,\n",
              "  0.0,\n",
              "  0.0,\n",
              "  0.0,\n",
              "  0.0,\n",
              "  0.0,\n",
              "  0.0,\n",
              "  0.0,\n",
              "  0.0,\n",
              "  0.0,\n",
              "  0.0,\n",
              "  0.0,\n",
              "  0.0,\n",
              "  0.0,\n",
              "  0.0,\n",
              "  0.0,\n",
              "  0.0,\n",
              "  0.0,\n",
              "  0.0,\n",
              "  0.0,\n",
              "  0.0,\n",
              "  0.0,\n",
              "  0.0,\n",
              "  0.0,\n",
              "  0.0,\n",
              "  0.0,\n",
              "  0.0,\n",
              "  0.0,\n",
              "  0.0,\n",
              "  0.0,\n",
              "  0.0,\n",
              "  0.0,\n",
              "  0.0,\n",
              "  0.0,\n",
              "  0.0,\n",
              "  0.0,\n",
              "  0.0,\n",
              "  0.0,\n",
              "  0.0,\n",
              "  0.0,\n",
              "  0.0,\n",
              "  0.0,\n",
              "  0.0,\n",
              "  0.0,\n",
              "  0.0,\n",
              "  0.0,\n",
              "  0.0,\n",
              "  0.0,\n",
              "  0.0,\n",
              "  0.0,\n",
              "  None,\n",
              "  0.0,\n",
              "  0.0,\n",
              "  0.0,\n",
              "  0.0,\n",
              "  0.0,\n",
              "  0.0,\n",
              "  0.0,\n",
              "  0.0,\n",
              "  0.0,\n",
              "  None,\n",
              "  0.0,\n",
              "  0.0,\n",
              "  0.0,\n",
              "  0.0,\n",
              "  0.0,\n",
              "  0.0,\n",
              "  0.0,\n",
              "  0.0,\n",
              "  0.0,\n",
              "  0.0,\n",
              "  0.0,\n",
              "  0.0,\n",
              "  0.0,\n",
              "  0.0,\n",
              "  0.0,\n",
              "  0.0,\n",
              "  0.0,\n",
              "  0.0,\n",
              "  0.0,\n",
              "  0.0,\n",
              "  0.0,\n",
              "  0.0,\n",
              "  0.0,\n",
              "  0.0,\n",
              "  0.0,\n",
              "  0.0,\n",
              "  0.0,\n",
              "  0.0,\n",
              "  0.0,\n",
              "  0.0,\n",
              "  0.0,\n",
              "  0.0,\n",
              "  0.0,\n",
              "  0.0,\n",
              "  0.0,\n",
              "  0.0,\n",
              "  0.0,\n",
              "  0.0,\n",
              "  0.0,\n",
              "  0.0,\n",
              "  0.0,\n",
              "  0.0,\n",
              "  0.0,\n",
              "  0.0,\n",
              "  0.0,\n",
              "  0.0,\n",
              "  0.0,\n",
              "  0.0,\n",
              "  0.0,\n",
              "  0.0,\n",
              "  0.0,\n",
              "  0.0,\n",
              "  0.0,\n",
              "  0.0,\n",
              "  0.0,\n",
              "  0.0,\n",
              "  0.0,\n",
              "  0.0,\n",
              "  0.0,\n",
              "  0.0,\n",
              "  0.0,\n",
              "  0.0,\n",
              "  0.0,\n",
              "  0.0,\n",
              "  0.0,\n",
              "  0.0,\n",
              "  0.0,\n",
              "  0.0,\n",
              "  0.0,\n",
              "  0.0,\n",
              "  0.0,\n",
              "  0.0,\n",
              "  0.0,\n",
              "  0.0,\n",
              "  0.0,\n",
              "  0.0,\n",
              "  0.0,\n",
              "  0.0,\n",
              "  0.0,\n",
              "  0.0,\n",
              "  0.0,\n",
              "  0.0,\n",
              "  0.0,\n",
              "  0.0,\n",
              "  0.0,\n",
              "  0.0,\n",
              "  0.0,\n",
              "  0.0,\n",
              "  0.0,\n",
              "  0.0,\n",
              "  None,\n",
              "  0.0,\n",
              "  0.0,\n",
              "  0.0,\n",
              "  0.0,\n",
              "  0.0,\n",
              "  0.0,\n",
              "  0.0,\n",
              "  0.0,\n",
              "  0.0,\n",
              "  0.0,\n",
              "  0.0,\n",
              "  0.0,\n",
              "  0.0,\n",
              "  0.0,\n",
              "  0.0,\n",
              "  0.0,\n",
              "  0.0,\n",
              "  0.0,\n",
              "  0.0,\n",
              "  0.0,\n",
              "  0.0,\n",
              "  0.0,\n",
              "  0.0,\n",
              "  0.0,\n",
              "  0.0,\n",
              "  0.0,\n",
              "  0.0,\n",
              "  0.0,\n",
              "  0.0,\n",
              "  0.0,\n",
              "  0.0,\n",
              "  0.0,\n",
              "  0.0,\n",
              "  0.0,\n",
              "  0.0,\n",
              "  0.0,\n",
              "  0.0,\n",
              "  0.0,\n",
              "  0.0,\n",
              "  0.0,\n",
              "  0.0,\n",
              "  0.0,\n",
              "  0.0,\n",
              "  0.0,\n",
              "  0.0,\n",
              "  0.0,\n",
              "  0.0,\n",
              "  0.0,\n",
              "  0.0,\n",
              "  None,\n",
              "  0.0,\n",
              "  0.0,\n",
              "  0.0,\n",
              "  0.0,\n",
              "  0.0,\n",
              "  0.0,\n",
              "  0.0,\n",
              "  0.0,\n",
              "  0.0,\n",
              "  0.0,\n",
              "  0.0,\n",
              "  0.0,\n",
              "  0.0,\n",
              "  0.0,\n",
              "  0.0,\n",
              "  0.0,\n",
              "  0.0,\n",
              "  0.0,\n",
              "  0.0,\n",
              "  0.0,\n",
              "  0.0,\n",
              "  0.0,\n",
              "  0.0,\n",
              "  0.0,\n",
              "  0.0,\n",
              "  0.0,\n",
              "  0.0,\n",
              "  0.0,\n",
              "  0.0,\n",
              "  0.0,\n",
              "  0.0,\n",
              "  0.0,\n",
              "  0.0,\n",
              "  0.0,\n",
              "  0.0,\n",
              "  0.0,\n",
              "  0.0,\n",
              "  0.0,\n",
              "  0.0,\n",
              "  0.0,\n",
              "  0.0,\n",
              "  0.0,\n",
              "  0.0,\n",
              "  0.0,\n",
              "  0.0,\n",
              "  0.0,\n",
              "  0.0,\n",
              "  0.0,\n",
              "  0.0,\n",
              "  0.0,\n",
              "  0.0,\n",
              "  0.0,\n",
              "  0.0,\n",
              "  0.0,\n",
              "  0.0,\n",
              "  0.0,\n",
              "  0.0,\n",
              "  0.0,\n",
              "  0.0,\n",
              "  0.0,\n",
              "  0.0,\n",
              "  0.0,\n",
              "  0.0,\n",
              "  0.0,\n",
              "  0.0,\n",
              "  0.0,\n",
              "  0.0,\n",
              "  0.0,\n",
              "  0.0,\n",
              "  None,\n",
              "  0.0,\n",
              "  0.0,\n",
              "  0.0,\n",
              "  0.0,\n",
              "  0.0,\n",
              "  0.0,\n",
              "  0.0,\n",
              "  0.0,\n",
              "  0.0,\n",
              "  0.0,\n",
              "  0.0,\n",
              "  0.0,\n",
              "  0.0,\n",
              "  0.0,\n",
              "  0.0,\n",
              "  0.0,\n",
              "  0.0,\n",
              "  0.0,\n",
              "  0.0,\n",
              "  0.0,\n",
              "  0.0,\n",
              "  0.0,\n",
              "  0.0,\n",
              "  0.0,\n",
              "  0.0,\n",
              "  0.0,\n",
              "  0.0,\n",
              "  0.0,\n",
              "  0.0,\n",
              "  0.0,\n",
              "  0.0,\n",
              "  0.0,\n",
              "  0.0,\n",
              "  0.0,\n",
              "  0.0,\n",
              "  0.0,\n",
              "  0.0,\n",
              "  0.0,\n",
              "  0.0,\n",
              "  0.0,\n",
              "  0.0,\n",
              "  0.0,\n",
              "  0.0,\n",
              "  0.0,\n",
              "  0.0,\n",
              "  0.0,\n",
              "  0.0,\n",
              "  0.0,\n",
              "  0.0,\n",
              "  0.0,\n",
              "  0.0,\n",
              "  0.0,\n",
              "  0.0,\n",
              "  0.0,\n",
              "  0.0,\n",
              "  0.0,\n",
              "  0.0,\n",
              "  0.0,\n",
              "  0.0,\n",
              "  0.0,\n",
              "  0.0,\n",
              "  0.0,\n",
              "  0.0,\n",
              "  0.0,\n",
              "  0.0,\n",
              "  ...],\n",
              " 'dodgerblue': [0.0,\n",
              "  0.0,\n",
              "  0.0,\n",
              "  0.0,\n",
              "  0.0,\n",
              "  0.0,\n",
              "  0.0,\n",
              "  0.0,\n",
              "  0.0,\n",
              "  0.0,\n",
              "  0.0,\n",
              "  0.0,\n",
              "  0.0,\n",
              "  0.0,\n",
              "  0.0,\n",
              "  0.0,\n",
              "  0.0,\n",
              "  0.0,\n",
              "  None,\n",
              "  0.0,\n",
              "  0.0,\n",
              "  0.0,\n",
              "  0.0,\n",
              "  0.0,\n",
              "  0.0,\n",
              "  0.0,\n",
              "  0.0,\n",
              "  0.0,\n",
              "  0.0,\n",
              "  0.0,\n",
              "  0.0,\n",
              "  0.0,\n",
              "  0.0,\n",
              "  0.0,\n",
              "  None,\n",
              "  0.0,\n",
              "  0.0,\n",
              "  0.0,\n",
              "  0.0,\n",
              "  0.0,\n",
              "  0.0,\n",
              "  0.0,\n",
              "  0.0,\n",
              "  0.0,\n",
              "  0.0,\n",
              "  0.0,\n",
              "  0.0,\n",
              "  0.0,\n",
              "  0.0,\n",
              "  0.0,\n",
              "  0.0,\n",
              "  0.0,\n",
              "  0.0,\n",
              "  0.0,\n",
              "  0.0,\n",
              "  0.0,\n",
              "  0.0,\n",
              "  0.0,\n",
              "  0.0,\n",
              "  0.0,\n",
              "  0.0,\n",
              "  None,\n",
              "  0.0,\n",
              "  0.0,\n",
              "  0.0,\n",
              "  0.0,\n",
              "  0.0,\n",
              "  0.0,\n",
              "  0.0,\n",
              "  0.0,\n",
              "  0.0,\n",
              "  0.0,\n",
              "  0.0,\n",
              "  0.0,\n",
              "  0.0,\n",
              "  0.0,\n",
              "  0.0,\n",
              "  0.0,\n",
              "  0.0,\n",
              "  0.0,\n",
              "  0.0,\n",
              "  0.0,\n",
              "  0.0,\n",
              "  0.0,\n",
              "  0.0,\n",
              "  0.0,\n",
              "  0.0,\n",
              "  0.0,\n",
              "  0.0,\n",
              "  0.0,\n",
              "  0.0,\n",
              "  0.0,\n",
              "  0.0,\n",
              "  0.0,\n",
              "  0.0,\n",
              "  0.0,\n",
              "  0.0,\n",
              "  0.0,\n",
              "  0.0,\n",
              "  0.0,\n",
              "  0.0,\n",
              "  0.0,\n",
              "  0.0,\n",
              "  0.0,\n",
              "  0.0,\n",
              "  0.0,\n",
              "  0.0,\n",
              "  0.0,\n",
              "  0.0,\n",
              "  0.0,\n",
              "  0.0,\n",
              "  0.0,\n",
              "  0.0,\n",
              "  0.0,\n",
              "  0.0,\n",
              "  0.0,\n",
              "  0.0,\n",
              "  0.0,\n",
              "  0.0,\n",
              "  0.0,\n",
              "  0.0,\n",
              "  0.0,\n",
              "  0.0,\n",
              "  0.0,\n",
              "  0.0,\n",
              "  0.0,\n",
              "  0.0,\n",
              "  0.0,\n",
              "  0.0,\n",
              "  0.0,\n",
              "  0.0,\n",
              "  0.0,\n",
              "  0.0,\n",
              "  0.0,\n",
              "  0.0,\n",
              "  0.0,\n",
              "  0.0,\n",
              "  0.0,\n",
              "  0.0,\n",
              "  0.0,\n",
              "  0.0,\n",
              "  0.0,\n",
              "  0.0,\n",
              "  0.0,\n",
              "  0.0,\n",
              "  0.0,\n",
              "  0.0,\n",
              "  0.0,\n",
              "  0.0,\n",
              "  0.0,\n",
              "  0.0,\n",
              "  0.0,\n",
              "  0.0,\n",
              "  0.0,\n",
              "  0.0,\n",
              "  0.0,\n",
              "  0.0,\n",
              "  0.0,\n",
              "  0.0,\n",
              "  0.0,\n",
              "  0.0,\n",
              "  0.0,\n",
              "  0.0,\n",
              "  0.0,\n",
              "  0.0,\n",
              "  0.0,\n",
              "  0.0,\n",
              "  0.0,\n",
              "  0.0,\n",
              "  0.0,\n",
              "  0.0,\n",
              "  0.0,\n",
              "  0.0,\n",
              "  0.0,\n",
              "  0.0,\n",
              "  0.0,\n",
              "  0.0,\n",
              "  0.0,\n",
              "  0.0,\n",
              "  0.0,\n",
              "  0.0,\n",
              "  0.0,\n",
              "  0.0,\n",
              "  0.0,\n",
              "  0.0,\n",
              "  0.0,\n",
              "  0.0,\n",
              "  0.0,\n",
              "  0.0,\n",
              "  0.0,\n",
              "  0.0,\n",
              "  0.0,\n",
              "  0.0,\n",
              "  0.0,\n",
              "  0.0,\n",
              "  0.0,\n",
              "  0.0,\n",
              "  0.0,\n",
              "  0.0,\n",
              "  0.0,\n",
              "  0.0,\n",
              "  0.0,\n",
              "  0.0,\n",
              "  0.0,\n",
              "  0.0,\n",
              "  0.0,\n",
              "  0.0,\n",
              "  0.0,\n",
              "  0.0,\n",
              "  0.0,\n",
              "  0.0,\n",
              "  0.0,\n",
              "  0.0,\n",
              "  0.0,\n",
              "  0.0,\n",
              "  0.0,\n",
              "  0.0,\n",
              "  0.0,\n",
              "  0.0,\n",
              "  0.0,\n",
              "  0.0,\n",
              "  0.0,\n",
              "  0.0,\n",
              "  0.0,\n",
              "  0.0,\n",
              "  0.0,\n",
              "  0.0,\n",
              "  0.0,\n",
              "  0.0,\n",
              "  0.0,\n",
              "  0.0,\n",
              "  0.0,\n",
              "  0.0,\n",
              "  0.0,\n",
              "  0.0,\n",
              "  None,\n",
              "  0.0,\n",
              "  0.0,\n",
              "  0.0,\n",
              "  0.0,\n",
              "  0.0,\n",
              "  0.0,\n",
              "  0.0,\n",
              "  0.0,\n",
              "  0.0,\n",
              "  0.0,\n",
              "  0.0,\n",
              "  0.0,\n",
              "  0.0,\n",
              "  0.0,\n",
              "  0.0,\n",
              "  0.0,\n",
              "  0.0,\n",
              "  0.0,\n",
              "  0.0,\n",
              "  0.0,\n",
              "  0.0,\n",
              "  0.0,\n",
              "  0.0,\n",
              "  0.0,\n",
              "  None,\n",
              "  0.0,\n",
              "  0.0,\n",
              "  0.0,\n",
              "  0.0,\n",
              "  0.0,\n",
              "  0.0,\n",
              "  0.0,\n",
              "  0.0,\n",
              "  0.0,\n",
              "  0.0,\n",
              "  0.0,\n",
              "  0.0,\n",
              "  0.0,\n",
              "  0.0,\n",
              "  0.0,\n",
              "  0.0,\n",
              "  0.0,\n",
              "  0.0,\n",
              "  0.0,\n",
              "  0.0,\n",
              "  0.0,\n",
              "  0.0,\n",
              "  0.0,\n",
              "  0.0,\n",
              "  0.0,\n",
              "  0.0,\n",
              "  0.0,\n",
              "  0.0,\n",
              "  0.0,\n",
              "  0.0,\n",
              "  0.0,\n",
              "  0.0,\n",
              "  0.0,\n",
              "  0.0,\n",
              "  0.0,\n",
              "  0.0,\n",
              "  0.0,\n",
              "  0.0,\n",
              "  0.0,\n",
              "  0.0,\n",
              "  0.0,\n",
              "  0.0,\n",
              "  0.0,\n",
              "  0.0,\n",
              "  0.0,\n",
              "  0.0,\n",
              "  0.0,\n",
              "  0.0,\n",
              "  0.0,\n",
              "  0.0,\n",
              "  0.0,\n",
              "  0.0,\n",
              "  0.0,\n",
              "  0.0,\n",
              "  0.0,\n",
              "  0.0,\n",
              "  0.0,\n",
              "  0.0,\n",
              "  0.0,\n",
              "  0.0,\n",
              "  0.0,\n",
              "  0.0,\n",
              "  0.0,\n",
              "  0.0,\n",
              "  0.0,\n",
              "  0.0,\n",
              "  0.0,\n",
              "  0.0,\n",
              "  0.0,\n",
              "  0.0,\n",
              "  0.0,\n",
              "  0.0,\n",
              "  0.0,\n",
              "  0.0,\n",
              "  0.0,\n",
              "  0.0,\n",
              "  0.0,\n",
              "  0.0,\n",
              "  0.0,\n",
              "  0.0,\n",
              "  0.0,\n",
              "  None,\n",
              "  0.0,\n",
              "  0.0,\n",
              "  0.0,\n",
              "  0.0,\n",
              "  0.0,\n",
              "  0.0,\n",
              "  0.0,\n",
              "  0.0,\n",
              "  0.0,\n",
              "  0.0,\n",
              "  0.0,\n",
              "  0.0,\n",
              "  0.0,\n",
              "  0.0,\n",
              "  0.0,\n",
              "  0.0,\n",
              "  0.0,\n",
              "  0.0,\n",
              "  None,\n",
              "  0.0,\n",
              "  0.0,\n",
              "  0.0,\n",
              "  0.0,\n",
              "  0.0,\n",
              "  0.0,\n",
              "  0.0,\n",
              "  0.0,\n",
              "  0.0,\n",
              "  0.0,\n",
              "  0.0,\n",
              "  0.0,\n",
              "  0.0,\n",
              "  0.0,\n",
              "  0.0,\n",
              "  0.0,\n",
              "  0.0,\n",
              "  0.0,\n",
              "  0.0,\n",
              "  0.0,\n",
              "  0.0,\n",
              "  0.0,\n",
              "  0.0,\n",
              "  0.0,\n",
              "  0.0,\n",
              "  0.0,\n",
              "  0.0,\n",
              "  0.0,\n",
              "  0.0,\n",
              "  0.0,\n",
              "  0.0,\n",
              "  0.0,\n",
              "  0.0,\n",
              "  0.0,\n",
              "  0.0,\n",
              "  0.0,\n",
              "  0.0,\n",
              "  0.0,\n",
              "  0.0,\n",
              "  0.0,\n",
              "  0.0,\n",
              "  0.0,\n",
              "  0.0,\n",
              "  0.0,\n",
              "  0.0,\n",
              "  0.0,\n",
              "  0.0,\n",
              "  0.0,\n",
              "  0.0,\n",
              "  0.0,\n",
              "  0.0,\n",
              "  0.0,\n",
              "  0.0,\n",
              "  0.0,\n",
              "  0.0,\n",
              "  0.0,\n",
              "  0.0,\n",
              "  0.0,\n",
              "  0.0,\n",
              "  0.0,\n",
              "  0.0,\n",
              "  0.0,\n",
              "  0.0,\n",
              "  0.0,\n",
              "  0.0,\n",
              "  0.0,\n",
              "  0.0,\n",
              "  0.0,\n",
              "  None,\n",
              "  0.0,\n",
              "  0.0,\n",
              "  0.0,\n",
              "  0.0,\n",
              "  0.0,\n",
              "  0.0,\n",
              "  0.0,\n",
              "  0.0,\n",
              "  0.0,\n",
              "  0.0,\n",
              "  0.0,\n",
              "  0.0,\n",
              "  0.0,\n",
              "  0.0,\n",
              "  0.0,\n",
              "  0.0,\n",
              "  0.0,\n",
              "  0.0,\n",
              "  0.0,\n",
              "  0.0,\n",
              "  0.0,\n",
              "  0.0,\n",
              "  0.0,\n",
              "  0.0,\n",
              "  0.0,\n",
              "  0.0,\n",
              "  0.0,\n",
              "  0.0,\n",
              "  0.0,\n",
              "  0.0,\n",
              "  0.0,\n",
              "  0.0,\n",
              "  0.0,\n",
              "  0.0,\n",
              "  0.0,\n",
              "  0.0,\n",
              "  0.0,\n",
              "  0.0,\n",
              "  0.0,\n",
              "  0.0,\n",
              "  0.0,\n",
              "  0.0,\n",
              "  0.0,\n",
              "  0.0,\n",
              "  0.0,\n",
              "  0.0,\n",
              "  0.0,\n",
              "  0.0,\n",
              "  0.0,\n",
              "  0.0,\n",
              "  0.0,\n",
              "  0.0,\n",
              "  0.0,\n",
              "  0.0,\n",
              "  0.0,\n",
              "  0.0,\n",
              "  0.0,\n",
              "  0.0,\n",
              "  0.0,\n",
              "  0.0,\n",
              "  0.0,\n",
              "  0.0,\n",
              "  0.0,\n",
              "  0.0,\n",
              "  0.0,\n",
              "  0.0,\n",
              "  0.0,\n",
              "  0.0,\n",
              "  None,\n",
              "  0.0,\n",
              "  0.0,\n",
              "  0.0,\n",
              "  0.0,\n",
              "  0.0,\n",
              "  0.0,\n",
              "  0.0,\n",
              "  0.0,\n",
              "  0.0,\n",
              "  0.0,\n",
              "  0.0,\n",
              "  0.0,\n",
              "  0.0,\n",
              "  0.0,\n",
              "  0.0,\n",
              "  0.0,\n",
              "  None,\n",
              "  0.0,\n",
              "  0.0,\n",
              "  0.0,\n",
              "  0.0,\n",
              "  0.0,\n",
              "  0.0,\n",
              "  None,\n",
              "  0.0,\n",
              "  0.0,\n",
              "  0.0,\n",
              "  0.0,\n",
              "  0.0,\n",
              "  0.0,\n",
              "  0.0,\n",
              "  0.0,\n",
              "  0.0,\n",
              "  0.0,\n",
              "  0.0,\n",
              "  0.0,\n",
              "  0.0,\n",
              "  0.0,\n",
              "  0.0,\n",
              "  0.0,\n",
              "  0.0,\n",
              "  0.0,\n",
              "  0.0,\n",
              "  0.0,\n",
              "  0.0,\n",
              "  0.0,\n",
              "  0.0,\n",
              "  0.0,\n",
              "  0.0,\n",
              "  0.0,\n",
              "  0.0,\n",
              "  0.0,\n",
              "  0.0,\n",
              "  0.0,\n",
              "  0.0,\n",
              "  0.0,\n",
              "  0.0,\n",
              "  0.0,\n",
              "  0.0,\n",
              "  0.0,\n",
              "  0.0,\n",
              "  None,\n",
              "  0.0,\n",
              "  0.0,\n",
              "  0.0,\n",
              "  0.0,\n",
              "  0.0,\n",
              "  0.0,\n",
              "  0.0,\n",
              "  0.0,\n",
              "  0.0,\n",
              "  0.0,\n",
              "  0.0,\n",
              "  0.0,\n",
              "  0.0,\n",
              "  0.0,\n",
              "  0.0,\n",
              "  0.0,\n",
              "  0.0,\n",
              "  0.0,\n",
              "  0.0,\n",
              "  0.0,\n",
              "  0.0,\n",
              "  0.0,\n",
              "  0.0,\n",
              "  0.0,\n",
              "  0.0,\n",
              "  0.0,\n",
              "  0.0,\n",
              "  None,\n",
              "  0.0,\n",
              "  0.0,\n",
              "  0.0,\n",
              "  0.0,\n",
              "  0.0,\n",
              "  0.0,\n",
              "  0.0,\n",
              "  0.0,\n",
              "  0.0,\n",
              "  0.0,\n",
              "  0.0,\n",
              "  0.0,\n",
              "  0.0,\n",
              "  0.0,\n",
              "  0.0,\n",
              "  0.0,\n",
              "  0.0,\n",
              "  0.0,\n",
              "  0.0,\n",
              "  0.0,\n",
              "  0.0,\n",
              "  0.0,\n",
              "  0.0,\n",
              "  0.0,\n",
              "  0.0,\n",
              "  0.0,\n",
              "  0.0,\n",
              "  0.0,\n",
              "  0.0,\n",
              "  0.0,\n",
              "  0.0,\n",
              "  0.0,\n",
              "  0.0,\n",
              "  0.0,\n",
              "  0.0,\n",
              "  0.0,\n",
              "  0.0,\n",
              "  0.0,\n",
              "  0.0,\n",
              "  0.0,\n",
              "  0.0,\n",
              "  0.0,\n",
              "  None,\n",
              "  0.0,\n",
              "  0.0,\n",
              "  0.0,\n",
              "  0.0,\n",
              "  0.0,\n",
              "  0.0,\n",
              "  0.0,\n",
              "  0.0,\n",
              "  0.0,\n",
              "  0.0,\n",
              "  0.0,\n",
              "  0.0,\n",
              "  0.0,\n",
              "  0.0,\n",
              "  0.0,\n",
              "  0.0,\n",
              "  0.0,\n",
              "  0.0,\n",
              "  0.0,\n",
              "  0.0,\n",
              "  0.0,\n",
              "  0.0,\n",
              "  0.0,\n",
              "  0.0,\n",
              "  0.0,\n",
              "  0.0,\n",
              "  0.0,\n",
              "  0.0,\n",
              "  0.0,\n",
              "  0.0,\n",
              "  0.0,\n",
              "  0.0,\n",
              "  0.0,\n",
              "  0.0,\n",
              "  0.0,\n",
              "  0.0,\n",
              "  0.0,\n",
              "  0.0,\n",
              "  0.0,\n",
              "  0.0,\n",
              "  0.0,\n",
              "  0.0,\n",
              "  0.0,\n",
              "  0.0,\n",
              "  0.0,\n",
              "  0.0,\n",
              "  0.0,\n",
              "  0.0,\n",
              "  0.0,\n",
              "  0.0,\n",
              "  0.0,\n",
              "  0.0,\n",
              "  0.0,\n",
              "  0.0,\n",
              "  0.0,\n",
              "  0.0,\n",
              "  0.0,\n",
              "  0.0,\n",
              "  0.0,\n",
              "  0.0,\n",
              "  0.0,\n",
              "  0.0,\n",
              "  0.0,\n",
              "  0.0,\n",
              "  0.0,\n",
              "  0.0,\n",
              "  0.0,\n",
              "  0.0,\n",
              "  0.0,\n",
              "  0.0,\n",
              "  0.0,\n",
              "  0.0,\n",
              "  0.0,\n",
              "  0.0,\n",
              "  0.0,\n",
              "  0.0,\n",
              "  0.0,\n",
              "  0.0,\n",
              "  0.0,\n",
              "  0.0,\n",
              "  None,\n",
              "  0.0,\n",
              "  0.0,\n",
              "  0.0,\n",
              "  0.0,\n",
              "  0.0,\n",
              "  0.0,\n",
              "  0.0,\n",
              "  0.0,\n",
              "  0.0,\n",
              "  None,\n",
              "  0.0,\n",
              "  0.0,\n",
              "  0.0,\n",
              "  0.0,\n",
              "  0.0,\n",
              "  0.0,\n",
              "  0.0,\n",
              "  0.0,\n",
              "  0.0,\n",
              "  0.0,\n",
              "  0.0,\n",
              "  0.0,\n",
              "  0.0,\n",
              "  0.0,\n",
              "  0.0,\n",
              "  0.0,\n",
              "  0.0,\n",
              "  0.0,\n",
              "  0.0,\n",
              "  0.0,\n",
              "  0.0,\n",
              "  0.0,\n",
              "  0.0,\n",
              "  0.0,\n",
              "  0.0,\n",
              "  0.0,\n",
              "  0.0,\n",
              "  0.0,\n",
              "  0.0,\n",
              "  0.0,\n",
              "  0.0,\n",
              "  0.0,\n",
              "  0.0,\n",
              "  0.0,\n",
              "  0.0,\n",
              "  0.0,\n",
              "  0.0,\n",
              "  0.0,\n",
              "  0.0,\n",
              "  0.0,\n",
              "  0.0,\n",
              "  0.0,\n",
              "  0.0,\n",
              "  0.0,\n",
              "  0.0,\n",
              "  0.0,\n",
              "  0.0,\n",
              "  0.0,\n",
              "  0.0,\n",
              "  0.0,\n",
              "  0.0,\n",
              "  0.0,\n",
              "  0.0,\n",
              "  0.0,\n",
              "  0.0,\n",
              "  0.0,\n",
              "  0.0,\n",
              "  0.0,\n",
              "  0.0,\n",
              "  0.0,\n",
              "  0.0,\n",
              "  0.0,\n",
              "  0.0,\n",
              "  0.0,\n",
              "  0.0,\n",
              "  0.0,\n",
              "  0.0,\n",
              "  0.0,\n",
              "  0.0,\n",
              "  0.0,\n",
              "  0.0,\n",
              "  0.0,\n",
              "  0.0,\n",
              "  0.0,\n",
              "  0.0,\n",
              "  0.0,\n",
              "  0.0,\n",
              "  0.0,\n",
              "  0.0,\n",
              "  0.0,\n",
              "  0.0,\n",
              "  0.0,\n",
              "  0.0,\n",
              "  0.0,\n",
              "  0.0,\n",
              "  0.0,\n",
              "  0.0,\n",
              "  0.0,\n",
              "  0.0,\n",
              "  0.0,\n",
              "  None,\n",
              "  0.0,\n",
              "  0.0,\n",
              "  0.0,\n",
              "  0.0,\n",
              "  0.0,\n",
              "  0.0,\n",
              "  0.0,\n",
              "  0.0,\n",
              "  0.0,\n",
              "  0.0,\n",
              "  0.0,\n",
              "  0.0,\n",
              "  0.0,\n",
              "  0.0,\n",
              "  0.0,\n",
              "  0.0,\n",
              "  0.0,\n",
              "  0.0,\n",
              "  0.0,\n",
              "  0.0,\n",
              "  0.0,\n",
              "  0.0,\n",
              "  0.0,\n",
              "  0.0,\n",
              "  0.0,\n",
              "  0.0,\n",
              "  0.0,\n",
              "  0.0,\n",
              "  0.0,\n",
              "  0.0,\n",
              "  0.0,\n",
              "  0.0,\n",
              "  0.0,\n",
              "  0.0,\n",
              "  0.0,\n",
              "  0.0,\n",
              "  0.0,\n",
              "  0.0,\n",
              "  0.0,\n",
              "  0.0,\n",
              "  0.0,\n",
              "  0.0,\n",
              "  0.0,\n",
              "  0.0,\n",
              "  0.0,\n",
              "  0.0,\n",
              "  0.0,\n",
              "  0.0,\n",
              "  0.0,\n",
              "  None,\n",
              "  0.0,\n",
              "  0.0,\n",
              "  0.0,\n",
              "  0.0,\n",
              "  0.0,\n",
              "  0.0,\n",
              "  0.0,\n",
              "  0.0,\n",
              "  0.0,\n",
              "  0.0,\n",
              "  0.0,\n",
              "  0.0,\n",
              "  0.0,\n",
              "  0.0,\n",
              "  0.0,\n",
              "  0.0,\n",
              "  0.0,\n",
              "  0.0,\n",
              "  0.0,\n",
              "  0.0,\n",
              "  0.0,\n",
              "  0.0,\n",
              "  0.0,\n",
              "  0.0,\n",
              "  0.0,\n",
              "  0.0,\n",
              "  0.0,\n",
              "  0.0,\n",
              "  0.0,\n",
              "  0.0,\n",
              "  0.0,\n",
              "  0.0,\n",
              "  0.0,\n",
              "  0.0,\n",
              "  0.0,\n",
              "  0.0,\n",
              "  0.0,\n",
              "  0.0,\n",
              "  0.0,\n",
              "  0.0,\n",
              "  0.0,\n",
              "  0.0,\n",
              "  0.0,\n",
              "  0.0,\n",
              "  0.0,\n",
              "  0.0,\n",
              "  0.0,\n",
              "  0.0,\n",
              "  0.0,\n",
              "  0.0,\n",
              "  0.0,\n",
              "  0.0,\n",
              "  0.0,\n",
              "  0.0,\n",
              "  0.0,\n",
              "  0.0,\n",
              "  0.0,\n",
              "  0.0,\n",
              "  0.0,\n",
              "  0.0,\n",
              "  0.0,\n",
              "  0.0,\n",
              "  0.0,\n",
              "  0.0,\n",
              "  0.0,\n",
              "  0.0,\n",
              "  0.0,\n",
              "  0.0,\n",
              "  0.0,\n",
              "  None,\n",
              "  0.0,\n",
              "  0.0,\n",
              "  0.0,\n",
              "  0.0,\n",
              "  0.0,\n",
              "  0.0,\n",
              "  0.0,\n",
              "  0.0,\n",
              "  0.0,\n",
              "  0.0,\n",
              "  0.0,\n",
              "  0.0,\n",
              "  0.0,\n",
              "  0.0,\n",
              "  0.0,\n",
              "  0.0,\n",
              "  0.0,\n",
              "  0.0,\n",
              "  0.0,\n",
              "  0.0,\n",
              "  0.0,\n",
              "  0.0,\n",
              "  0.0,\n",
              "  0.0,\n",
              "  0.0,\n",
              "  0.0,\n",
              "  0.0,\n",
              "  0.0,\n",
              "  0.0,\n",
              "  0.0,\n",
              "  0.0,\n",
              "  0.0,\n",
              "  0.0,\n",
              "  0.0,\n",
              "  0.0,\n",
              "  0.0,\n",
              "  0.0,\n",
              "  0.0,\n",
              "  0.0,\n",
              "  0.0,\n",
              "  0.0,\n",
              "  0.0,\n",
              "  0.0,\n",
              "  0.0,\n",
              "  0.0,\n",
              "  0.0,\n",
              "  0.0,\n",
              "  0.0,\n",
              "  0.0,\n",
              "  0.0,\n",
              "  0.0,\n",
              "  0.0,\n",
              "  0.0,\n",
              "  0.0,\n",
              "  0.0,\n",
              "  0.0,\n",
              "  0.0,\n",
              "  0.0,\n",
              "  0.0,\n",
              "  0.0,\n",
              "  0.0,\n",
              "  0.0,\n",
              "  0.0,\n",
              "  0.0,\n",
              "  0.0,\n",
              "  ...],\n",
              " 'forestgreen': [2.9938423645320196,\n",
              "  2.09739990234375,\n",
              "  0.8328546262254902,\n",
              "  0.0,\n",
              "  0.0,\n",
              "  0.18326280381944443,\n",
              "  0.0,\n",
              "  0.0,\n",
              "  0.0,\n",
              "  0.0,\n",
              "  0.0,\n",
              "  0.0,\n",
              "  0.0,\n",
              "  0.0,\n",
              "  0.0,\n",
              "  0.3096329088452583,\n",
              "  0.0,\n",
              "  0.09230367981790592,\n",
              "  None,\n",
              "  0.0,\n",
              "  0.1188888303285102,\n",
              "  0.04867896328474749,\n",
              "  0.034109508532380074,\n",
              "  0.0,\n",
              "  0.0,\n",
              "  0.0,\n",
              "  0.0,\n",
              "  0.0,\n",
              "  0.08344779615052741,\n",
              "  0.00053125,\n",
              "  0.0,\n",
              "  0.0116729736328125,\n",
              "  0.0,\n",
              "  37.41477087496988,\n",
              "  None,\n",
              "  0.0,\n",
              "  0.0,\n",
              "  0.0,\n",
              "  0.5363238285694584,\n",
              "  0.0,\n",
              "  34.95777807098562,\n",
              "  0.0,\n",
              "  0.14294450389848648,\n",
              "  0.38927199031426013,\n",
              "  0.0,\n",
              "  0.0,\n",
              "  0.045210312075983715,\n",
              "  20.710630040453378,\n",
              "  0.0,\n",
              "  0.48464912280701755,\n",
              "  0.0,\n",
              "  0.0,\n",
              "  0.13261525075383668,\n",
              "  0.0,\n",
              "  0.0,\n",
              "  0.0,\n",
              "  0.13343412409194572,\n",
              "  0.0,\n",
              "  0.0,\n",
              "  0.0,\n",
              "  0.0014009757383966245,\n",
              "  None,\n",
              "  0.0,\n",
              "  2.93834375,\n",
              "  0.1560546875,\n",
              "  0.1095074379336706,\n",
              "  0.0,\n",
              "  0.18520637648938107,\n",
              "  0.0,\n",
              "  0.0,\n",
              "  0.1981507731958763,\n",
              "  0.0,\n",
              "  0.0001328125,\n",
              "  3.5957214082214084,\n",
              "  1.0879495443689569,\n",
              "  0.0,\n",
              "  0.0028799612778315584,\n",
              "  0.0,\n",
              "  6.358282007062495,\n",
              "  0.002951914514692787,\n",
              "  0.25748132298760074,\n",
              "  0.0,\n",
              "  1.3666213768115942,\n",
              "  0.0,\n",
              "  0.0,\n",
              "  0.0,\n",
              "  0.0,\n",
              "  0.0,\n",
              "  3.222482486865149,\n",
              "  0.0,\n",
              "  0.0,\n",
              "  0.0,\n",
              "  0.0,\n",
              "  0.0,\n",
              "  0.0,\n",
              "  0.0,\n",
              "  0.0,\n",
              "  0.0,\n",
              "  0.6291930073538898,\n",
              "  0.0,\n",
              "  0.0,\n",
              "  0.0820824328796994,\n",
              "  0.0,\n",
              "  0.0,\n",
              "  0.0,\n",
              "  12.060697903014416,\n",
              "  0.0,\n",
              "  0.0,\n",
              "  0.0,\n",
              "  0.0,\n",
              "  0.0,\n",
              "  0.0,\n",
              "  0.0,\n",
              "  1.0987127761767532,\n",
              "  0.0,\n",
              "  50.83512072198781,\n",
              "  0.0,\n",
              "  0.002938983050847458,\n",
              "  0.0,\n",
              "  0.0,\n",
              "  0.1994389901823282,\n",
              "  0.0,\n",
              "  0.0,\n",
              "  0.33124487452845663,\n",
              "  1.2763090349075976,\n",
              "  2.0047673845142198,\n",
              "  1.1827519379844962,\n",
              "  0.0,\n",
              "  0.1936130275974026,\n",
              "  0.0,\n",
              "  0.0,\n",
              "  0.00043019711860221957,\n",
              "  0.0,\n",
              "  0.0,\n",
              "  0.0,\n",
              "  0.028946169139777947,\n",
              "  0.012628309022150189,\n",
              "  0.0,\n",
              "  0.000740418118466899,\n",
              "  0.0,\n",
              "  0.0,\n",
              "  0.05260898556221882,\n",
              "  0.0,\n",
              "  0.0,\n",
              "  0.0021309192200557104,\n",
              "  0.0,\n",
              "  0.007339909782845582,\n",
              "  0.0,\n",
              "  0.0,\n",
              "  0.4220236228702833,\n",
              "  0.0432452996232365,\n",
              "  0.0,\n",
              "  0.0,\n",
              "  0.00036797173977038566,\n",
              "  5.076194758478931,\n",
              "  0.0,\n",
              "  0.0,\n",
              "  0.12325,\n",
              "  0.0,\n",
              "  0.004985332489013672,\n",
              "  0.0,\n",
              "  0.0,\n",
              "  0.0,\n",
              "  0.0,\n",
              "  0.0,\n",
              "  0.8326388888888889,\n",
              "  0.0,\n",
              "  0.0,\n",
              "  0.008905652470008905,\n",
              "  0.0013099090768993681,\n",
              "  0.06182018409135077,\n",
              "  0.0,\n",
              "  0.0,\n",
              "  0.0,\n",
              "  0.0,\n",
              "  0.0,\n",
              "  0.018380313457108406,\n",
              "  0.0,\n",
              "  0.00014574759945130316,\n",
              "  0.0,\n",
              "  0.0,\n",
              "  0.0,\n",
              "  0.0,\n",
              "  0.0,\n",
              "  0.0,\n",
              "  0.0,\n",
              "  0.0,\n",
              "  0.0,\n",
              "  0.0,\n",
              "  3.632556750298686,\n",
              "  0.00022960065692799724,\n",
              "  0.49206865010591183,\n",
              "  0.0004773028458480268,\n",
              "  0.0,\n",
              "  0.0,\n",
              "  0.004510304719724359,\n",
              "  0.0,\n",
              "  0.0,\n",
              "  0.0,\n",
              "  0.0,\n",
              "  1.5472729789590254,\n",
              "  0.0,\n",
              "  1.1402977744019098,\n",
              "  0.0,\n",
              "  0.017125904928647854,\n",
              "  0.0,\n",
              "  24.455554864931127,\n",
              "  0.0,\n",
              "  0.0,\n",
              "  0.0,\n",
              "  0.0,\n",
              "  0.0,\n",
              "  0.0,\n",
              "  0.0,\n",
              "  0.0,\n",
              "  0.43553719008264463,\n",
              "  0.0,\n",
              "  0.0,\n",
              "  0.10976744186046512,\n",
              "  0.0027218581218111564,\n",
              "  0.07755053588386922,\n",
              "  0.00026801029159519727,\n",
              "  0.0005115797582936107,\n",
              "  0.03511935991605456,\n",
              "  0.9832275390625,\n",
              "  0.0,\n",
              "  0.0015787728026533997,\n",
              "  0.0,\n",
              "  0.0,\n",
              "  0.0,\n",
              "  0.09011060692002269,\n",
              "  0.0,\n",
              "  0.013076923076923076,\n",
              "  0.0006832797427652733,\n",
              "  0.9380883567299753,\n",
              "  None,\n",
              "  0.0011067708333333333,\n",
              "  0.001409952606635071,\n",
              "  0.0,\n",
              "  0.0010220932469697942,\n",
              "  0.6890532544378698,\n",
              "  0.10722328244274809,\n",
              "  0.0,\n",
              "  4.922705454545454,\n",
              "  0.005737921906022502,\n",
              "  0.017216435185185185,\n",
              "  0.0,\n",
              "  0.0,\n",
              "  0.0,\n",
              "  0.0,\n",
              "  0.0,\n",
              "  0.003164321346139528,\n",
              "  0.00012159347534179688,\n",
              "  0.0,\n",
              "  0.0,\n",
              "  0.0,\n",
              "  0.0,\n",
              "  0.0,\n",
              "  0.17190545808966862,\n",
              "  0.0,\n",
              "  None,\n",
              "  0.05226218824414087,\n",
              "  4.478235309153184,\n",
              "  34.71575598802395,\n",
              "  0.9477919211320814,\n",
              "  0.0,\n",
              "  0.004464698515214171,\n",
              "  0.49771484375,\n",
              "  0.0,\n",
              "  0.002362055933484505,\n",
              "  0.0,\n",
              "  0.3934289956987451,\n",
              "  0.7637857142857143,\n",
              "  0.0,\n",
              "  0.0,\n",
              "  0.0,\n",
              "  3.150059523809524,\n",
              "  0.0,\n",
              "  0.0,\n",
              "  0.2575846115625776,\n",
              "  0.0,\n",
              "  0.0,\n",
              "  0.0,\n",
              "  0.4115804036458333,\n",
              "  0.0,\n",
              "  1.70906432748538,\n",
              "  0.0,\n",
              "  0.804941811435318,\n",
              "  0.0,\n",
              "  0.2536348267117498,\n",
              "  0.0,\n",
              "  0.0,\n",
              "  0.0,\n",
              "  0.5403437282589583,\n",
              "  0.0,\n",
              "  0.00041023166023166025,\n",
              "  6.356207871428123e-05,\n",
              "  0.03807042253521127,\n",
              "  0.00011797332923742272,\n",
              "  0.0008603061951042713,\n",
              "  0.1956372893258427,\n",
              "  0.0,\n",
              "  0.0,\n",
              "  0.0,\n",
              "  0.0,\n",
              "  2.138325668896321,\n",
              "  0.0,\n",
              "  0.0,\n",
              "  0.0,\n",
              "  0.719758064516129,\n",
              "  0.0,\n",
              "  0.0,\n",
              "  0.00645138439119171,\n",
              "  0.0,\n",
              "  0.0,\n",
              "  0.0,\n",
              "  0.0,\n",
              "  0.0,\n",
              "  0.0,\n",
              "  0.078139923591213,\n",
              "  0.0009884372226076912,\n",
              "  10.823790322580646,\n",
              "  0.0,\n",
              "  0.004992951127819549,\n",
              "  0.0,\n",
              "  0.10385983890728046,\n",
              "  0.0,\n",
              "  0.0,\n",
              "  0.005258244477437351,\n",
              "  0.0,\n",
              "  0.0,\n",
              "  0.0,\n",
              "  0.0,\n",
              "  0.0,\n",
              "  0.0,\n",
              "  0.0,\n",
              "  0.0,\n",
              "  0.0,\n",
              "  0.0,\n",
              "  0.0,\n",
              "  0.0,\n",
              "  0.6356444906444907,\n",
              "  None,\n",
              "  0.01221875,\n",
              "  0.0,\n",
              "  0.5028714627138898,\n",
              "  0.0,\n",
              "  1.0060066897385371,\n",
              "  0.094299227310769,\n",
              "  0.026272727272727274,\n",
              "  0.0,\n",
              "  0.0,\n",
              "  0.0,\n",
              "  0.0,\n",
              "  0.212925,\n",
              "  0.0,\n",
              "  0.10822023170813494,\n",
              "  0.0,\n",
              "  0.0986,\n",
              "  2.455291658388323,\n",
              "  0.0,\n",
              "  None,\n",
              "  0.0,\n",
              "  0.0,\n",
              "  0.0,\n",
              "  2.222027919990475,\n",
              "  0.09937591532562912,\n",
              "  0.010679301533219762,\n",
              "  0.0,\n",
              "  0.0,\n",
              "  10.018844367015099,\n",
              "  0.0,\n",
              "  0.0,\n",
              "  1.464105761529649,\n",
              "  0.040625,\n",
              "  0.07899088413186907,\n",
              "  0.0,\n",
              "  0.0,\n",
              "  0.0,\n",
              "  0.0,\n",
              "  3.9887899543378995,\n",
              "  0.0,\n",
              "  0.0,\n",
              "  0.001995867380482765,\n",
              "  0.005829903978052126,\n",
              "  0.008661684782608696,\n",
              "  0.2372836719337848,\n",
              "  0.0,\n",
              "  0.0008744855967078189,\n",
              "  0.7496452391088406,\n",
              "  5.993597830980759,\n",
              "  0.03364205498902801,\n",
              "  0.0,\n",
              "  2.786514719848053,\n",
              "  0.0,\n",
              "  0.09383562994066276,\n",
              "  0.0,\n",
              "  0.09123883928571429,\n",
              "  0.0,\n",
              "  0.0,\n",
              "  0.0,\n",
              "  0.09861526946107785,\n",
              "  0.0,\n",
              "  0.0,\n",
              "  0.0,\n",
              "  0.0,\n",
              "  12.984622122122122,\n",
              "  0.0,\n",
              "  0.0,\n",
              "  0.0,\n",
              "  0.11356243920233464,\n",
              "  0.0,\n",
              "  0.0,\n",
              "  0.0,\n",
              "  0.34986,\n",
              "  0.0,\n",
              "  0.0,\n",
              "  0.0,\n",
              "  0.0,\n",
              "  0.0,\n",
              "  0.0,\n",
              "  0.0,\n",
              "  0.0,\n",
              "  0.7292713567839196,\n",
              "  1.4297982551799346,\n",
              "  0.0,\n",
              "  0.0,\n",
              "  0.0,\n",
              "  0.06171617161716172,\n",
              "  0.0,\n",
              "  None,\n",
              "  14.7698558468303,\n",
              "  0.0,\n",
              "  0.0,\n",
              "  0.0,\n",
              "  0.1105,\n",
              "  0.02186727972774538,\n",
              "  0.0,\n",
              "  0.0,\n",
              "  0.0,\n",
              "  0.0,\n",
              "  0.0,\n",
              "  0.0,\n",
              "  0.0,\n",
              "  0.27506437768240344,\n",
              "  1.5742,\n",
              "  0.04089437162683115,\n",
              "  0.23687770562770563,\n",
              "  0.0,\n",
              "  0.0,\n",
              "  0.0,\n",
              "  0.0,\n",
              "  1.2752146464646466,\n",
              "  0.0,\n",
              "  1.4431464174454829,\n",
              "  0.0,\n",
              "  0.0051,\n",
              "  0.04070616883116883,\n",
              "  0.03801341649994115,\n",
              "  0.11281265952016335,\n",
              "  0.0,\n",
              "  0.0,\n",
              "  0.0,\n",
              "  0.0,\n",
              "  0.0,\n",
              "  0.0,\n",
              "  0.003920893861293346,\n",
              "  0.0,\n",
              "  0.0,\n",
              "  0.0,\n",
              "  0.0,\n",
              "  0.0,\n",
              "  0.22866847826086956,\n",
              "  0.03992622918397215,\n",
              "  0.1580413179916318,\n",
              "  0.0,\n",
              "  0.0,\n",
              "  0.0,\n",
              "  0.4869172306877907,\n",
              "  3.1620223978919633,\n",
              "  0.003361581920903955,\n",
              "  0.07828999395264455,\n",
              "  0.0,\n",
              "  0.0,\n",
              "  0.0,\n",
              "  0.06006747159090909,\n",
              "  0.005143775301531655,\n",
              "  0.0,\n",
              "  1.0017681121826172,\n",
              "  31.259751861042183,\n",
              "  19.484293325291517,\n",
              "  1.0358061325420376,\n",
              "  1.5064225337725683,\n",
              "  0.0,\n",
              "  0.0,\n",
              "  0.0,\n",
              "  0.01372443487621098,\n",
              "  0.0,\n",
              "  0.0,\n",
              "  None,\n",
              "  0.0004098597797365325,\n",
              "  0.0,\n",
              "  0.0,\n",
              "  0.0,\n",
              "  0.8695940740740741,\n",
              "  0.0,\n",
              "  0.7785101452905812,\n",
              "  2.6843212618348584,\n",
              "  0.0,\n",
              "  0.0,\n",
              "  0.007548357929408726,\n",
              "  0.0,\n",
              "  0.0,\n",
              "  0.04514688601645123,\n",
              "  0.0,\n",
              "  0.2704268292682927,\n",
              "  None,\n",
              "  0.0,\n",
              "  0.0,\n",
              "  0.0,\n",
              "  0.0,\n",
              "  0.0,\n",
              "  0.0,\n",
              "  None,\n",
              "  0.0012569951162042692,\n",
              "  0.0,\n",
              "  0.3885,\n",
              "  0.0,\n",
              "  0.010831024930747923,\n",
              "  0.10467592592592592,\n",
              "  0.0,\n",
              "  0.0,\n",
              "  0.0,\n",
              "  0.0,\n",
              "  0.0,\n",
              "  0.4036702626641651,\n",
              "  0.2308296783625731,\n",
              "  0.0,\n",
              "  0.14110760711598225,\n",
              "  0.0,\n",
              "  0.0,\n",
              "  0.0,\n",
              "  0.0,\n",
              "  0.06441492829204694,\n",
              "  0.0,\n",
              "  0.0,\n",
              "  0.0,\n",
              "  0.0,\n",
              "  0.0,\n",
              "  0.0,\n",
              "  0.0,\n",
              "  0.0,\n",
              "  0.03335910090979366,\n",
              "  0.03079338244173409,\n",
              "  0.9826365894039735,\n",
              "  0.0,\n",
              "  0.0,\n",
              "  0.4673081492040865,\n",
              "  0.0,\n",
              "  1.257474623019013,\n",
              "  0.0,\n",
              "  None,\n",
              "  0.0,\n",
              "  0.0036956521739130435,\n",
              "  0.0,\n",
              "  0.0,\n",
              "  0.0013974440474363752,\n",
              "  0.4037751479289941,\n",
              "  0.1087921142578125,\n",
              "  0.02935787254742987,\n",
              "  0.0,\n",
              "  3.7284297963558415,\n",
              "  0.0,\n",
              "  0.04214086138748807,\n",
              "  0.0,\n",
              "  0.0,\n",
              "  0.012435421518673082,\n",
              "  0.0,\n",
              "  0.0,\n",
              "  0.0,\n",
              "  0.0,\n",
              "  0.0008750149267252206,\n",
              "  0.0,\n",
              "  0.0,\n",
              "  1.3568614105147851,\n",
              "  0.0,\n",
              "  0.0,\n",
              "  0.0,\n",
              "  0.1532433056325023,\n",
              "  None,\n",
              "  0.0,\n",
              "  0.019905063291139242,\n",
              "  0.0,\n",
              "  0.7711861548159408,\n",
              "  0.09826229782604147,\n",
              "  0.0,\n",
              "  0.0,\n",
              "  0.30089531680440773,\n",
              "  0.0,\n",
              "  37.71602646260555,\n",
              "  0.0,\n",
              "  0.0,\n",
              "  0.0,\n",
              "  0.0,\n",
              "  0.2829244482173175,\n",
              "  0.0,\n",
              "  0.0,\n",
              "  0.0019062570082978246,\n",
              "  0.0,\n",
              "  0.0,\n",
              "  0.0,\n",
              "  0.0,\n",
              "  0.0,\n",
              "  0.0,\n",
              "  0.0,\n",
              "  0.0,\n",
              "  0.00722758925214963,\n",
              "  0.0,\n",
              "  12.505906901916225,\n",
              "  0.44165676959619954,\n",
              "  1.1338743776853304,\n",
              "  0.005019685039370079,\n",
              "  0.0,\n",
              "  0.00011606076122205155,\n",
              "  0.0,\n",
              "  0.13107776641845703,\n",
              "  0.7220516664711554,\n",
              "  2.140329461265251,\n",
              "  0.0,\n",
              "  0.0,\n",
              "  0.4654449588477366,\n",
              "  0.0,\n",
              "  None,\n",
              "  15.175167836695747,\n",
              "  0.15439100116408797,\n",
              "  0.0060056624817685245,\n",
              "  0.0,\n",
              "  4.987716047870892,\n",
              "  7.279436728395062,\n",
              "  0.0,\n",
              "  0.0,\n",
              "  0.2675925925925926,\n",
              "  0.0,\n",
              "  0.0,\n",
              "  0.0,\n",
              "  2.406336213430347,\n",
              "  0.0,\n",
              "  0.0,\n",
              "  0.0,\n",
              "  0.03501669152638682,\n",
              "  0.0,\n",
              "  0.0,\n",
              "  0.0,\n",
              "  0.035318559556786706,\n",
              "  0.0,\n",
              "  0.0,\n",
              "  0.0,\n",
              "  0.0,\n",
              "  0.0,\n",
              "  0.0,\n",
              "  0.004604166666666667,\n",
              "  0.05627518710420265,\n",
              "  0.0,\n",
              "  0.0007632148404880983,\n",
              "  0.0,\n",
              "  0.0,\n",
              "  0.0,\n",
              "  1.52471480326902,\n",
              "  0.024066694630872482,\n",
              "  0.07797333333333334,\n",
              "  0.06867135373634345,\n",
              "  0.09524936868686869,\n",
              "  0.0,\n",
              "  0.0,\n",
              "  0.0,\n",
              "  0.0,\n",
              "  0.0,\n",
              "  0.0,\n",
              "  2.19281914893617,\n",
              "  0.0,\n",
              "  0.00049395629939563,\n",
              "  0.050090935877505814,\n",
              "  0.05592471358428805,\n",
              "  0.24806144380294154,\n",
              "  0.0,\n",
              "  0.0,\n",
              "  0.0,\n",
              "  0.0,\n",
              "  0.0,\n",
              "  0.0,\n",
              "  0.0,\n",
              "  0.44414336844948676,\n",
              "  0.020344145260967034,\n",
              "  0.0030769107012138712,\n",
              "  0.0009037701528475712,\n",
              "  0.0,\n",
              "  0.0,\n",
              "  0.0,\n",
              "  0.2574775128405476,\n",
              "  0.0012254901960784314,\n",
              "  0.09973711208002052,\n",
              "  0.0,\n",
              "  0.33661976089635476,\n",
              "  0.0,\n",
              "  0.14817691477885653,\n",
              "  0.32726284958427815,\n",
              "  0.011291512915129151,\n",
              "  0.0,\n",
              "  0.0,\n",
              "  6.91592441020703,\n",
              "  0.0,\n",
              "  0.018814229249011858,\n",
              "  0.00328379735750895,\n",
              "  None,\n",
              "  0.0,\n",
              "  0.0,\n",
              "  0.0,\n",
              "  0.0,\n",
              "  0.0,\n",
              "  0.0,\n",
              "  0.0,\n",
              "  0.029094827586206896,\n",
              "  0.12052516411378555,\n",
              "  None,\n",
              "  0.0,\n",
              "  0.0,\n",
              "  3.519388440860215,\n",
              "  0.08846938775510205,\n",
              "  10.47236376335381,\n",
              "  0.0,\n",
              "  4.93337347505105,\n",
              "  0.0,\n",
              "  0.0,\n",
              "  0.04003634672261288,\n",
              "  0.2253201987681971,\n",
              "  0.0,\n",
              "  1.7298245614035088,\n",
              "  0.13469847720478326,\n",
              "  0.5664305555555555,\n",
              "  0.0,\n",
              "  0.0,\n",
              "  0.9477919211320814,\n",
              "  0.0,\n",
              "  3.701780415430267,\n",
              "  0.03950595308729876,\n",
              "  0.0,\n",
              "  0.0,\n",
              "  0.0025185185185185185,\n",
              "  0.0,\n",
              "  0.0,\n",
              "  0.030323561946902656,\n",
              "  0.0,\n",
              "  0.4890357991133185,\n",
              "  0.0,\n",
              "  0.0,\n",
              "  0.10557653532956811,\n",
              "  0.0,\n",
              "  0.7722470559658293,\n",
              "  0.0,\n",
              "  0.0,\n",
              "  0.0012830576017389204,\n",
              "  0.49848751919031103,\n",
              "  0.0,\n",
              "  4.117545401288811,\n",
              "  0.1055859375,\n",
              "  0.0,\n",
              "  0.0,\n",
              "  0.0,\n",
              "  0.0,\n",
              "  0.0,\n",
              "  0.0,\n",
              "  0.0035983112691120676,\n",
              "  0.12607104121475055,\n",
              "  0.35985589027404785,\n",
              "  0.0,\n",
              "  0.0,\n",
              "  0.0,\n",
              "  0.0,\n",
              "  0.0,\n",
              "  0.0,\n",
              "  0.0,\n",
              "  0.23208917835671342,\n",
              "  0.02135991456034176,\n",
              "  0.009945159122545962,\n",
              "  0.0,\n",
              "  0.09551432291666667,\n",
              "  0.034,\n",
              "  0.0,\n",
              "  37.02200684150513,\n",
              "  0.0,\n",
              "  0.6125448591793871,\n",
              "  0.0,\n",
              "  0.0,\n",
              "  0.0,\n",
              "  0.0,\n",
              "  0.0,\n",
              "  0.005486230636833046,\n",
              "  0.0,\n",
              "  0.0,\n",
              "  0.0,\n",
              "  0.0,\n",
              "  0.0,\n",
              "  0.09834685443134854,\n",
              "  0.0,\n",
              "  0.0,\n",
              "  0.0,\n",
              "  0.1439178641476204,\n",
              "  0.0,\n",
              "  0.022420637537422683,\n",
              "  0.009569067860213146,\n",
              "  1.167746142569267,\n",
              "  0.0,\n",
              "  0.006524520255863539,\n",
              "  0.0,\n",
              "  None,\n",
              "  0.0,\n",
              "  0.0,\n",
              "  0.0,\n",
              "  0.0,\n",
              "  0.0,\n",
              "  0.013558295419997974,\n",
              "  0.0,\n",
              "  0.0,\n",
              "  0.0020190023752969122,\n",
              "  0.08687906371911573,\n",
              "  0.0,\n",
              "  0.020363937318276362,\n",
              "  0.0,\n",
              "  0.022552176930057115,\n",
              "  0.0,\n",
              "  0.0,\n",
              "  0.0,\n",
              "  0.0,\n",
              "  0.0,\n",
              "  0.0,\n",
              "  12.247045491338838,\n",
              "  0.07535384354606323,\n",
              "  0.0,\n",
              "  0.0,\n",
              "  0.0,\n",
              "  0.0,\n",
              "  0.0,\n",
              "  0.0,\n",
              "  0.0,\n",
              "  0.01060079485175516,\n",
              "  16.290386546184738,\n",
              "  0.0,\n",
              "  0.0,\n",
              "  0.0,\n",
              "  0.09998179169701384,\n",
              "  0.001614434947768281,\n",
              "  0.0,\n",
              "  0.0,\n",
              "  0.0,\n",
              "  0.0,\n",
              "  0.0,\n",
              "  0.0,\n",
              "  0.30069305131694585,\n",
              "  0.20689068418560605,\n",
              "  0.004038516359950587,\n",
              "  0.0,\n",
              "  0.0,\n",
              "  0.0,\n",
              "  19.496501769863762,\n",
              "  None,\n",
              "  0.0009227696115682741,\n",
              "  0.0007030603804797353,\n",
              "  39.174675707547166,\n",
              "  0.00408,\n",
              "  0.3923076923076923,\n",
              "  1.8219354130052725,\n",
              "  0.023181818181818182,\n",
              "  0.0,\n",
              "  0.0,\n",
              "  0.0,\n",
              "  0.002779282898301601,\n",
              "  0.0,\n",
              "  0.0,\n",
              "  0.0,\n",
              "  0.0,\n",
              "  0.015454545454545455,\n",
              "  0.0,\n",
              "  0.0,\n",
              "  0.0,\n",
              "  0.0,\n",
              "  0.00010090218423551757,\n",
              "  0.4509575569358178,\n",
              "  0.0,\n",
              "  0.01145405544147844,\n",
              "  0.0,\n",
              "  0.0007308275977696862,\n",
              "  0.051354166666666666,\n",
              "  0.0,\n",
              "  0.0,\n",
              "  0.0,\n",
              "  0.0,\n",
              "  0.0,\n",
              "  0.01777331102957047,\n",
              "  0.0,\n",
              "  0.0,\n",
              "  0.0,\n",
              "  0.056513393246662595,\n",
              "  0.02073948948948949,\n",
              "  0.0,\n",
              "  2.692667844522968,\n",
              "  0.0,\n",
              "  0.0,\n",
              "  0.0,\n",
              "  0.006711686983463305,\n",
              "  0.4010157656345105,\n",
              "  0.0,\n",
              "  0.0,\n",
              "  0.2281441717791411,\n",
              "  0.0,\n",
              "  0.0,\n",
              "  0.0,\n",
              "  0.0,\n",
              "  5.638883295747423,\n",
              "  0.01430047225501771,\n",
              "  0.0,\n",
              "  2.2931025140875594,\n",
              "  0.03836763662171753,\n",
              "  0.0,\n",
              "  0.07230029585798817,\n",
              "  0.0,\n",
              "  0.13694989577191075,\n",
              "  0.2137973137973138,\n",
              "  0.0,\n",
              "  0.06717805671780568,\n",
              "  0.05524553571428571,\n",
              "  0.0,\n",
              "  0.0,\n",
              "  1.479,\n",
              "  0.5651106126237624,\n",
              "  None,\n",
              "  0.0,\n",
              "  0.0,\n",
              "  0.7825132962865797,\n",
              "  0.45271718968226254,\n",
              "  0.0,\n",
              "  0.26125541125541124,\n",
              "  2.653760184584325,\n",
              "  0.0,\n",
              "  2.2978866558240396,\n",
              "  0.000796875,\n",
              "  0.0028358540925266904,\n",
              "  0.003132370283018868,\n",
              "  3.452515768348624,\n",
              "  0.0,\n",
              "  0.0041055661817268494,\n",
              "  0.0,\n",
              "  0.0,\n",
              "  0.18813333333333335,\n",
              "  0.0,\n",
              "  0.0021911451955919314,\n",
              "  0.0,\n",
              "  0.0010668563300142249,\n",
              "  0.0008613506879546018,\n",
              "  0.06480884879725086,\n",
              "  0.0,\n",
              "  0.0,\n",
              "  0.000631855424871151,\n",
              "  0.0,\n",
              "  0.0,\n",
              "  0.1671583087512291,\n",
              "  0.0,\n",
              "  0.0,\n",
              "  0.0056487341772151894,\n",
              "  0.0,\n",
              "  0.0,\n",
              "  0.0,\n",
              "  0.32502590673575127,\n",
              "  0.0,\n",
              "  0.0,\n",
              "  0.01879145173176124,\n",
              "  0.0002625617792421746,\n",
              "  0.0,\n",
              "  0.10011778563015312,\n",
              "  0.09036351165980795,\n",
              "  0.0,\n",
              "  0.0,\n",
              "  0.0,\n",
              "  0.2772168945113242,\n",
              "  0.0,\n",
              "  0.0,\n",
              "  0.0,\n",
              "  0.00012644858005682747,\n",
              "  0.0,\n",
              "  0.009207105719237435,\n",
              "  0.0,\n",
              "  38.72792107212607,\n",
              "  0.0,\n",
              "  0.0,\n",
              "  0.0,\n",
              "  0.0,\n",
              "  0.0,\n",
              "  0.0,\n",
              "  0.001231646058732612,\n",
              "  0.0,\n",
              "  0.0,\n",
              "  ...],\n",
              " 'medium_sea_green': [0.0077239466258548954,\n",
              "  0.0,\n",
              "  0.00014361213235294118,\n",
              "  0.0,\n",
              "  0.0,\n",
              "  0.0,\n",
              "  0.0,\n",
              "  0.0,\n",
              "  0.0,\n",
              "  0.0,\n",
              "  0.0,\n",
              "  0.0,\n",
              "  0.0,\n",
              "  0.0,\n",
              "  0.0,\n",
              "  0.0,\n",
              "  0.0,\n",
              "  0.0,\n",
              "  None,\n",
              "  0.0,\n",
              "  0.0010338159159000888,\n",
              "  0.0,\n",
              "  0.0,\n",
              "  0.0,\n",
              "  0.0,\n",
              "  0.0,\n",
              "  0.0,\n",
              "  0.0,\n",
              "  0.0,\n",
              "  2.70990625,\n",
              "  0.0,\n",
              "  0.0142669677734375,\n",
              "  0.0,\n",
              "  0.5531246899406104,\n",
              "  None,\n",
              "  0.0,\n",
              "  0.0,\n",
              "  0.0,\n",
              "  0.0,\n",
              "  0.0,\n",
              "  0.0,\n",
              "  0.0,\n",
              "  0.0,\n",
              "  0.0,\n",
              "  0.0,\n",
              "  0.0,\n",
              "  0.0,\n",
              "  0.0,\n",
              "  0.0,\n",
              "  0.0,\n",
              "  0.0,\n",
              "  0.0,\n",
              "  0.0,\n",
              "  0.0,\n",
              "  0.0,\n",
              "  0.0,\n",
              "  2.107129099666947,\n",
              "  0.0,\n",
              "  0.0,\n",
              "  0.0,\n",
              "  0.020360847398030943,\n",
              "  None,\n",
              "  0.0,\n",
              "  0.01540625,\n",
              "  0.0,\n",
              "  0.0,\n",
              "  0.0,\n",
              "  0.0,\n",
              "  0.013204071273541973,\n",
              "  0.0,\n",
              "  0.0,\n",
              "  0.0,\n",
              "  0.0,\n",
              "  2.304461741961742,\n",
              "  0.0,\n",
              "  0.0,\n",
              "  0.0,\n",
              "  0.0,\n",
              "  0.0,\n",
              "  0.0,\n",
              "  0.0,\n",
              "  0.0,\n",
              "  0.048910855562556886,\n",
              "  0.0,\n",
              "  0.0,\n",
              "  0.0,\n",
              "  0.0,\n",
              "  0.0,\n",
              "  0.0,\n",
              "  0.0,\n",
              "  0.0,\n",
              "  0.0,\n",
              "  0.0,\n",
              "  0.0,\n",
              "  0.0,\n",
              "  0.0,\n",
              "  0.0,\n",
              "  0.0,\n",
              "  0.0,\n",
              "  0.0,\n",
              "  0.0,\n",
              "  0.0,\n",
              "  0.0,\n",
              "  0.0,\n",
              "  0.0,\n",
              "  5.7212074049803405,\n",
              "  0.0,\n",
              "  0.0,\n",
              "  0.0,\n",
              "  0.0,\n",
              "  0.0,\n",
              "  0.0,\n",
              "  0.0,\n",
              "  0.0,\n",
              "  0.006686332350049164,\n",
              "  0.0,\n",
              "  0.0,\n",
              "  0.0,\n",
              "  0.029941626409017714,\n",
              "  0.0,\n",
              "  0.0,\n",
              "  0.0,\n",
              "  0.0,\n",
              "  0.033459078235197635,\n",
              "  0.0,\n",
              "  0.0006164721354594773,\n",
              "  0.0,\n",
              "  0.0,\n",
              "  0.02156047077922078,\n",
              "  0.0,\n",
              "  0.0,\n",
              "  0.0,\n",
              "  0.0,\n",
              "  0.0,\n",
              "  0.0,\n",
              "  0.0,\n",
              "  0.0,\n",
              "  0.0,\n",
              "  0.0,\n",
              "  0.0,\n",
              "  0.0,\n",
              "  0.0,\n",
              "  0.0,\n",
              "  0.0,\n",
              "  0.0,\n",
              "  0.0,\n",
              "  0.0,\n",
              "  0.0,\n",
              "  0.0,\n",
              "  0.0,\n",
              "  0.0011687918817090946,\n",
              "  0.0,\n",
              "  0.0,\n",
              "  0.0,\n",
              "  14.2818345323741,\n",
              "  0.0,\n",
              "  0.0,\n",
              "  0.0,\n",
              "  0.0,\n",
              "  0.01677989959716797,\n",
              "  0.0,\n",
              "  0.0,\n",
              "  0.0,\n",
              "  0.0,\n",
              "  0.0,\n",
              "  0.0,\n",
              "  0.0,\n",
              "  0.0,\n",
              "  0.0,\n",
              "  0.0,\n",
              "  0.0,\n",
              "  0.0,\n",
              "  0.0,\n",
              "  0.0,\n",
              "  0.0,\n",
              "  0.0,\n",
              "  0.0,\n",
              "  0.0,\n",
              "  0.0,\n",
              "  0.0,\n",
              "  0.0,\n",
              "  0.0,\n",
              "  0.0,\n",
              "  0.0,\n",
              "  0.0,\n",
              "  0.0,\n",
              "  0.0,\n",
              "  0.0,\n",
              "  0.0,\n",
              "  0.0038082437275985663,\n",
              "  0.0,\n",
              "  0.0,\n",
              "  0.0,\n",
              "  0.0,\n",
              "  0.0,\n",
              "  0.0,\n",
              "  0.0,\n",
              "  0.0,\n",
              "  0.0,\n",
              "  0.0,\n",
              "  0.0,\n",
              "  0.0,\n",
              "  0.0,\n",
              "  0.0,\n",
              "  0.0,\n",
              "  0.0,\n",
              "  0.029351538193257434,\n",
              "  0.0,\n",
              "  0.0,\n",
              "  0.0,\n",
              "  0.0,\n",
              "  0.0,\n",
              "  0.0,\n",
              "  0.0,\n",
              "  0.0,\n",
              "  0.0,\n",
              "  0.0,\n",
              "  0.0,\n",
              "  0.0,\n",
              "  0.0,\n",
              "  0.0,\n",
              "  0.0,\n",
              "  0.0,\n",
              "  0.0,\n",
              "  0.0,\n",
              "  0.0,\n",
              "  0.0,\n",
              "  0.0,\n",
              "  0.0,\n",
              "  0.0,\n",
              "  0.07174134997163925,\n",
              "  0.0,\n",
              "  0.0,\n",
              "  0.0,\n",
              "  0.011932287365813378,\n",
              "  None,\n",
              "  0.0,\n",
              "  0.0,\n",
              "  0.0,\n",
              "  0.0,\n",
              "  0.0,\n",
              "  0.0,\n",
              "  0.0,\n",
              "  0.05285454545454545,\n",
              "  0.0,\n",
              "  0.00012297453703703702,\n",
              "  0.0,\n",
              "  0.0,\n",
              "  0.0,\n",
              "  0.0,\n",
              "  0.0,\n",
              "  0.0005273868910232547,\n",
              "  0.0,\n",
              "  0.0,\n",
              "  0.0,\n",
              "  0.0,\n",
              "  0.0,\n",
              "  0.0,\n",
              "  0.2696637426900585,\n",
              "  0.0,\n",
              "  None,\n",
              "  0.011279608973555583,\n",
              "  0.0,\n",
              "  0.0,\n",
              "  0.0,\n",
              "  0.0,\n",
              "  0.0,\n",
              "  0.0,\n",
              "  0.0,\n",
              "  0.0,\n",
              "  0.0,\n",
              "  0.0,\n",
              "  0.0,\n",
              "  0.0,\n",
              "  0.0,\n",
              "  0.0,\n",
              "  0.0,\n",
              "  0.0,\n",
              "  0.0,\n",
              "  0.0,\n",
              "  0.0,\n",
              "  0.0,\n",
              "  0.0,\n",
              "  0.08084615071614583,\n",
              "  0.0,\n",
              "  0.0,\n",
              "  0.0,\n",
              "  0.0,\n",
              "  0.0,\n",
              "  0.0,\n",
              "  0.0,\n",
              "  0.0,\n",
              "  0.0,\n",
              "  0.0,\n",
              "  0.0,\n",
              "  0.0,\n",
              "  0.0,\n",
              "  0.0,\n",
              "  0.0,\n",
              "  0.0,\n",
              "  0.012535112359550562,\n",
              "  0.0,\n",
              "  0.0,\n",
              "  0.0,\n",
              "  0.0,\n",
              "  0.036778846153846155,\n",
              "  0.0,\n",
              "  0.0,\n",
              "  0.0,\n",
              "  0.0,\n",
              "  0.0,\n",
              "  0.0,\n",
              "  0.000860184585492228,\n",
              "  0.0,\n",
              "  0.0,\n",
              "  0.0,\n",
              "  0.0,\n",
              "  0.0,\n",
              "  0.0,\n",
              "  0.0,\n",
              "  0.0,\n",
              "  0.010840210052513129,\n",
              "  0.0,\n",
              "  0.0,\n",
              "  0.0,\n",
              "  0.010801423246357167,\n",
              "  0.0,\n",
              "  0.0,\n",
              "  0.0,\n",
              "  0.0,\n",
              "  0.0,\n",
              "  0.0,\n",
              "  0.0,\n",
              "  0.0,\n",
              "  0.0,\n",
              "  0.0,\n",
              "  0.0,\n",
              "  0.0,\n",
              "  0.0,\n",
              "  0.0,\n",
              "  0.0,\n",
              "  0.0,\n",
              "  None,\n",
              "  0.00017708333333333335,\n",
              "  0.0,\n",
              "  0.0,\n",
              "  0.0,\n",
              "  0.0,\n",
              "  0.0,\n",
              "  0.0,\n",
              "  0.0,\n",
              "  0.0,\n",
              "  0.0,\n",
              "  0.0,\n",
              "  0.68255,\n",
              "  0.0,\n",
              "  0.0,\n",
              "  0.0,\n",
              "  0.0,\n",
              "  0.0,\n",
              "  0.0,\n",
              "  None,\n",
              "  0.0,\n",
              "  0.0,\n",
              "  0.0,\n",
              "  0.0,\n",
              "  0.034124117075278106,\n",
              "  0.0,\n",
              "  0.058663873535525324,\n",
              "  0.0,\n",
              "  0.0,\n",
              "  0.0,\n",
              "  0.0,\n",
              "  0.0,\n",
              "  0.0,\n",
              "  0.0,\n",
              "  0.0,\n",
              "  0.0,\n",
              "  0.0,\n",
              "  0.0,\n",
              "  0.9274315068493151,\n",
              "  0.0,\n",
              "  0.0,\n",
              "  0.0,\n",
              "  0.0,\n",
              "  0.001082710597826087,\n",
              "  0.0,\n",
              "  0.0,\n",
              "  0.0,\n",
              "  0.0,\n",
              "  0.049624231269697554,\n",
              "  0.0,\n",
              "  0.07457690023752969,\n",
              "  31.3329534662868,\n",
              "  0.0,\n",
              "  0.0,\n",
              "  0.0,\n",
              "  0.0,\n",
              "  0.0,\n",
              "  0.0,\n",
              "  0.0,\n",
              "  0.0,\n",
              "  0.0,\n",
              "  0.0,\n",
              "  0.0,\n",
              "  0.0,\n",
              "  0.4284034034034034,\n",
              "  0.0,\n",
              "  0.0,\n",
              "  0.0,\n",
              "  0.0,\n",
              "  0.0,\n",
              "  0.0,\n",
              "  0.0,\n",
              "  0.0,\n",
              "  0.0,\n",
              "  0.0,\n",
              "  0.0,\n",
              "  0.0,\n",
              "  0.0,\n",
              "  0.0,\n",
              "  0.0,\n",
              "  0.0,\n",
              "  0.0,\n",
              "  0.0,\n",
              "  0.0,\n",
              "  0.0,\n",
              "  0.0,\n",
              "  0.0,\n",
              "  0.0,\n",
              "  None,\n",
              "  0.13285931615368918,\n",
              "  0.0,\n",
              "  0.0,\n",
              "  0.0,\n",
              "  0.0,\n",
              "  0.11744449112204823,\n",
              "  0.0,\n",
              "  0.0,\n",
              "  0.0,\n",
              "  0.0,\n",
              "  0.0,\n",
              "  0.0,\n",
              "  0.0,\n",
              "  0.0,\n",
              "  0.0,\n",
              "  0.0006990490876381393,\n",
              "  0.0,\n",
              "  0.0,\n",
              "  0.0,\n",
              "  0.0,\n",
              "  0.0,\n",
              "  0.0,\n",
              "  0.0,\n",
              "  0.0,\n",
              "  0.0,\n",
              "  0.0,\n",
              "  0.0,\n",
              "  0.0,\n",
              "  0.0,\n",
              "  0.0,\n",
              "  0.0,\n",
              "  0.0,\n",
              "  0.0,\n",
              "  0.0,\n",
              "  0.0,\n",
              "  0.0,\n",
              "  0.0,\n",
              "  0.0,\n",
              "  0.0,\n",
              "  0.0,\n",
              "  0.0,\n",
              "  0.046773097826086955,\n",
              "  0.0,\n",
              "  0.0,\n",
              "  0.0,\n",
              "  0.0,\n",
              "  0.0,\n",
              "  0.0,\n",
              "  0.0,\n",
              "  0.0,\n",
              "  2.562035489746333,\n",
              "  0.0,\n",
              "  0.0,\n",
              "  0.0,\n",
              "  0.0,\n",
              "  0.0,\n",
              "  0.0,\n",
              "  0.0,\n",
              "  0.0,\n",
              "  0.7232860876558103,\n",
              "  0.0,\n",
              "  0.07886650152795867,\n",
              "  0.0,\n",
              "  0.0,\n",
              "  0.0,\n",
              "  0.0,\n",
              "  0.0,\n",
              "  0.0,\n",
              "  None,\n",
              "  0.0,\n",
              "  0.0,\n",
              "  0.0,\n",
              "  0.0,\n",
              "  0.0,\n",
              "  0.0,\n",
              "  0.0,\n",
              "  0.04617055947854427,\n",
              "  0.0,\n",
              "  0.0,\n",
              "  0.0,\n",
              "  0.0,\n",
              "  0.0,\n",
              "  0.0,\n",
              "  0.0,\n",
              "  0.0,\n",
              "  None,\n",
              "  0.0,\n",
              "  0.0,\n",
              "  0.0,\n",
              "  0.0,\n",
              "  0.0,\n",
              "  0.0,\n",
              "  None,\n",
              "  0.0,\n",
              "  0.0,\n",
              "  0.0,\n",
              "  0.0,\n",
              "  0.0,\n",
              "  0.0,\n",
              "  0.0,\n",
              "  0.0,\n",
              "  0.0,\n",
              "  0.0,\n",
              "  0.0019479166666666666,\n",
              "  0.0,\n",
              "  0.0,\n",
              "  0.0,\n",
              "  0.020018726269049384,\n",
              "  0.0,\n",
              "  0.0,\n",
              "  0.0,\n",
              "  0.0,\n",
              "  0.0,\n",
              "  0.0,\n",
              "  0.0,\n",
              "  0.0,\n",
              "  0.0,\n",
              "  0.0,\n",
              "  0.0,\n",
              "  0.0,\n",
              "  0.0,\n",
              "  0.0,\n",
              "  1.1325121764682204,\n",
              "  0.0,\n",
              "  0.0,\n",
              "  0.0,\n",
              "  0.0,\n",
              "  0.0,\n",
              "  0.0,\n",
              "  0.0,\n",
              "  None,\n",
              "  0.0,\n",
              "  0.0,\n",
              "  0.0,\n",
              "  0.0,\n",
              "  0.0,\n",
              "  0.0,\n",
              "  0.0,\n",
              "  0.0,\n",
              "  0.0,\n",
              "  0.0,\n",
              "  0.0,\n",
              "  0.3028059833719504,\n",
              "  0.0,\n",
              "  0.0,\n",
              "  0.0,\n",
              "  0.0,\n",
              "  0.0,\n",
              "  0.0,\n",
              "  0.0,\n",
              "  0.0,\n",
              "  0.0,\n",
              "  0.0,\n",
              "  0.0,\n",
              "  0.0,\n",
              "  0.0,\n",
              "  0.0,\n",
              "  0.0,\n",
              "  None,\n",
              "  0.0,\n",
              "  0.0,\n",
              "  0.0,\n",
              "  0.0,\n",
              "  0.07025087355888937,\n",
              "  0.0,\n",
              "  0.0,\n",
              "  0.0014634986225895317,\n",
              "  0.0,\n",
              "  0.0,\n",
              "  0.0,\n",
              "  0.0,\n",
              "  0.0,\n",
              "  0.00781390134529148,\n",
              "  0.0,\n",
              "  0.0,\n",
              "  0.025604382517565798,\n",
              "  0.0,\n",
              "  0.0,\n",
              "  0.0,\n",
              "  0.0,\n",
              "  0.1512927328740134,\n",
              "  0.0,\n",
              "  0.0,\n",
              "  0.0,\n",
              "  0.0,\n",
              "  0.0,\n",
              "  0.0,\n",
              "  0.0,\n",
              "  0.0,\n",
              "  0.0,\n",
              "  0.0,\n",
              "  0.0,\n",
              "  0.0,\n",
              "  0.0,\n",
              "  0.0,\n",
              "  0.0,\n",
              "  0.0,\n",
              "  0.0,\n",
              "  0.0,\n",
              "  0.0,\n",
              "  0.0,\n",
              "  None,\n",
              "  0.047360618865866955,\n",
              "  0.0,\n",
              "  0.0,\n",
              "  0.0,\n",
              "  0.0,\n",
              "  0.09094650205761316,\n",
              "  0.0,\n",
              "  0.0,\n",
              "  0.0,\n",
              "  0.0,\n",
              "  0.0,\n",
              "  0.0,\n",
              "  0.0,\n",
              "  0.09307297233881691,\n",
              "  0.0,\n",
              "  0.0,\n",
              "  0.018715817884792953,\n",
              "  0.0,\n",
              "  0.0,\n",
              "  0.0,\n",
              "  0.39537165281625114,\n",
              "  2.70990625,\n",
              "  0.0,\n",
              "  0.0,\n",
              "  0.0,\n",
              "  0.0,\n",
              "  0.0,\n",
              "  0.0,\n",
              "  0.07724730652191793,\n",
              "  0.0,\n",
              "  0.0,\n",
              "  0.0,\n",
              "  0.0,\n",
              "  0.0,\n",
              "  0.019937652708737045,\n",
              "  0.0,\n",
              "  0.0004533333333333333,\n",
              "  0.0,\n",
              "  0.0,\n",
              "  0.0,\n",
              "  0.0,\n",
              "  0.0,\n",
              "  0.3359758148757989,\n",
              "  0.0,\n",
              "  0.0,\n",
              "  0.0,\n",
              "  0.0,\n",
              "  0.0,\n",
              "  0.0,\n",
              "  0.0,\n",
              "  0.0,\n",
              "  0.0,\n",
              "  0.0,\n",
              "  0.0,\n",
              "  0.0,\n",
              "  0.0,\n",
              "  0.0,\n",
              "  0.0,\n",
              "  0.0,\n",
              "  0.22445628397814177,\n",
              "  0.0,\n",
              "  0.0,\n",
              "  0.0,\n",
              "  0.0,\n",
              "  0.0,\n",
              "  0.0,\n",
              "  0.0,\n",
              "  0.009156193895870737,\n",
              "  0.0,\n",
              "  0.0,\n",
              "  0.0,\n",
              "  0.0,\n",
              "  0.0,\n",
              "  0.003763837638376384,\n",
              "  0.0,\n",
              "  0.0,\n",
              "  0.0,\n",
              "  0.0,\n",
              "  0.0,\n",
              "  0.0,\n",
              "  None,\n",
              "  0.0,\n",
              "  0.0,\n",
              "  0.0,\n",
              "  0.0,\n",
              "  0.0,\n",
              "  0.0,\n",
              "  0.0,\n",
              "  0.0,\n",
              "  0.00018599562363238512,\n",
              "  None,\n",
              "  0.0,\n",
              "  0.0,\n",
              "  0.0,\n",
              "  0.0,\n",
              "  0.0,\n",
              "  0.0,\n",
              "  0.0,\n",
              "  0.0,\n",
              "  0.0,\n",
              "  0.0,\n",
              "  0.0,\n",
              "  0.0,\n",
              "  0.0,\n",
              "  0.0,\n",
              "  0.0,\n",
              "  0.0,\n",
              "  0.0,\n",
              "  0.0,\n",
              "  0.0,\n",
              "  0.0,\n",
              "  0.0,\n",
              "  0.0,\n",
              "  0.0,\n",
              "  0.0,\n",
              "  0.0,\n",
              "  0.0,\n",
              "  0.0,\n",
              "  0.05245885579937304,\n",
              "  0.0,\n",
              "  0.0,\n",
              "  0.0,\n",
              "  0.0,\n",
              "  0.0,\n",
              "  0.0,\n",
              "  0.0,\n",
              "  0.0,\n",
              "  0.0,\n",
              "  0.0,\n",
              "  0.0,\n",
              "  0.06373755125951963,\n",
              "  0.0159375,\n",
              "  0.0,\n",
              "  0.0,\n",
              "  0.0,\n",
              "  0.0,\n",
              "  0.0,\n",
              "  0.0,\n",
              "  0.0,\n",
              "  0.0,\n",
              "  0.0,\n",
              "  0.15006587615283268,\n",
              "  0.0,\n",
              "  0.0,\n",
              "  0.0,\n",
              "  0.0,\n",
              "  0.0,\n",
              "  0.0,\n",
              "  0.0,\n",
              "  0.0,\n",
              "  0.0,\n",
              "  0.0,\n",
              "  0.0,\n",
              "  0.0244375,\n",
              "  0.0,\n",
              "  0.0,\n",
              "  0.0,\n",
              "  0.0,\n",
              "  0.0,\n",
              "  0.0,\n",
              "  0.0,\n",
              "  0.0,\n",
              "  0.0,\n",
              "  0.0,\n",
              "  0.0,\n",
              "  0.0,\n",
              "  0.0,\n",
              "  0.0,\n",
              "  0.0,\n",
              "  0.0,\n",
              "  0.0,\n",
              "  0.0,\n",
              "  0.2766427104722793,\n",
              "  0.0,\n",
              "  0.0,\n",
              "  0.0,\n",
              "  0.0,\n",
              "  0.0,\n",
              "  0.0,\n",
              "  0.0,\n",
              "  0.0,\n",
              "  None,\n",
              "  0.0,\n",
              "  0.0,\n",
              "  0.0,\n",
              "  0.0,\n",
              "  0.0,\n",
              "  0.0,\n",
              "  0.0,\n",
              "  0.0,\n",
              "  0.0,\n",
              "  0.09997724317295188,\n",
              "  0.0,\n",
              "  0.0,\n",
              "  0.0,\n",
              "  0.0,\n",
              "  0.0,\n",
              "  0.0760255676704297,\n",
              "  0.0,\n",
              "  0.0,\n",
              "  0.0,\n",
              "  0.0,\n",
              "  0.12971507204144406,\n",
              "  0.0,\n",
              "  0.0,\n",
              "  0.0,\n",
              "  0.0,\n",
              "  0.0,\n",
              "  0.0,\n",
              "  0.0,\n",
              "  0.0,\n",
              "  0.0,\n",
              "  0.0,\n",
              "  0.0,\n",
              "  0.00036758346306867324,\n",
              "  0.0,\n",
              "  0.0,\n",
              "  0.0,\n",
              "  0.0,\n",
              "  0.0,\n",
              "  0.0,\n",
              "  0.0,\n",
              "  0.0,\n",
              "  0.0,\n",
              "  0.0,\n",
              "  0.0,\n",
              "  0.0,\n",
              "  0.0,\n",
              "  0.0,\n",
              "  0.0,\n",
              "  0.43226795695890513,\n",
              "  None,\n",
              "  0.0,\n",
              "  0.0,\n",
              "  0.0,\n",
              "  0.0,\n",
              "  0.0,\n",
              "  0.0,\n",
              "  0.45245454545454544,\n",
              "  0.0,\n",
              "  0.0,\n",
              "  0.0,\n",
              "  0.0,\n",
              "  0.0,\n",
              "  0.0,\n",
              "  0.0,\n",
              "  0.0,\n",
              "  0.0,\n",
              "  0.0,\n",
              "  0.0,\n",
              "  0.0,\n",
              "  0.0,\n",
              "  0.0,\n",
              "  0.0,\n",
              "  0.0,\n",
              "  0.0,\n",
              "  0.0,\n",
              "  0.0,\n",
              "  0.0,\n",
              "  0.0,\n",
              "  0.0,\n",
              "  0.0,\n",
              "  0.0,\n",
              "  0.0,\n",
              "  0.0,\n",
              "  0.0,\n",
              "  0.0,\n",
              "  0.0,\n",
              "  0.0,\n",
              "  0.0,\n",
              "  0.0,\n",
              "  0.01802120141342756,\n",
              "  0.0,\n",
              "  0.0,\n",
              "  0.0,\n",
              "  0.0,\n",
              "  0.0,\n",
              "  0.0,\n",
              "  0.0,\n",
              "  0.0,\n",
              "  0.0,\n",
              "  0.0,\n",
              "  0.0,\n",
              "  0.0,\n",
              "  0.0,\n",
              "  0.0,\n",
              "  0.0,\n",
              "  0.31732228001733853,\n",
              "  0.0,\n",
              "  0.0,\n",
              "  0.0,\n",
              "  0.0,\n",
              "  0.0,\n",
              "  0.0,\n",
              "  0.0,\n",
              "  0.0,\n",
              "  0.0,\n",
              "  0.0,\n",
              "  0.0,\n",
              "  0.0,\n",
              "  0.0,\n",
              "  None,\n",
              "  0.0,\n",
              "  0.0,\n",
              "  0.0,\n",
              "  0.1633027998428771,\n",
              "  0.0,\n",
              "  0.07267316017316017,\n",
              "  0.0,\n",
              "  0.0,\n",
              "  0.5533854166666666,\n",
              "  0.0,\n",
              "  0.0,\n",
              "  0.0,\n",
              "  0.0,\n",
              "  0.0,\n",
              "  0.006568905890762959,\n",
              "  0.0,\n",
              "  0.0,\n",
              "  0.0036266666666666665,\n",
              "  0.0,\n",
              "  0.0,\n",
              "  0.0,\n",
              "  0.0,\n",
              "  0.0,\n",
              "  0.0,\n",
              "  0.0,\n",
              "  0.0,\n",
              "  0.0,\n",
              "  0.0,\n",
              "  0.0,\n",
              "  0.0,\n",
              "  0.0,\n",
              "  0.0,\n",
              "  0.0,\n",
              "  0.0,\n",
              "  0.0,\n",
              "  0.0,\n",
              "  0.0,\n",
              "  0.0,\n",
              "  0.0,\n",
              "  0.0,\n",
              "  0.0,\n",
              "  0.0,\n",
              "  0.003688549996900378,\n",
              "  0.0,\n",
              "  0.0,\n",
              "  0.0,\n",
              "  0.0,\n",
              "  0.0,\n",
              "  0.0,\n",
              "  0.0,\n",
              "  0.0,\n",
              "  0.0,\n",
              "  0.0,\n",
              "  0.0,\n",
              "  0.0,\n",
              "  0.0,\n",
              "  0.0,\n",
              "  0.0,\n",
              "  0.0,\n",
              "  0.0,\n",
              "  0.0,\n",
              "  0.0,\n",
              "  0.0,\n",
              "  0.0,\n",
              "  0.0,\n",
              "  ...],\n",
              " 'medium_spring_green': [0.0,\n",
              "  0.0,\n",
              "  0.0,\n",
              "  0.0,\n",
              "  0.0,\n",
              "  0.0,\n",
              "  0.0,\n",
              "  0.0,\n",
              "  0.0,\n",
              "  0.0,\n",
              "  0.0,\n",
              "  0.0,\n",
              "  0.0,\n",
              "  0.0,\n",
              "  0.0,\n",
              "  0.0,\n",
              "  0.0,\n",
              "  0.0,\n",
              "  None,\n",
              "  0.0,\n",
              "  0.0,\n",
              "  0.0,\n",
              "  0.0,\n",
              "  0.0,\n",
              "  0.0,\n",
              "  0.0,\n",
              "  0.0,\n",
              "  0.0,\n",
              "  0.0,\n",
              "  0.0,\n",
              "  0.0,\n",
              "  0.0,\n",
              "  0.0,\n",
              "  0.0,\n",
              "  None,\n",
              "  0.0,\n",
              "  0.0,\n",
              "  0.0,\n",
              "  0.0,\n",
              "  0.0,\n",
              "  0.0,\n",
              "  0.0,\n",
              "  0.0,\n",
              "  0.0,\n",
              "  0.0,\n",
              "  0.0,\n",
              "  0.0,\n",
              "  0.0,\n",
              "  0.0,\n",
              "  0.0,\n",
              "  0.0,\n",
              "  0.0,\n",
              "  0.0,\n",
              "  0.0,\n",
              "  0.0,\n",
              "  0.0,\n",
              "  3.8324279777873986,\n",
              "  0.0,\n",
              "  0.00035505430242272347,\n",
              "  0.0,\n",
              "  0.0,\n",
              "  None,\n",
              "  0.0,\n",
              "  0.0765,\n",
              "  0.0,\n",
              "  0.0,\n",
              "  0.0,\n",
              "  0.0,\n",
              "  0.0,\n",
              "  0.0,\n",
              "  0.0,\n",
              "  0.0,\n",
              "  0.0,\n",
              "  0.3937347374847375,\n",
              "  0.0,\n",
              "  0.0,\n",
              "  0.0,\n",
              "  0.0,\n",
              "  0.0,\n",
              "  0.0,\n",
              "  0.0,\n",
              "  0.0,\n",
              "  0.0,\n",
              "  0.0,\n",
              "  0.0,\n",
              "  0.0,\n",
              "  0.0,\n",
              "  0.0,\n",
              "  0.0,\n",
              "  0.0,\n",
              "  0.0,\n",
              "  0.0,\n",
              "  0.0,\n",
              "  0.0,\n",
              "  0.0,\n",
              "  0.0,\n",
              "  0.0,\n",
              "  0.0,\n",
              "  0.0,\n",
              "  0.0,\n",
              "  0.0,\n",
              "  0.0,\n",
              "  0.0,\n",
              "  0.0,\n",
              "  0.0,\n",
              "  0.0,\n",
              "  0.0,\n",
              "  0.0,\n",
              "  0.0,\n",
              "  0.0,\n",
              "  0.0,\n",
              "  0.0,\n",
              "  0.0,\n",
              "  0.0,\n",
              "  0.0,\n",
              "  0.0,\n",
              "  0.0,\n",
              "  0.0,\n",
              "  0.0,\n",
              "  0.0,\n",
              "  0.0,\n",
              "  0.0,\n",
              "  0.0,\n",
              "  0.0,\n",
              "  0.0,\n",
              "  0.0,\n",
              "  0.0,\n",
              "  0.0,\n",
              "  0.0,\n",
              "  0.0,\n",
              "  0.0,\n",
              "  0.0,\n",
              "  0.0,\n",
              "  0.0,\n",
              "  0.0,\n",
              "  0.0,\n",
              "  0.0,\n",
              "  0.0,\n",
              "  0.0,\n",
              "  0.0,\n",
              "  0.0,\n",
              "  0.0,\n",
              "  0.0,\n",
              "  0.0,\n",
              "  0.0,\n",
              "  0.0,\n",
              "  0.0,\n",
              "  0.0,\n",
              "  0.0,\n",
              "  0.0,\n",
              "  0.0,\n",
              "  0.0,\n",
              "  0.0,\n",
              "  0.0,\n",
              "  0.0,\n",
              "  0.0,\n",
              "  0.0,\n",
              "  0.0,\n",
              "  0.0,\n",
              "  0.0,\n",
              "  0.0,\n",
              "  0.0,\n",
              "  0.0,\n",
              "  0.0,\n",
              "  0.0,\n",
              "  0.0,\n",
              "  0.0,\n",
              "  0.0,\n",
              "  0.0,\n",
              "  0.0,\n",
              "  0.0,\n",
              "  0.0,\n",
              "  0.0,\n",
              "  0.0,\n",
              "  0.0,\n",
              "  0.0,\n",
              "  0.0,\n",
              "  0.0,\n",
              "  0.0,\n",
              "  0.0,\n",
              "  0.0,\n",
              "  0.0,\n",
              "  0.0,\n",
              "  0.0,\n",
              "  0.0,\n",
              "  0.0,\n",
              "  0.0,\n",
              "  0.0,\n",
              "  0.0,\n",
              "  0.0,\n",
              "  0.0,\n",
              "  0.0,\n",
              "  0.0,\n",
              "  0.0,\n",
              "  0.0,\n",
              "  0.0,\n",
              "  0.0,\n",
              "  0.0,\n",
              "  0.0,\n",
              "  0.0,\n",
              "  0.0,\n",
              "  0.0,\n",
              "  0.0,\n",
              "  0.0,\n",
              "  0.0,\n",
              "  0.0,\n",
              "  0.0,\n",
              "  0.00036155852994555353,\n",
              "  0.0,\n",
              "  0.0,\n",
              "  0.0,\n",
              "  0.0,\n",
              "  0.0,\n",
              "  0.0,\n",
              "  0.0,\n",
              "  0.0,\n",
              "  0.0,\n",
              "  0.0,\n",
              "  0.0,\n",
              "  0.0,\n",
              "  0.0,\n",
              "  0.0,\n",
              "  0.0,\n",
              "  0.0,\n",
              "  0.0,\n",
              "  0.0,\n",
              "  0.0,\n",
              "  0.0,\n",
              "  0.0,\n",
              "  0.0,\n",
              "  0.0,\n",
              "  0.0,\n",
              "  0.0,\n",
              "  0.0,\n",
              "  0.0,\n",
              "  None,\n",
              "  0.0,\n",
              "  0.0,\n",
              "  0.0,\n",
              "  0.0,\n",
              "  0.0,\n",
              "  0.0,\n",
              "  0.0,\n",
              "  0.0,\n",
              "  0.0,\n",
              "  0.0,\n",
              "  0.0,\n",
              "  0.0,\n",
              "  0.0,\n",
              "  0.0,\n",
              "  0.0,\n",
              "  0.0,\n",
              "  0.0,\n",
              "  0.0,\n",
              "  0.0,\n",
              "  0.0,\n",
              "  0.0,\n",
              "  0.0,\n",
              "  0.0,\n",
              "  0.0,\n",
              "  None,\n",
              "  0.0,\n",
              "  0.0,\n",
              "  0.0,\n",
              "  0.0,\n",
              "  0.0,\n",
              "  0.0,\n",
              "  0.0,\n",
              "  0.0,\n",
              "  0.0,\n",
              "  0.0,\n",
              "  0.0,\n",
              "  0.0,\n",
              "  0.0,\n",
              "  0.0,\n",
              "  0.0,\n",
              "  0.0,\n",
              "  0.0,\n",
              "  0.0,\n",
              "  0.0,\n",
              "  0.0,\n",
              "  0.0,\n",
              "  0.0,\n",
              "  0.0,\n",
              "  0.0,\n",
              "  0.0,\n",
              "  0.0,\n",
              "  0.0,\n",
              "  0.0,\n",
              "  0.0,\n",
              "  0.0,\n",
              "  0.0,\n",
              "  0.0,\n",
              "  0.0,\n",
              "  0.0,\n",
              "  0.0,\n",
              "  0.0,\n",
              "  0.0,\n",
              "  0.0,\n",
              "  0.0,\n",
              "  0.0008953651685393258,\n",
              "  0.0,\n",
              "  0.0,\n",
              "  0.0,\n",
              "  0.0,\n",
              "  0.0,\n",
              "  0.0,\n",
              "  0.0,\n",
              "  0.0,\n",
              "  0.0,\n",
              "  0.0,\n",
              "  0.0,\n",
              "  0.0,\n",
              "  0.0,\n",
              "  0.0,\n",
              "  0.0,\n",
              "  0.0,\n",
              "  0.0,\n",
              "  0.0,\n",
              "  0.0,\n",
              "  0.0,\n",
              "  0.0,\n",
              "  0.0,\n",
              "  0.0,\n",
              "  0.0,\n",
              "  0.0,\n",
              "  0.0,\n",
              "  0.0,\n",
              "  0.0,\n",
              "  0.0,\n",
              "  0.0,\n",
              "  0.0,\n",
              "  0.0,\n",
              "  0.0,\n",
              "  0.0,\n",
              "  0.0,\n",
              "  0.0,\n",
              "  0.0,\n",
              "  0.0,\n",
              "  0.0,\n",
              "  0.0,\n",
              "  0.0,\n",
              "  None,\n",
              "  0.0,\n",
              "  0.0,\n",
              "  0.0,\n",
              "  0.0,\n",
              "  0.0,\n",
              "  0.0,\n",
              "  0.0,\n",
              "  0.0,\n",
              "  0.0,\n",
              "  0.0,\n",
              "  0.0,\n",
              "  0.0193375,\n",
              "  0.0,\n",
              "  0.0,\n",
              "  0.0,\n",
              "  0.0,\n",
              "  0.0,\n",
              "  0.0,\n",
              "  None,\n",
              "  0.0,\n",
              "  0.0,\n",
              "  0.0,\n",
              "  0.0,\n",
              "  0.0,\n",
              "  0.0,\n",
              "  0.0,\n",
              "  0.0,\n",
              "  0.0,\n",
              "  0.0,\n",
              "  0.0,\n",
              "  0.0,\n",
              "  0.0,\n",
              "  0.0,\n",
              "  0.0,\n",
              "  0.0,\n",
              "  0.0,\n",
              "  0.0,\n",
              "  0.0,\n",
              "  0.006444043321299639,\n",
              "  0.0,\n",
              "  0.0,\n",
              "  0.0,\n",
              "  0.0,\n",
              "  0.0,\n",
              "  0.0,\n",
              "  0.0,\n",
              "  0.0,\n",
              "  0.0,\n",
              "  0.0,\n",
              "  0.0,\n",
              "  0.0,\n",
              "  0.0,\n",
              "  0.0,\n",
              "  0.0,\n",
              "  0.0,\n",
              "  0.0,\n",
              "  0.0,\n",
              "  0.0,\n",
              "  0.0,\n",
              "  0.0,\n",
              "  0.0,\n",
              "  0.0,\n",
              "  0.0,\n",
              "  0.0075513013013013015,\n",
              "  0.0,\n",
              "  0.0,\n",
              "  0.0,\n",
              "  0.0,\n",
              "  0.0,\n",
              "  0.0,\n",
              "  0.0,\n",
              "  0.0,\n",
              "  0.0,\n",
              "  0.0,\n",
              "  0.0,\n",
              "  0.0,\n",
              "  0.0,\n",
              "  0.0,\n",
              "  0.0,\n",
              "  0.0,\n",
              "  0.0,\n",
              "  0.0,\n",
              "  0.0,\n",
              "  0.0,\n",
              "  0.0,\n",
              "  0.0,\n",
              "  0.0,\n",
              "  None,\n",
              "  0.0,\n",
              "  0.0,\n",
              "  0.0,\n",
              "  0.0,\n",
              "  0.0,\n",
              "  0.0,\n",
              "  0.0,\n",
              "  0.0,\n",
              "  0.0,\n",
              "  0.0,\n",
              "  0.0,\n",
              "  0.0,\n",
              "  0.0,\n",
              "  0.0,\n",
              "  0.0,\n",
              "  0.0,\n",
              "  0.0,\n",
              "  0.0,\n",
              "  0.0,\n",
              "  0.0,\n",
              "  0.0,\n",
              "  0.0,\n",
              "  0.0,\n",
              "  0.0,\n",
              "  0.0,\n",
              "  0.0,\n",
              "  0.0,\n",
              "  0.0,\n",
              "  0.0,\n",
              "  0.0,\n",
              "  0.0,\n",
              "  0.0,\n",
              "  0.0,\n",
              "  0.0,\n",
              "  0.0,\n",
              "  0.0,\n",
              "  0.0,\n",
              "  0.0,\n",
              "  0.0,\n",
              "  0.0,\n",
              "  0.0,\n",
              "  0.35859375,\n",
              "  0.0,\n",
              "  0.0,\n",
              "  0.0,\n",
              "  0.0,\n",
              "  0.0,\n",
              "  0.0,\n",
              "  0.0,\n",
              "  0.0,\n",
              "  0.0,\n",
              "  0.0,\n",
              "  0.0,\n",
              "  0.0,\n",
              "  0.0,\n",
              "  0.0,\n",
              "  0.0,\n",
              "  0.0,\n",
              "  0.0,\n",
              "  0.0,\n",
              "  0.0,\n",
              "  0.0,\n",
              "  0.0,\n",
              "  0.0,\n",
              "  0.0,\n",
              "  0.0,\n",
              "  0.0,\n",
              "  0.0,\n",
              "  None,\n",
              "  0.0,\n",
              "  0.0,\n",
              "  0.0,\n",
              "  0.0,\n",
              "  0.0,\n",
              "  0.0,\n",
              "  0.0,\n",
              "  0.37111778821361535,\n",
              "  0.0,\n",
              "  0.0,\n",
              "  0.0,\n",
              "  0.0,\n",
              "  0.0,\n",
              "  0.0,\n",
              "  0.0,\n",
              "  0.0,\n",
              "  None,\n",
              "  0.0,\n",
              "  0.0,\n",
              "  0.0,\n",
              "  0.0,\n",
              "  0.0,\n",
              "  0.0,\n",
              "  None,\n",
              "  0.0,\n",
              "  0.0,\n",
              "  0.057,\n",
              "  0.0,\n",
              "  0.0,\n",
              "  0.0,\n",
              "  0.0,\n",
              "  0.0,\n",
              "  0.0,\n",
              "  0.0,\n",
              "  0.0,\n",
              "  0.0,\n",
              "  0.0,\n",
              "  0.0,\n",
              "  0.15380240914025745,\n",
              "  0.0,\n",
              "  0.0,\n",
              "  0.0,\n",
              "  0.0,\n",
              "  0.0,\n",
              "  0.0,\n",
              "  0.0,\n",
              "  0.0,\n",
              "  0.0,\n",
              "  0.0,\n",
              "  0.0,\n",
              "  0.0,\n",
              "  0.0,\n",
              "  0.0,\n",
              "  0.0,\n",
              "  0.0,\n",
              "  0.0,\n",
              "  0.0,\n",
              "  0.0,\n",
              "  0.0,\n",
              "  0.0,\n",
              "  0.0,\n",
              "  None,\n",
              "  0.0,\n",
              "  0.0,\n",
              "  0.0,\n",
              "  0.0,\n",
              "  0.0,\n",
              "  0.0,\n",
              "  0.0,\n",
              "  0.0,\n",
              "  0.0,\n",
              "  0.0,\n",
              "  0.1660093896713615,\n",
              "  0.0,\n",
              "  0.0,\n",
              "  0.0,\n",
              "  0.0,\n",
              "  0.0,\n",
              "  0.0,\n",
              "  0.0,\n",
              "  0.0,\n",
              "  0.0,\n",
              "  0.0,\n",
              "  0.0,\n",
              "  0.0,\n",
              "  0.0,\n",
              "  0.0,\n",
              "  0.0,\n",
              "  0.0,\n",
              "  None,\n",
              "  0.0,\n",
              "  0.0,\n",
              "  0.0,\n",
              "  0.0,\n",
              "  0.8768020421400623,\n",
              "  0.0,\n",
              "  0.0,\n",
              "  0.0,\n",
              "  0.0,\n",
              "  0.0,\n",
              "  0.0,\n",
              "  0.0,\n",
              "  0.0,\n",
              "  0.0,\n",
              "  0.001731748726655348,\n",
              "  0.0,\n",
              "  0.0,\n",
              "  0.0,\n",
              "  0.0,\n",
              "  0.0,\n",
              "  0.0,\n",
              "  0.0,\n",
              "  0.0,\n",
              "  0.0,\n",
              "  0.0,\n",
              "  0.0,\n",
              "  0.0,\n",
              "  0.0,\n",
              "  0.0,\n",
              "  0.0,\n",
              "  0.0,\n",
              "  0.0,\n",
              "  0.0,\n",
              "  0.0,\n",
              "  0.0,\n",
              "  0.0,\n",
              "  0.0,\n",
              "  0.0,\n",
              "  0.0,\n",
              "  0.0,\n",
              "  0.0,\n",
              "  0.0,\n",
              "  None,\n",
              "  0.0,\n",
              "  0.0,\n",
              "  0.0,\n",
              "  0.0,\n",
              "  0.0,\n",
              "  0.0,\n",
              "  0.0,\n",
              "  0.0,\n",
              "  0.0,\n",
              "  0.0,\n",
              "  0.0,\n",
              "  0.0,\n",
              "  0.0,\n",
              "  0.0,\n",
              "  0.0,\n",
              "  0.0,\n",
              "  0.0,\n",
              "  0.0,\n",
              "  0.0,\n",
              "  0.0,\n",
              "  0.0,\n",
              "  0.0,\n",
              "  0.0,\n",
              "  0.0,\n",
              "  0.0,\n",
              "  0.0,\n",
              "  0.0,\n",
              "  0.0,\n",
              "  0.0,\n",
              "  0.0,\n",
              "  0.0,\n",
              "  0.0,\n",
              "  0.0,\n",
              "  0.0,\n",
              "  0.0001718763164546297,\n",
              "  0.0,\n",
              "  0.0,\n",
              "  0.0,\n",
              "  0.0,\n",
              "  0.0,\n",
              "  0.0,\n",
              "  0.0,\n",
              "  0.0,\n",
              "  0.0,\n",
              "  0.0,\n",
              "  0.0,\n",
              "  0.0,\n",
              "  0.0,\n",
              "  0.0,\n",
              "  0.0,\n",
              "  0.0,\n",
              "  0.0,\n",
              "  0.0,\n",
              "  0.0,\n",
              "  0.0,\n",
              "  0.0,\n",
              "  0.0,\n",
              "  0.0,\n",
              "  0.0,\n",
              "  0.0,\n",
              "  0.0,\n",
              "  0.0,\n",
              "  0.0,\n",
              "  0.0,\n",
              "  0.0,\n",
              "  0.0,\n",
              "  0.0,\n",
              "  0.0,\n",
              "  0.0,\n",
              "  0.0,\n",
              "  0.0,\n",
              "  0.0,\n",
              "  0.0,\n",
              "  0.0,\n",
              "  0.0,\n",
              "  0.0,\n",
              "  0.0,\n",
              "  0.0,\n",
              "  0.0,\n",
              "  0.0,\n",
              "  None,\n",
              "  0.0,\n",
              "  0.0,\n",
              "  0.0,\n",
              "  0.0,\n",
              "  0.0,\n",
              "  0.0,\n",
              "  0.0,\n",
              "  0.0,\n",
              "  0.0,\n",
              "  None,\n",
              "  0.0,\n",
              "  0.0,\n",
              "  0.0,\n",
              "  0.0,\n",
              "  0.0,\n",
              "  0.0,\n",
              "  0.0,\n",
              "  0.0,\n",
              "  0.0,\n",
              "  0.0,\n",
              "  0.0,\n",
              "  0.0,\n",
              "  1.2451754385964913,\n",
              "  0.0,\n",
              "  0.0,\n",
              "  0.0,\n",
              "  0.0,\n",
              "  0.0,\n",
              "  0.0,\n",
              "  0.0,\n",
              "  0.0,\n",
              "  0.0,\n",
              "  0.0,\n",
              "  0.0,\n",
              "  0.0,\n",
              "  0.0,\n",
              "  0.0,\n",
              "  0.0,\n",
              "  0.0,\n",
              "  0.0,\n",
              "  0.0,\n",
              "  0.0,\n",
              "  0.0,\n",
              "  0.0,\n",
              "  0.0,\n",
              "  0.0,\n",
              "  0.0,\n",
              "  0.0,\n",
              "  0.0,\n",
              "  0.07568834212067956,\n",
              "  0.0,\n",
              "  0.0,\n",
              "  0.0,\n",
              "  0.0,\n",
              "  0.0,\n",
              "  0.0,\n",
              "  0.0,\n",
              "  0.0,\n",
              "  0.0,\n",
              "  0.0,\n",
              "  0.0,\n",
              "  0.0,\n",
              "  0.0,\n",
              "  0.0,\n",
              "  0.0,\n",
              "  0.0,\n",
              "  0.0,\n",
              "  0.0,\n",
              "  0.0,\n",
              "  0.0,\n",
              "  0.0,\n",
              "  0.0,\n",
              "  0.0,\n",
              "  0.0,\n",
              "  0.0,\n",
              "  0.0,\n",
              "  0.0,\n",
              "  0.0,\n",
              "  0.0,\n",
              "  0.0,\n",
              "  0.0,\n",
              "  0.0,\n",
              "  0.0,\n",
              "  0.0,\n",
              "  0.0,\n",
              "  0.0,\n",
              "  0.0,\n",
              "  0.0,\n",
              "  0.0,\n",
              "  0.0,\n",
              "  0.0,\n",
              "  0.0,\n",
              "  0.0,\n",
              "  0.0,\n",
              "  0.0,\n",
              "  0.0,\n",
              "  0.0,\n",
              "  0.0,\n",
              "  0.0,\n",
              "  0.0,\n",
              "  None,\n",
              "  0.0,\n",
              "  0.0,\n",
              "  0.0,\n",
              "  0.0,\n",
              "  0.0,\n",
              "  0.0,\n",
              "  0.0,\n",
              "  0.0,\n",
              "  0.0,\n",
              "  0.0,\n",
              "  0.0,\n",
              "  0.0,\n",
              "  0.0,\n",
              "  0.0,\n",
              "  0.0,\n",
              "  0.0,\n",
              "  0.0,\n",
              "  0.0,\n",
              "  0.0,\n",
              "  0.0,\n",
              "  0.0,\n",
              "  0.0,\n",
              "  0.0,\n",
              "  0.0,\n",
              "  0.0,\n",
              "  0.0,\n",
              "  0.0,\n",
              "  0.0,\n",
              "  0.0,\n",
              "  0.0,\n",
              "  0.0,\n",
              "  0.0,\n",
              "  0.0,\n",
              "  0.0,\n",
              "  0.0,\n",
              "  0.0,\n",
              "  0.0,\n",
              "  0.0,\n",
              "  0.0,\n",
              "  0.0,\n",
              "  0.0,\n",
              "  0.0,\n",
              "  0.0,\n",
              "  0.0,\n",
              "  0.0,\n",
              "  0.0,\n",
              "  0.0,\n",
              "  0.0,\n",
              "  0.0,\n",
              "  None,\n",
              "  0.0,\n",
              "  0.0,\n",
              "  0.0,\n",
              "  0.0,\n",
              "  0.0,\n",
              "  0.0,\n",
              "  0.0,\n",
              "  0.0,\n",
              "  0.0,\n",
              "  0.0,\n",
              "  0.0,\n",
              "  0.0,\n",
              "  0.0,\n",
              "  0.0,\n",
              "  0.0,\n",
              "  0.0,\n",
              "  0.0,\n",
              "  0.0,\n",
              "  0.0,\n",
              "  0.0,\n",
              "  0.0,\n",
              "  0.0,\n",
              "  0.0,\n",
              "  0.0,\n",
              "  0.0,\n",
              "  0.0,\n",
              "  0.0,\n",
              "  0.0,\n",
              "  0.0,\n",
              "  0.0,\n",
              "  0.0,\n",
              "  0.0,\n",
              "  0.0,\n",
              "  0.0,\n",
              "  0.0,\n",
              "  0.0,\n",
              "  0.0,\n",
              "  0.0,\n",
              "  0.0,\n",
              "  0.0,\n",
              "  0.0,\n",
              "  0.0,\n",
              "  0.0,\n",
              "  0.0,\n",
              "  0.0,\n",
              "  0.0,\n",
              "  0.0,\n",
              "  0.0,\n",
              "  0.0,\n",
              "  0.0,\n",
              "  0.0,\n",
              "  0.0,\n",
              "  0.0,\n",
              "  0.0,\n",
              "  0.0,\n",
              "  0.00046055483311660165,\n",
              "  0.0,\n",
              "  0.0,\n",
              "  0.0,\n",
              "  0.0,\n",
              "  0.0,\n",
              "  0.0,\n",
              "  0.0,\n",
              "  0.0,\n",
              "  0.0,\n",
              "  0.0,\n",
              "  0.0,\n",
              "  0.0,\n",
              "  0.0,\n",
              "  None,\n",
              "  0.0,\n",
              "  0.0,\n",
              "  0.0,\n",
              "  4.244713468924581,\n",
              "  0.0,\n",
              "  0.0,\n",
              "  0.0,\n",
              "  0.0,\n",
              "  0.013166047087980174,\n",
              "  0.0,\n",
              "  0.0,\n",
              "  0.0,\n",
              "  0.0,\n",
              "  0.0,\n",
              "  0.0,\n",
              "  0.0,\n",
              "  0.0,\n",
              "  0.0,\n",
              "  0.0,\n",
              "  0.0,\n",
              "  0.0,\n",
              "  0.0,\n",
              "  0.0,\n",
              "  0.0,\n",
              "  0.0,\n",
              "  0.0,\n",
              "  0.0,\n",
              "  0.0,\n",
              "  0.0,\n",
              "  0.0,\n",
              "  0.0,\n",
              "  0.0,\n",
              "  0.0,\n",
              "  0.0,\n",
              "  0.0,\n",
              "  0.0,\n",
              "  0.0,\n",
              "  0.0,\n",
              "  0.0,\n",
              "  0.0,\n",
              "  0.0,\n",
              "  0.0,\n",
              "  0.005796292852272023,\n",
              "  0.0,\n",
              "  0.0,\n",
              "  0.0,\n",
              "  0.0,\n",
              "  0.0,\n",
              "  0.0,\n",
              "  0.0,\n",
              "  0.0,\n",
              "  0.0,\n",
              "  0.0,\n",
              "  0.0,\n",
              "  0.0,\n",
              "  0.0,\n",
              "  0.0,\n",
              "  0.0,\n",
              "  0.0,\n",
              "  0.0,\n",
              "  0.0,\n",
              "  0.0,\n",
              "  0.0,\n",
              "  0.0,\n",
              "  0.0,\n",
              "  ...],\n",
              " 'medium_violet_red': [0.0,\n",
              "  0.0,\n",
              "  0.0,\n",
              "  0.0,\n",
              "  0.0,\n",
              "  0.0,\n",
              "  0.0,\n",
              "  0.0,\n",
              "  0.0,\n",
              "  0.0,\n",
              "  0.0,\n",
              "  0.0,\n",
              "  0.0,\n",
              "  0.0,\n",
              "  0.0,\n",
              "  0.0,\n",
              "  0.0,\n",
              "  0.0,\n",
              "  None,\n",
              "  0.0,\n",
              "  0.0,\n",
              "  0.0,\n",
              "  0.0,\n",
              "  0.0,\n",
              "  0.0,\n",
              "  0.0,\n",
              "  0.0,\n",
              "  0.0,\n",
              "  0.0,\n",
              "  0.0,\n",
              "  0.0,\n",
              "  0.0,\n",
              "  0.0,\n",
              "  0.0,\n",
              "  None,\n",
              "  0.0,\n",
              "  0.0,\n",
              "  0.0,\n",
              "  0.0,\n",
              "  0.0,\n",
              "  0.0,\n",
              "  0.0,\n",
              "  0.0,\n",
              "  0.0,\n",
              "  0.0,\n",
              "  0.0,\n",
              "  0.0,\n",
              "  0.0,\n",
              "  0.0,\n",
              "  0.0,\n",
              "  0.0,\n",
              "  0.0,\n",
              "  0.0,\n",
              "  0.0,\n",
              "  0.0,\n",
              "  0.0,\n",
              "  0.0,\n",
              "  0.0,\n",
              "  0.0,\n",
              "  0.0,\n",
              "  0.0,\n",
              "  None,\n",
              "  0.0,\n",
              "  0.0,\n",
              "  0.0,\n",
              "  0.0,\n",
              "  0.0,\n",
              "  0.0,\n",
              "  0.0,\n",
              "  0.0,\n",
              "  0.0,\n",
              "  0.0,\n",
              "  0.0,\n",
              "  0.0,\n",
              "  0.0,\n",
              "  0.0,\n",
              "  0.0,\n",
              "  0.0,\n",
              "  0.0,\n",
              "  0.0,\n",
              "  0.0,\n",
              "  0.0,\n",
              "  0.0,\n",
              "  0.0,\n",
              "  0.0,\n",
              "  0.0,\n",
              "  0.0,\n",
              "  0.0,\n",
              "  0.0,\n",
              "  0.0,\n",
              "  0.0,\n",
              "  0.0,\n",
              "  0.0,\n",
              "  0.0,\n",
              "  0.0,\n",
              "  0.0,\n",
              "  0.0,\n",
              "  0.0,\n",
              "  0.0,\n",
              "  0.0,\n",
              "  0.0,\n",
              "  0.0,\n",
              "  0.0,\n",
              "  0.0,\n",
              "  0.0,\n",
              "  0.0,\n",
              "  0.0,\n",
              "  0.0,\n",
              "  0.0,\n",
              "  0.0,\n",
              "  0.0,\n",
              "  0.0,\n",
              "  0.0,\n",
              "  0.0,\n",
              "  0.0,\n",
              "  0.0,\n",
              "  0.0,\n",
              "  0.0,\n",
              "  0.0,\n",
              "  0.0,\n",
              "  0.0,\n",
              "  0.0,\n",
              "  0.0,\n",
              "  0.0,\n",
              "  0.0,\n",
              "  0.0,\n",
              "  0.0,\n",
              "  0.0,\n",
              "  0.0,\n",
              "  0.0,\n",
              "  0.0,\n",
              "  0.0,\n",
              "  0.0,\n",
              "  0.0,\n",
              "  0.0,\n",
              "  0.0,\n",
              "  0.0,\n",
              "  0.0,\n",
              "  0.0,\n",
              "  0.0,\n",
              "  0.0,\n",
              "  0.0,\n",
              "  0.0,\n",
              "  0.0,\n",
              "  0.0,\n",
              "  0.0,\n",
              "  0.0,\n",
              "  0.0,\n",
              "  0.0,\n",
              "  0.0,\n",
              "  0.0,\n",
              "  0.0,\n",
              "  0.0,\n",
              "  0.0,\n",
              "  0.0,\n",
              "  0.0,\n",
              "  0.0,\n",
              "  0.0,\n",
              "  0.0,\n",
              "  0.0,\n",
              "  0.0,\n",
              "  0.0,\n",
              "  0.0,\n",
              "  0.0,\n",
              "  0.0,\n",
              "  0.0,\n",
              "  0.0,\n",
              "  0.0,\n",
              "  0.0,\n",
              "  0.0,\n",
              "  0.0,\n",
              "  0.0,\n",
              "  0.0,\n",
              "  0.0,\n",
              "  0.0,\n",
              "  0.0,\n",
              "  0.0,\n",
              "  0.0,\n",
              "  0.0,\n",
              "  0.0,\n",
              "  0.0,\n",
              "  0.0,\n",
              "  0.0,\n",
              "  0.0,\n",
              "  0.0,\n",
              "  0.0,\n",
              "  0.0,\n",
              "  0.0,\n",
              "  0.0,\n",
              "  0.0,\n",
              "  0.0,\n",
              "  0.0,\n",
              "  0.0,\n",
              "  0.0,\n",
              "  0.0,\n",
              "  0.0,\n",
              "  0.0,\n",
              "  0.0,\n",
              "  0.0,\n",
              "  0.0,\n",
              "  0.0,\n",
              "  0.0,\n",
              "  0.0,\n",
              "  0.0,\n",
              "  0.0,\n",
              "  0.0,\n",
              "  0.0,\n",
              "  0.0,\n",
              "  0.0,\n",
              "  0.0,\n",
              "  0.0,\n",
              "  0.0,\n",
              "  0.0,\n",
              "  0.0,\n",
              "  0.0,\n",
              "  0.0,\n",
              "  0.0,\n",
              "  0.0,\n",
              "  0.0,\n",
              "  0.0,\n",
              "  0.0,\n",
              "  0.0,\n",
              "  0.0,\n",
              "  0.0,\n",
              "  0.0,\n",
              "  0.0,\n",
              "  0.0,\n",
              "  0.0,\n",
              "  0.0,\n",
              "  0.0,\n",
              "  0.0,\n",
              "  0.0,\n",
              "  0.0,\n",
              "  0.0,\n",
              "  0.0,\n",
              "  None,\n",
              "  0.0,\n",
              "  0.0,\n",
              "  0.0,\n",
              "  0.0,\n",
              "  0.0,\n",
              "  0.0,\n",
              "  0.0,\n",
              "  0.0,\n",
              "  0.0,\n",
              "  0.0,\n",
              "  0.0,\n",
              "  0.0,\n",
              "  0.0,\n",
              "  0.0,\n",
              "  0.0,\n",
              "  0.0,\n",
              "  0.0,\n",
              "  0.0,\n",
              "  0.0,\n",
              "  0.0,\n",
              "  0.0,\n",
              "  0.0,\n",
              "  0.0,\n",
              "  0.0,\n",
              "  None,\n",
              "  0.0,\n",
              "  0.0,\n",
              "  0.0,\n",
              "  0.0,\n",
              "  0.0,\n",
              "  0.0,\n",
              "  0.0,\n",
              "  0.0,\n",
              "  0.0,\n",
              "  0.0,\n",
              "  0.0,\n",
              "  0.0,\n",
              "  0.0,\n",
              "  0.0,\n",
              "  0.0,\n",
              "  0.0,\n",
              "  0.0,\n",
              "  0.0,\n",
              "  0.0,\n",
              "  0.0,\n",
              "  0.0,\n",
              "  0.0,\n",
              "  0.0,\n",
              "  0.0,\n",
              "  0.0,\n",
              "  0.0,\n",
              "  0.0,\n",
              "  0.0,\n",
              "  0.0,\n",
              "  0.0,\n",
              "  0.0,\n",
              "  0.0,\n",
              "  0.0,\n",
              "  0.0,\n",
              "  0.0,\n",
              "  0.0,\n",
              "  0.0,\n",
              "  0.0,\n",
              "  0.0,\n",
              "  0.0,\n",
              "  0.0,\n",
              "  0.0,\n",
              "  0.0,\n",
              "  0.0,\n",
              "  0.0,\n",
              "  0.0,\n",
              "  0.0,\n",
              "  0.0,\n",
              "  0.0,\n",
              "  0.0,\n",
              "  0.0,\n",
              "  0.0,\n",
              "  0.0,\n",
              "  0.0,\n",
              "  0.0,\n",
              "  0.0,\n",
              "  0.0,\n",
              "  0.0,\n",
              "  0.0,\n",
              "  0.0,\n",
              "  0.0,\n",
              "  0.0,\n",
              "  0.0,\n",
              "  0.0,\n",
              "  0.0,\n",
              "  0.0,\n",
              "  0.0,\n",
              "  0.0,\n",
              "  0.0,\n",
              "  0.0,\n",
              "  0.0,\n",
              "  0.0,\n",
              "  0.0,\n",
              "  0.0,\n",
              "  0.0,\n",
              "  0.0,\n",
              "  0.0,\n",
              "  0.0,\n",
              "  0.0,\n",
              "  0.0,\n",
              "  0.0,\n",
              "  None,\n",
              "  0.0,\n",
              "  0.0,\n",
              "  0.0,\n",
              "  0.0,\n",
              "  0.0,\n",
              "  0.0,\n",
              "  0.0,\n",
              "  0.0,\n",
              "  0.0,\n",
              "  0.0,\n",
              "  0.0,\n",
              "  0.0,\n",
              "  0.0,\n",
              "  0.0,\n",
              "  0.0,\n",
              "  0.0,\n",
              "  0.0,\n",
              "  0.0,\n",
              "  None,\n",
              "  0.0,\n",
              "  0.0,\n",
              "  0.0,\n",
              "  0.0,\n",
              "  0.0,\n",
              "  0.0,\n",
              "  0.0,\n",
              "  0.0,\n",
              "  0.0,\n",
              "  0.0,\n",
              "  0.0,\n",
              "  0.0,\n",
              "  0.0,\n",
              "  0.0,\n",
              "  0.0,\n",
              "  0.0,\n",
              "  0.0,\n",
              "  0.0,\n",
              "  0.0,\n",
              "  0.0,\n",
              "  0.0,\n",
              "  0.0,\n",
              "  0.0,\n",
              "  0.0,\n",
              "  0.0,\n",
              "  0.0,\n",
              "  0.0,\n",
              "  0.0,\n",
              "  0.0,\n",
              "  0.0,\n",
              "  0.0,\n",
              "  0.0,\n",
              "  0.0,\n",
              "  0.0,\n",
              "  0.0,\n",
              "  0.0,\n",
              "  0.0,\n",
              "  0.0,\n",
              "  0.0,\n",
              "  0.0,\n",
              "  0.0,\n",
              "  0.0,\n",
              "  0.0,\n",
              "  0.0,\n",
              "  0.0,\n",
              "  0.0,\n",
              "  0.0,\n",
              "  0.0,\n",
              "  0.0,\n",
              "  0.0,\n",
              "  0.0,\n",
              "  0.0,\n",
              "  0.0,\n",
              "  0.0,\n",
              "  0.0,\n",
              "  0.0,\n",
              "  0.0,\n",
              "  0.0,\n",
              "  0.0,\n",
              "  0.0,\n",
              "  0.0,\n",
              "  0.0,\n",
              "  0.0,\n",
              "  0.0,\n",
              "  0.0,\n",
              "  0.0,\n",
              "  0.0,\n",
              "  0.0,\n",
              "  None,\n",
              "  0.0,\n",
              "  0.0,\n",
              "  0.0,\n",
              "  0.0,\n",
              "  0.0,\n",
              "  0.0,\n",
              "  0.0,\n",
              "  0.0,\n",
              "  0.0,\n",
              "  0.0,\n",
              "  0.0,\n",
              "  0.0,\n",
              "  0.0,\n",
              "  0.0,\n",
              "  0.0,\n",
              "  0.0,\n",
              "  0.0,\n",
              "  0.0,\n",
              "  0.0,\n",
              "  0.0,\n",
              "  0.0,\n",
              "  0.0,\n",
              "  0.0,\n",
              "  0.0,\n",
              "  0.0,\n",
              "  0.0,\n",
              "  0.0,\n",
              "  0.0,\n",
              "  0.0,\n",
              "  0.0,\n",
              "  0.0,\n",
              "  0.0,\n",
              "  0.0,\n",
              "  0.0,\n",
              "  0.0,\n",
              "  0.0,\n",
              "  0.0,\n",
              "  0.0,\n",
              "  0.0,\n",
              "  0.0,\n",
              "  0.0,\n",
              "  0.0,\n",
              "  0.0,\n",
              "  0.0,\n",
              "  0.0,\n",
              "  0.0,\n",
              "  0.0,\n",
              "  0.0,\n",
              "  0.0,\n",
              "  0.0,\n",
              "  0.0,\n",
              "  0.0,\n",
              "  0.0,\n",
              "  0.0,\n",
              "  0.0,\n",
              "  0.0,\n",
              "  0.0,\n",
              "  0.0,\n",
              "  0.0,\n",
              "  0.0,\n",
              "  0.0,\n",
              "  0.0,\n",
              "  0.0,\n",
              "  0.0,\n",
              "  0.0,\n",
              "  0.0,\n",
              "  0.0,\n",
              "  0.0,\n",
              "  None,\n",
              "  0.0,\n",
              "  0.0,\n",
              "  0.0,\n",
              "  0.0,\n",
              "  0.0,\n",
              "  0.0,\n",
              "  0.0,\n",
              "  0.0,\n",
              "  0.0,\n",
              "  0.0,\n",
              "  0.0,\n",
              "  0.0,\n",
              "  0.0,\n",
              "  0.0,\n",
              "  0.0,\n",
              "  0.0,\n",
              "  None,\n",
              "  0.0,\n",
              "  0.0,\n",
              "  0.0,\n",
              "  0.0,\n",
              "  0.0,\n",
              "  0.0,\n",
              "  None,\n",
              "  0.0,\n",
              "  0.0,\n",
              "  0.0,\n",
              "  0.0,\n",
              "  0.0,\n",
              "  0.0,\n",
              "  0.0,\n",
              "  0.0,\n",
              "  0.0,\n",
              "  0.0,\n",
              "  0.0,\n",
              "  0.0,\n",
              "  0.0,\n",
              "  0.0,\n",
              "  0.0,\n",
              "  0.0,\n",
              "  0.0,\n",
              "  0.0,\n",
              "  0.0,\n",
              "  0.0,\n",
              "  0.0,\n",
              "  0.0,\n",
              "  0.0,\n",
              "  0.0,\n",
              "  0.0,\n",
              "  0.0,\n",
              "  0.0,\n",
              "  0.0,\n",
              "  0.0,\n",
              "  0.0,\n",
              "  0.0,\n",
              "  0.0,\n",
              "  0.0,\n",
              "  0.0,\n",
              "  0.0,\n",
              "  0.0,\n",
              "  0.0,\n",
              "  None,\n",
              "  0.0,\n",
              "  0.0,\n",
              "  0.0,\n",
              "  0.0,\n",
              "  0.0,\n",
              "  0.0,\n",
              "  0.0,\n",
              "  0.0,\n",
              "  0.0,\n",
              "  0.0,\n",
              "  0.0,\n",
              "  0.0,\n",
              "  0.0,\n",
              "  0.0,\n",
              "  0.0,\n",
              "  0.0,\n",
              "  0.0,\n",
              "  0.0,\n",
              "  0.0,\n",
              "  0.0,\n",
              "  0.0,\n",
              "  0.0,\n",
              "  0.0,\n",
              "  0.0,\n",
              "  0.0,\n",
              "  0.0,\n",
              "  0.0,\n",
              "  None,\n",
              "  0.0,\n",
              "  0.0,\n",
              "  0.0,\n",
              "  0.0,\n",
              "  0.0,\n",
              "  0.0,\n",
              "  0.0,\n",
              "  0.0,\n",
              "  0.0,\n",
              "  0.0,\n",
              "  0.0,\n",
              "  0.0,\n",
              "  0.0,\n",
              "  0.0,\n",
              "  0.0,\n",
              "  0.0,\n",
              "  0.0,\n",
              "  0.0,\n",
              "  0.0,\n",
              "  0.0,\n",
              "  0.0,\n",
              "  0.0,\n",
              "  0.0,\n",
              "  0.0,\n",
              "  0.0,\n",
              "  0.0,\n",
              "  0.0,\n",
              "  0.0,\n",
              "  0.0,\n",
              "  0.0,\n",
              "  0.0,\n",
              "  0.0,\n",
              "  0.0,\n",
              "  0.0,\n",
              "  0.0,\n",
              "  0.0,\n",
              "  0.0,\n",
              "  0.0,\n",
              "  0.0,\n",
              "  0.0,\n",
              "  0.0,\n",
              "  0.0,\n",
              "  None,\n",
              "  0.0,\n",
              "  0.0,\n",
              "  0.0,\n",
              "  0.0,\n",
              "  0.0,\n",
              "  0.0,\n",
              "  0.0,\n",
              "  0.0,\n",
              "  0.0,\n",
              "  0.0,\n",
              "  0.0,\n",
              "  0.0,\n",
              "  0.0,\n",
              "  0.0,\n",
              "  0.0,\n",
              "  0.0,\n",
              "  0.0,\n",
              "  0.0,\n",
              "  0.0,\n",
              "  0.0,\n",
              "  0.0,\n",
              "  0.0,\n",
              "  0.0,\n",
              "  0.0,\n",
              "  0.0,\n",
              "  0.0,\n",
              "  0.0,\n",
              "  0.0,\n",
              "  0.0,\n",
              "  0.0,\n",
              "  0.0,\n",
              "  0.0,\n",
              "  0.0,\n",
              "  0.0,\n",
              "  0.0,\n",
              "  0.0,\n",
              "  0.0,\n",
              "  0.0,\n",
              "  0.0,\n",
              "  0.0,\n",
              "  0.0,\n",
              "  0.0,\n",
              "  0.0,\n",
              "  0.0,\n",
              "  0.0,\n",
              "  0.0,\n",
              "  0.0,\n",
              "  0.0,\n",
              "  0.0,\n",
              "  0.0,\n",
              "  0.0,\n",
              "  0.0,\n",
              "  0.0,\n",
              "  0.0,\n",
              "  0.0,\n",
              "  0.0,\n",
              "  0.0,\n",
              "  0.0,\n",
              "  0.0,\n",
              "  0.0,\n",
              "  0.0,\n",
              "  0.0,\n",
              "  0.0,\n",
              "  0.0,\n",
              "  0.0,\n",
              "  0.0,\n",
              "  0.0,\n",
              "  0.0,\n",
              "  0.0,\n",
              "  0.0,\n",
              "  0.0,\n",
              "  0.0,\n",
              "  0.0,\n",
              "  0.0,\n",
              "  0.0,\n",
              "  0.0,\n",
              "  0.0,\n",
              "  0.0,\n",
              "  0.0,\n",
              "  0.0,\n",
              "  None,\n",
              "  0.0,\n",
              "  0.0,\n",
              "  0.0,\n",
              "  0.0,\n",
              "  0.0,\n",
              "  0.0,\n",
              "  0.0,\n",
              "  0.0,\n",
              "  0.0,\n",
              "  None,\n",
              "  0.0,\n",
              "  0.0,\n",
              "  0.0,\n",
              "  0.0,\n",
              "  0.0,\n",
              "  0.0,\n",
              "  0.0,\n",
              "  0.0,\n",
              "  0.0,\n",
              "  0.0,\n",
              "  0.0,\n",
              "  0.0,\n",
              "  0.0,\n",
              "  0.0,\n",
              "  0.0,\n",
              "  0.0,\n",
              "  0.0,\n",
              "  0.0,\n",
              "  0.0,\n",
              "  0.0,\n",
              "  0.0,\n",
              "  0.0,\n",
              "  0.0,\n",
              "  0.0,\n",
              "  0.0,\n",
              "  0.0,\n",
              "  0.0,\n",
              "  0.0,\n",
              "  0.0,\n",
              "  0.0,\n",
              "  0.0,\n",
              "  0.0,\n",
              "  0.0,\n",
              "  0.0,\n",
              "  0.0,\n",
              "  0.0,\n",
              "  0.0,\n",
              "  0.0,\n",
              "  0.0,\n",
              "  0.0,\n",
              "  0.0,\n",
              "  0.0,\n",
              "  0.0,\n",
              "  0.0,\n",
              "  0.0,\n",
              "  0.0,\n",
              "  0.0,\n",
              "  0.0,\n",
              "  0.0,\n",
              "  0.0,\n",
              "  0.0,\n",
              "  0.0,\n",
              "  0.0,\n",
              "  0.0,\n",
              "  0.0,\n",
              "  0.0,\n",
              "  0.0,\n",
              "  0.0,\n",
              "  0.0,\n",
              "  0.0,\n",
              "  0.0,\n",
              "  0.0,\n",
              "  0.0,\n",
              "  0.0,\n",
              "  0.0,\n",
              "  0.0,\n",
              "  0.0,\n",
              "  0.0,\n",
              "  0.0,\n",
              "  0.0,\n",
              "  0.0,\n",
              "  0.0,\n",
              "  0.0,\n",
              "  0.0,\n",
              "  0.0,\n",
              "  0.0,\n",
              "  0.0,\n",
              "  0.0,\n",
              "  0.0,\n",
              "  0.0,\n",
              "  0.0,\n",
              "  0.0,\n",
              "  0.0,\n",
              "  0.0,\n",
              "  0.0,\n",
              "  0.0,\n",
              "  0.0,\n",
              "  0.0,\n",
              "  0.0,\n",
              "  0.0,\n",
              "  None,\n",
              "  0.0,\n",
              "  0.0,\n",
              "  0.0,\n",
              "  0.0,\n",
              "  0.0,\n",
              "  0.0,\n",
              "  0.0,\n",
              "  0.0,\n",
              "  0.0,\n",
              "  0.0,\n",
              "  0.0,\n",
              "  0.0,\n",
              "  0.0,\n",
              "  0.0,\n",
              "  0.0,\n",
              "  0.0,\n",
              "  0.0,\n",
              "  0.0,\n",
              "  0.0,\n",
              "  0.0,\n",
              "  0.0,\n",
              "  0.0,\n",
              "  0.0,\n",
              "  0.0,\n",
              "  0.0,\n",
              "  0.0,\n",
              "  0.0,\n",
              "  0.0,\n",
              "  0.0,\n",
              "  0.0,\n",
              "  0.0,\n",
              "  0.0,\n",
              "  0.0,\n",
              "  0.0,\n",
              "  0.0,\n",
              "  0.0,\n",
              "  0.0,\n",
              "  0.0,\n",
              "  0.0,\n",
              "  0.0,\n",
              "  0.0,\n",
              "  0.0,\n",
              "  0.0,\n",
              "  0.0,\n",
              "  0.0,\n",
              "  0.0,\n",
              "  0.0,\n",
              "  0.0,\n",
              "  0.0,\n",
              "  None,\n",
              "  0.0,\n",
              "  0.0,\n",
              "  0.0,\n",
              "  0.0,\n",
              "  0.0,\n",
              "  0.0,\n",
              "  0.0,\n",
              "  0.0,\n",
              "  0.0,\n",
              "  0.0,\n",
              "  0.0,\n",
              "  0.0,\n",
              "  0.0,\n",
              "  0.0,\n",
              "  0.0,\n",
              "  0.0,\n",
              "  0.0,\n",
              "  0.0,\n",
              "  0.0,\n",
              "  0.0,\n",
              "  0.0,\n",
              "  0.0,\n",
              "  0.0,\n",
              "  0.0,\n",
              "  0.0,\n",
              "  0.0,\n",
              "  0.0,\n",
              "  0.0,\n",
              "  0.0,\n",
              "  0.0,\n",
              "  0.0,\n",
              "  0.0,\n",
              "  0.0,\n",
              "  0.0,\n",
              "  0.0,\n",
              "  0.0,\n",
              "  0.0,\n",
              "  0.0,\n",
              "  0.0,\n",
              "  0.0,\n",
              "  0.0,\n",
              "  0.0,\n",
              "  0.0,\n",
              "  0.0,\n",
              "  0.0,\n",
              "  0.0,\n",
              "  0.0,\n",
              "  0.0,\n",
              "  0.0,\n",
              "  0.0,\n",
              "  0.0,\n",
              "  0.0,\n",
              "  0.0,\n",
              "  0.0,\n",
              "  0.0,\n",
              "  0.0,\n",
              "  0.0,\n",
              "  0.0,\n",
              "  0.0,\n",
              "  0.0,\n",
              "  0.0,\n",
              "  0.0,\n",
              "  0.0,\n",
              "  0.0,\n",
              "  0.0,\n",
              "  0.0,\n",
              "  0.0,\n",
              "  0.0,\n",
              "  0.0,\n",
              "  None,\n",
              "  0.0,\n",
              "  0.0,\n",
              "  0.0,\n",
              "  0.0,\n",
              "  0.0,\n",
              "  0.0,\n",
              "  0.0,\n",
              "  0.0,\n",
              "  0.0,\n",
              "  0.0,\n",
              "  0.0,\n",
              "  0.0,\n",
              "  0.0,\n",
              "  0.0,\n",
              "  0.0,\n",
              "  0.0,\n",
              "  0.0,\n",
              "  0.0,\n",
              "  0.0,\n",
              "  0.0,\n",
              "  0.0,\n",
              "  0.0,\n",
              "  0.0,\n",
              "  0.0,\n",
              "  0.0,\n",
              "  0.0,\n",
              "  0.0,\n",
              "  0.0,\n",
              "  0.0,\n",
              "  0.0,\n",
              "  0.0,\n",
              "  0.0,\n",
              "  0.0,\n",
              "  0.0,\n",
              "  0.0,\n",
              "  0.0,\n",
              "  0.0,\n",
              "  0.0,\n",
              "  0.0,\n",
              "  0.0,\n",
              "  0.0,\n",
              "  0.0,\n",
              "  0.0,\n",
              "  0.0,\n",
              "  0.0,\n",
              "  0.0,\n",
              "  0.0,\n",
              "  0.0,\n",
              "  0.0,\n",
              "  0.0,\n",
              "  0.0,\n",
              "  0.0,\n",
              "  0.0,\n",
              "  0.0,\n",
              "  0.0,\n",
              "  0.0,\n",
              "  0.0,\n",
              "  0.0,\n",
              "  0.0,\n",
              "  0.0,\n",
              "  0.0,\n",
              "  0.0,\n",
              "  0.0,\n",
              "  0.0,\n",
              "  0.0,\n",
              "  ...],\n",
              " 'midnight_blue': [0.0,\n",
              "  0.0,\n",
              "  0.0,\n",
              "  0.0,\n",
              "  0.0,\n",
              "  0.0,\n",
              "  0.0,\n",
              "  0.0,\n",
              "  0.0,\n",
              "  0.0,\n",
              "  0.0,\n",
              "  0.0,\n",
              "  0.0,\n",
              "  0.0,\n",
              "  0.0,\n",
              "  0.0,\n",
              "  0.0,\n",
              "  0.0,\n",
              "  None,\n",
              "  0.0,\n",
              "  0.0,\n",
              "  0.0,\n",
              "  0.0,\n",
              "  0.0,\n",
              "  0.0,\n",
              "  0.0,\n",
              "  0.0,\n",
              "  0.0,\n",
              "  0.0,\n",
              "  0.0,\n",
              "  0.0,\n",
              "  0.0,\n",
              "  0.0,\n",
              "  0.0,\n",
              "  None,\n",
              "  0.0,\n",
              "  0.0,\n",
              "  0.0,\n",
              "  0.0,\n",
              "  0.0,\n",
              "  0.0,\n",
              "  0.0,\n",
              "  0.0,\n",
              "  0.0,\n",
              "  0.0,\n",
              "  0.0,\n",
              "  0.0,\n",
              "  0.0,\n",
              "  0.0,\n",
              "  0.0,\n",
              "  0.0,\n",
              "  0.0,\n",
              "  0.0,\n",
              "  0.0,\n",
              "  0.0,\n",
              "  0.0,\n",
              "  0.0,\n",
              "  0.0,\n",
              "  0.0,\n",
              "  0.0,\n",
              "  0.0,\n",
              "  None,\n",
              "  0.0,\n",
              "  0.0,\n",
              "  0.0,\n",
              "  0.0,\n",
              "  0.0,\n",
              "  0.0,\n",
              "  0.0,\n",
              "  0.0,\n",
              "  0.0,\n",
              "  0.0,\n",
              "  0.0,\n",
              "  0.0,\n",
              "  0.0,\n",
              "  0.0,\n",
              "  0.0,\n",
              "  0.0,\n",
              "  0.0,\n",
              "  0.0,\n",
              "  0.0,\n",
              "  0.0,\n",
              "  0.0,\n",
              "  0.0,\n",
              "  0.0,\n",
              "  0.0,\n",
              "  0.0,\n",
              "  0.0,\n",
              "  0.0,\n",
              "  0.0,\n",
              "  0.0,\n",
              "  0.0,\n",
              "  0.0,\n",
              "  0.0,\n",
              "  0.0,\n",
              "  0.0,\n",
              "  0.0,\n",
              "  0.0,\n",
              "  0.0,\n",
              "  0.0,\n",
              "  0.0,\n",
              "  0.0,\n",
              "  0.0,\n",
              "  0.0,\n",
              "  0.0,\n",
              "  0.0,\n",
              "  0.0,\n",
              "  0.0,\n",
              "  0.0,\n",
              "  0.0,\n",
              "  0.0,\n",
              "  0.0,\n",
              "  0.0,\n",
              "  0.0,\n",
              "  0.0,\n",
              "  0.0,\n",
              "  0.0,\n",
              "  0.0,\n",
              "  0.0,\n",
              "  0.0,\n",
              "  0.0,\n",
              "  0.0,\n",
              "  0.0,\n",
              "  0.0,\n",
              "  0.0,\n",
              "  0.0,\n",
              "  0.0,\n",
              "  0.0,\n",
              "  0.0,\n",
              "  0.0,\n",
              "  0.0,\n",
              "  0.0,\n",
              "  0.0,\n",
              "  0.0,\n",
              "  0.0,\n",
              "  0.0,\n",
              "  0.0,\n",
              "  0.0,\n",
              "  0.0,\n",
              "  0.0,\n",
              "  0.0,\n",
              "  0.0,\n",
              "  0.0,\n",
              "  0.0,\n",
              "  0.0,\n",
              "  0.0,\n",
              "  0.0,\n",
              "  0.0,\n",
              "  0.0,\n",
              "  0.0,\n",
              "  0.0,\n",
              "  0.0,\n",
              "  0.0,\n",
              "  0.0,\n",
              "  0.0,\n",
              "  0.0,\n",
              "  0.0,\n",
              "  0.0,\n",
              "  0.0,\n",
              "  0.0,\n",
              "  0.0,\n",
              "  0.0,\n",
              "  0.0,\n",
              "  0.0,\n",
              "  0.0,\n",
              "  0.0,\n",
              "  0.0,\n",
              "  0.0,\n",
              "  0.0,\n",
              "  0.0,\n",
              "  0.0,\n",
              "  0.0,\n",
              "  0.0,\n",
              "  0.0,\n",
              "  0.0,\n",
              "  0.0,\n",
              "  0.0,\n",
              "  0.0,\n",
              "  0.0,\n",
              "  0.0,\n",
              "  0.0,\n",
              "  0.0,\n",
              "  0.0,\n",
              "  0.0,\n",
              "  0.0,\n",
              "  0.0,\n",
              "  0.0,\n",
              "  0.0,\n",
              "  0.0,\n",
              "  0.0,\n",
              "  0.0,\n",
              "  0.0,\n",
              "  0.0,\n",
              "  0.0,\n",
              "  0.0,\n",
              "  0.0,\n",
              "  0.0,\n",
              "  0.0,\n",
              "  0.0,\n",
              "  0.0,\n",
              "  0.0,\n",
              "  0.0,\n",
              "  0.0,\n",
              "  0.0,\n",
              "  0.0,\n",
              "  0.0,\n",
              "  0.0,\n",
              "  0.0,\n",
              "  0.0,\n",
              "  0.0,\n",
              "  0.0,\n",
              "  0.0,\n",
              "  0.0,\n",
              "  0.0,\n",
              "  0.0,\n",
              "  0.0,\n",
              "  0.0,\n",
              "  0.0,\n",
              "  0.0,\n",
              "  0.0,\n",
              "  0.0,\n",
              "  0.0,\n",
              "  0.0,\n",
              "  0.0,\n",
              "  0.0,\n",
              "  0.0,\n",
              "  0.0,\n",
              "  0.0,\n",
              "  0.0,\n",
              "  0.0,\n",
              "  0.0,\n",
              "  0.0,\n",
              "  0.0,\n",
              "  0.0,\n",
              "  0.0,\n",
              "  None,\n",
              "  0.0,\n",
              "  0.0,\n",
              "  0.0,\n",
              "  0.0,\n",
              "  0.0,\n",
              "  0.0,\n",
              "  0.0,\n",
              "  0.0,\n",
              "  0.0,\n",
              "  0.0,\n",
              "  0.0,\n",
              "  0.0,\n",
              "  0.0,\n",
              "  0.0,\n",
              "  0.0,\n",
              "  0.0,\n",
              "  0.0,\n",
              "  0.0,\n",
              "  0.0,\n",
              "  0.0,\n",
              "  0.0,\n",
              "  0.0,\n",
              "  0.0,\n",
              "  0.0,\n",
              "  None,\n",
              "  0.0,\n",
              "  0.0,\n",
              "  0.0,\n",
              "  0.0,\n",
              "  0.0,\n",
              "  0.0,\n",
              "  0.0,\n",
              "  0.0,\n",
              "  0.0,\n",
              "  0.0,\n",
              "  0.0,\n",
              "  0.0,\n",
              "  0.0,\n",
              "  0.0,\n",
              "  0.0,\n",
              "  0.0,\n",
              "  0.0,\n",
              "  0.0,\n",
              "  0.0,\n",
              "  0.0,\n",
              "  0.0,\n",
              "  0.0,\n",
              "  0.0,\n",
              "  0.0,\n",
              "  0.0,\n",
              "  0.0,\n",
              "  0.0,\n",
              "  0.0,\n",
              "  0.0,\n",
              "  0.0,\n",
              "  0.0,\n",
              "  0.0,\n",
              "  0.0,\n",
              "  0.0,\n",
              "  0.0,\n",
              "  0.0,\n",
              "  0.0,\n",
              "  0.0,\n",
              "  0.0,\n",
              "  0.0,\n",
              "  0.0,\n",
              "  0.0,\n",
              "  0.0,\n",
              "  0.0,\n",
              "  0.0,\n",
              "  0.0,\n",
              "  0.0,\n",
              "  0.0,\n",
              "  0.0,\n",
              "  0.0,\n",
              "  0.0,\n",
              "  0.0,\n",
              "  0.0,\n",
              "  0.0,\n",
              "  0.0,\n",
              "  0.0,\n",
              "  0.0,\n",
              "  0.0,\n",
              "  0.0,\n",
              "  0.0,\n",
              "  0.0,\n",
              "  0.0,\n",
              "  0.0,\n",
              "  0.0,\n",
              "  0.0,\n",
              "  0.0,\n",
              "  0.0,\n",
              "  0.0,\n",
              "  0.0,\n",
              "  0.0,\n",
              "  0.0,\n",
              "  0.0,\n",
              "  0.0,\n",
              "  0.0,\n",
              "  0.0,\n",
              "  0.0,\n",
              "  0.0,\n",
              "  0.0,\n",
              "  0.0,\n",
              "  0.0,\n",
              "  0.0,\n",
              "  None,\n",
              "  0.0,\n",
              "  0.0,\n",
              "  0.0,\n",
              "  0.0,\n",
              "  0.0,\n",
              "  0.0,\n",
              "  0.0,\n",
              "  0.0,\n",
              "  0.0,\n",
              "  0.0,\n",
              "  0.0,\n",
              "  0.0,\n",
              "  0.0,\n",
              "  0.0,\n",
              "  0.0,\n",
              "  0.0,\n",
              "  0.0,\n",
              "  0.0,\n",
              "  None,\n",
              "  0.0,\n",
              "  0.0,\n",
              "  0.0,\n",
              "  0.0,\n",
              "  0.0,\n",
              "  0.0,\n",
              "  0.0,\n",
              "  0.0,\n",
              "  0.0,\n",
              "  0.0,\n",
              "  0.0,\n",
              "  0.0,\n",
              "  0.0,\n",
              "  0.0,\n",
              "  0.0,\n",
              "  0.0,\n",
              "  0.0,\n",
              "  0.0,\n",
              "  0.0,\n",
              "  0.0,\n",
              "  0.0,\n",
              "  0.0,\n",
              "  0.0,\n",
              "  0.0,\n",
              "  0.0,\n",
              "  0.0,\n",
              "  0.0,\n",
              "  0.0,\n",
              "  0.0,\n",
              "  0.0,\n",
              "  0.0,\n",
              "  0.0,\n",
              "  0.0,\n",
              "  0.0,\n",
              "  0.0,\n",
              "  0.0,\n",
              "  0.0,\n",
              "  0.0,\n",
              "  0.0,\n",
              "  0.0,\n",
              "  0.0,\n",
              "  0.0,\n",
              "  0.0,\n",
              "  0.0,\n",
              "  0.0,\n",
              "  0.0,\n",
              "  0.0,\n",
              "  0.0,\n",
              "  0.0,\n",
              "  0.0,\n",
              "  0.0,\n",
              "  0.0,\n",
              "  0.0,\n",
              "  0.0,\n",
              "  0.0,\n",
              "  0.0,\n",
              "  0.0,\n",
              "  0.0,\n",
              "  0.0,\n",
              "  0.0,\n",
              "  0.0,\n",
              "  0.0,\n",
              "  0.0,\n",
              "  0.0,\n",
              "  0.0,\n",
              "  0.0,\n",
              "  0.0,\n",
              "  0.0,\n",
              "  None,\n",
              "  0.0,\n",
              "  0.0,\n",
              "  0.0,\n",
              "  0.0,\n",
              "  0.0,\n",
              "  0.0,\n",
              "  0.0,\n",
              "  0.0,\n",
              "  0.0,\n",
              "  0.0,\n",
              "  0.0,\n",
              "  0.0,\n",
              "  0.0,\n",
              "  0.0,\n",
              "  0.0,\n",
              "  0.0,\n",
              "  0.0,\n",
              "  0.0,\n",
              "  0.0,\n",
              "  0.0,\n",
              "  0.0,\n",
              "  0.0,\n",
              "  0.0,\n",
              "  0.0,\n",
              "  0.0,\n",
              "  0.0,\n",
              "  0.0,\n",
              "  0.0,\n",
              "  0.0,\n",
              "  0.0,\n",
              "  0.0,\n",
              "  0.0,\n",
              "  0.0,\n",
              "  0.0,\n",
              "  0.0,\n",
              "  0.0,\n",
              "  0.0,\n",
              "  0.0,\n",
              "  0.0,\n",
              "  0.0,\n",
              "  0.0,\n",
              "  0.0,\n",
              "  0.0,\n",
              "  0.0,\n",
              "  0.0,\n",
              "  0.0,\n",
              "  0.0,\n",
              "  0.0,\n",
              "  0.0,\n",
              "  0.0,\n",
              "  0.0,\n",
              "  0.0,\n",
              "  0.0,\n",
              "  0.0,\n",
              "  0.0,\n",
              "  0.0,\n",
              "  0.0,\n",
              "  0.0,\n",
              "  0.0,\n",
              "  0.0,\n",
              "  0.0,\n",
              "  0.0,\n",
              "  0.0,\n",
              "  0.0,\n",
              "  0.0,\n",
              "  0.0,\n",
              "  0.0,\n",
              "  0.0,\n",
              "  None,\n",
              "  0.0,\n",
              "  0.0,\n",
              "  0.0,\n",
              "  0.0,\n",
              "  0.0,\n",
              "  0.0,\n",
              "  0.0,\n",
              "  0.0,\n",
              "  0.0,\n",
              "  0.0,\n",
              "  0.0,\n",
              "  0.0,\n",
              "  0.0,\n",
              "  0.0,\n",
              "  0.0,\n",
              "  0.0,\n",
              "  None,\n",
              "  0.0,\n",
              "  0.0,\n",
              "  0.0,\n",
              "  0.0,\n",
              "  0.0,\n",
              "  0.0,\n",
              "  None,\n",
              "  0.0,\n",
              "  0.0,\n",
              "  0.0,\n",
              "  0.0,\n",
              "  0.0,\n",
              "  0.0,\n",
              "  0.0,\n",
              "  0.0,\n",
              "  0.0,\n",
              "  0.0,\n",
              "  0.0,\n",
              "  0.0,\n",
              "  0.0,\n",
              "  0.0,\n",
              "  0.0,\n",
              "  0.0,\n",
              "  0.0,\n",
              "  0.0,\n",
              "  0.0,\n",
              "  0.0,\n",
              "  0.0,\n",
              "  0.0,\n",
              "  0.0,\n",
              "  0.0,\n",
              "  0.0,\n",
              "  0.0,\n",
              "  0.0,\n",
              "  0.0,\n",
              "  0.0,\n",
              "  0.0,\n",
              "  0.0,\n",
              "  0.0,\n",
              "  0.0,\n",
              "  0.0,\n",
              "  0.0,\n",
              "  0.0,\n",
              "  0.0,\n",
              "  None,\n",
              "  0.0,\n",
              "  0.0,\n",
              "  0.0,\n",
              "  0.0,\n",
              "  0.0,\n",
              "  0.0,\n",
              "  0.0,\n",
              "  0.0,\n",
              "  0.0,\n",
              "  0.0,\n",
              "  0.0,\n",
              "  0.0,\n",
              "  0.0,\n",
              "  0.0,\n",
              "  0.0,\n",
              "  0.0,\n",
              "  0.0,\n",
              "  0.0,\n",
              "  0.0,\n",
              "  0.0,\n",
              "  0.0,\n",
              "  0.0,\n",
              "  0.0,\n",
              "  0.0,\n",
              "  0.0,\n",
              "  0.0,\n",
              "  0.0,\n",
              "  None,\n",
              "  0.0,\n",
              "  0.0,\n",
              "  0.0,\n",
              "  0.0,\n",
              "  0.0,\n",
              "  0.0,\n",
              "  0.0,\n",
              "  0.0,\n",
              "  0.0,\n",
              "  0.0,\n",
              "  0.0,\n",
              "  0.0,\n",
              "  0.0,\n",
              "  0.0,\n",
              "  0.0,\n",
              "  0.0,\n",
              "  0.0,\n",
              "  0.0,\n",
              "  0.0,\n",
              "  0.0,\n",
              "  0.0,\n",
              "  0.0,\n",
              "  0.0,\n",
              "  0.0,\n",
              "  0.0,\n",
              "  0.0,\n",
              "  0.0,\n",
              "  0.0,\n",
              "  0.0,\n",
              "  0.0,\n",
              "  0.0,\n",
              "  0.0,\n",
              "  0.0,\n",
              "  0.0,\n",
              "  0.0,\n",
              "  0.0,\n",
              "  0.0,\n",
              "  0.0,\n",
              "  0.0,\n",
              "  0.0,\n",
              "  0.0,\n",
              "  0.0,\n",
              "  None,\n",
              "  0.0,\n",
              "  0.0,\n",
              "  0.0,\n",
              "  0.0,\n",
              "  0.0,\n",
              "  0.0,\n",
              "  0.0,\n",
              "  0.0,\n",
              "  0.0,\n",
              "  0.0,\n",
              "  0.0,\n",
              "  0.0,\n",
              "  0.0,\n",
              "  0.0,\n",
              "  0.0,\n",
              "  0.0,\n",
              "  0.0,\n",
              "  0.0,\n",
              "  0.0,\n",
              "  0.0,\n",
              "  0.0,\n",
              "  0.0,\n",
              "  0.0,\n",
              "  0.0,\n",
              "  0.0,\n",
              "  0.0,\n",
              "  0.0,\n",
              "  0.0,\n",
              "  0.0,\n",
              "  0.0,\n",
              "  0.0,\n",
              "  0.0,\n",
              "  0.0,\n",
              "  0.0,\n",
              "  0.0,\n",
              "  0.0,\n",
              "  0.0,\n",
              "  0.0,\n",
              "  0.0,\n",
              "  0.0,\n",
              "  0.0,\n",
              "  0.0,\n",
              "  0.0,\n",
              "  0.0,\n",
              "  0.0,\n",
              "  0.0,\n",
              "  0.0,\n",
              "  0.0,\n",
              "  0.0,\n",
              "  0.0,\n",
              "  0.0,\n",
              "  0.0,\n",
              "  0.0,\n",
              "  0.0,\n",
              "  0.0,\n",
              "  0.0,\n",
              "  0.0,\n",
              "  0.0,\n",
              "  0.0,\n",
              "  0.0,\n",
              "  0.0,\n",
              "  0.0,\n",
              "  0.0,\n",
              "  0.0,\n",
              "  0.0,\n",
              "  0.0,\n",
              "  0.0,\n",
              "  0.0,\n",
              "  0.0,\n",
              "  0.0,\n",
              "  0.0,\n",
              "  0.0,\n",
              "  0.0,\n",
              "  0.0,\n",
              "  0.0,\n",
              "  0.0,\n",
              "  0.0,\n",
              "  0.0,\n",
              "  0.0,\n",
              "  0.0,\n",
              "  None,\n",
              "  0.0,\n",
              "  0.0,\n",
              "  0.0,\n",
              "  0.0,\n",
              "  0.0,\n",
              "  0.0,\n",
              "  0.0,\n",
              "  0.0,\n",
              "  0.0,\n",
              "  None,\n",
              "  0.0,\n",
              "  0.0,\n",
              "  0.0,\n",
              "  0.0,\n",
              "  0.0,\n",
              "  0.0,\n",
              "  0.0,\n",
              "  0.0,\n",
              "  0.0,\n",
              "  0.0,\n",
              "  0.0,\n",
              "  0.0,\n",
              "  0.0,\n",
              "  0.0,\n",
              "  0.0,\n",
              "  0.0,\n",
              "  0.0,\n",
              "  0.0,\n",
              "  0.0,\n",
              "  0.0,\n",
              "  0.0,\n",
              "  0.0,\n",
              "  0.0,\n",
              "  0.0,\n",
              "  0.0,\n",
              "  0.0,\n",
              "  0.0,\n",
              "  0.0,\n",
              "  0.0,\n",
              "  0.0,\n",
              "  0.0,\n",
              "  0.0,\n",
              "  0.0,\n",
              "  0.0,\n",
              "  0.0,\n",
              "  0.0,\n",
              "  0.0,\n",
              "  0.0,\n",
              "  0.0,\n",
              "  0.0,\n",
              "  0.0,\n",
              "  0.0,\n",
              "  0.0,\n",
              "  0.0,\n",
              "  0.0,\n",
              "  0.0,\n",
              "  0.0,\n",
              "  0.0,\n",
              "  0.0,\n",
              "  0.0,\n",
              "  0.0,\n",
              "  0.0,\n",
              "  0.0,\n",
              "  0.0,\n",
              "  0.0,\n",
              "  0.0,\n",
              "  0.0,\n",
              "  0.0,\n",
              "  0.0,\n",
              "  0.0,\n",
              "  0.0,\n",
              "  0.0,\n",
              "  0.0,\n",
              "  0.0,\n",
              "  0.0,\n",
              "  0.0,\n",
              "  0.0,\n",
              "  0.0,\n",
              "  0.0,\n",
              "  0.0,\n",
              "  0.0,\n",
              "  0.0,\n",
              "  0.0,\n",
              "  0.0,\n",
              "  0.0,\n",
              "  0.0,\n",
              "  0.0,\n",
              "  0.0,\n",
              "  0.0,\n",
              "  0.0,\n",
              "  0.0,\n",
              "  0.0,\n",
              "  0.0,\n",
              "  0.0,\n",
              "  0.0,\n",
              "  0.0,\n",
              "  0.0,\n",
              "  0.0,\n",
              "  0.0,\n",
              "  0.0,\n",
              "  None,\n",
              "  0.0,\n",
              "  0.0,\n",
              "  0.0,\n",
              "  0.0,\n",
              "  0.0,\n",
              "  0.0,\n",
              "  0.0,\n",
              "  0.0,\n",
              "  0.0,\n",
              "  0.0,\n",
              "  0.0,\n",
              "  0.0,\n",
              "  0.0,\n",
              "  0.0,\n",
              "  0.0,\n",
              "  0.0,\n",
              "  0.0,\n",
              "  0.0,\n",
              "  0.0,\n",
              "  0.0,\n",
              "  0.0,\n",
              "  0.0,\n",
              "  0.0,\n",
              "  0.0,\n",
              "  0.0,\n",
              "  0.0,\n",
              "  0.0,\n",
              "  0.0,\n",
              "  0.0,\n",
              "  0.0,\n",
              "  0.0,\n",
              "  0.0,\n",
              "  0.0,\n",
              "  0.0,\n",
              "  0.0,\n",
              "  0.0,\n",
              "  0.0,\n",
              "  0.0,\n",
              "  0.0,\n",
              "  0.0,\n",
              "  0.0,\n",
              "  0.0,\n",
              "  0.0,\n",
              "  0.0,\n",
              "  0.0,\n",
              "  0.0,\n",
              "  0.0,\n",
              "  0.0,\n",
              "  0.0,\n",
              "  None,\n",
              "  0.0,\n",
              "  0.0,\n",
              "  0.0,\n",
              "  0.0,\n",
              "  0.0,\n",
              "  0.0,\n",
              "  0.0,\n",
              "  0.0,\n",
              "  0.0,\n",
              "  0.0,\n",
              "  0.0,\n",
              "  0.0,\n",
              "  0.0,\n",
              "  0.0,\n",
              "  0.0,\n",
              "  0.0,\n",
              "  0.0,\n",
              "  0.0,\n",
              "  0.0,\n",
              "  0.0,\n",
              "  0.0,\n",
              "  0.0,\n",
              "  0.0,\n",
              "  0.0,\n",
              "  0.0,\n",
              "  0.0,\n",
              "  0.0,\n",
              "  0.0,\n",
              "  0.0,\n",
              "  0.0,\n",
              "  0.0,\n",
              "  0.0,\n",
              "  0.0,\n",
              "  0.0,\n",
              "  0.0,\n",
              "  0.0,\n",
              "  0.0,\n",
              "  0.0,\n",
              "  0.0,\n",
              "  0.0,\n",
              "  0.0,\n",
              "  0.0,\n",
              "  0.0,\n",
              "  0.0,\n",
              "  0.0,\n",
              "  0.0,\n",
              "  0.0,\n",
              "  0.0,\n",
              "  0.0,\n",
              "  0.0,\n",
              "  0.0,\n",
              "  0.0,\n",
              "  0.0,\n",
              "  0.0,\n",
              "  0.0,\n",
              "  0.0,\n",
              "  0.0,\n",
              "  0.0,\n",
              "  0.0,\n",
              "  0.0,\n",
              "  0.0,\n",
              "  0.0,\n",
              "  0.0,\n",
              "  0.0,\n",
              "  0.0,\n",
              "  0.0,\n",
              "  0.0,\n",
              "  0.0,\n",
              "  0.0,\n",
              "  None,\n",
              "  0.0,\n",
              "  0.0,\n",
              "  0.0,\n",
              "  0.0,\n",
              "  0.0,\n",
              "  0.0,\n",
              "  0.0,\n",
              "  0.0,\n",
              "  0.0,\n",
              "  0.0,\n",
              "  0.0,\n",
              "  0.0,\n",
              "  0.0,\n",
              "  0.0,\n",
              "  0.0,\n",
              "  0.0,\n",
              "  0.0,\n",
              "  0.0,\n",
              "  0.0,\n",
              "  0.0,\n",
              "  0.0,\n",
              "  0.0,\n",
              "  0.0,\n",
              "  0.0,\n",
              "  0.0,\n",
              "  0.0,\n",
              "  0.0,\n",
              "  0.0,\n",
              "  0.0,\n",
              "  0.0,\n",
              "  0.0,\n",
              "  0.0,\n",
              "  0.0,\n",
              "  0.0,\n",
              "  0.0,\n",
              "  0.0,\n",
              "  0.0,\n",
              "  0.0,\n",
              "  0.0,\n",
              "  0.0,\n",
              "  0.0,\n",
              "  0.0,\n",
              "  0.0,\n",
              "  0.0,\n",
              "  0.0,\n",
              "  0.0,\n",
              "  0.0,\n",
              "  0.0,\n",
              "  0.0,\n",
              "  0.0,\n",
              "  0.0,\n",
              "  0.0,\n",
              "  0.0,\n",
              "  0.0,\n",
              "  0.0,\n",
              "  0.0,\n",
              "  0.0,\n",
              "  0.0,\n",
              "  0.0,\n",
              "  0.0,\n",
              "  0.0,\n",
              "  0.0,\n",
              "  0.0,\n",
              "  0.0,\n",
              "  0.0,\n",
              "  ...],\n",
              " 'olive': [0.0,\n",
              "  0.0,\n",
              "  0.0,\n",
              "  0.0,\n",
              "  0.0,\n",
              "  0.0,\n",
              "  0.0,\n",
              "  0.0,\n",
              "  0.0,\n",
              "  0.0,\n",
              "  0.0,\n",
              "  0.0,\n",
              "  0.0,\n",
              "  0.0,\n",
              "  0.0,\n",
              "  0.09646707103228218,\n",
              "  0.0,\n",
              "  0.0,\n",
              "  None,\n",
              "  0.0,\n",
              "  0.0,\n",
              "  0.0,\n",
              "  2.5195377916713184,\n",
              "  0.0,\n",
              "  0.0,\n",
              "  0.0,\n",
              "  0.0,\n",
              "  0.0,\n",
              "  0.0,\n",
              "  0.0,\n",
              "  0.047566550925925925,\n",
              "  0.0,\n",
              "  0.0,\n",
              "  0.0,\n",
              "  None,\n",
              "  0.0,\n",
              "  0.0,\n",
              "  0.0,\n",
              "  0.0,\n",
              "  0.0,\n",
              "  0.0,\n",
              "  0.0,\n",
              "  0.0,\n",
              "  0.0,\n",
              "  0.0,\n",
              "  0.0,\n",
              "  0.0,\n",
              "  0.007352538355741756,\n",
              "  0.0,\n",
              "  0.0,\n",
              "  0.0,\n",
              "  0.0,\n",
              "  0.0,\n",
              "  0.0,\n",
              "  0.0,\n",
              "  0.0,\n",
              "  0.0,\n",
              "  0.0,\n",
              "  0.0,\n",
              "  0.0,\n",
              "  0.0,\n",
              "  None,\n",
              "  0.0,\n",
              "  0.0,\n",
              "  0.0,\n",
              "  0.0,\n",
              "  0.0,\n",
              "  0.0,\n",
              "  0.0,\n",
              "  0.0,\n",
              "  0.0,\n",
              "  0.0,\n",
              "  0.0,\n",
              "  2.9799297924297923,\n",
              "  0.0,\n",
              "  0.0,\n",
              "  0.0,\n",
              "  0.0,\n",
              "  0.0,\n",
              "  0.0,\n",
              "  0.0,\n",
              "  0.0,\n",
              "  0.0,\n",
              "  0.0,\n",
              "  0.0,\n",
              "  0.0,\n",
              "  0.0,\n",
              "  0.0,\n",
              "  0.0,\n",
              "  0.0,\n",
              "  0.0,\n",
              "  0.014166666666666666,\n",
              "  0.0,\n",
              "  0.0,\n",
              "  0.0,\n",
              "  0.0,\n",
              "  0.0,\n",
              "  0.0,\n",
              "  0.0,\n",
              "  0.0,\n",
              "  2.867920402361688,\n",
              "  0.0,\n",
              "  0.0,\n",
              "  0.0,\n",
              "  0.0,\n",
              "  0.0,\n",
              "  0.0,\n",
              "  0.0,\n",
              "  0.0,\n",
              "  0.0,\n",
              "  4.215291666666666,\n",
              "  0.0,\n",
              "  0.0,\n",
              "  0.0,\n",
              "  0.0,\n",
              "  0.0,\n",
              "  0.0,\n",
              "  0.0,\n",
              "  0.0,\n",
              "  0.0011260067825349725,\n",
              "  0.0,\n",
              "  0.00041808761804826863,\n",
              "  0.0,\n",
              "  0.0,\n",
              "  0.0,\n",
              "  0.0012329442709189545,\n",
              "  0.0,\n",
              "  0.0,\n",
              "  0.0,\n",
              "  0.0,\n",
              "  0.0,\n",
              "  0.0,\n",
              "  0.0,\n",
              "  0.0,\n",
              "  0.0,\n",
              "  0.0,\n",
              "  0.0,\n",
              "  9.453730108239649e-05,\n",
              "  0.0,\n",
              "  0.0,\n",
              "  0.0,\n",
              "  0.0,\n",
              "  0.0,\n",
              "  0.0,\n",
              "  0.0,\n",
              "  0.0,\n",
              "  0.0,\n",
              "  0.0,\n",
              "  0.0,\n",
              "  0.0,\n",
              "  0.02805100516101827,\n",
              "  0.0,\n",
              "  0.0,\n",
              "  0.0,\n",
              "  0.0,\n",
              "  0.0,\n",
              "  0.0,\n",
              "  0.0,\n",
              "  0.0,\n",
              "  0.0,\n",
              "  0.0,\n",
              "  0.0,\n",
              "  0.0,\n",
              "  0.0,\n",
              "  0.0,\n",
              "  0.0,\n",
              "  0.0,\n",
              "  0.0,\n",
              "  0.0,\n",
              "  0.0,\n",
              "  0.0,\n",
              "  0.0,\n",
              "  0.0,\n",
              "  0.0,\n",
              "  0.0,\n",
              "  0.0,\n",
              "  0.06491275258902841,\n",
              "  0.0,\n",
              "  0.0,\n",
              "  0.0,\n",
              "  0.0,\n",
              "  0.0,\n",
              "  0.0,\n",
              "  0.00478125,\n",
              "  0.0,\n",
              "  0.0,\n",
              "  0.0,\n",
              "  0.0,\n",
              "  0.0,\n",
              "  0.0,\n",
              "  0.0,\n",
              "  0.0,\n",
              "  0.0,\n",
              "  0.0,\n",
              "  0.0,\n",
              "  0.40171780703678284,\n",
              "  0.0,\n",
              "  0.0,\n",
              "  0.0,\n",
              "  0.0,\n",
              "  0.0,\n",
              "  0.0,\n",
              "  0.0,\n",
              "  0.0,\n",
              "  0.0,\n",
              "  0.0,\n",
              "  0.0,\n",
              "  0.239713305353902,\n",
              "  0.0,\n",
              "  0.0,\n",
              "  0.0,\n",
              "  0.0,\n",
              "  0.0,\n",
              "  0.0,\n",
              "  0.0,\n",
              "  0.0,\n",
              "  0.0,\n",
              "  0.0,\n",
              "  0.0,\n",
              "  0.0031755011421130156,\n",
              "  0.0,\n",
              "  0.00026801029159519727,\n",
              "  0.0,\n",
              "  0.00041808761804826863,\n",
              "  0.0,\n",
              "  0.0,\n",
              "  0.0,\n",
              "  0.0,\n",
              "  0.0,\n",
              "  0.0,\n",
              "  0.009112308564946114,\n",
              "  0.0,\n",
              "  0.0,\n",
              "  0.0,\n",
              "  0.15020644095788604,\n",
              "  None,\n",
              "  0.0,\n",
              "  0.0,\n",
              "  0.0,\n",
              "  0.0030662797409093823,\n",
              "  0.0,\n",
              "  0.0,\n",
              "  0.0,\n",
              "  0.0,\n",
              "  0.0,\n",
              "  0.0,\n",
              "  0.0,\n",
              "  0.0,\n",
              "  0.0,\n",
              "  0.0,\n",
              "  0.0,\n",
              "  0.0,\n",
              "  0.0,\n",
              "  0.0,\n",
              "  0.0,\n",
              "  0.0,\n",
              "  0.0,\n",
              "  0.0,\n",
              "  0.8752680311890838,\n",
              "  0.0,\n",
              "  None,\n",
              "  0.0,\n",
              "  0.0,\n",
              "  0.0,\n",
              "  0.0,\n",
              "  0.0,\n",
              "  0.0,\n",
              "  0.349296875,\n",
              "  0.0,\n",
              "  0.0,\n",
              "  0.0,\n",
              "  0.005874510097534146,\n",
              "  0.0,\n",
              "  0.0,\n",
              "  0.0,\n",
              "  0.0,\n",
              "  0.0,\n",
              "  0.0,\n",
              "  0.0,\n",
              "  0.0,\n",
              "  0.0,\n",
              "  0.0,\n",
              "  0.0,\n",
              "  0.004323323567708333,\n",
              "  0.0,\n",
              "  0.0,\n",
              "  0.0006735474157570475,\n",
              "  0.032467532467532464,\n",
              "  0.0,\n",
              "  0.0,\n",
              "  0.0006882591093117409,\n",
              "  0.0004189147362503433,\n",
              "  0.0,\n",
              "  0.0,\n",
              "  2.22258,\n",
              "  0.0,\n",
              "  0.0,\n",
              "  0.0,\n",
              "  0.0,\n",
              "  0.0,\n",
              "  0.765089536516854,\n",
              "  0.0,\n",
              "  0.0,\n",
              "  0.0,\n",
              "  0.0,\n",
              "  0.0,\n",
              "  0.0,\n",
              "  0.0,\n",
              "  0.0006061806656101426,\n",
              "  0.0,\n",
              "  0.0,\n",
              "  0.0,\n",
              "  0.05505181347150259,\n",
              "  0.0,\n",
              "  0.0,\n",
              "  0.0,\n",
              "  0.0,\n",
              "  0.0,\n",
              "  0.0,\n",
              "  0.0,\n",
              "  0.0,\n",
              "  0.0,\n",
              "  0.0,\n",
              "  0.0,\n",
              "  0.0,\n",
              "  0.019941089070197846,\n",
              "  0.0021888412017167383,\n",
              "  0.0,\n",
              "  0.0,\n",
              "  0.0,\n",
              "  0.0,\n",
              "  0.0,\n",
              "  0.0,\n",
              "  0.0,\n",
              "  0.0,\n",
              "  0.0,\n",
              "  0.0,\n",
              "  0.0,\n",
              "  0.0,\n",
              "  0.0,\n",
              "  0.0,\n",
              "  1.0814968814968815,\n",
              "  None,\n",
              "  0.00053125,\n",
              "  0.0,\n",
              "  0.0,\n",
              "  0.0,\n",
              "  0.0,\n",
              "  0.0,\n",
              "  0.0,\n",
              "  0.0,\n",
              "  0.0,\n",
              "  0.0,\n",
              "  0.0,\n",
              "  0.0,\n",
              "  0.0,\n",
              "  0.0,\n",
              "  0.0,\n",
              "  0.0,\n",
              "  0.0,\n",
              "  0.0,\n",
              "  None,\n",
              "  0.0,\n",
              "  0.0,\n",
              "  0.0,\n",
              "  0.0,\n",
              "  0.0,\n",
              "  0.0,\n",
              "  0.0,\n",
              "  0.0,\n",
              "  0.0,\n",
              "  0.0,\n",
              "  0.0,\n",
              "  0.0,\n",
              "  0.0,\n",
              "  0.12491482833659574,\n",
              "  0.0,\n",
              "  0.0,\n",
              "  0.0,\n",
              "  0.0,\n",
              "  0.0,\n",
              "  0.0,\n",
              "  0.0,\n",
              "  0.0,\n",
              "  0.0007287379972565158,\n",
              "  0.0,\n",
              "  0.0035176824680210684,\n",
              "  0.0,\n",
              "  0.0,\n",
              "  0.0,\n",
              "  0.005046531993528565,\n",
              "  141.6574964502388,\n",
              "  0.0,\n",
              "  0.0,\n",
              "  0.0,\n",
              "  0.0,\n",
              "  0.0,\n",
              "  0.0,\n",
              "  0.0,\n",
              "  0.0,\n",
              "  0.0,\n",
              "  2.4033495508982035,\n",
              "  0.0,\n",
              "  0.0,\n",
              "  0.0,\n",
              "  0.0,\n",
              "  0.0,\n",
              "  0.0,\n",
              "  0.0,\n",
              "  0.0,\n",
              "  0.0,\n",
              "  0.0,\n",
              "  0.0,\n",
              "  0.0,\n",
              "  0.00306,\n",
              "  0.0,\n",
              "  0.0,\n",
              "  0.0,\n",
              "  0.0,\n",
              "  0.3404551507081467,\n",
              "  0.0,\n",
              "  0.0,\n",
              "  0.0,\n",
              "  0.19660804020100503,\n",
              "  0.0,\n",
              "  0.0,\n",
              "  0.0,\n",
              "  0.0,\n",
              "  0.0,\n",
              "  0.0,\n",
              "  None,\n",
              "  0.0,\n",
              "  0.0,\n",
              "  0.0,\n",
              "  0.0,\n",
              "  0.0,\n",
              "  0.0007370993166655747,\n",
              "  0.0,\n",
              "  0.0,\n",
              "  0.0,\n",
              "  0.0,\n",
              "  0.0,\n",
              "  0.0,\n",
              "  0.0,\n",
              "  0.0,\n",
              "  0.0,\n",
              "  0.0,\n",
              "  0.0,\n",
              "  0.8921421421421422,\n",
              "  0.0,\n",
              "  0.0,\n",
              "  0.0,\n",
              "  0.0,\n",
              "  0.0,\n",
              "  0.0,\n",
              "  0.0,\n",
              "  0.0,\n",
              "  0.0,\n",
              "  0.0,\n",
              "  0.0,\n",
              "  0.0,\n",
              "  0.0,\n",
              "  0.0,\n",
              "  0.0,\n",
              "  0.0,\n",
              "  0.0,\n",
              "  0.0,\n",
              "  0.0,\n",
              "  0.0,\n",
              "  0.0,\n",
              "  0.0,\n",
              "  0.0,\n",
              "  0.0,\n",
              "  0.0,\n",
              "  0.0,\n",
              "  0.0,\n",
              "  0.0,\n",
              "  0.0,\n",
              "  0.0,\n",
              "  0.014278656126482214,\n",
              "  0.0,\n",
              "  0.0,\n",
              "  0.0,\n",
              "  0.0,\n",
              "  0.0,\n",
              "  0.0,\n",
              "  0.0,\n",
              "  0.0,\n",
              "  0.0,\n",
              "  0.0,\n",
              "  0.0,\n",
              "  0.0,\n",
              "  0.0296653813086817,\n",
              "  0.2935344827586207,\n",
              "  0.0,\n",
              "  0.0,\n",
              "  0.0,\n",
              "  0.0,\n",
              "  0.0,\n",
              "  None,\n",
              "  0.0,\n",
              "  0.0,\n",
              "  0.0,\n",
              "  0.0,\n",
              "  0.0,\n",
              "  0.0,\n",
              "  0.0,\n",
              "  24.987039239818756,\n",
              "  0.0,\n",
              "  0.0,\n",
              "  0.0,\n",
              "  0.0,\n",
              "  0.0,\n",
              "  0.0,\n",
              "  0.0,\n",
              "  2.9984756097560976,\n",
              "  None,\n",
              "  0.0,\n",
              "  0.0,\n",
              "  0.0,\n",
              "  0.00016758542913699419,\n",
              "  0.0,\n",
              "  0.0,\n",
              "  None,\n",
              "  0.0,\n",
              "  0.0,\n",
              "  0.0,\n",
              "  0.0,\n",
              "  0.0,\n",
              "  0.0,\n",
              "  0.0,\n",
              "  0.0,\n",
              "  0.0,\n",
              "  0.0,\n",
              "  0.0,\n",
              "  0.0013591591335493775,\n",
              "  0.0,\n",
              "  0.0,\n",
              "  0.0,\n",
              "  0.0,\n",
              "  0.0,\n",
              "  0.0,\n",
              "  0.0,\n",
              "  0.0,\n",
              "  0.0,\n",
              "  0.0,\n",
              "  0.0,\n",
              "  0.0,\n",
              "  0.0,\n",
              "  0.12808284891923924,\n",
              "  0.0,\n",
              "  0.0,\n",
              "  0.0,\n",
              "  0.03421486937970455,\n",
              "  0.0,\n",
              "  0.0,\n",
              "  0.0,\n",
              "  0.0,\n",
              "  0.0,\n",
              "  0.0,\n",
              "  0.0,\n",
              "  None,\n",
              "  0.0,\n",
              "  0.0,\n",
              "  0.0,\n",
              "  0.0,\n",
              "  0.0,\n",
              "  0.1321775147928994,\n",
              "  0.0,\n",
              "  0.0,\n",
              "  0.0,\n",
              "  0.0,\n",
              "  0.0,\n",
              "  0.0,\n",
              "  0.0,\n",
              "  0.0,\n",
              "  0.0,\n",
              "  0.006796801505174036,\n",
              "  0.0,\n",
              "  0.0,\n",
              "  0.0,\n",
              "  0.0,\n",
              "  0.0,\n",
              "  0.0,\n",
              "  0.0,\n",
              "  0.0,\n",
              "  0.0002934880187832332,\n",
              "  0.0,\n",
              "  0.0,\n",
              "  None,\n",
              "  0.5010917030567685,\n",
              "  1.6209177215189874,\n",
              "  0.0,\n",
              "  0.0,\n",
              "  0.0,\n",
              "  0.0029993057250976562,\n",
              "  0.0,\n",
              "  0.0,\n",
              "  0.0,\n",
              "  0.0,\n",
              "  0.0,\n",
              "  0.0,\n",
              "  0.0,\n",
              "  0.0,\n",
              "  0.001298811544991511,\n",
              "  0.0,\n",
              "  0.0,\n",
              "  0.0,\n",
              "  0.0,\n",
              "  0.0,\n",
              "  0.0,\n",
              "  0.0,\n",
              "  0.0,\n",
              "  0.0,\n",
              "  0.0,\n",
              "  0.0,\n",
              "  0.0,\n",
              "  0.0,\n",
              "  0.0,\n",
              "  0.0,\n",
              "  0.0,\n",
              "  0.0,\n",
              "  0.0,\n",
              "  0.0,\n",
              "  0.0,\n",
              "  0.0,\n",
              "  0.0,\n",
              "  0.0,\n",
              "  0.0,\n",
              "  0.0,\n",
              "  0.0,\n",
              "  0.0,\n",
              "  None,\n",
              "  0.0,\n",
              "  0.0,\n",
              "  0.5743987187920039,\n",
              "  0.0,\n",
              "  0.0,\n",
              "  0.04000771604938272,\n",
              "  0.0,\n",
              "  0.0,\n",
              "  0.0,\n",
              "  0.0,\n",
              "  0.0,\n",
              "  0.0,\n",
              "  0.0,\n",
              "  0.0,\n",
              "  0.0,\n",
              "  0.0,\n",
              "  0.0,\n",
              "  0.0,\n",
              "  0.0,\n",
              "  0.0,\n",
              "  0.0009810710987996306,\n",
              "  0.0,\n",
              "  0.0,\n",
              "  0.0,\n",
              "  0.0,\n",
              "  0.0,\n",
              "  0.0,\n",
              "  0.0,\n",
              "  0.0288366641993585,\n",
              "  0.0,\n",
              "  0.0,\n",
              "  0.0,\n",
              "  0.0,\n",
              "  0.0,\n",
              "  1.4361985002948858,\n",
              "  0.0,\n",
              "  0.0009066666666666666,\n",
              "  0.0,\n",
              "  0.0,\n",
              "  0.0,\n",
              "  0.0,\n",
              "  0.0,\n",
              "  0.0,\n",
              "  0.0,\n",
              "  0.0,\n",
              "  0.27403959810874706,\n",
              "  0.0,\n",
              "  0.0,\n",
              "  0.0,\n",
              "  0.0,\n",
              "  0.0,\n",
              "  0.0,\n",
              "  0.0,\n",
              "  0.0,\n",
              "  0.0,\n",
              "  0.00722454025652913,\n",
              "  0.0,\n",
              "  0.0,\n",
              "  0.0,\n",
              "  0.0,\n",
              "  0.0,\n",
              "  0.0,\n",
              "  0.0,\n",
              "  0.0,\n",
              "  0.0,\n",
              "  0.0,\n",
              "  0.0,\n",
              "  0.0,\n",
              "  0.0,\n",
              "  0.0,\n",
              "  0.0,\n",
              "  0.0,\n",
              "  0.0,\n",
              "  0.0,\n",
              "  0.0,\n",
              "  0.0,\n",
              "  0.0,\n",
              "  0.0,\n",
              "  0.0,\n",
              "  0.0,\n",
              "  None,\n",
              "  0.0,\n",
              "  0.0,\n",
              "  0.0,\n",
              "  0.0,\n",
              "  0.0,\n",
              "  0.0,\n",
              "  0.04438172838382229,\n",
              "  0.0,\n",
              "  0.0,\n",
              "  None,\n",
              "  0.0,\n",
              "  0.0,\n",
              "  0.0,\n",
              "  0.0,\n",
              "  0.0,\n",
              "  0.0,\n",
              "  0.0,\n",
              "  0.0,\n",
              "  0.0,\n",
              "  0.0,\n",
              "  11.569690255809071,\n",
              "  0.0,\n",
              "  0.0,\n",
              "  0.0,\n",
              "  0.0,\n",
              "  0.0,\n",
              "  0.0,\n",
              "  0.0,\n",
              "  0.0,\n",
              "  0.0,\n",
              "  0.00021013804833669555,\n",
              "  0.0,\n",
              "  0.0,\n",
              "  0.0,\n",
              "  0.0,\n",
              "  0.0,\n",
              "  0.0959070796460177,\n",
              "  0.0,\n",
              "  0.0,\n",
              "  0.0,\n",
              "  0.0,\n",
              "  0.0,\n",
              "  0.0,\n",
              "  2.678329763373155,\n",
              "  0.0,\n",
              "  0.0,\n",
              "  0.0,\n",
              "  0.03856826064706886,\n",
              "  0.0,\n",
              "  1.0591388400702988,\n",
              "  0.0,\n",
              "  0.0,\n",
              "  0.0,\n",
              "  0.0,\n",
              "  0.0,\n",
              "  0.0,\n",
              "  0.0,\n",
              "  0.0,\n",
              "  0.0,\n",
              "  0.0,\n",
              "  0.0,\n",
              "  0.0,\n",
              "  0.0,\n",
              "  0.0,\n",
              "  0.0,\n",
              "  0.0,\n",
              "  0.0,\n",
              "  0.0,\n",
              "  0.0,\n",
              "  3.0011430182882926,\n",
              "  0.0,\n",
              "  0.0,\n",
              "  0.0,\n",
              "  0.0,\n",
              "  0.0,\n",
              "  0.0,\n",
              "  0.0,\n",
              "  0.0,\n",
              "  0.0,\n",
              "  0.0,\n",
              "  0.0,\n",
              "  0.0,\n",
              "  0.0,\n",
              "  0.0,\n",
              "  0.0,\n",
              "  0.0,\n",
              "  0.0,\n",
              "  0.0,\n",
              "  0.10485228838206032,\n",
              "  0.0,\n",
              "  0.0,\n",
              "  0.0,\n",
              "  0.0,\n",
              "  0.0,\n",
              "  0.0,\n",
              "  1.3231411104894724,\n",
              "  0.0,\n",
              "  0.0,\n",
              "  0.0,\n",
              "  0.0,\n",
              "  None,\n",
              "  0.0,\n",
              "  0.0,\n",
              "  0.0,\n",
              "  0.0,\n",
              "  0.0,\n",
              "  0.0,\n",
              "  0.0,\n",
              "  0.0,\n",
              "  0.0,\n",
              "  0.029014954486345904,\n",
              "  0.0,\n",
              "  0.0,\n",
              "  0.0,\n",
              "  0.0,\n",
              "  4.2744375,\n",
              "  0.0,\n",
              "  0.0,\n",
              "  0.0,\n",
              "  0.0,\n",
              "  0.0,\n",
              "  0.0,\n",
              "  0.0,\n",
              "  0.0,\n",
              "  0.0,\n",
              "  0.0,\n",
              "  0.0,\n",
              "  0.0,\n",
              "  0.0,\n",
              "  0.0,\n",
              "  0.0,\n",
              "  0.0,\n",
              "  0.0,\n",
              "  0.0,\n",
              "  0.0,\n",
              "  0.0,\n",
              "  0.0,\n",
              "  0.0,\n",
              "  0.0,\n",
              "  0.0,\n",
              "  0.0,\n",
              "  0.0,\n",
              "  0.0,\n",
              "  0.0,\n",
              "  0.0,\n",
              "  0.0,\n",
              "  0.0,\n",
              "  0.0,\n",
              "  0.0,\n",
              "  0.0,\n",
              "  None,\n",
              "  0.0,\n",
              "  0.0,\n",
              "  0.0,\n",
              "  0.0,\n",
              "  0.0,\n",
              "  0.0,\n",
              "  0.0,\n",
              "  0.0,\n",
              "  0.0,\n",
              "  0.0,\n",
              "  0.0,\n",
              "  0.0,\n",
              "  0.0,\n",
              "  0.0,\n",
              "  0.0,\n",
              "  0.0,\n",
              "  0.0,\n",
              "  0.0,\n",
              "  0.0,\n",
              "  0.0,\n",
              "  0.0,\n",
              "  0.0,\n",
              "  0.0,\n",
              "  0.0,\n",
              "  0.0,\n",
              "  0.0,\n",
              "  0.0,\n",
              "  0.0,\n",
              "  0.0,\n",
              "  0.0,\n",
              "  0.10097928237055903,\n",
              "  0.0,\n",
              "  0.0,\n",
              "  0.0,\n",
              "  0.0,\n",
              "  0.017920967029436567,\n",
              "  0.0,\n",
              "  0.0,\n",
              "  0.0,\n",
              "  0.0007508833922261484,\n",
              "  0.0,\n",
              "  0.0,\n",
              "  0.0,\n",
              "  0.0,\n",
              "  0.0,\n",
              "  0.0,\n",
              "  0.0,\n",
              "  0.0,\n",
              "  0.0,\n",
              "  0.0,\n",
              "  0.004160466755423291,\n",
              "  0.0,\n",
              "  0.0,\n",
              "  0.0,\n",
              "  0.0,\n",
              "  0.00046055483311660165,\n",
              "  0.0,\n",
              "  0.0,\n",
              "  0.0,\n",
              "  0.0,\n",
              "  0.0,\n",
              "  0.0,\n",
              "  0.0,\n",
              "  0.0,\n",
              "  0.0,\n",
              "  0.0,\n",
              "  0.0,\n",
              "  0.0,\n",
              "  0.0,\n",
              "  None,\n",
              "  0.0,\n",
              "  0.0,\n",
              "  0.0,\n",
              "  0.00023186539804469274,\n",
              "  0.0,\n",
              "  0.0,\n",
              "  0.0,\n",
              "  0.0,\n",
              "  0.0,\n",
              "  0.0,\n",
              "  0.0,\n",
              "  0.0,\n",
              "  0.0,\n",
              "  0.0,\n",
              "  0.015601151490562027,\n",
              "  0.0,\n",
              "  0.0,\n",
              "  0.014053333333333333,\n",
              "  0.0,\n",
              "  0.0,\n",
              "  0.0,\n",
              "  0.0,\n",
              "  0.0,\n",
              "  0.0,\n",
              "  0.0,\n",
              "  0.0,\n",
              "  0.0,\n",
              "  0.0,\n",
              "  0.0,\n",
              "  0.0,\n",
              "  0.0,\n",
              "  0.0,\n",
              "  0.0,\n",
              "  0.0,\n",
              "  0.0,\n",
              "  0.0,\n",
              "  0.012331606217616581,\n",
              "  0.0,\n",
              "  0.0,\n",
              "  0.0,\n",
              "  0.0,\n",
              "  0.0,\n",
              "  0.0021077428553716447,\n",
              "  0.0,\n",
              "  0.0,\n",
              "  0.0,\n",
              "  0.0,\n",
              "  0.0,\n",
              "  0.0,\n",
              "  0.0,\n",
              "  0.0,\n",
              "  0.0,\n",
              "  0.0,\n",
              "  0.0,\n",
              "  0.0,\n",
              "  0.0,\n",
              "  0.0,\n",
              "  0.0,\n",
              "  0.0,\n",
              "  0.0,\n",
              "  0.0,\n",
              "  0.0,\n",
              "  0.0,\n",
              "  0.0,\n",
              "  0.0,\n",
              "  ...],\n",
              " 'plum': [0.0,\n",
              "  0.0,\n",
              "  0.0,\n",
              "  0.0,\n",
              "  0.0,\n",
              "  0.0,\n",
              "  0.0,\n",
              "  0.0,\n",
              "  0.0,\n",
              "  0.0,\n",
              "  0.0,\n",
              "  0.0,\n",
              "  0.0,\n",
              "  0.0,\n",
              "  0.0,\n",
              "  0.0,\n",
              "  0.0,\n",
              "  0.0,\n",
              "  None,\n",
              "  0.0,\n",
              "  0.0,\n",
              "  0.0,\n",
              "  0.0,\n",
              "  0.0,\n",
              "  0.0,\n",
              "  0.0,\n",
              "  0.0,\n",
              "  0.0,\n",
              "  0.0,\n",
              "  0.0,\n",
              "  0.0,\n",
              "  0.0,\n",
              "  0.0,\n",
              "  0.0,\n",
              "  None,\n",
              "  0.0,\n",
              "  0.0,\n",
              "  0.0,\n",
              "  0.0,\n",
              "  0.0,\n",
              "  0.0,\n",
              "  0.0,\n",
              "  0.0,\n",
              "  0.0,\n",
              "  0.0,\n",
              "  0.0,\n",
              "  0.0,\n",
              "  0.0,\n",
              "  0.0,\n",
              "  0.0,\n",
              "  0.0,\n",
              "  0.0,\n",
              "  0.0,\n",
              "  0.0,\n",
              "  0.0,\n",
              "  0.0,\n",
              "  0.0,\n",
              "  0.0,\n",
              "  0.0,\n",
              "  0.0,\n",
              "  0.0,\n",
              "  None,\n",
              "  0.0,\n",
              "  0.0,\n",
              "  0.0,\n",
              "  0.0,\n",
              "  0.0,\n",
              "  0.0,\n",
              "  0.0,\n",
              "  0.0,\n",
              "  0.0,\n",
              "  0.0,\n",
              "  0.0,\n",
              "  0.0,\n",
              "  0.0,\n",
              "  0.0,\n",
              "  0.0,\n",
              "  0.0,\n",
              "  0.0,\n",
              "  0.0,\n",
              "  0.0,\n",
              "  0.0,\n",
              "  0.0,\n",
              "  0.0,\n",
              "  0.0,\n",
              "  0.0,\n",
              "  0.0,\n",
              "  0.0,\n",
              "  0.0,\n",
              "  0.0,\n",
              "  0.0,\n",
              "  0.0,\n",
              "  0.0,\n",
              "  0.0,\n",
              "  0.0,\n",
              "  0.0,\n",
              "  0.0,\n",
              "  0.0,\n",
              "  0.0,\n",
              "  0.0,\n",
              "  0.0,\n",
              "  0.0,\n",
              "  0.0,\n",
              "  0.0,\n",
              "  0.0,\n",
              "  0.0,\n",
              "  0.0,\n",
              "  0.0,\n",
              "  0.0,\n",
              "  0.0,\n",
              "  0.0,\n",
              "  0.0,\n",
              "  0.0,\n",
              "  0.0,\n",
              "  0.0,\n",
              "  0.0,\n",
              "  0.0,\n",
              "  0.0,\n",
              "  0.0,\n",
              "  0.0,\n",
              "  0.0,\n",
              "  0.0,\n",
              "  0.0,\n",
              "  0.0,\n",
              "  0.0,\n",
              "  0.0,\n",
              "  0.0,\n",
              "  0.0,\n",
              "  0.0,\n",
              "  0.0,\n",
              "  0.0,\n",
              "  0.0,\n",
              "  0.0,\n",
              "  0.0,\n",
              "  0.0,\n",
              "  0.0,\n",
              "  0.0,\n",
              "  0.0,\n",
              "  0.0,\n",
              "  0.0,\n",
              "  0.0,\n",
              "  0.0,\n",
              "  0.0,\n",
              "  0.0,\n",
              "  0.0,\n",
              "  0.0,\n",
              "  0.0,\n",
              "  0.0,\n",
              "  0.0,\n",
              "  0.0,\n",
              "  0.0,\n",
              "  0.0,\n",
              "  0.0,\n",
              "  0.0,\n",
              "  0.0,\n",
              "  0.0,\n",
              "  0.0,\n",
              "  0.0,\n",
              "  0.0,\n",
              "  0.0,\n",
              "  0.0,\n",
              "  0.0,\n",
              "  0.0,\n",
              "  0.0,\n",
              "  0.0,\n",
              "  0.0,\n",
              "  0.0,\n",
              "  0.0,\n",
              "  0.0,\n",
              "  0.0,\n",
              "  0.0,\n",
              "  0.0,\n",
              "  0.0,\n",
              "  0.0,\n",
              "  0.0,\n",
              "  0.0,\n",
              "  0.0,\n",
              "  0.0,\n",
              "  0.0,\n",
              "  0.0,\n",
              "  0.0,\n",
              "  0.0,\n",
              "  0.0,\n",
              "  0.0,\n",
              "  0.0,\n",
              "  0.0,\n",
              "  0.0,\n",
              "  0.0,\n",
              "  0.0,\n",
              "  0.0,\n",
              "  0.0,\n",
              "  0.0,\n",
              "  0.0,\n",
              "  0.0,\n",
              "  0.0,\n",
              "  0.0,\n",
              "  0.0,\n",
              "  0.0,\n",
              "  0.0,\n",
              "  0.0,\n",
              "  0.0,\n",
              "  0.0,\n",
              "  0.0,\n",
              "  0.0,\n",
              "  0.0,\n",
              "  0.0,\n",
              "  0.0,\n",
              "  0.0,\n",
              "  0.0,\n",
              "  0.0,\n",
              "  0.0,\n",
              "  0.0,\n",
              "  0.0,\n",
              "  0.0,\n",
              "  0.0,\n",
              "  0.0,\n",
              "  0.0,\n",
              "  0.0,\n",
              "  0.0,\n",
              "  0.0,\n",
              "  0.0,\n",
              "  0.0,\n",
              "  0.0,\n",
              "  0.0,\n",
              "  0.0,\n",
              "  0.0,\n",
              "  0.0,\n",
              "  0.0,\n",
              "  0.0,\n",
              "  0.0,\n",
              "  0.0,\n",
              "  0.0,\n",
              "  0.0,\n",
              "  0.0,\n",
              "  0.0,\n",
              "  None,\n",
              "  0.0,\n",
              "  0.0,\n",
              "  0.0,\n",
              "  0.0,\n",
              "  0.0,\n",
              "  0.0,\n",
              "  0.0,\n",
              "  0.0,\n",
              "  0.0,\n",
              "  0.0,\n",
              "  0.0,\n",
              "  0.0,\n",
              "  0.0,\n",
              "  0.0,\n",
              "  0.0,\n",
              "  0.0,\n",
              "  0.0,\n",
              "  0.0,\n",
              "  0.0,\n",
              "  0.0,\n",
              "  0.0,\n",
              "  0.0,\n",
              "  0.0,\n",
              "  0.0,\n",
              "  None,\n",
              "  0.0,\n",
              "  0.0,\n",
              "  0.0,\n",
              "  0.0,\n",
              "  0.0,\n",
              "  0.0,\n",
              "  0.0,\n",
              "  0.0,\n",
              "  0.0,\n",
              "  0.0,\n",
              "  0.0,\n",
              "  0.0,\n",
              "  0.0,\n",
              "  0.0,\n",
              "  0.0,\n",
              "  0.0,\n",
              "  0.0,\n",
              "  0.0,\n",
              "  0.0,\n",
              "  0.0,\n",
              "  0.0,\n",
              "  0.0,\n",
              "  0.0,\n",
              "  0.0,\n",
              "  0.0,\n",
              "  0.0,\n",
              "  0.0,\n",
              "  0.0,\n",
              "  0.0,\n",
              "  0.0,\n",
              "  0.0,\n",
              "  0.0,\n",
              "  0.0,\n",
              "  0.0,\n",
              "  0.0,\n",
              "  0.0,\n",
              "  0.0,\n",
              "  0.0,\n",
              "  0.0,\n",
              "  0.0,\n",
              "  0.0,\n",
              "  0.0,\n",
              "  0.0,\n",
              "  0.0,\n",
              "  0.0,\n",
              "  0.0,\n",
              "  0.0,\n",
              "  0.0,\n",
              "  0.0,\n",
              "  0.0,\n",
              "  0.0,\n",
              "  0.0,\n",
              "  0.0,\n",
              "  0.0,\n",
              "  0.0,\n",
              "  0.0,\n",
              "  0.0,\n",
              "  0.0,\n",
              "  0.0,\n",
              "  0.0,\n",
              "  0.0,\n",
              "  0.0,\n",
              "  0.0,\n",
              "  0.0,\n",
              "  0.0,\n",
              "  0.0,\n",
              "  0.0,\n",
              "  0.0,\n",
              "  0.0,\n",
              "  0.0,\n",
              "  0.0,\n",
              "  0.0,\n",
              "  0.0,\n",
              "  0.0,\n",
              "  0.0,\n",
              "  0.0,\n",
              "  0.0,\n",
              "  0.0,\n",
              "  0.0,\n",
              "  0.0,\n",
              "  0.0,\n",
              "  None,\n",
              "  0.0,\n",
              "  0.0,\n",
              "  0.0,\n",
              "  0.0,\n",
              "  0.0,\n",
              "  0.0,\n",
              "  0.0,\n",
              "  0.0,\n",
              "  0.0,\n",
              "  0.0,\n",
              "  0.0,\n",
              "  0.0,\n",
              "  0.0,\n",
              "  0.0,\n",
              "  0.0,\n",
              "  0.0,\n",
              "  0.0,\n",
              "  0.0,\n",
              "  None,\n",
              "  0.0,\n",
              "  0.0,\n",
              "  0.0,\n",
              "  0.0,\n",
              "  0.0,\n",
              "  0.0,\n",
              "  0.0,\n",
              "  0.0,\n",
              "  0.0,\n",
              "  0.0,\n",
              "  0.0,\n",
              "  0.0,\n",
              "  0.0,\n",
              "  0.0,\n",
              "  0.0,\n",
              "  0.0,\n",
              "  0.0,\n",
              "  0.0,\n",
              "  0.0,\n",
              "  0.0,\n",
              "  0.0,\n",
              "  0.0,\n",
              "  0.0,\n",
              "  0.0,\n",
              "  0.0,\n",
              "  0.0,\n",
              "  0.0,\n",
              "  0.0,\n",
              "  0.0,\n",
              "  0.0,\n",
              "  0.0,\n",
              "  0.0,\n",
              "  0.0,\n",
              "  0.0,\n",
              "  0.0,\n",
              "  0.0,\n",
              "  0.0,\n",
              "  0.0,\n",
              "  0.0,\n",
              "  0.0,\n",
              "  0.0,\n",
              "  0.0,\n",
              "  0.0,\n",
              "  0.0,\n",
              "  0.0,\n",
              "  0.0,\n",
              "  0.0,\n",
              "  0.0,\n",
              "  0.0,\n",
              "  0.0,\n",
              "  0.0,\n",
              "  0.0,\n",
              "  0.0,\n",
              "  0.0,\n",
              "  0.0,\n",
              "  0.0,\n",
              "  0.0,\n",
              "  0.0,\n",
              "  0.0,\n",
              "  0.0,\n",
              "  0.0,\n",
              "  0.0,\n",
              "  0.0,\n",
              "  0.0,\n",
              "  0.0,\n",
              "  0.0,\n",
              "  0.0,\n",
              "  0.0,\n",
              "  None,\n",
              "  0.0,\n",
              "  0.0,\n",
              "  0.0,\n",
              "  0.0,\n",
              "  0.0,\n",
              "  0.0,\n",
              "  0.0,\n",
              "  0.0,\n",
              "  0.0,\n",
              "  0.0,\n",
              "  0.0,\n",
              "  0.0,\n",
              "  0.0,\n",
              "  0.0,\n",
              "  0.0,\n",
              "  0.0,\n",
              "  0.0,\n",
              "  0.0,\n",
              "  0.0,\n",
              "  0.0,\n",
              "  0.0,\n",
              "  0.0,\n",
              "  0.0,\n",
              "  0.0,\n",
              "  0.0,\n",
              "  0.0,\n",
              "  0.0,\n",
              "  0.0,\n",
              "  0.0,\n",
              "  0.0,\n",
              "  0.0,\n",
              "  0.0,\n",
              "  0.0,\n",
              "  0.0,\n",
              "  0.0,\n",
              "  0.0,\n",
              "  0.0,\n",
              "  0.0,\n",
              "  0.0,\n",
              "  0.0,\n",
              "  0.0,\n",
              "  0.0,\n",
              "  0.0,\n",
              "  0.0,\n",
              "  0.0,\n",
              "  0.0,\n",
              "  0.0,\n",
              "  0.0,\n",
              "  0.0,\n",
              "  0.0,\n",
              "  0.0,\n",
              "  0.0,\n",
              "  0.0,\n",
              "  0.0,\n",
              "  0.0,\n",
              "  0.0,\n",
              "  0.0,\n",
              "  0.0,\n",
              "  0.0,\n",
              "  0.0,\n",
              "  0.0,\n",
              "  0.0,\n",
              "  0.0,\n",
              "  0.0,\n",
              "  0.0,\n",
              "  0.0,\n",
              "  0.0,\n",
              "  0.0,\n",
              "  None,\n",
              "  0.0,\n",
              "  0.0,\n",
              "  0.0,\n",
              "  0.0,\n",
              "  0.0,\n",
              "  0.0,\n",
              "  0.0,\n",
              "  0.0,\n",
              "  0.0,\n",
              "  0.0,\n",
              "  0.0,\n",
              "  0.0,\n",
              "  0.0,\n",
              "  0.0,\n",
              "  0.0,\n",
              "  0.0,\n",
              "  None,\n",
              "  0.0,\n",
              "  0.0,\n",
              "  0.0,\n",
              "  0.0,\n",
              "  0.0,\n",
              "  0.0,\n",
              "  None,\n",
              "  0.0,\n",
              "  0.0,\n",
              "  0.0,\n",
              "  0.0,\n",
              "  0.0,\n",
              "  0.0,\n",
              "  0.0,\n",
              "  0.0,\n",
              "  0.0,\n",
              "  0.0,\n",
              "  0.0,\n",
              "  0.0,\n",
              "  0.0,\n",
              "  0.0,\n",
              "  0.0,\n",
              "  0.0,\n",
              "  0.0,\n",
              "  0.0,\n",
              "  0.0,\n",
              "  0.0,\n",
              "  0.0,\n",
              "  0.0,\n",
              "  0.0,\n",
              "  0.0,\n",
              "  0.0,\n",
              "  0.0,\n",
              "  0.0,\n",
              "  0.0,\n",
              "  0.0,\n",
              "  0.0,\n",
              "  0.0,\n",
              "  0.0,\n",
              "  0.0,\n",
              "  0.0,\n",
              "  0.0,\n",
              "  0.0,\n",
              "  0.0,\n",
              "  None,\n",
              "  0.0,\n",
              "  0.0,\n",
              "  0.0,\n",
              "  0.0,\n",
              "  0.0,\n",
              "  0.0,\n",
              "  0.0,\n",
              "  0.0,\n",
              "  0.0,\n",
              "  0.0,\n",
              "  0.0,\n",
              "  0.0,\n",
              "  0.0,\n",
              "  0.0,\n",
              "  0.0,\n",
              "  0.0,\n",
              "  0.0,\n",
              "  0.0,\n",
              "  0.0,\n",
              "  0.0,\n",
              "  0.0,\n",
              "  0.0,\n",
              "  0.0,\n",
              "  0.0,\n",
              "  0.0,\n",
              "  0.0,\n",
              "  0.0,\n",
              "  None,\n",
              "  0.0,\n",
              "  0.0,\n",
              "  0.0,\n",
              "  0.0,\n",
              "  0.0,\n",
              "  0.0,\n",
              "  0.0,\n",
              "  0.0,\n",
              "  0.0,\n",
              "  0.0,\n",
              "  0.0,\n",
              "  0.0,\n",
              "  0.0,\n",
              "  0.0,\n",
              "  0.0,\n",
              "  0.0,\n",
              "  0.0,\n",
              "  0.0,\n",
              "  0.0,\n",
              "  0.0,\n",
              "  0.0,\n",
              "  0.0,\n",
              "  0.0,\n",
              "  0.0,\n",
              "  0.0,\n",
              "  0.0,\n",
              "  0.0,\n",
              "  0.0,\n",
              "  0.0,\n",
              "  0.0,\n",
              "  0.0,\n",
              "  0.0,\n",
              "  0.0,\n",
              "  0.0,\n",
              "  0.0,\n",
              "  0.0,\n",
              "  0.0,\n",
              "  0.0,\n",
              "  0.0,\n",
              "  0.0,\n",
              "  0.0,\n",
              "  0.0,\n",
              "  None,\n",
              "  0.0,\n",
              "  0.0,\n",
              "  0.0,\n",
              "  0.0,\n",
              "  0.0,\n",
              "  0.0,\n",
              "  0.0,\n",
              "  0.0,\n",
              "  0.0,\n",
              "  0.0,\n",
              "  0.0,\n",
              "  0.0,\n",
              "  0.0,\n",
              "  0.0,\n",
              "  0.0,\n",
              "  0.0,\n",
              "  0.0,\n",
              "  0.0,\n",
              "  0.0,\n",
              "  0.0,\n",
              "  0.0,\n",
              "  0.0,\n",
              "  0.0,\n",
              "  0.0,\n",
              "  0.0,\n",
              "  0.0,\n",
              "  0.0,\n",
              "  0.0,\n",
              "  0.0,\n",
              "  0.0,\n",
              "  0.0,\n",
              "  0.0,\n",
              "  0.0,\n",
              "  0.0,\n",
              "  0.0,\n",
              "  0.0,\n",
              "  0.0,\n",
              "  0.0,\n",
              "  0.0,\n",
              "  0.0,\n",
              "  0.0,\n",
              "  0.0,\n",
              "  0.0,\n",
              "  0.0,\n",
              "  0.0,\n",
              "  0.0,\n",
              "  0.0,\n",
              "  0.0,\n",
              "  0.0,\n",
              "  0.0,\n",
              "  0.0,\n",
              "  0.0,\n",
              "  0.0,\n",
              "  0.0,\n",
              "  0.0,\n",
              "  0.0,\n",
              "  0.0,\n",
              "  0.0,\n",
              "  0.0,\n",
              "  0.0,\n",
              "  0.0,\n",
              "  0.0,\n",
              "  0.0,\n",
              "  0.0,\n",
              "  0.0,\n",
              "  0.0,\n",
              "  0.0,\n",
              "  0.0,\n",
              "  0.0,\n",
              "  0.0,\n",
              "  0.0,\n",
              "  0.0,\n",
              "  0.0,\n",
              "  0.0,\n",
              "  0.0,\n",
              "  0.0,\n",
              "  0.0,\n",
              "  0.0,\n",
              "  0.0,\n",
              "  0.0,\n",
              "  None,\n",
              "  0.0,\n",
              "  0.0,\n",
              "  0.0,\n",
              "  0.0,\n",
              "  0.0,\n",
              "  0.0,\n",
              "  0.0,\n",
              "  0.0,\n",
              "  0.0,\n",
              "  None,\n",
              "  0.0,\n",
              "  0.0,\n",
              "  0.0,\n",
              "  0.0,\n",
              "  0.0,\n",
              "  0.0,\n",
              "  0.0,\n",
              "  0.0,\n",
              "  0.0,\n",
              "  0.0,\n",
              "  0.0,\n",
              "  0.0,\n",
              "  0.0,\n",
              "  0.0,\n",
              "  0.0,\n",
              "  0.0,\n",
              "  0.0,\n",
              "  0.0,\n",
              "  0.0,\n",
              "  0.0,\n",
              "  0.0,\n",
              "  0.0,\n",
              "  0.0,\n",
              "  0.0,\n",
              "  0.0,\n",
              "  0.0,\n",
              "  0.0,\n",
              "  0.0,\n",
              "  0.0,\n",
              "  0.0,\n",
              "  0.0,\n",
              "  0.0,\n",
              "  0.0,\n",
              "  0.0,\n",
              "  0.0,\n",
              "  0.0,\n",
              "  0.0,\n",
              "  0.0,\n",
              "  0.0,\n",
              "  0.0,\n",
              "  0.0,\n",
              "  0.0,\n",
              "  0.0,\n",
              "  0.0,\n",
              "  0.0,\n",
              "  0.0,\n",
              "  0.0,\n",
              "  0.0,\n",
              "  0.0,\n",
              "  0.0,\n",
              "  0.0,\n",
              "  0.0,\n",
              "  0.0,\n",
              "  0.0,\n",
              "  0.0,\n",
              "  0.0,\n",
              "  0.0,\n",
              "  0.0,\n",
              "  0.0,\n",
              "  0.0,\n",
              "  0.0,\n",
              "  0.0,\n",
              "  0.0,\n",
              "  0.0,\n",
              "  0.0,\n",
              "  0.0,\n",
              "  0.0,\n",
              "  0.0,\n",
              "  0.0,\n",
              "  0.0,\n",
              "  0.0,\n",
              "  0.0,\n",
              "  0.0,\n",
              "  0.0,\n",
              "  0.0,\n",
              "  0.0,\n",
              "  0.0,\n",
              "  0.0,\n",
              "  0.0,\n",
              "  0.0,\n",
              "  0.0,\n",
              "  0.0,\n",
              "  0.0,\n",
              "  0.0,\n",
              "  0.0,\n",
              "  0.0,\n",
              "  0.0,\n",
              "  0.0,\n",
              "  0.0,\n",
              "  0.0,\n",
              "  None,\n",
              "  0.0,\n",
              "  0.0,\n",
              "  0.0,\n",
              "  0.0,\n",
              "  0.0,\n",
              "  0.0,\n",
              "  0.0,\n",
              "  0.0,\n",
              "  0.0,\n",
              "  0.0,\n",
              "  0.0,\n",
              "  0.0,\n",
              "  0.0,\n",
              "  0.0,\n",
              "  0.0,\n",
              "  0.0,\n",
              "  0.0,\n",
              "  0.0,\n",
              "  0.0,\n",
              "  0.0,\n",
              "  0.0,\n",
              "  0.0,\n",
              "  0.0,\n",
              "  0.0,\n",
              "  0.0,\n",
              "  0.0,\n",
              "  0.0,\n",
              "  0.0,\n",
              "  0.0,\n",
              "  0.0,\n",
              "  0.0,\n",
              "  0.0,\n",
              "  0.0,\n",
              "  0.0,\n",
              "  0.0,\n",
              "  0.0,\n",
              "  0.0,\n",
              "  0.0,\n",
              "  0.0,\n",
              "  0.0,\n",
              "  0.0,\n",
              "  0.0,\n",
              "  0.0,\n",
              "  0.0,\n",
              "  0.0,\n",
              "  0.0,\n",
              "  0.0,\n",
              "  0.0,\n",
              "  0.0,\n",
              "  None,\n",
              "  0.0,\n",
              "  0.0,\n",
              "  0.0,\n",
              "  0.0,\n",
              "  0.0,\n",
              "  0.0,\n",
              "  0.0,\n",
              "  0.0,\n",
              "  0.0,\n",
              "  0.0,\n",
              "  0.0,\n",
              "  0.0,\n",
              "  0.0,\n",
              "  0.0,\n",
              "  0.0,\n",
              "  0.0,\n",
              "  0.0,\n",
              "  0.0,\n",
              "  0.0,\n",
              "  0.0,\n",
              "  0.0,\n",
              "  0.0,\n",
              "  0.0,\n",
              "  0.0,\n",
              "  0.0,\n",
              "  0.0,\n",
              "  0.0,\n",
              "  0.0,\n",
              "  0.0,\n",
              "  0.0,\n",
              "  0.0,\n",
              "  0.0,\n",
              "  0.0,\n",
              "  0.0,\n",
              "  0.0,\n",
              "  0.0,\n",
              "  0.0,\n",
              "  0.0,\n",
              "  0.0,\n",
              "  0.0,\n",
              "  0.0,\n",
              "  0.0,\n",
              "  0.0,\n",
              "  0.0,\n",
              "  0.0,\n",
              "  0.0,\n",
              "  0.0,\n",
              "  0.0,\n",
              "  0.0,\n",
              "  0.0,\n",
              "  0.0,\n",
              "  0.0,\n",
              "  0.0,\n",
              "  0.0,\n",
              "  0.0,\n",
              "  0.0,\n",
              "  0.0,\n",
              "  0.0,\n",
              "  0.0,\n",
              "  0.0,\n",
              "  0.0,\n",
              "  0.0,\n",
              "  0.0,\n",
              "  0.0,\n",
              "  0.0,\n",
              "  0.0,\n",
              "  0.0,\n",
              "  0.0,\n",
              "  0.0,\n",
              "  None,\n",
              "  0.0,\n",
              "  0.0,\n",
              "  0.0,\n",
              "  0.0,\n",
              "  0.0,\n",
              "  0.0,\n",
              "  0.0,\n",
              "  0.0,\n",
              "  0.0,\n",
              "  0.0,\n",
              "  0.0,\n",
              "  0.0,\n",
              "  0.0,\n",
              "  0.0,\n",
              "  0.0,\n",
              "  0.0,\n",
              "  0.0,\n",
              "  0.0,\n",
              "  0.0,\n",
              "  0.0,\n",
              "  0.0,\n",
              "  0.0,\n",
              "  0.0,\n",
              "  0.0,\n",
              "  0.0,\n",
              "  0.0,\n",
              "  0.0,\n",
              "  0.0,\n",
              "  0.0,\n",
              "  0.0,\n",
              "  0.0,\n",
              "  0.0,\n",
              "  0.0,\n",
              "  0.0,\n",
              "  0.0,\n",
              "  0.0,\n",
              "  0.0,\n",
              "  0.0,\n",
              "  0.0,\n",
              "  0.0,\n",
              "  0.0,\n",
              "  0.0,\n",
              "  0.0,\n",
              "  0.0,\n",
              "  0.0,\n",
              "  0.0,\n",
              "  0.0,\n",
              "  0.0,\n",
              "  0.0,\n",
              "  0.0,\n",
              "  0.0,\n",
              "  0.0,\n",
              "  0.0,\n",
              "  0.0,\n",
              "  0.0,\n",
              "  0.0,\n",
              "  0.0,\n",
              "  0.0,\n",
              "  0.0,\n",
              "  0.0,\n",
              "  0.0,\n",
              "  0.0,\n",
              "  0.0,\n",
              "  0.0,\n",
              "  0.0,\n",
              "  ...],\n",
              " 'saddlebrown': [7.810332871012482,\n",
              "  0.0,\n",
              "  0.03159466911764706,\n",
              "  0.0,\n",
              "  0.0,\n",
              "  0.0,\n",
              "  0.0,\n",
              "  0.048905436197916666,\n",
              "  0.004992842504644757,\n",
              "  0.0,\n",
              "  0.6292204789879399,\n",
              "  0.0,\n",
              "  0.0,\n",
              "  0.009872350780938897,\n",
              "  0.0,\n",
              "  0.0020524908730272804,\n",
              "  1.6093022288755823,\n",
              "  0.08021149468892261,\n",
              "  None,\n",
              "  6.744951040391677,\n",
              "  0.6035761922330019,\n",
              "  0.0,\n",
              "  2.6081687980940385,\n",
              "  33.51650000938034,\n",
              "  0.00016731229528848577,\n",
              "  0.0,\n",
              "  0.0,\n",
              "  0.0,\n",
              "  0.9119384718333421,\n",
              "  0.0,\n",
              "  0.07068576388888889,\n",
              "  25.219459533691406,\n",
              "  0.043107730112670904,\n",
              "  0.0,\n",
              "  None,\n",
              "  0.0,\n",
              "  1.9895989505247376,\n",
              "  1.0343228545887961,\n",
              "  0.0,\n",
              "  35.76757329053218,\n",
              "  0.0,\n",
              "  0.0,\n",
              "  0.0,\n",
              "  0.003671294927809114,\n",
              "  0.437616191904048,\n",
              "  1.6025805229120538,\n",
              "  0.0,\n",
              "  2.135544765425193,\n",
              "  0.03747302205611412,\n",
              "  0.0015533625730994151,\n",
              "  0.0,\n",
              "  0.0,\n",
              "  0.17341994329347876,\n",
              "  0.41598484848484846,\n",
              "  0.667346362983482,\n",
              "  0.0006433978132884777,\n",
              "  1.4479992977599907,\n",
              "  0.0,\n",
              "  0.024143692564745196,\n",
              "  0.0,\n",
              "  2.222507911392405,\n",
              "  None,\n",
              "  0.004124611801242236,\n",
              "  1.47103125,\n",
              "  0.312109375,\n",
              "  0.03259657199192918,\n",
              "  0.08087446720747972,\n",
              "  0.00833726453649947,\n",
              "  0.0,\n",
              "  0.030290570175438597,\n",
              "  0.4959519974226804,\n",
              "  0.0,\n",
              "  0.50422265625,\n",
              "  5.502988909238909,\n",
              "  0.09567935716288256,\n",
              "  3.22900390625,\n",
              "  0.011931268151016456,\n",
              "  2.6018491834774253,\n",
              "  0.15203252032520326,\n",
              "  0.333793410507569,\n",
              "  0.275106532596871,\n",
              "  0.0,\n",
              "  0.2240972659805363,\n",
              "  0.08290345313601127,\n",
              "  0.4478484034917165,\n",
              "  3.1283599827139152,\n",
              "  0.0,\n",
              "  0.0,\n",
              "  0.0,\n",
              "  0.2358051219451017,\n",
              "  0.0053518518518518516,\n",
              "  0.0,\n",
              "  0.0035553862748803223,\n",
              "  3.113678245108535,\n",
              "  0.12781403218009807,\n",
              "  0.0,\n",
              "  0.00045625335480407945,\n",
              "  0.0,\n",
              "  0.0031985120199544146,\n",
              "  0.0,\n",
              "  0.0,\n",
              "  0.0,\n",
              "  0.0,\n",
              "  0.0,\n",
              "  0.0,\n",
              "  0.0,\n",
              "  0.0,\n",
              "  0.04255925972873621,\n",
              "  0.008829639889196677,\n",
              "  1.464746653919694,\n",
              "  1.5080416666666667,\n",
              "  0.0,\n",
              "  1.6297803747733226,\n",
              "  0.017310278578290105,\n",
              "  1.6260324483775812,\n",
              "  0.0,\n",
              "  0.0,\n",
              "  0.020572881355932205,\n",
              "  1.6782188615837008,\n",
              "  0.3419307262964533,\n",
              "  0.0,\n",
              "  0.19232030430220357,\n",
              "  1.85334,\n",
              "  0.0,\n",
              "  0.5563398357289527,\n",
              "  0.3446079237218478,\n",
              "  0.0,\n",
              "  0.0,\n",
              "  0.2768364448051948,\n",
              "  0.8625,\n",
              "  0.12983036747685187,\n",
              "  0.0,\n",
              "  0.043337250923702546,\n",
              "  1.3293518076126771,\n",
              "  0.2510928215285841,\n",
              "  0.0,\n",
              "  0.0,\n",
              "  0.1560810840870366,\n",
              "  0.896794425087108,\n",
              "  0.0,\n",
              "  0.0,\n",
              "  0.006542644749919576,\n",
              "  0.0002001862124297582,\n",
              "  0.0,\n",
              "  0.0617966573816156,\n",
              "  0.08742134388889429,\n",
              "  0.0,\n",
              "  0.0,\n",
              "  0.0,\n",
              "  0.0,\n",
              "  0.12506073134287313,\n",
              "  7.981893134433015,\n",
              "  0.0,\n",
              "  0.0007359434795407713,\n",
              "  0.0,\n",
              "  0.10219931602478027,\n",
              "  0.010397350021283986,\n",
              "  0.012325,\n",
              "  0.05406,\n",
              "  0.0,\n",
              "  0.07712962962962963,\n",
              "  0.0,\n",
              "  0.0,\n",
              "  2.0678053830227743,\n",
              "  0.003848088531187123,\n",
              "  0.33125,\n",
              "  5.1611444141689375,\n",
              "  0.0,\n",
              "  0.0,\n",
              "  0.012444136230543997,\n",
              "  0.45251373618284285,\n",
              "  0.0,\n",
              "  7.701829465014328,\n",
              "  0.08888093106535362,\n",
              "  0.0,\n",
              "  0.0,\n",
              "  0.7536161179610106,\n",
              "  0.0014955134596211367,\n",
              "  0.21497770919067216,\n",
              "  2.3732076533483397,\n",
              "  0.03249235474006116,\n",
              "  0.0,\n",
              "  0.11204355657442279,\n",
              "  3.0709791666666666,\n",
              "  0.17085262345679011,\n",
              "  0.0,\n",
              "  0.0020422546491326425,\n",
              "  0.0,\n",
              "  0.08964019851116625,\n",
              "  0.2406810035842294,\n",
              "  0.1494700276601262,\n",
              "  0.0,\n",
              "  0.7851631814200041,\n",
              "  0.0,\n",
              "  0.2532400821874506,\n",
              "  6.372459195007889,\n",
              "  0.0,\n",
              "  0.0,\n",
              "  0.0003541666666666667,\n",
              "  8.682574289405684,\n",
              "  0.30886627906976744,\n",
              "  0.019760923330585326,\n",
              "  0.0026699181605834414,\n",
              "  0.31810699369246503,\n",
              "  0.009744049355954812,\n",
              "  0.0,\n",
              "  0.0,\n",
              "  0.9342672413793104,\n",
              "  0.0,\n",
              "  0.0,\n",
              "  0.01637369524122627,\n",
              "  0.0,\n",
              "  0.0,\n",
              "  0.027734681147134562,\n",
              "  0.0,\n",
              "  0.004683195592286501,\n",
              "  0.6052125693160814,\n",
              "  0.0,\n",
              "  0.0,\n",
              "  0.5230504024080439,\n",
              "  0.0,\n",
              "  0.0,\n",
              "  0.7781128123645819,\n",
              "  0.19106604144805875,\n",
              "  5.8126220703125,\n",
              "  0.004613297150610584,\n",
              "  0.02909452736318408,\n",
              "  0.14017331695013904,\n",
              "  0.0,\n",
              "  0.005353053435114503,\n",
              "  0.22100964265456607,\n",
              "  0.0,\n",
              "  0.007900641025641026,\n",
              "  0.04236334405144695,\n",
              "  0.2819880264244426,\n",
              "  None,\n",
              "  0.41891276041666664,\n",
              "  6.640876777251185,\n",
              "  0.0,\n",
              "  0.0705244340409158,\n",
              "  4.836449704142012,\n",
              "  0.036173664122137406,\n",
              "  0.0,\n",
              "  0.1709890909090909,\n",
              "  1.8386664460622104,\n",
              "  0.05091145833333333,\n",
              "  0.018625498007968127,\n",
              "  0.0,\n",
              "  1.09591064453125,\n",
              "  0.0,\n",
              "  0.03246527777777778,\n",
              "  0.0010547737820465093,\n",
              "  0.0,\n",
              "  2.699714955788037,\n",
              "  0.5534210526315789,\n",
              "  0.0,\n",
              "  0.32874478060107437,\n",
              "  0.0253227408142999,\n",
              "  0.0,\n",
              "  0.008948406967610276,\n",
              "  None,\n",
              "  0.20115302669507457,\n",
              "  0.1985788410909184,\n",
              "  0.2433570359281437,\n",
              "  0.0,\n",
              "  0.19018694632621158,\n",
              "  0.03585710995031381,\n",
              "  4.1444140625,\n",
              "  0.1184463452651755,\n",
              "  0.0,\n",
              "  0.0,\n",
              "  0.01754193987458113,\n",
              "  0.0425,\n",
              "  0.2827943868212325,\n",
              "  0.014205855232826187,\n",
              "  0.0005048447275798456,\n",
              "  0.41639880952380953,\n",
              "  0.11354592996816736,\n",
              "  0.008905754880915875,\n",
              "  0.0,\n",
              "  1.6010655737704917,\n",
              "  0.19637748756218906,\n",
              "  0.0,\n",
              "  0.29571533203125,\n",
              "  0.0,\n",
              "  0.09301900584795321,\n",
              "  0.05556766179995642,\n",
              "  0.01307134424017541,\n",
              "  0.0,\n",
              "  0.6125316990701606,\n",
              "  0.43153846153846154,\n",
              "  2.212767481836635,\n",
              "  0.006909717945559798,\n",
              "  0.15076337336870513,\n",
              "  0.84354,\n",
              "  0.13701737451737453,\n",
              "  0.12092685475392004,\n",
              "  0.2821161971830986,\n",
              "  0.00017695999385613408,\n",
              "  0.0,\n",
              "  1.9953212780898877,\n",
              "  0.0,\n",
              "  0.23922789539227896,\n",
              "  0.09085793616480439,\n",
              "  0.0,\n",
              "  0.17554347826086958,\n",
              "  0.0,\n",
              "  0.3500780031201248,\n",
              "  0.009496830427892235,\n",
              "  1.6108870967741935,\n",
              "  0.0,\n",
              "  0.0,\n",
              "  0.14580128724093264,\n",
              "  0.09344225747678998,\n",
              "  0.07214145383104126,\n",
              "  0.08115413233883476,\n",
              "  0.0020740905057675244,\n",
              "  0.006386404293381037,\n",
              "  0.0,\n",
              "  0.6638849092645654,\n",
              "  0.6108542035715532,\n",
              "  1.3065641410352589,\n",
              "  0.0,\n",
              "  0.0,\n",
              "  0.08153513765497951,\n",
              "  0.24261658368740713,\n",
              "  3.337982832618026,\n",
              "  0.2042005101394743,\n",
              "  0.0,\n",
              "  2.8605905676126877,\n",
              "  0.0,\n",
              "  0.0001919469594096163,\n",
              "  0.0011309608288390576,\n",
              "  0.03104682591862079,\n",
              "  0.1641940967392984,\n",
              "  0.004916136495083863,\n",
              "  0.5515745828245828,\n",
              "  0.0,\n",
              "  0.02640639745624571,\n",
              "  0.19709436133486766,\n",
              "  0.08627136752136752,\n",
              "  3.24502079002079,\n",
              "  None,\n",
              "  0.74959375,\n",
              "  0.0,\n",
              "  0.9771752879408101,\n",
              "  0.15450069159563526,\n",
              "  0.007389346094616747,\n",
              "  0.0,\n",
              "  0.00019318181818181817,\n",
              "  0.24456051962164432,\n",
              "  0.0015929535232383808,\n",
              "  0.08275098298449546,\n",
              "  0.0,\n",
              "  2.98775,\n",
              "  0.7702352834302325,\n",
              "  0.1223823854872242,\n",
              "  0.14354792147806006,\n",
              "  0.0312375,\n",
              "  0.07033598099433128,\n",
              "  0.4126085607940447,\n",
              "  None,\n",
              "  0.24638382687927107,\n",
              "  0.33125997523026096,\n",
              "  0.05522331770917515,\n",
              "  3.7372194606500773,\n",
              "  0.02049033372934442,\n",
              "  1.6413543441226577,\n",
              "  0.6758789308547493,\n",
              "  0.0006743462807819243,\n",
              "  2.959944831591173,\n",
              "  0.08742478158582288,\n",
              "  0.0,\n",
              "  0.030591968531078602,\n",
              "  0.04732142857142857,\n",
              "  0.8043384378550208,\n",
              "  1.384225,\n",
              "  0.03999202551834131,\n",
              "  0.019556346587949296,\n",
              "  18.834162162162162,\n",
              "  0.015525114155251141,\n",
              "  0.486985559566787,\n",
              "  2.160416666666667,\n",
              "  3.0203461068845683,\n",
              "  6.235811042524006,\n",
              "  0.0,\n",
              "  0.020146726862302483,\n",
              "  0.20014619883040935,\n",
              "  0.05115740740740741,\n",
              "  0.0533737760749255,\n",
              "  0.23928972535981277,\n",
              "  2.9159674712792047,\n",
              "  0.0064355700712589075,\n",
              "  0.0,\n",
              "  20.807964463559532,\n",
              "  0.6953890433102687,\n",
              "  0.0,\n",
              "  0.10421316964285714,\n",
              "  0.22050949063246264,\n",
              "  0.03461466716059892,\n",
              "  0.0,\n",
              "  0.48512350299401197,\n",
              "  0.0,\n",
              "  0.0,\n",
              "  0.487603734439834,\n",
              "  1.337962962962963,\n",
              "  0.0,\n",
              "  0.00021862139917695473,\n",
              "  0.0,\n",
              "  0.2433467741935484,\n",
              "  3.916935189688716,\n",
              "  0.0,\n",
              "  0.024392023346303502,\n",
              "  0.14976519016697587,\n",
              "  0.02244,\n",
              "  16.49862087283426,\n",
              "  2.1506444412442396,\n",
              "  3.7143309222423144,\n",
              "  0.0,\n",
              "  0.009986684420772303,\n",
              "  0.014059955211726384,\n",
              "  0.3258466603951082,\n",
              "  0.0,\n",
              "  0.032663316582914576,\n",
              "  0.0,\n",
              "  0.026742454432955094,\n",
              "  0.0,\n",
              "  0.5271597599637681,\n",
              "  0.0,\n",
              "  2.567771218039773,\n",
              "  None,\n",
              "  0.0,\n",
              "  2.4087357954545454,\n",
              "  0.020266842532467532,\n",
              "  1.0755029337803856,\n",
              "  0.0,\n",
              "  0.0358721667443913,\n",
              "  0.0007275320970042796,\n",
              "  0.0,\n",
              "  0.43158014571949,\n",
              "  0.0,\n",
              "  0.020802651747723302,\n",
              "  1.880140727964873,\n",
              "  0.003577039613960274,\n",
              "  0.07004291845493563,\n",
              "  0.0034,\n",
              "  0.0,\n",
              "  0.020314754689754688,\n",
              "  0.22772772772772773,\n",
              "  0.0,\n",
              "  0.1324576585054518,\n",
              "  0.0570696946397188,\n",
              "  1.2282070707070707,\n",
              "  0.04019741432558565,\n",
              "  0.2787163511462577,\n",
              "  0.0,\n",
              "  0.00085,\n",
              "  0.1957115800865801,\n",
              "  0.4561609979992939,\n",
              "  8.841330610855879,\n",
              "  0.05928140832424806,\n",
              "  0.09194675304715855,\n",
              "  9.74156314699793,\n",
              "  0.0,\n",
              "  0.0,\n",
              "  0.0,\n",
              "  0.0,\n",
              "  0.6878473321387837,\n",
              "  9.235008078548347,\n",
              "  0.0,\n",
              "  0.3123444976076555,\n",
              "  0.5041163407896875,\n",
              "  0.1149116847826087,\n",
              "  5.089543530714766,\n",
              "  0.0,\n",
              "  0.00103759765625,\n",
              "  1.328369365225391,\n",
              "  0.0,\n",
              "  1.2794834952924716,\n",
              "  1.1459321475625823,\n",
              "  0.0,\n",
              "  0.09197705583247752,\n",
              "  0.0,\n",
              "  6.0223209820982095,\n",
              "  0.0,\n",
              "  0.32780539772727274,\n",
              "  0.6805746838612746,\n",
              "  0.006127033834842399,\n",
              "  5.36097526550293,\n",
              "  0.0,\n",
              "  0.0,\n",
              "  0.0037833827893175073,\n",
              "  0.4160388842071214,\n",
              "  21.67887931034483,\n",
              "  0.0,\n",
              "  0.0,\n",
              "  0.0010979547900968783,\n",
              "  0.0,\n",
              "  10.1898,\n",
              "  None,\n",
              "  0.0015369741740119968,\n",
              "  0.2023518997033209,\n",
              "  0.013294232649071359,\n",
              "  0.0003042411212299454,\n",
              "  0.008663703703703703,\n",
              "  0.10921914261783294,\n",
              "  4.747115324398798,\n",
              "  0.6037238979915979,\n",
              "  0.19476374137898278,\n",
              "  0.08305714285714286,\n",
              "  0.0,\n",
              "  5.231989259545807,\n",
              "  0.1980185185185185,\n",
              "  0.06712103407755582,\n",
              "  0.00023865678346810424,\n",
              "  1.4759146341463414,\n",
              "  None,\n",
              "  0.05695937456373028,\n",
              "  0.004831741700773079,\n",
              "  0.7589536807278743,\n",
              "  4.351523252971191,\n",
              "  1.2459608540925267,\n",
              "  0.0,\n",
              "  None,\n",
              "  0.34315966672376547,\n",
              "  0.0,\n",
              "  0.98025,\n",
              "  0.08129618120295559,\n",
              "  0.0,\n",
              "  0.01212037037037037,\n",
              "  0.0,\n",
              "  0.0007192979651859785,\n",
              "  0.0,\n",
              "  0.0,\n",
              "  0.1561875,\n",
              "  0.34930389732219,\n",
              "  0.33977217348927874,\n",
              "  0.9248020131744504,\n",
              "  0.33372681475354277,\n",
              "  0.01646046261430877,\n",
              "  0.009747147525944614,\n",
              "  1.8603704402685288,\n",
              "  19.674327256944444,\n",
              "  1.1085601368970013,\n",
              "  0.8809895833333333,\n",
              "  0.03996128318584071,\n",
              "  0.0008744855967078189,\n",
              "  0.010719339117012306,\n",
              "  0.0044256074161314095,\n",
              "  0.2540069981375924,\n",
              "  43.83856917546948,\n",
              "  0.010912162162162162,\n",
              "  0.09325385027055955,\n",
              "  0.0,\n",
              "  0.16306912251655628,\n",
              "  0.0,\n",
              "  1.1621733672682044,\n",
              "  0.0,\n",
              "  0.0,\n",
              "  0.607479144530102,\n",
              "  0.00046091278807049255,\n",
              "  None,\n",
              "  0.025763032248602668,\n",
              "  0.056666666666666664,\n",
              "  0.11924041970802919,\n",
              "  24.049132184202,\n",
              "  0.0,\n",
              "  0.6590769230769231,\n",
              "  0.088714599609375,\n",
              "  0.26546132641478837,\n",
              "  0.14158141033862465,\n",
              "  0.0,\n",
              "  16.396220657276995,\n",
              "  0.13120144473217937,\n",
              "  0.0,\n",
              "  0.013759784735812132,\n",
              "  0.0614234456831428,\n",
              "  0.0,\n",
              "  2.5697101449275364,\n",
              "  0.045500578703703706,\n",
              "  0.0,\n",
              "  0.0022750388094855737,\n",
              "  0.0,\n",
              "  0.1952610794207986,\n",
              "  0.003389893597222148,\n",
              "  0.9467821782178217,\n",
              "  0.2033871970167806,\n",
              "  0.0,\n",
              "  0.21191135734072022,\n",
              "  None,\n",
              "  0.212847980349345,\n",
              "  0.032009493670886076,\n",
              "  0.028485663082437277,\n",
              "  0.04596473770426137,\n",
              "  0.5002040047705731,\n",
              "  0.022211074829101562,\n",
              "  0.0,\n",
              "  0.07200413223140496,\n",
              "  0.00031548317175646184,\n",
              "  0.674796441495778,\n",
              "  0.0,\n",
              "  0.46770659016654714,\n",
              "  0.0,\n",
              "  0.1090134529147982,\n",
              "  19.923552631578946,\n",
              "  0.0,\n",
              "  0.7910563296415386,\n",
              "  0.055281453240636914,\n",
              "  0.025722897823516253,\n",
              "  0.07985473504721931,\n",
              "  0.0029564394729885775,\n",
              "  19.26765287114762,\n",
              "  0.0002085070892410342,\n",
              "  0.01576086956521739,\n",
              "  0.0,\n",
              "  0.0,\n",
              "  1.6307723749455507,\n",
              "  0.07423569815692718,\n",
              "  0.0,\n",
              "  0.0,\n",
              "  0.0008695355657096092,\n",
              "  0.008605174353205848,\n",
              "  0.011420726720411263,\n",
              "  0.37545656255333676,\n",
              "  0.0,\n",
              "  0.05714893341064453,\n",
              "  0.1751321846808827,\n",
              "  0.16870226198901797,\n",
              "  7.519864341085271,\n",
              "  0.0,\n",
              "  0.0,\n",
              "  0.4415402374670185,\n",
              "  None,\n",
              "  0.2528796346782988,\n",
              "  0.0,\n",
              "  4.438613549918495,\n",
              "  0.2528858418367347,\n",
              "  0.005657547646866451,\n",
              "  0.135326646090535,\n",
              "  0.0,\n",
              "  8.346147123917701e-05,\n",
              "  0.0,\n",
              "  0.00114247311827957,\n",
              "  0.03969489414694894,\n",
              "  0.0,\n",
              "  0.057207821737153254,\n",
              "  0.006648069452772636,\n",
              "  0.02041531148361271,\n",
              "  0.19497431592338785,\n",
              "  0.007848568790397045,\n",
              "  0.08146904042100549,\n",
              "  0.0,\n",
              "  12.498686405337782,\n",
              "  0.0,\n",
              "  0.0,\n",
              "  0.004873980689177852,\n",
              "  0.054825,\n",
              "  0.0,\n",
              "  0.19384892086330935,\n",
              "  0.0,\n",
              "  0.0,\n",
              "  2.5266160868492475,\n",
              "  0.0,\n",
              "  0.003052859361952393,\n",
              "  0.036635418809446846,\n",
              "  0.0,\n",
              "  0.0,\n",
              "  0.04812536860729632,\n",
              "  0.11732513632550336,\n",
              "  0.5394666666666666,\n",
              "  0.0,\n",
              "  0.22135416666666666,\n",
              "  0.779578488372093,\n",
              "  0.0,\n",
              "  0.2913778970116998,\n",
              "  0.0,\n",
              "  10.816768292682926,\n",
              "  0.04075980584044469,\n",
              "  1.97378841607565,\n",
              "  0.0,\n",
              "  0.0429741980474198,\n",
              "  5.132377744587029,\n",
              "  0.0008346972176759411,\n",
              "  0.15223987525812296,\n",
              "  0.0947560171500783,\n",
              "  3.2161627906976746,\n",
              "  0.0,\n",
              "  4.874514083066221,\n",
              "  0.016419409673929842,\n",
              "  0.1415737443778111,\n",
              "  0.0,\n",
              "  0.0,\n",
              "  0.0015649342508436178,\n",
              "  0.0020512738008092476,\n",
              "  1.0356510743823284,\n",
              "  0.10959799350007066,\n",
              "  0.0,\n",
              "  0.0,\n",
              "  0.05728717278359372,\n",
              "  0.00024509803921568627,\n",
              "  0.0,\n",
              "  0.0,\n",
              "  0.038269341532071614,\n",
              "  0.0022767857142857143,\n",
              "  3.976202804746494,\n",
              "  0.1469671201814059,\n",
              "  0.016728167281672816,\n",
              "  0.0,\n",
              "  0.00759000759000759,\n",
              "  0.0,\n",
              "  0.0,\n",
              "  0.04031620553359684,\n",
              "  0.00525407577201432,\n",
              "  None,\n",
              "  0.0,\n",
              "  0.8119699100112486,\n",
              "  0.0,\n",
              "  0.002329192546583851,\n",
              "  0.05976980665624927,\n",
              "  0.0,\n",
              "  0.5697931128661493,\n",
              "  0.0,\n",
              "  21.765207877461705,\n",
              "  None,\n",
              "  0.0,\n",
              "  0.038120153228066896,\n",
              "  0.15975582437275987,\n",
              "  0.15756802721088436,\n",
              "  0.0,\n",
              "  0.7113131009615384,\n",
              "  2.5002879731923136,\n",
              "  9.191681735985533,\n",
              "  0.0,\n",
              "  0.34181031014430746,\n",
              "  0.011712188549832027,\n",
              "  0.0,\n",
              "  0.0,\n",
              "  4.464604353512706,\n",
              "  0.009680555555555555,\n",
              "  0.0,\n",
              "  0.10220917225950783,\n",
              "  0.0,\n",
              "  0.0064479015873216555,\n",
              "  0.0,\n",
              "  5.277406945927772,\n",
              "  0.08313204508856682,\n",
              "  2.272568066128053,\n",
              "  0.0,\n",
              "  0.27750599041533547,\n",
              "  0.18591489361702127,\n",
              "  0.3885647123893805,\n",
              "  0.0,\n",
              "  1.2912066400438493,\n",
              "  2.8760700966265467,\n",
              "  0.004675,\n",
              "  0.8744388374605933,\n",
              "  0.0,\n",
              "  0.0,\n",
              "  0.001388606528810409,\n",
              "  2.020967741935484,\n",
              "  0.6738903648244308,\n",
              "  0.04581793370102917,\n",
              "  0.0,\n",
              "  1.6457234915055654,\n",
              "  0.0059765625,\n",
              "  0.5282577565632458,\n",
              "  0.0,\n",
              "  0.013783783783783784,\n",
              "  0.350306751270892,\n",
              "  12.007272727272728,\n",
              "  0.0,\n",
              "  0.017991556345560336,\n",
              "  5.5595715835141,\n",
              "  0.8272916078567505,\n",
              "  0.004292929292929293,\n",
              "  1.4407596371882085,\n",
              "  0.0,\n",
              "  0.000796875,\n",
              "  0.0,\n",
              "  1.3055139097118107,\n",
              "  0.0013834635416666667,\n",
              "  11.090455911823648,\n",
              "  6.147571880300714,\n",
              "  0.08759390150242403,\n",
              "  0.0,\n",
              "  0.03375651041666667,\n",
              "  0.16415625,\n",
              "  0.06367275763827487,\n",
              "  0.0,\n",
              "  0.8384150400766917,\n",
              "  0.0010542940777614235,\n",
              "  0.0008792345487457978,\n",
              "  0.061732700892857144,\n",
              "  0.0,\n",
              "  0.21848175965665237,\n",
              "  0.20633064516129032,\n",
              "  0.0,\n",
              "  9.50166095890411,\n",
              "  14.97859977324263,\n",
              "  0.0034925127830533237,\n",
              "  0.0,\n",
              "  0.6031866825208085,\n",
              "  1.5773763967549366,\n",
              "  0.0,\n",
              "  0.02756276150627615,\n",
              "  0.035998459958932236,\n",
              "  0.013269022935596205,\n",
              "  0.00703448275862069,\n",
              "  0.0,\n",
              "  0.01739830520038754,\n",
              "  0.0012502635359413995,\n",
              "  0.0,\n",
              "  0.11454157782515992,\n",
              "  0.00256797583081571,\n",
              "  None,\n",
              "  1.059364808200031,\n",
              "  0.009568480300187617,\n",
              "  7.674087679638301,\n",
              "  0.016593374979450928,\n",
              "  0.0,\n",
              "  0.00025501496087770484,\n",
              "  0.0,\n",
              "  0.0,\n",
              "  0.0,\n",
              "  4.739882964889467,\n",
              "  0.0,\n",
              "  0.3332280652081586,\n",
              "  5.2939386425624955,\n",
              "  0.2224525381207409,\n",
              "  1.8158125,\n",
              "  0.0,\n",
              "  0.05019685039370079,\n",
              "  0.08569361419489516,\n",
              "  0.0,\n",
              "  0.009826589595375723,\n",
              "  0.0,\n",
              "  0.0,\n",
              "  0.037603686635944704,\n",
              "  0.0,\n",
              "  0.16517503955696203,\n",
              "  0.0,\n",
              "  0.0,\n",
              "  0.0,\n",
              "  0.0,\n",
              "  0.21625621497580524,\n",
              "  0.0,\n",
              "  0.03191827902240326,\n",
              "  0.08258375136942858,\n",
              "  0.01056792898983229,\n",
              "  0.033894756008739986,\n",
              "  1.314755460588794,\n",
              "  0.0,\n",
              "  0.0,\n",
              "  0.000729739010989011,\n",
              "  0.3031219857051278,\n",
              "  0.06788041284668166,\n",
              "  0.0075210674157303375,\n",
              "  0.8919142158953118,\n",
              "  0.0,\n",
              "  0.0,\n",
              "  0.0,\n",
              "  3.0445963632870505,\n",
              "  0.22542708333333333,\n",
              "  0.02222185335651654,\n",
              "  None,\n",
              "  0.0,\n",
              "  0.05694789081885856,\n",
              "  0.16288325471698112,\n",
              "  0.00102,\n",
              "  0.04297456575682382,\n",
              "  0.0,\n",
              "  0.1928181818181818,\n",
              "  0.0,\n",
              "  0.6207628865979381,\n",
              "  0.0,\n",
              "  0.0,\n",
              "  0.0,\n",
              "  0.0,\n",
              "  0.0,\n",
              "  0.0011508103058447624,\n",
              "  1.1204545454545454,\n",
              "  0.30265291936978683,\n",
              "  0.0,\n",
              "  0.0017708333333333332,\n",
              "  0.049545688325047146,\n",
              "  0.0003027065527065527,\n",
              "  0.013748706004140786,\n",
              "  0.028992776886035312,\n",
              "  2.3840798254620124,\n",
              "  0.4322961373390558,\n",
              "  3.71899893815049,\n",
              "  0.0,\n",
              "  0.0,\n",
              "  0.009898181601027142,\n",
              "  0.0,\n",
              "  0.15785843149739998,\n",
              "  0.0,\n",
              "  0.13931982516727823,\n",
              "  2.621915393654524,\n",
              "  0.0013280143321389884,\n",
              "  0.14535895479431885,\n",
              "  0.056068405898263673,\n",
              "  14.472972972972974,\n",
              "  2.660085644575014,\n",
              "  0.04280035335689046,\n",
              "  0.0,\n",
              "  0.0,\n",
              "  0.0,\n",
              "  0.27326154146957743,\n",
              "  0.006088766074828082,\n",
              "  0.0,\n",
              "  0.01587073608617594,\n",
              "  0.0,\n",
              "  0.0,\n",
              "  0.0,\n",
              "  0.1131646957475135,\n",
              "  0.0,\n",
              "  0.0,\n",
              "  0.0012544273907910272,\n",
              "  0.0,\n",
              "  0.6079323797139142,\n",
              "  27.60207594038325,\n",
              "  0.0,\n",
              "  0.004400887573964497,\n",
              "  0.0,\n",
              "  0.0,\n",
              "  0.0020757020757020757,\n",
              "  0.0,\n",
              "  0.012348907484890748,\n",
              "  3.17109375,\n",
              "  0.0,\n",
              "  0.002487795169579826,\n",
              "  0.2802875,\n",
              "  0.07593982054455446,\n",
              "  None,\n",
              "  0.5889523320715981,\n",
              "  0.003624100573359105,\n",
              "  0.1483261386311781,\n",
              "  0.8761961526710894,\n",
              "  0.0,\n",
              "  0.00091991341991342,\n",
              "  0.05720191313961593,\n",
              "  0.0,\n",
              "  5.061933666356877,\n",
              "  2.195390625,\n",
              "  0.0,\n",
              "  0.005638266509433962,\n",
              "  0.005483084862385321,\n",
              "  9.973052920389753,\n",
              "  3.952839119766611,\n",
              "  0.23280086848635237,\n",
              "  0.0,\n",
              "  2.0681066666666665,\n",
              "  3.279638671875,\n",
              "  0.0,\n",
              "  0.0,\n",
              "  0.6699857752489331,\n",
              "  0.0,\n",
              "  0.0,\n",
              "  56.34471830208264,\n",
              "  0.0,\n",
              "  0.0,\n",
              "  1.1341550056504686,\n",
              "  0.29673827135115594,\n",
              "  33.6563610922018,\n",
              "  0.8059098639455783,\n",
              "  0.00759000759000759,\n",
              "  0.0002689873417721519,\n",
              "  0.0,\n",
              "  0.0,\n",
              "  7.925708912037037,\n",
              "  19.79222797927461,\n",
              "  3.826359275053305,\n",
              "  0.0,\n",
              "  0.002087939081306804,\n",
              "  3.4479612850082373,\n",
              "  0.33550758896472926,\n",
              "  0.08641745707023743,\n",
              "  0.0,\n",
              "  0.7105482456563381,\n",
              "  0.009011807420744455,\n",
              "  0.0,\n",
              "  0.0029136910834523565,\n",
              "  0.005031876138433516,\n",
              "  0.0,\n",
              "  0.0,\n",
              "  0.006512101872926615,\n",
              "  0.04412802419354839,\n",
              "  0.0,\n",
              "  0.024932012432012433,\n",
              "  0.0,\n",
              "  0.0,\n",
              "  0.0,\n",
              "  0.0,\n",
              "  0.27129294755877037,\n",
              "  0.5747073568980982,\n",
              "  0.5045308310991957,\n",
              "  0.04618672720247295,\n",
              "  3.370304311850694,\n",
              "  0.0,\n",
              "  ...],\n",
              " 'thick_pinkdesaturated_orange': [0.5760438088861256,\n",
              "  0.005810546875,\n",
              "  0.03269569546568627,\n",
              "  0.0,\n",
              "  0.0,\n",
              "  0.0,\n",
              "  0.0,\n",
              "  8.780013020833334,\n",
              "  0.029402294749574683,\n",
              "  0.0,\n",
              "  0.0,\n",
              "  0.0,\n",
              "  0.0,\n",
              "  0.0,\n",
              "  0.0,\n",
              "  0.0,\n",
              "  1.0091275781769793,\n",
              "  0.576394157814871,\n",
              "  None,\n",
              "  2.9444614443084456,\n",
              "  0.010424310485325895,\n",
              "  0.0,\n",
              "  14.42133906020589,\n",
              "  0.15986436035495188,\n",
              "  0.0,\n",
              "  0.0,\n",
              "  0.0,\n",
              "  0.0,\n",
              "  0.0,\n",
              "  0.0,\n",
              "  0.0,\n",
              "  0.22859573364257812,\n",
              "  0.0,\n",
              "  0.3689104335870505,\n",
              "  None,\n",
              "  0.0,\n",
              "  0.04601865733799767,\n",
              "  0.2873119040524434,\n",
              "  0.0,\n",
              "  0.22066928372524752,\n",
              "  0.0,\n",
              "  0.0,\n",
              "  0.0,\n",
              "  0.0,\n",
              "  1.7025487256371814,\n",
              "  0.2594909836094336,\n",
              "  0.0,\n",
              "  1.5473416969658524,\n",
              "  0.0,\n",
              "  0.0,\n",
              "  0.0,\n",
              "  0.0,\n",
              "  0.006375733209319071,\n",
              "  0.036060606060606064,\n",
              "  21.33938647789063,\n",
              "  0.0,\n",
              "  0.5272169137574272,\n",
              "  0.0,\n",
              "  0.0,\n",
              "  0.0,\n",
              "  5.139246000351617,\n",
              "  None,\n",
              "  0.007561788302277433,\n",
              "  11.37565625,\n",
              "  0.152734375,\n",
              "  0.012143820938169696,\n",
              "  2.1137219854255465,\n",
              "  0.0,\n",
              "  0.0,\n",
              "  0.0069901315789473685,\n",
              "  0.9559213917525773,\n",
              "  0.0,\n",
              "  0.0001328125,\n",
              "  11.669986263736265,\n",
              "  18.77465498306271,\n",
              "  1.994677734375,\n",
              "  0.0,\n",
              "  2.11111911623439,\n",
              "  0.11280282499794694,\n",
              "  0.17348174532502225,\n",
              "  0.78202288722871,\n",
              "  0.0,\n",
              "  1.6089439806063153,\n",
              "  6.7918534178999295,\n",
              "  70.45755741032706,\n",
              "  0.06850691443388073,\n",
              "  0.0,\n",
              "  0.0,\n",
              "  0.0,\n",
              "  0.704217285519594,\n",
              "  0.0,\n",
              "  0.0,\n",
              "  0.510093360260771,\n",
              "  0.0025358828504274465,\n",
              "  0.4276120433671708,\n",
              "  0.0,\n",
              "  0.0,\n",
              "  0.0,\n",
              "  0.006397024039908829,\n",
              "  0.0,\n",
              "  0.19935855383045412,\n",
              "  0.022671962307497615,\n",
              "  0.0,\n",
              "  0.0,\n",
              "  0.0,\n",
              "  0.0,\n",
              "  0.0,\n",
              "  0.08781214349093674,\n",
              "  0.0,\n",
              "  0.0,\n",
              "  3.2416875,\n",
              "  0.0,\n",
              "  0.688494861978642,\n",
              "  0.2180115273775216,\n",
              "  9.561664208456245,\n",
              "  0.0,\n",
              "  0.0,\n",
              "  0.0,\n",
              "  0.648580261499685,\n",
              "  0.40648844849512505,\n",
              "  0.0,\n",
              "  0.3474308105981112,\n",
              "  0.0,\n",
              "  0.42325733967525014,\n",
              "  0.0,\n",
              "  0.5209189544632583,\n",
              "  0.0,\n",
              "  0.0,\n",
              "  2.0805854301948052,\n",
              "  10.977896341463415,\n",
              "  0.0,\n",
              "  0.0021003741672931896,\n",
              "  0.0,\n",
              "  0.12198510024596981,\n",
              "  0.4506608155180657,\n",
              "  0.0,\n",
              "  0.0,\n",
              "  0.37578577180252604,\n",
              "  0.0005923344947735192,\n",
              "  0.0,\n",
              "  0.0,\n",
              "  0.0,\n",
              "  0.0,\n",
              "  0.0,\n",
              "  0.0,\n",
              "  0.06510100076832553,\n",
              "  0.0,\n",
              "  0.0,\n",
              "  0.0,\n",
              "  0.0,\n",
              "  0.0,\n",
              "  0.2864752684645355,\n",
              "  0.0,\n",
              "  0.0,\n",
              "  0.0,\n",
              "  0.2952289581298828,\n",
              "  0.002495364005108157,\n",
              "  0.0408,\n",
              "  0.3519,\n",
              "  0.0,\n",
              "  0.004407407407407408,\n",
              "  0.0,\n",
              "  0.0,\n",
              "  2.425608442134618,\n",
              "  0.0,\n",
              "  0.6958333333333333,\n",
              "  4.862138964577657,\n",
              "  0.16001303416814078,\n",
              "  0.0,\n",
              "  0.08195118662351672,\n",
              "  0.02878267680366534,\n",
              "  0.0,\n",
              "  0.15195566773575236,\n",
              "  3.9322963294538944,\n",
              "  67.06079791847355,\n",
              "  0.0,\n",
              "  0.08352572824179642,\n",
              "  0.0,\n",
              "  1.5972479423868313,\n",
              "  0.22486494091164885,\n",
              "  0.0,\n",
              "  0.0,\n",
              "  0.04175536269854266,\n",
              "  3.810302083333333,\n",
              "  11.560918209876544,\n",
              "  0.0,\n",
              "  0.019401419166760102,\n",
              "  0.0,\n",
              "  18.38151364764268,\n",
              "  0.00025388291517323774,\n",
              "  0.7898262598323105,\n",
              "  0.0,\n",
              "  0.6968621549381191,\n",
              "  0.0,\n",
              "  0.08127864706812075,\n",
              "  9.221769029948423,\n",
              "  0.0,\n",
              "  0.0,\n",
              "  0.00053125,\n",
              "  25.112544412144704,\n",
              "  1.1430993909191585,\n",
              "  0.0,\n",
              "  1.923311954951199,\n",
              "  0.007018730821684282,\n",
              "  0.00029527422290772157,\n",
              "  0.0,\n",
              "  0.0,\n",
              "  1.5351775181488203,\n",
              "  0.0,\n",
              "  0.03331028123559244,\n",
              "  0.0013098956192981015,\n",
              "  0.0,\n",
              "  0.0,\n",
              "  0.002447177748276579,\n",
              "  0.0,\n",
              "  0.0,\n",
              "  11.429279112754159,\n",
              "  0.0,\n",
              "  0.0,\n",
              "  2.700536899856969,\n",
              "  0.0,\n",
              "  0.0,\n",
              "  0.6957484712793105,\n",
              "  0.34701272298006297,\n",
              "  10.0771484375,\n",
              "  0.0,\n",
              "  1.1890414593698175,\n",
              "  0.0,\n",
              "  0.0,\n",
              "  0.6258206106870229,\n",
              "  0.04845433919455474,\n",
              "  0.0,\n",
              "  0.03051282051282051,\n",
              "  0.0002277599142550911,\n",
              "  14.47070602807597,\n",
              "  None,\n",
              "  12.678336588541667,\n",
              "  1.2159834123222748,\n",
              "  0.0,\n",
              "  0.7318187648303726,\n",
              "  5.0396449704142015,\n",
              "  0.04006679389312977,\n",
              "  0.0,\n",
              "  0.0014836363636363636,\n",
              "  9.936393117140966,\n",
              "  0.04156539351851852,\n",
              "  0.0,\n",
              "  0.0,\n",
              "  7.943155924479167,\n",
              "  0.0,\n",
              "  33.37627314814815,\n",
              "  0.09545702727520909,\n",
              "  0.0,\n",
              "  0.0,\n",
              "  0.0,\n",
              "  0.0,\n",
              "  0.3948694450419762,\n",
              "  0.0,\n",
              "  0.0,\n",
              "  1.0701950563763136,\n",
              "  None,\n",
              "  0.3538037348038601,\n",
              "  0.2433351225621757,\n",
              "  0.0,\n",
              "  0.0,\n",
              "  1.6197726680562794,\n",
              "  0.078132224016248,\n",
              "  78.6442578125,\n",
              "  0.10814666306820372,\n",
              "  0.0,\n",
              "  0.0,\n",
              "  0.2580704922013959,\n",
              "  0.2829285714285714,\n",
              "  0.0,\n",
              "  0.011756569847856155,\n",
              "  1.2999751735181024,\n",
              "  1.4905357142857143,\n",
              "  0.22950773078672124,\n",
              "  0.0,\n",
              "  0.0,\n",
              "  0.8676502732240438,\n",
              "  0.38403296019900496,\n",
              "  0.0,\n",
              "  3.1452178955078125,\n",
              "  0.10490428900402994,\n",
              "  1.246893274853801,\n",
              "  0.07846827393569603,\n",
              "  0.0,\n",
              "  0.0,\n",
              "  2.0984150464919695,\n",
              "  1.6394331983805668,\n",
              "  5.3292024440079135,\n",
              "  0.0,\n",
              "  0.27017186412947913,\n",
              "  0.00306,\n",
              "  0.6818050193050194,\n",
              "  1.8848381011539384,\n",
              "  0.0,\n",
              "  0.0,\n",
              "  0.0,\n",
              "  3.4990870786516854,\n",
              "  0.0,\n",
              "  0.37048567870485677,\n",
              "  0.0,\n",
              "  0.0,\n",
              "  0.3960388795986622,\n",
              "  0.0,\n",
              "  1.7026521060842434,\n",
              "  0.0,\n",
              "  0.31463709677419355,\n",
              "  0.0,\n",
              "  0.0,\n",
              "  0.03354719883419689,\n",
              "  0.5051109442626479,\n",
              "  0.02605108055009823,\n",
              "  0.38252933740934314,\n",
              "  0.0,\n",
              "  0.002737030411449016,\n",
              "  0.0,\n",
              "  2.2402817574021014,\n",
              "  1.1100150009884373,\n",
              "  0.5381845461365341,\n",
              "  0.0,\n",
              "  0.0,\n",
              "  0.3928164809452518,\n",
              "  0.5591813726767979,\n",
              "  0.0,\n",
              "  0.018144322437091843,\n",
              "  0.0,\n",
              "  0.009578464106844741,\n",
              "  0.004589426321709786,\n",
              "  0.0,\n",
              "  0.0,\n",
              "  0.0,\n",
              "  0.0,\n",
              "  0.0,\n",
              "  0.0,\n",
              "  0.0,\n",
              "  0.0,\n",
              "  0.0,\n",
              "  0.38454739704739704,\n",
              "  10.606621621621622,\n",
              "  None,\n",
              "  26.45465625,\n",
              "  0.0,\n",
              "  0.0,\n",
              "  6.27800371215435,\n",
              "  2.728779950654899,\n",
              "  0.07341277564763814,\n",
              "  0.0,\n",
              "  0.10076313254797363,\n",
              "  0.3329272863568216,\n",
              "  0.0008756717776137085,\n",
              "  0.0,\n",
              "  1.074825,\n",
              "  0.2613008720930233,\n",
              "  0.10260881228623164,\n",
              "  0.03844303310238645,\n",
              "  0.030175,\n",
              "  0.07330033268374753,\n",
              "  0.44108250620347395,\n",
              "  None,\n",
              "  0.012101366742596811,\n",
              "  0.0044987773910854815,\n",
              "  0.0705780938527019,\n",
              "  0.0,\n",
              "  0.0005287828059185657,\n",
              "  11.17054940374787,\n",
              "  16.518408289241624,\n",
              "  0.0,\n",
              "  2.05811556329849,\n",
              "  0.212155827727665,\n",
              "  0.0,\n",
              "  0.0,\n",
              "  0.019196428571428573,\n",
              "  0.713765624249956,\n",
              "  0.0,\n",
              "  0.006778309409888357,\n",
              "  2.9426766799791633,\n",
              "  0.0,\n",
              "  0.0,\n",
              "  0.032220216606498195,\n",
              "  8.44967105263158,\n",
              "  0.09859584859584859,\n",
              "  5.37517146776406,\n",
              "  0.0,\n",
              "  0.00991346877351392,\n",
              "  1.5644736842105262,\n",
              "  2.3740097736625514,\n",
              "  0.05819852419469278,\n",
              "  0.8873485421954393,\n",
              "  12.28152833354847,\n",
              "  0.0015142517814726842,\n",
              "  0.0,\n",
              "  3.562068634105612,\n",
              "  0.04756229045069307,\n",
              "  0.0,\n",
              "  0.43526785714285715,\n",
              "  0.003138925133558187,\n",
              "  0.0,\n",
              "  0.0,\n",
              "  4.531530688622754,\n",
              "  0.0,\n",
              "  0.0,\n",
              "  0.028313739050253573,\n",
              "  1.7769547325102881,\n",
              "  0.0,\n",
              "  0.0,\n",
              "  0.0,\n",
              "  0.34274193548387094,\n",
              "  1.2123662451361867,\n",
              "  0.0,\n",
              "  38.01620865758755,\n",
              "  0.23004406307977737,\n",
              "  0.00102,\n",
              "  52.33220619483491,\n",
              "  0.0,\n",
              "  0.18118218806509945,\n",
              "  0.0,\n",
              "  0.23423314368720494,\n",
              "  0.0,\n",
              "  8.709901222953905,\n",
              "  0.0,\n",
              "  0.8837939698492462,\n",
              "  0.0,\n",
              "  0.16045472659773055,\n",
              "  0.0,\n",
              "  16.660510076992754,\n",
              "  0.0,\n",
              "  0.17714621803977273,\n",
              "  None,\n",
              "  0.0,\n",
              "  0.16752485795454544,\n",
              "  0.11944500811688312,\n",
              "  0.003384325230511316,\n",
              "  0.0,\n",
              "  2.1397993162801634,\n",
              "  0.002182596291012839,\n",
              "  0.0,\n",
              "  0.0,\n",
              "  0.0,\n",
              "  0.03503604504879714,\n",
              "  1.3941894742628618,\n",
              "  0.4984008528784648,\n",
              "  0.0,\n",
              "  1.28248,\n",
              "  0.01922384991004883,\n",
              "  0.11249774531024531,\n",
              "  1.5052552552552552,\n",
              "  0.0,\n",
              "  0.0,\n",
              "  0.14179893453427064,\n",
              "  0.2560732323232323,\n",
              "  9.701568469470626,\n",
              "  0.0,\n",
              "  1.344759249704148,\n",
              "  0.0010625,\n",
              "  0.07934253246753246,\n",
              "  0.0,\n",
              "  3.44458269525268,\n",
              "  0.7226199256076444,\n",
              "  1.2307298993935238,\n",
              "  0.0,\n",
              "  0.0,\n",
              "  0.1875980109734135,\n",
              "  0.0,\n",
              "  0.0,\n",
              "  0.0,\n",
              "  2.162767213522247,\n",
              "  0.0,\n",
              "  0.4807177033492823,\n",
              "  0.277954557764177,\n",
              "  8.888620923913043,\n",
              "  9.338114591986077,\n",
              "  0.0,\n",
              "  0.0,\n",
              "  0.0,\n",
              "  1.2142543077727426,\n",
              "  10.356392029341702,\n",
              "  0.0002799736495388669,\n",
              "  0.0,\n",
              "  0.12081113285932563,\n",
              "  0.0,\n",
              "  0.0,\n",
              "  0.0,\n",
              "  0.43737571022727273,\n",
              "  0.4093735653770711,\n",
              "  0.0,\n",
              "  9.799947738647461,\n",
              "  0.0,\n",
              "  0.15807197426618416,\n",
              "  0.013662215628091,\n",
              "  0.4080798794657678,\n",
              "  0.06163793103448276,\n",
              "  0.0,\n",
              "  0.0,\n",
              "  0.0,\n",
              "  0.0,\n",
              "  57.9156,\n",
              "  None,\n",
              "  0.013013048006634907,\n",
              "  0.0,\n",
              "  0.0,\n",
              "  0.0,\n",
              "  0.0036266666666666665,\n",
              "  0.028518331683545266,\n",
              "  0.0003992359719438878,\n",
              "  0.5604755258218223,\n",
              "  1.4739707027910247,\n",
              "  3.558525,\n",
              "  7.592961862627959,\n",
              "  0.473877030901561,\n",
              "  4.9019814814814815,\n",
              "  0.0,\n",
              "  0.0,\n",
              "  13.33826219512195,\n",
              "  None,\n",
              "  0.005085658443190204,\n",
              "  0.0,\n",
              "  3.0801075268817204,\n",
              "  6.773803045717305,\n",
              "  0.48186832740213525,\n",
              "  0.0,\n",
              "  None,\n",
              "  0.2180886526614407,\n",
              "  0.0,\n",
              "  12.763875,\n",
              "  0.32195635660520683,\n",
              "  0.007534626038781163,\n",
              "  0.0,\n",
              "  0.0,\n",
              "  0.0,\n",
              "  0.0,\n",
              "  0.0,\n",
              "  0.0,\n",
              "  0.3112474415828074,\n",
              "  0.0,\n",
              "  1.895439694640346,\n",
              "  0.6274161769689868,\n",
              "  27.353688138784293,\n",
              "  0.16143713089845765,\n",
              "  1.4036423930333504,\n",
              "  25.620576533564815,\n",
              "  1.6628979248152977,\n",
              "  7.995804398148148,\n",
              "  0.0,\n",
              "  0.0,\n",
              "  0.0,\n",
              "  0.0,\n",
              "  0.0,\n",
              "  1.0174497505868545,\n",
              "  0.003445945945945946,\n",
              "  0.43670095736457154,\n",
              "  0.0,\n",
              "  0.02005380794701987,\n",
              "  0.0,\n",
              "  0.752809991593058,\n",
              "  0.0,\n",
              "  0.0,\n",
              "  0.18087457328239098,\n",
              "  0.0,\n",
              "  None,\n",
              "  0.0,\n",
              "  0.19217391304347825,\n",
              "  0.34045321053832117,\n",
              "  0.0,\n",
              "  0.0,\n",
              "  0.06035502958579882,\n",
              "  0.0577423095703125,\n",
              "  0.0,\n",
              "  0.0,\n",
              "  0.0,\n",
              "  0.4499413145539906,\n",
              "  11.936724819408477,\n",
              "  0.0,\n",
              "  3.5711227984344425,\n",
              "  0.3146538475179401,\n",
              "  0.0,\n",
              "  0.0,\n",
              "  0.04959972993827161,\n",
              "  0.0,\n",
              "  0.0,\n",
              "  0.0,\n",
              "  0.012724879333040808,\n",
              "  5.227893905635997,\n",
              "  0.002895358343173767,\n",
              "  0.259883640632553,\n",
              "  0.0,\n",
              "  0.15599030470914127,\n",
              "  None,\n",
              "  0.2633051310043668,\n",
              "  1.6709493670886075,\n",
              "  0.0,\n",
              "  0.026073564662651188,\n",
              "  1.7051398740401313,\n",
              "  0.0,\n",
              "  0.0,\n",
              "  0.02165977961432507,\n",
              "  0.0031548317175646183,\n",
              "  0.019705594089264172,\n",
              "  0.0,\n",
              "  1.766515260180094,\n",
              "  0.0,\n",
              "  0.02649103139013453,\n",
              "  4.907342954159592,\n",
              "  0.0,\n",
              "  0.0,\n",
              "  0.10722695671675264,\n",
              "  0.057812849563744446,\n",
              "  0.3829682581322141,\n",
              "  0.0,\n",
              "  0.0,\n",
              "  0.030859049207673062,\n",
              "  0.00018115942028985507,\n",
              "  0.0,\n",
              "  0.0,\n",
              "  3.675672934058131,\n",
              "  0.26415849953302517,\n",
              "  0.0,\n",
              "  0.0,\n",
              "  0.005217213394257655,\n",
              "  4.306889763779528,\n",
              "  0.0,\n",
              "  8.90394947943335,\n",
              "  0.0,\n",
              "  0.002918243408203125,\n",
              "  0.9848259425311363,\n",
              "  0.0,\n",
              "  5.624184006527948,\n",
              "  0.0,\n",
              "  0.0,\n",
              "  0.0,\n",
              "  None,\n",
              "  0.044101860687022904,\n",
              "  0.0,\n",
              "  0.7993965739125461,\n",
              "  2.9319036989795917,\n",
              "  0.5915811023213666,\n",
              "  1.0710262345679011,\n",
              "  0.0,\n",
              "  0.0,\n",
              "  0.4131944444444444,\n",
              "  0.13823924731182796,\n",
              "  0.0,\n",
              "  0.0491468953564812,\n",
              "  0.07730786721236926,\n",
              "  0.5562218108819772,\n",
              "  0.3649236927695772,\n",
              "  0.28079130624516924,\n",
              "  0.039242843951985226,\n",
              "  0.18254394804613144,\n",
              "  0.0,\n",
              "  46.77215387823186,\n",
              "  0.0,\n",
              "  0.03382291666666667,\n",
              "  0.0,\n",
              "  9.4777125,\n",
              "  0.0,\n",
              "  0.1314748201438849,\n",
              "  0.0,\n",
              "  0.007083333333333333,\n",
              "  4.747388765523481,\n",
              "  0.0,\n",
              "  0.0007632148404880983,\n",
              "  0.11073887958310069,\n",
              "  0.0,\n",
              "  0.0011398176291793312,\n",
              "  0.5006757098323363,\n",
              "  0.017047242030201342,\n",
              "  25.83048,\n",
              "  0.0,\n",
              "  4.533333333333333,\n",
              "  10.826792635658915,\n",
              "  0.22763852242744062,\n",
              "  0.3537707727848573,\n",
              "  0.0,\n",
              "  0.0,\n",
              "  0.0,\n",
              "  3.4047724586288415,\n",
              "  0.0,\n",
              "  13.363493723849372,\n",
              "  9.393130023064183,\n",
              "  38.9160883797054,\n",
              "  0.0,\n",
              "  0.0,\n",
              "  0.0,\n",
              "  0.0,\n",
              "  0.015344745277228398,\n",
              "  0.0,\n",
              "  3.1612162668665666,\n",
              "  0.0,\n",
              "  0.0,\n",
              "  0.06237380799790991,\n",
              "  0.053333118821040436,\n",
              "  0.0,\n",
              "  1.3080445457114596,\n",
              "  0.0,\n",
              "  0.0,\n",
              "  0.18146184126231749,\n",
              "  0.0,\n",
              "  0.0,\n",
              "  0.0,\n",
              "  0.005359588371813469,\n",
              "  0.0,\n",
              "  0.22941747572815535,\n",
              "  0.0,\n",
              "  0.0,\n",
              "  0.0,\n",
              "  0.0,\n",
              "  0.0,\n",
              "  0.0,\n",
              "  0.0483794466403162,\n",
              "  0.001641898678754475,\n",
              "  None,\n",
              "  0.07304144775248103,\n",
              "  3.221084083239595,\n",
              "  0.0,\n",
              "  0.0,\n",
              "  3.115761363901392,\n",
              "  0.0,\n",
              "  1.8940756082572774,\n",
              "  0.0,\n",
              "  2.4281728665207876,\n",
              "  None,\n",
              "  0.0,\n",
              "  0.1763057086798094,\n",
              "  0.0,\n",
              "  0.05493197278911564,\n",
              "  0.0,\n",
              "  0.0,\n",
              "  0.014686632808000418,\n",
              "  46.94924276672695,\n",
              "  0.0,\n",
              "  0.4128748255769453,\n",
              "  0.5886769054451287,\n",
              "  0.0,\n",
              "  0.0,\n",
              "  0.7619347907324364,\n",
              "  0.0,\n",
              "  0.0,\n",
              "  10.513282997762863,\n",
              "  0.0,\n",
              "  0.0,\n",
              "  0.006181998021760633,\n",
              "  9.189126715715359,\n",
              "  0.0,\n",
              "  0.006134760956598159,\n",
              "  6.13762962962963,\n",
              "  0.3386082268370607,\n",
              "  8.893531914893616,\n",
              "  0.07898230088495575,\n",
              "  0.0,\n",
              "  0.27922264356372883,\n",
              "  1.2178441261230717,\n",
              "  2.7856625,\n",
              "  7.771316750028777,\n",
              "  0.0,\n",
              "  0.16772240746757855,\n",
              "  0.0,\n",
              "  25.983870967741936,\n",
              "  1.4913406190878717,\n",
              "  2.6594700631148007,\n",
              "  0.0,\n",
              "  0.07967193907439953,\n",
              "  0.98115234375,\n",
              "  20.44422434367542,\n",
              "  0.0,\n",
              "  0.0,\n",
              "  3.130028709358885,\n",
              "  0.0,\n",
              "  0.0,\n",
              "  0.04336270020913017,\n",
              "  0.26435737527114966,\n",
              "  0.37054091691970825,\n",
              "  1.8845959595959596,\n",
              "  0.0,\n",
              "  0.0,\n",
              "  0.0,\n",
              "  0.0,\n",
              "  0.0,\n",
              "  0.0,\n",
              "  0.40370741482965933,\n",
              "  4.4035976797269285,\n",
              "  3.3564912038592616,\n",
              "  0.0,\n",
              "  0.03696614583333333,\n",
              "  0.10146875,\n",
              "  0.0,\n",
              "  0.0,\n",
              "  0.0003994354645434453,\n",
              "  0.0,\n",
              "  0.0,\n",
              "  0.0,\n",
              "  0.0,\n",
              "  0.0,\n",
              "  0.35508064516129034,\n",
              "  0.0,\n",
              "  0.8549486301369863,\n",
              "  19.54268449804164,\n",
              "  0.0,\n",
              "  0.0,\n",
              "  0.8057312722948871,\n",
              "  2.6572784325730905,\n",
              "  0.0,\n",
              "  0.13158995815899582,\n",
              "  0.5478311088295688,\n",
              "  0.0,\n",
              "  1.6161724137931035,\n",
              "  0.22084327974361342,\n",
              "  0.000869915260019377,\n",
              "  0.0,\n",
              "  0.0,\n",
              "  0.05110874200426439,\n",
              "  0.0,\n",
              "  None,\n",
              "  0.0,\n",
              "  0.0,\n",
              "  0.2419061844017439,\n",
              "  37.859531686667765,\n",
              "  0.0,\n",
              "  0.0077992075535098055,\n",
              "  0.0,\n",
              "  0.0,\n",
              "  0.0008076009501187648,\n",
              "  6.898761378413524,\n",
              "  0.0,\n",
              "  0.001388450271700661,\n",
              "  0.0,\n",
              "  0.00667224169528317,\n",
              "  3.3858333333333333,\n",
              "  0.003893492683930362,\n",
              "  1.2393841394825647,\n",
              "  0.0,\n",
              "  0.0,\n",
              "  0.0,\n",
              "  0.0,\n",
              "  0.00014408000678023562,\n",
              "  0.0,\n",
              "  0.0,\n",
              "  20.080903258504748,\n",
              "  0.0,\n",
              "  0.0,\n",
              "  0.0,\n",
              "  0.0,\n",
              "  1.5508962868117797,\n",
              "  0.0,\n",
              "  0.0,\n",
              "  0.35337023583001786,\n",
              "  0.033616078881942714,\n",
              "  0.039621267297887834,\n",
              "  0.17496438746438747,\n",
              "  0.0,\n",
              "  0.0,\n",
              "  0.42762706043956045,\n",
              "  8.986717631340878e-05,\n",
              "  0.34540592746352994,\n",
              "  0.04512640449438202,\n",
              "  2.6258635330413793,\n",
              "  0.0,\n",
              "  0.0,\n",
              "  0.0,\n",
              "  0.0,\n",
              "  0.8790416666666667,\n",
              "  0.7745903169985766,\n",
              "  None,\n",
              "  0.0,\n",
              "  0.0608147229114971,\n",
              "  0.086990397574124,\n",
              "  0.0,\n",
              "  0.04719292803970224,\n",
              "  0.0,\n",
              "  0.0032727272727272726,\n",
              "  0.0,\n",
              "  0.0,\n",
              "  0.0,\n",
              "  0.0,\n",
              "  0.0,\n",
              "  0.12131675874769797,\n",
              "  0.0,\n",
              "  0.0,\n",
              "  1.3129644268774703,\n",
              "  4.607275254865616,\n",
              "  0.0,\n",
              "  0.0,\n",
              "  0.0,\n",
              "  0.9236585944919278,\n",
              "  0.03162202380952381,\n",
              "  0.0,\n",
              "  41.678035164271044,\n",
              "  3.0767811158798284,\n",
              "  0.018727457192848206,\n",
              "  0.0,\n",
              "  0.0,\n",
              "  0.08146964856230032,\n",
              "  0.0,\n",
              "  0.0,\n",
              "  0.0,\n",
              "  0.2860929743146989,\n",
              "  0.6522326674500587,\n",
              "  9.948155362053162,\n",
              "  2.2330093838266203,\n",
              "  0.0,\n",
              "  0.0,\n",
              "  0.36346038938405617,\n",
              "  9.744964664310954,\n",
              "  0.0,\n",
              "  0.0,\n",
              "  0.000651840490797546,\n",
              "  0.0,\n",
              "  2.395138254853206,\n",
              "  0.0,\n",
              "  0.0,\n",
              "  0.0,\n",
              "  0.7750864055299539,\n",
              "  0.0,\n",
              "  0.5899541859190226,\n",
              "  0.0,\n",
              "  0.0,\n",
              "  0.032865997638724914,\n",
              "  0.0,\n",
              "  3.1681566970091026,\n",
              "  1.8186621717530163,\n",
              "  0.0,\n",
              "  0.0,\n",
              "  0.0,\n",
              "  0.0,\n",
              "  0.09340659340659341,\n",
              "  0.0,\n",
              "  0.0,\n",
              "  2.6424107142857145,\n",
              "  0.0,\n",
              "  0.6304072959715279,\n",
              "  3.9369875,\n",
              "  0.9581238397277227,\n",
              "  None,\n",
              "  0.0,\n",
              "  0.0,\n",
              "  0.15778657571927146,\n",
              "  29.51094677461592,\n",
              "  0.0,\n",
              "  0.0,\n",
              "  0.0,\n",
              "  0.0,\n",
              "  1.2573574969021066,\n",
              "  0.123515625,\n",
              "  0.0,\n",
              "  0.0,\n",
              "  0.0,\n",
              "  0.28423044652535784,\n",
              "  0.20856276203172394,\n",
              "  0.37306141439205953,\n",
              "  0.0,\n",
              "  5.007973333333333,\n",
              "  2.04697265625,\n",
              "  0.0,\n",
              "  0.4362466327446872,\n",
              "  46.5,\n",
              "  0.0,\n",
              "  0.0,\n",
              "  12.479018971267033,\n",
              "  0.0,\n",
              "  0.0,\n",
              "  0.013773017350262581,\n",
              "  0.0,\n",
              "  0.0006429165721201119,\n",
              "  0.07067271352985639,\n",
              "  0.0,\n",
              "  0.0,\n",
              "  0.0,\n",
              "  0.0,\n",
              "  22.00342399691358,\n",
              "  9.77279792746114,\n",
              "  1.0440931503198294,\n",
              "  0.0,\n",
              "  0.0,\n",
              "  7.297116968698517,\n",
              "  0.0,\n",
              "  3.3945198685760336,\n",
              "  0.0,\n",
              "  15.435424740402663,\n",
              "  0.0004743056537233924,\n",
              "  0.0,\n",
              "  0.0,\n",
              "  0.6988501821493625,\n",
              "  0.0,\n",
              "  0.6454404181676909,\n",
              "  0.0,\n",
              "  0.004712701612903226,\n",
              "  0.0,\n",
              "  0.0,\n",
              "  0.0,\n",
              "  0.0,\n",
              "  0.0,\n",
              "  0.0,\n",
              "  0.0,\n",
              "  1.7241220706942944,\n",
              "  0.7232975871313673,\n",
              "  0.0,\n",
              "  0.2503815390273053,\n",
              "  0.0,\n",
              "  ...],\n",
              " 'tomato': [0.03516428332297097,\n",
              "  0.00186767578125,\n",
              "  0.017568550857843136,\n",
              "  0.3425185185185185,\n",
              "  0.0,\n",
              "  0.0,\n",
              "  0.0,\n",
              "  3.631730143229167,\n",
              "  0.0832140417440793,\n",
              "  0.0,\n",
              "  0.0,\n",
              "  0.0,\n",
              "  0.0,\n",
              "  0.0009402238838989426,\n",
              "  0.0,\n",
              "  0.32634604881133755,\n",
              "  0.0,\n",
              "  1.2192953338391501,\n",
              "  None,\n",
              "  0.11761780905752754,\n",
              "  2.3553772617257023,\n",
              "  0.0,\n",
              "  1.1810753052845777,\n",
              "  0.328897998236497,\n",
              "  0.0,\n",
              "  0.0,\n",
              "  0.0,\n",
              "  0.0,\n",
              "  0.01010354482540018,\n",
              "  0.12696875,\n",
              "  0.0,\n",
              "  0.031452178955078125,\n",
              "  0.0,\n",
              "  2.4947839151819253,\n",
              "  None,\n",
              "  0.0,\n",
              "  0.0,\n",
              "  0.8077976013110846,\n",
              "  0.0,\n",
              "  0.07996693224009901,\n",
              "  0.0,\n",
              "  0.0,\n",
              "  0.0,\n",
              "  0.0,\n",
              "  0.08257871064467766,\n",
              "  1.4106466746905935,\n",
              "  0.0,\n",
              "  0.07903978732422387,\n",
              "  0.0,\n",
              "  0.25941154970760233,\n",
              "  0.0,\n",
              "  0.0,\n",
              "  0.0,\n",
              "  0.10088383838383838,\n",
              "  2.6887888581101875,\n",
              "  0.0,\n",
              "  8.887712333857172,\n",
              "  0.0,\n",
              "  0.0,\n",
              "  0.0,\n",
              "  0.06108254219409283,\n",
              "  None,\n",
              "  1.168640010351967,\n",
              "  7.85665625,\n",
              "  0.0,\n",
              "  0.30636516682610565,\n",
              "  5.703753609239653,\n",
              "  0.0,\n",
              "  0.0,\n",
              "  0.0011650219298245613,\n",
              "  0.5638917525773196,\n",
              "  0.0,\n",
              "  0.0,\n",
              "  3.985996642246642,\n",
              "  5.337618070940583,\n",
              "  0.012451171875,\n",
              "  2.2274443368828654,\n",
              "  7.553242074927954,\n",
              "  0.00432783115709945,\n",
              "  0.06403383793410508,\n",
              "  0.01762520960927029,\n",
              "  0.0009826589595375722,\n",
              "  0.014877826787089547,\n",
              "  5.247357293868922,\n",
              "  1.8577573831267284,\n",
              "  0.03324330164217805,\n",
              "  0.0,\n",
              "  0.0,\n",
              "  0.035354640980735555,\n",
              "  12.03224417447723,\n",
              "  0.0,\n",
              "  0.0,\n",
              "  0.0,\n",
              "  0.0,\n",
              "  0.6791312754644017,\n",
              "  0.0,\n",
              "  0.0,\n",
              "  0.0,\n",
              "  0.06808261299617253,\n",
              "  3.1287339768725135,\n",
              "  0.013120489831620381,\n",
              "  0.7620758133286607,\n",
              "  0.0,\n",
              "  0.0,\n",
              "  0.0,\n",
              "  0.0,\n",
              "  0.0,\n",
              "  0.05872100392952212,\n",
              "  0.0,\n",
              "  0.0,\n",
              "  1.5933958333333333,\n",
              "  0.0,\n",
              "  2.55102760427161,\n",
              "  1.6434966378482228,\n",
              "  8.076253687315635,\n",
              "  0.0,\n",
              "  0.0,\n",
              "  0.0,\n",
              "  0.0009298641741930967,\n",
              "  0.5108317436766991,\n",
              "  0.0,\n",
              "  0.5761247376705142,\n",
              "  0.0,\n",
              "  0.7076595046744301,\n",
              "  0.0,\n",
              "  0.3433749794509288,\n",
              "  0.0,\n",
              "  0.0,\n",
              "  4.964082792207792,\n",
              "  1.0140243902439023,\n",
              "  9.223090277777778e-05,\n",
              "  0.0020497627415752818,\n",
              "  0.0007429243015491865,\n",
              "  0.0,\n",
              "  0.7576326753637047,\n",
              "  0.0,\n",
              "  0.0,\n",
              "  0.5549339573536674,\n",
              "  0.037761324041811845,\n",
              "  0.0,\n",
              "  0.0,\n",
              "  0.0,\n",
              "  0.0,\n",
              "  0.0,\n",
              "  0.0,\n",
              "  0.0,\n",
              "  0.0,\n",
              "  0.0,\n",
              "  0.0,\n",
              "  0.0,\n",
              "  0.0,\n",
              "  2.8325482501032013,\n",
              "  0.0,\n",
              "  0.4021931115690315,\n",
              "  0.0,\n",
              "  0.0,\n",
              "  0.017467548035757098,\n",
              "  0.23375,\n",
              "  0.86292,\n",
              "  0.0,\n",
              "  1.0577777777777777,\n",
              "  0.0,\n",
              "  0.0,\n",
              "  0.05656610470275066,\n",
              "  0.0,\n",
              "  0.007638888888888889,\n",
              "  5.792738419618528,\n",
              "  0.4092914998603482,\n",
              "  0.0,\n",
              "  1.3669719910617968,\n",
              "  0.0,\n",
              "  0.0,\n",
              "  1.4929402387413888,\n",
              "  0.738746642793196,\n",
              "  66.09468777103208,\n",
              "  0.0,\n",
              "  0.16747024843578012,\n",
              "  0.00018693918245264209,\n",
              "  0.001020233196159122,\n",
              "  0.008179516038266742,\n",
              "  0.0,\n",
              "  0.0,\n",
              "  0.010438840674635665,\n",
              "  5.23865625,\n",
              "  22.332175925925927,\n",
              "  0.0,\n",
              "  0.0,\n",
              "  0.0,\n",
              "  17.031637717121587,\n",
              "  0.40240442054958186,\n",
              "  0.0,\n",
              "  0.0,\n",
              "  0.0,\n",
              "  0.0,\n",
              "  1.238659712343923,\n",
              "  2.011295218015749,\n",
              "  0.0,\n",
              "  0.008917214157388829,\n",
              "  1.8515833333333334,\n",
              "  14.923389050387597,\n",
              "  0.2759205426356589,\n",
              "  0.0,\n",
              "  3.0347260692522515,\n",
              "  0.028301333958404364,\n",
              "  0.0,\n",
              "  0.0,\n",
              "  0.0,\n",
              "  0.37240528584392013,\n",
              "  0.0,\n",
              "  2.992830797602582,\n",
              "  4.285760150406838,\n",
              "  0.0,\n",
              "  0.0,\n",
              "  0.39562706930471364,\n",
              "  0.0,\n",
              "  0.0,\n",
              "  11.213401109057301,\n",
              "  0.0,\n",
              "  0.0009302325581395349,\n",
              "  0.664587024742224,\n",
              "  0.0011531678198344864,\n",
              "  0.0,\n",
              "  3.1492849920554673,\n",
              "  2.8902397035676812,\n",
              "  0.009130859375,\n",
              "  0.0,\n",
              "  1.1734792703150911,\n",
              "  0.0,\n",
              "  0.0,\n",
              "  0.9620896946564885,\n",
              "  0.07868406125921724,\n",
              "  0.0,\n",
              "  1.5517948717948717,\n",
              "  0.2587352625937835,\n",
              "  0.1481007431874484,\n",
              "  None,\n",
              "  12.614143880208333,\n",
              "  0.02014218009478673,\n",
              "  0.0,\n",
              "  0.5764605912909639,\n",
              "  1.9142603550295858,\n",
              "  0.00016221374045801527,\n",
              "  0.0,\n",
              "  0.03876,\n",
              "  1.9444804765056254,\n",
              "  0.09370659722222222,\n",
              "  0.0,\n",
              "  0.0,\n",
              "  4.021244303385417,\n",
              "  0.0,\n",
              "  21.40199652777778,\n",
              "  0.7573275755093937,\n",
              "  0.0,\n",
              "  0.0,\n",
              "  0.0,\n",
              "  0.0,\n",
              "  0.6387041451678016,\n",
              "  0.0,\n",
              "  0.0,\n",
              "  2.201136029282751,\n",
              "  None,\n",
              "  0.6820403559343277,\n",
              "  0.6196355085243974,\n",
              "  0.0,\n",
              "  0.0,\n",
              "  0.5608715476810839,\n",
              "  0.37908080830740326,\n",
              "  0.90212890625,\n",
              "  2.347859373536977,\n",
              "  0.0,\n",
              "  0.0,\n",
              "  0.015787745887123016,\n",
              "  0.15846428571428572,\n",
              "  0.03248932275777913,\n",
              "  0.00685799907791609,\n",
              "  1.913563455418647,\n",
              "  0.0,\n",
              "  0.0,\n",
              "  0.0,\n",
              "  0.0,\n",
              "  8.000915300546447,\n",
              "  0.6319496268656717,\n",
              "  0.0,\n",
              "  6.243743896484375,\n",
              "  0.20124496257915947,\n",
              "  0.12792397660818713,\n",
              "  0.3239763069791398,\n",
              "  0.18342047562826783,\n",
              "  0.0,\n",
              "  1.3159551986475064,\n",
              "  0.6504048582995952,\n",
              "  9.087859344691964,\n",
              "  0.004397093238083508,\n",
              "  1.2991968715835507,\n",
              "  0.05916,\n",
              "  0.0,\n",
              "  14.002598816598725,\n",
              "  0.01275,\n",
              "  0.001002773298518093,\n",
              "  0.0,\n",
              "  1.4863061797752808,\n",
              "  0.0,\n",
              "  0.6806351183063512,\n",
              "  0.0,\n",
              "  0.0,\n",
              "  0.5852633779264214,\n",
              "  0.0,\n",
              "  2.2953978159126365,\n",
              "  0.011315372424722662,\n",
              "  0.02810483870967742,\n",
              "  0.007723481200138114,\n",
              "  0.0,\n",
              "  0.5427764734455959,\n",
              "  0.3192065928490343,\n",
              "  1.1462475442043223,\n",
              "  0.6888576115897335,\n",
              "  0.07278172138420586,\n",
              "  2.397638640429338,\n",
              "  0.0,\n",
              "  0.30850047755491883,\n",
              "  0.0227340561199769,\n",
              "  0.8783758439609902,\n",
              "  0.0,\n",
              "  0.0,\n",
              "  0.6880956009574439,\n",
              "  2.3480632380157966,\n",
              "  0.09995708154506437,\n",
              "  0.17713779192821869,\n",
              "  0.0,\n",
              "  0.34624373956594323,\n",
              "  1.3338020247469067,\n",
              "  0.0,\n",
              "  0.0,\n",
              "  0.2463048189543916,\n",
              "  0.0,\n",
              "  0.0,\n",
              "  0.9031466218966219,\n",
              "  0.0,\n",
              "  0.0,\n",
              "  0.0,\n",
              "  0.788908313908314,\n",
              "  1.3587629937629937,\n",
              "  None,\n",
              "  0.499375,\n",
              "  0.0,\n",
              "  0.03971104218046833,\n",
              "  0.9134382351898046,\n",
              "  5.638071070192578,\n",
              "  1.6192169952704412,\n",
              "  0.05409090909090909,\n",
              "  0.014432219505569138,\n",
              "  2.091547976011994,\n",
              "  0.03896739410381003,\n",
              "  0.0,\n",
              "  0.0138125,\n",
              "  3.2509720203488373,\n",
              "  0.33909005935215614,\n",
              "  0.0,\n",
              "  0.0002125,\n",
              "  0.3290430375252049,\n",
              "  1.4250155086848635,\n",
              "  None,\n",
              "  0.0,\n",
              "  0.0,\n",
              "  0.34346209794730886,\n",
              "  0.0,\n",
              "  0.039843784425963924,\n",
              "  0.5153215502555366,\n",
              "  24.592314066830436,\n",
              "  0.0,\n",
              "  0.3208478513356562,\n",
              "  0.5961465709860854,\n",
              "  0.0,\n",
              "  0.0,\n",
              "  0.012053571428571429,\n",
              "  2.1132239758065805,\n",
              "  0.0,\n",
              "  0.005422647527910686,\n",
              "  2.758551831915263,\n",
              "  0.0,\n",
              "  0.0,\n",
              "  0.19055956678700361,\n",
              "  5.506359649122807,\n",
              "  0.6618296233680849,\n",
              "  4.491212277091907,\n",
              "  0.0,\n",
              "  0.055003762227238524,\n",
              "  0.8099415204678363,\n",
              "  6.341550925925926,\n",
              "  0.30380835816659574,\n",
              "  4.14824929868048,\n",
              "  0.0019362333806634826,\n",
              "  0.0007571258907363421,\n",
              "  0.0,\n",
              "  0.02680550466430798,\n",
              "  0.13108631270556872,\n",
              "  0.0,\n",
              "  0.7922712053571429,\n",
              "  0.0,\n",
              "  0.6366865553217259,\n",
              "  0.0,\n",
              "  3.0300336826347305,\n",
              "  0.07332183186951066,\n",
              "  0.0,\n",
              "  0.25609727985246655,\n",
              "  3.1455246913580246,\n",
              "  0.0002127127127127127,\n",
              "  0.0006558641975308642,\n",
              "  0.0,\n",
              "  0.6306451612903226,\n",
              "  0.8069522130350194,\n",
              "  0.0,\n",
              "  16.835663910505836,\n",
              "  0.5961038961038961,\n",
              "  0.01836,\n",
              "  1.35721436744034,\n",
              "  0.0,\n",
              "  0.08857368896925859,\n",
              "  0.0,\n",
              "  0.4226183270790461,\n",
              "  0.0,\n",
              "  0.7346542803386642,\n",
              "  0.0,\n",
              "  21.147613065326635,\n",
              "  0.0,\n",
              "  0.35834888940159826,\n",
              "  0.0,\n",
              "  0.00024060235507246378,\n",
              "  0.17056105610561056,\n",
              "  0.0,\n",
              "  None,\n",
              "  0.0,\n",
              "  0.0,\n",
              "  2.3841568587662336,\n",
              "  0.27128038558256495,\n",
              "  0.0,\n",
              "  0.0,\n",
              "  0.13677603423680457,\n",
              "  0.0,\n",
              "  0.0,\n",
              "  0.0,\n",
              "  0.0,\n",
              "  0.6892097107792948,\n",
              "  1.4904331724834474,\n",
              "  0.0,\n",
              "  0.0034,\n",
              "  0.07497301464919044,\n",
              "  0.1571518759018759,\n",
              "  2.6463963963963963,\n",
              "  0.0,\n",
              "  0.0,\n",
              "  0.0,\n",
              "  0.3867929292929293,\n",
              "  4.186455878820461,\n",
              "  0.022745426951034427,\n",
              "  2.0114657055650964,\n",
              "  0.0019125,\n",
              "  0.5892045454545455,\n",
              "  0.0,\n",
              "  0.008677896886166412,\n",
              "  0.5774826845379337,\n",
              "  1.5031786799389977,\n",
              "  0.0,\n",
              "  0.0,\n",
              "  1.4472107173926314,\n",
              "  0.0,\n",
              "  0.0,\n",
              "  0.0,\n",
              "  0.03512614963957246,\n",
              "  0.0,\n",
              "  0.028468899521531102,\n",
              "  2.6103558468287926,\n",
              "  12.079008152173913,\n",
              "  0.34966971243226136,\n",
              "  0.0,\n",
              "  0.0,\n",
              "  0.0,\n",
              "  2.158805185400036,\n",
              "  3.2608991568041743,\n",
              "  0.00727931488801054,\n",
              "  0.0,\n",
              "  0.06642787365678932,\n",
              "  0.0,\n",
              "  0.0005313031303130313,\n",
              "  0.004551207165109034,\n",
              "  0.0012073863636363636,\n",
              "  3.0805892909310963,\n",
              "  0.0,\n",
              "  0.0040531158447265625,\n",
              "  0.0,\n",
              "  0.5626507840772015,\n",
              "  0.19904797230464885,\n",
              "  0.4587280914561999,\n",
              "  0.03706896551724138,\n",
              "  0.0,\n",
              "  0.0,\n",
              "  0.0010979547900968783,\n",
              "  0.0,\n",
              "  0.08058,\n",
              "  None,\n",
              "  2.772291550137906,\n",
              "  0.032742367690688105,\n",
              "  2.301564027370479,\n",
              "  0.0,\n",
              "  0.03102814814814815,\n",
              "  0.0,\n",
              "  0.0,\n",
              "  0.3448181024346977,\n",
              "  1.9129158512720157,\n",
              "  0.039160714285714285,\n",
              "  0.45541759507432644,\n",
              "  0.07220983328023786,\n",
              "  6.913175925925926,\n",
              "  0.0,\n",
              "  0.0,\n",
              "  9.271341463414634,\n",
              "  None,\n",
              "  0.02847968728186514,\n",
              "  0.0,\n",
              "  0.0,\n",
              "  3.338134162979787,\n",
              "  0.09256227758007117,\n",
              "  0.0,\n",
              "  None,\n",
              "  0.08484717034378816,\n",
              "  0.0,\n",
              "  4.45125,\n",
              "  0.5595349078102341,\n",
              "  0.04096952908587258,\n",
              "  0.0,\n",
              "  0.0,\n",
              "  0.0,\n",
              "  0.0,\n",
              "  0.0,\n",
              "  0.0,\n",
              "  1.249067243731878,\n",
              "  0.0,\n",
              "  0.6248480074436702,\n",
              "  0.18529528339278636,\n",
              "  0.29491662183969874,\n",
              "  0.07797718020755691,\n",
              "  0.740664851311639,\n",
              "  16.791097005208332,\n",
              "  1.95207246849196,\n",
              "  0.9134548611111111,\n",
              "  17.323451327433627,\n",
              "  0.17467849794238682,\n",
              "  0.0,\n",
              "  0.00041168441080292184,\n",
              "  0.0,\n",
              "  0.011379474765258217,\n",
              "  0.0005743243243243243,\n",
              "  0.7490634477017304,\n",
              "  0.0,\n",
              "  0.0,\n",
              "  0.0,\n",
              "  0.6422241544113413,\n",
              "  0.0,\n",
              "  0.0,\n",
              "  1.1133514570569485,\n",
              "  0.0,\n",
              "  None,\n",
              "  0.0,\n",
              "  0.8068840579710145,\n",
              "  0.5890222257071168,\n",
              "  0.0,\n",
              "  0.0,\n",
              "  0.4140355029585799,\n",
              "  0.0129180908203125,\n",
              "  0.008269823252797147,\n",
              "  0.0,\n",
              "  0.0,\n",
              "  0.46011737089201876,\n",
              "  9.719767956930626,\n",
              "  0.0,\n",
              "  5.366086717221135,\n",
              "  0.5757976994100749,\n",
              "  0.0,\n",
              "  0.12729468599033816,\n",
              "  0.2447193287037037,\n",
              "  0.0,\n",
              "  0.0,\n",
              "  0.0,\n",
              "  0.4576568670469504,\n",
              "  19.90025736603938,\n",
              "  0.0,\n",
              "  0.5834541813410676,\n",
              "  0.0,\n",
              "  0.16638965835641736,\n",
              "  None,\n",
              "  0.0,\n",
              "  1.8207753164556961,\n",
              "  0.0,\n",
              "  0.35535311839200895,\n",
              "  4.2572918628251,\n",
              "  0.012402534484863281,\n",
              "  0.0,\n",
              "  0.38109504132231403,\n",
              "  0.0,\n",
              "  0.0,\n",
              "  0.0,\n",
              "  0.0,\n",
              "  0.0,\n",
              "  0.02782511210762332,\n",
              "  0.017750424448217318,\n",
              "  0.10311435868331442,\n",
              "  0.0,\n",
              "  3.125784929356358,\n",
              "  0.08200765444724983,\n",
              "  0.6873360440713536,\n",
              "  0.0,\n",
              "  0.0,\n",
              "  0.08861551292743954,\n",
              "  0.00036231884057971015,\n",
              "  0.0,\n",
              "  0.0,\n",
              "  3.192692452278518,\n",
              "  0.5848416423327462,\n",
              "  0.0,\n",
              "  0.0,\n",
              "  0.04782445611402851,\n",
              "  5.414327896512936,\n",
              "  0.0,\n",
              "  5.319761051373955,\n",
              "  0.0,\n",
              "  7.3123884201049805,\n",
              "  0.82127601134156,\n",
              "  0.017661305508119656,\n",
              "  19.669905140758875,\n",
              "  0.0,\n",
              "  0.0,\n",
              "  0.0,\n",
              "  None,\n",
              "  0.0,\n",
              "  0.018115210803252988,\n",
              "  0.06520433551634398,\n",
              "  1.2544005102040816,\n",
              "  0.13780169625581853,\n",
              "  0.8495627572016461,\n",
              "  0.0,\n",
              "  0.004089612090719673,\n",
              "  0.0640451388888889,\n",
              "  0.00114247311827957,\n",
              "  0.0006615815691158157,\n",
              "  0.30688235821430704,\n",
              "  1.4502955889040472,\n",
              "  2.4509216049221787,\n",
              "  0.3923567675756818,\n",
              "  0.5358846675862885,\n",
              "  0.0030186803039988636,\n",
              "  3.530578882543948,\n",
              "  0.0,\n",
              "  0.03633236030025021,\n",
              "  0.0,\n",
              "  6.788489583333333,\n",
              "  0.0,\n",
              "  2.0040875,\n",
              "  0.0,\n",
              "  57.48507194244604,\n",
              "  0.005943640304873785,\n",
              "  0.004958333333333334,\n",
              "  1.9004235545686323,\n",
              "  0.0,\n",
              "  0.002289644521464295,\n",
              "  0.050790012440369486,\n",
              "  0.0,\n",
              "  0.7631079027355623,\n",
              "  2.3433616985424215,\n",
              "  8.46011168204698,\n",
              "  0.5245066666666667,\n",
              "  0.5698602982982605,\n",
              "  3.973642676767677,\n",
              "  20.94731104651163,\n",
              "  0.2940798153034301,\n",
              "  0.0,\n",
              "  0.0,\n",
              "  0.0,\n",
              "  0.0,\n",
              "  0.33130910165484634,\n",
              "  0.004657023887793118,\n",
              "  24.985297536029755,\n",
              "  0.36898883368386826,\n",
              "  6.686759410801964,\n",
              "  0.0008955286779889586,\n",
              "  0.0,\n",
              "  0.0,\n",
              "  0.0,\n",
              "  0.22096433199208892,\n",
              "  0.001970329160871581,\n",
              "  0.0,\n",
              "  0.0,\n",
              "  0.0,\n",
              "  7.86893653731338,\n",
              "  14.47789048611167,\n",
              "  0.0,\n",
              "  0.9023067684046913,\n",
              "  0.0,\n",
              "  0.0,\n",
              "  4.405131775309858,\n",
              "  0.2855392156862745,\n",
              "  0.0,\n",
              "  0.0,\n",
              "  0.04541545936115624,\n",
              "  0.0,\n",
              "  0.07518878101402374,\n",
              "  0.05541383219954649,\n",
              "  0.7460762607626076,\n",
              "  0.0,\n",
              "  0.0,\n",
              "  0.0,\n",
              "  0.0,\n",
              "  0.15185770750988142,\n",
              "  0.06436242820717542,\n",
              "  None,\n",
              "  0.22051371862230007,\n",
              "  0.8630750843644545,\n",
              "  0.030964712078651684,\n",
              "  0.0,\n",
              "  0.0002973622221703944,\n",
              "  0.0,\n",
              "  0.5377017092655393,\n",
              "  0.0,\n",
              "  0.012461706783369803,\n",
              "  None,\n",
              "  0.0,\n",
              "  0.4907969728113613,\n",
              "  0.0,\n",
              "  0.0,\n",
              "  0.0,\n",
              "  0.0,\n",
              "  0.009791088538666946,\n",
              "  0.7639240506329114,\n",
              "  0.0,\n",
              "  1.182573591319178,\n",
              "  0.6115435592805151,\n",
              "  0.0,\n",
              "  0.0,\n",
              "  0.22830250373692076,\n",
              "  0.0011805555555555556,\n",
              "  0.0,\n",
              "  3.8964275727069353,\n",
              "  0.0,\n",
              "  0.04513531111125159,\n",
              "  0.025717111770524232,\n",
              "  0.35660426802737233,\n",
              "  0.0,\n",
              "  0.499441715525403,\n",
              "  2.590611111111111,\n",
              "  0.4111671325878594,\n",
              "  1.1531063829787234,\n",
              "  0.49787057522123895,\n",
              "  0.0,\n",
              "  0.0057048894258196585,\n",
              "  6.5350059332090185,\n",
              "  4.555575,\n",
              "  0.5826436000549559,\n",
              "  0.0,\n",
              "  0.9291097392088884,\n",
              "  0.0,\n",
              "  18.686290322580646,\n",
              "  0.0038491728052167614,\n",
              "  0.8061636436003866,\n",
              "  0.8907705627705628,\n",
              "  0.002489748096074985,\n",
              "  1.33775390625,\n",
              "  0.11035799522673032,\n",
              "  0.05835240274599542,\n",
              "  0.0,\n",
              "  4.166960008045935,\n",
              "  0.0,\n",
              "  0.0,\n",
              "  0.050742287727139665,\n",
              "  0.0,\n",
              "  0.001671910285949707,\n",
              "  7.934639877031182,\n",
              "  0.0,\n",
              "  0.0,\n",
              "  0.0,\n",
              "  0.0,\n",
              "  0.0,\n",
              "  0.0,\n",
              "  0.02086673346693387,\n",
              "  0.04146336355831047,\n",
              "  3.652550940815053,\n",
              "  0.0,\n",
              "  5.5338541666666664e-05,\n",
              "  0.17478125,\n",
              "  0.0020876313979762257,\n",
              "  0.0,\n",
              "  1.2734002609645034,\n",
              "  0.06958340913225396,\n",
              "  0.0,\n",
              "  0.09207589285714286,\n",
              "  0.0,\n",
              "  0.0,\n",
              "  0.6059677419354839,\n",
              "  0.0,\n",
              "  4.2336986301369866,\n",
              "  3.0884997938569367,\n",
              "  0.0,\n",
              "  0.0,\n",
              "  0.04285374554102259,\n",
              "  3.24276748813715,\n",
              "  0.0,\n",
              "  5.3459902370990235,\n",
              "  0.007636036960985627,\n",
              "  0.0,\n",
              "  2.8313793103448277,\n",
              "  6.072629677010934,\n",
              "  0.12004830588267401,\n",
              "  0.0,\n",
              "  0.0,\n",
              "  1.2215351812366737,\n",
              "  0.0,\n",
              "  None,\n",
              "  0.0,\n",
              "  3.4622947936210133,\n",
              "  0.20330413369933797,\n",
              "  8.03861684201874,\n",
              "  0.0001700099739184699,\n",
              "  0.08666258420494002,\n",
              "  0.0,\n",
              "  0.004477611940298508,\n",
              "  0.0052494061757719715,\n",
              "  1.5069538361508452,\n",
              "  0.0,\n",
              "  0.003316853426840468,\n",
              "  0.0,\n",
              "  0.003336120847641585,\n",
              "  1.668125,\n",
              "  4.221365752050814,\n",
              "  0.04979846269216348,\n",
              "  0.09557358383148307,\n",
              "  0.0007780551824196143,\n",
              "  1.279421965317919,\n",
              "  0.0,\n",
              "  0.0005763200271209425,\n",
              "  0.008617511520737328,\n",
              "  0.0,\n",
              "  0.00015760977056962025,\n",
              "  0.0,\n",
              "  0.0,\n",
              "  0.0,\n",
              "  0.0,\n",
              "  4.879545870262899,\n",
              "  0.0,\n",
              "  0.0,\n",
              "  0.0,\n",
              "  0.03499158709966692,\n",
              "  0.0,\n",
              "  0.0018162393162393163,\n",
              "  0.0,\n",
              "  0.0,\n",
              "  0.2524896978021978,\n",
              "  0.24661799859807204,\n",
              "  0.0004901112840915643,\n",
              "  0.06357092696629213,\n",
              "  2.6140438376279773,\n",
              "  0.0,\n",
              "  0.0,\n",
              "  0.0,\n",
              "  0.0,\n",
              "  18.7966875,\n",
              "  6.1644479394470055,\n",
              "  None,\n",
              "  0.0,\n",
              "  0.0,\n",
              "  0.015393362533692723,\n",
              "  0.0,\n",
              "  0.43765508684863524,\n",
              "  8.418211775043936,\n",
              "  0.017727272727272727,\n",
              "  0.0,\n",
              "  0.0,\n",
              "  0.0,\n",
              "  0.0,\n",
              "  0.0,\n",
              "  0.016088602414569265,\n",
              "  0.0,\n",
              "  2.4097967804389326,\n",
              "  1.097608695652174,\n",
              "  1.5436746987951808,\n",
              "  0.0,\n",
              "  0.0,\n",
              "  3.362913595062575,\n",
              "  2.6960054605887938,\n",
              "  0.23647774327122154,\n",
              "  0.0,\n",
              "  0.19799152977412732,\n",
              "  1.141480686695279,\n",
              "  0.0,\n",
              "  0.57640625,\n",
              "  0.0,\n",
              "  0.0,\n",
              "  0.0,\n",
              "  0.0,\n",
              "  0.0,\n",
              "  0.5297593352039716,\n",
              "  0.42025558166862514,\n",
              "  0.2990688275977002,\n",
              "  0.6272338460302799,\n",
              "  0.0,\n",
              "  0.0,\n",
              "  0.03174326544838919,\n",
              "  7.353401060070671,\n",
              "  0.0,\n",
              "  0.0,\n",
              "  115.6519299591002,\n",
              "  0.0,\n",
              "  1.3367077521789243,\n",
              "  0.0,\n",
              "  0.5896588868940754,\n",
              "  0.6640950920245399,\n",
              "  2.552611367127496,\n",
              "  0.0,\n",
              "  1.197382332210823,\n",
              "  0.0,\n",
              "  0.0,\n",
              "  0.2709563164108619,\n",
              "  0.0,\n",
              "  0.5342436064152579,\n",
              "  0.005429382540809084,\n",
              "  0.0,\n",
              "  0.2125,\n",
              "  0.0,\n",
              "  0.0,\n",
              "  0.8541514041514041,\n",
              "  0.0,\n",
              "  0.0,\n",
              "  0.15033482142857144,\n",
              "  0.0,\n",
              "  2.098704005057541,\n",
              "  0.0036125,\n",
              "  0.19823251856435645,\n",
              "  None,\n",
              "  0.0,\n",
              "  0.08128339857391134,\n",
              "  0.0004504970041949221,\n",
              "  0.38668192431913406,\n",
              "  0.0,\n",
              "  0.0,\n",
              "  0.0,\n",
              "  0.0,\n",
              "  0.6969776177199505,\n",
              "  0.0,\n",
              "  0.0,\n",
              "  0.0,\n",
              "  0.0,\n",
              "  0.1795961612660228,\n",
              "  2.7540137947023706,\n",
              "  0.5623604218362283,\n",
              "  0.0,\n",
              "  0.8654133333333334,\n",
              "  0.01162109375,\n",
              "  0.0,\n",
              "  3.7803052978150253,\n",
              "  0.545697012802276,\n",
              "  0.18045296912648906,\n",
              "  0.00018256013745704468,\n",
              "  0.0,\n",
              "  0.0,\n",
              "  0.0,\n",
              "  26.091392175762813,\n",
              "  0.0,\n",
              "  0.0,\n",
              "  0.03975340136054422,\n",
              "  0.0,\n",
              "  0.0,\n",
              "  0.00025347912524850897,\n",
              "  0.0,\n",
              "  15.416907793209877,\n",
              "  4.3891709844559585,\n",
              "  0.7476012793176973,\n",
              "  0.0,\n",
              "  0.0,\n",
              "  1.2503191927512356,\n",
              "  0.8402340710535906,\n",
              "  2.0302833054367366,\n",
              "  0.0,\n",
              "  0.07944170416995402,\n",
              "  0.05881390106170065,\n",
              "  0.0,\n",
              "  0.04120791675168333,\n",
              "  8.86577868852459,\n",
              "  0.0,\n",
              "  2.1440630076993714,\n",
              "  0.0,\n",
              "  0.010924899193548387,\n",
              "  0.0,\n",
              "  0.009246309246309247,\n",
              "  0.0,\n",
              "  0.0,\n",
              "  0.0,\n",
              "  0.0,\n",
              "  0.07435578661844484,\n",
              "  1.4778189177379666,\n",
              "  1.003592493297587,\n",
              "  0.0,\n",
              "  0.0,\n",
              "  0.0,\n",
              "  ...]}"
            ]
          },
          "metadata": {},
          "execution_count": 15
        }
      ]
    },
    {
      "cell_type": "code",
      "metadata": {
        "id": "YFB9tIbas1Jt"
      },
      "source": [
        "for key in more_colDic:\n",
        "    data[key] = more_colDic[key]\n",
        "# save new data frame to json file\n",
        "data.to_json(r'/content/drive/MyDrive/case_study_2/input/dank_cleaned_1.json')"
      ],
      "execution_count": 17,
      "outputs": []
    }
  ]
}
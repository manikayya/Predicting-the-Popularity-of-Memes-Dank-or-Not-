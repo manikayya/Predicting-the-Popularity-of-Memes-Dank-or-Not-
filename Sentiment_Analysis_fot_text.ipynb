{
  "nbformat": 4,
  "nbformat_minor": 0,
  "metadata": {
    "colab": {
      "name": "Sentiment_Analysis_fot_text.ipynb",
      "provenance": [],
      "collapsed_sections": [],
      "machine_shape": "hm"
    },
    "kernelspec": {
      "name": "python3",
      "display_name": "Python 3"
    },
    "language_info": {
      "name": "python"
    },
    "accelerator": "GPU"
  },
  "cells": [
    {
      "cell_type": "code",
      "metadata": {
        "colab": {
          "base_uri": "https://localhost:8080/"
        },
        "id": "Iryeg0XuKKgd",
        "outputId": "59468c6c-b339-43e3-a179-a670f6818e7e"
      },
      "source": [
        "import pandas as pd\n",
        "\n",
        "# Source https://towardsdatascience.com/nlp-extracting-the-main-topics-from-your-dataset-using-lda-in-minutes-21486f5aa925\n",
        "'''\n",
        "Loading Gensim and nltk libraries\n",
        "'''\n",
        "import warnings\n",
        "warnings.filterwarnings('ignore')\n",
        "from pylab import rcParams\n",
        "import gensim\n",
        "from gensim.utils import simple_preprocess\n",
        "from gensim.parsing.preprocessing import STOPWORDS\n",
        "from nltk.stem import WordNetLemmatizer, SnowballStemmer\n",
        "from nltk.stem.porter import *\n",
        "import numpy as np\n",
        "np.random.seed(400)\n",
        "from nltk.corpus import stopwords\n",
        "import nltk\n",
        "import string\n",
        "nltk.download('stopwords')\n",
        "nltk.download('wordnet')\n",
        "nltk.download('punkt')\n",
        "nltk.download('averaged_perceptron_tagger')\n",
        "import seaborn as sns\n",
        "import matplotlib.pyplot as plt\n",
        "sns.set(color_codes=True)\n",
        "from tqdm import tqdm"
      ],
      "execution_count": null,
      "outputs": [
        {
          "output_type": "stream",
          "text": [
            "[nltk_data] Downloading package stopwords to /root/nltk_data...\n",
            "[nltk_data]   Package stopwords is already up-to-date!\n",
            "[nltk_data] Downloading package wordnet to /root/nltk_data...\n",
            "[nltk_data]   Package wordnet is already up-to-date!\n",
            "[nltk_data] Downloading package punkt to /root/nltk_data...\n",
            "[nltk_data]   Package punkt is already up-to-date!\n",
            "[nltk_data] Downloading package averaged_perceptron_tagger to\n",
            "[nltk_data]     /root/nltk_data...\n",
            "[nltk_data]   Package averaged_perceptron_tagger is already up-to-\n",
            "[nltk_data]       date!\n"
          ],
          "name": "stdout"
        }
      ]
    },
    {
      "cell_type": "code",
      "metadata": {
        "id": "rTYOo7hPRrN5"
      },
      "source": [
        "data = pd.read_csv('/content/drive/MyDrive/case_study_2/input/data_7.csv')"
      ],
      "execution_count": null,
      "outputs": []
    },
    {
      "cell_type": "code",
      "metadata": {
        "colab": {
          "base_uri": "https://localhost:8080/"
        },
        "id": "TuBVd6wx2h2U",
        "outputId": "f8ca72ff-1e54-4fb0-c363-44d139cd2444"
      },
      "source": [
        "data.columns"
      ],
      "execution_count": null,
      "outputs": [
        {
          "output_type": "execute_result",
          "data": {
            "text/plain": [
              "Index(['created_utc', 'id', 'is_nsfw', 'media', 'subreddit', 'subscribers',\n",
              "       'thumbnail.height', 'thumbnail.thumbnail', 'thumbnail.width', 'title',\n",
              "       'ups', 'text_from_meme', 'text_words', 'processed_words', 'url',\n",
              "       'upvote ratio', 'dank_level', 'Time_of_day', 'stop_words', 'word_count',\n",
              "       'char_count'],\n",
              "      dtype='object')"
            ]
          },
          "metadata": {},
          "execution_count": 3
        }
      ]
    },
    {
      "cell_type": "code",
      "metadata": {
        "colab": {
          "base_uri": "https://localhost:8080/"
        },
        "id": "TBWJnHVgZ7ER",
        "outputId": "5b8f0a70-faec-4f19-9f21-a1269f72fa1c"
      },
      "source": [
        "data['Text'] = 'Empty'\n",
        "data['Sentiment'] = 0.0\n",
        "for ind in tqdm(data.index):\n",
        "    words = data['processed_words'][ind]\n",
        "    memetext = (''.join(word.replace(\"'\",\"\") for word in words[1:].split(',')))[:-1]\n",
        "    data['Text'][ind] = memetext\n",
        "    memetext = memetext[:0]"
      ],
      "execution_count": null,
      "outputs": [
        {
          "output_type": "stream",
          "text": [
            "100%|██████████| 30000/30000 [00:07<00:00, 4168.74it/s]\n"
          ],
          "name": "stderr"
        }
      ]
    },
    {
      "cell_type": "code",
      "metadata": {
        "colab": {
          "base_uri": "https://localhost:8080/"
        },
        "id": "FQQmaMD7ISJX",
        "outputId": "987bf4a3-dec8-4a6d-aba6-e6c830f693fd"
      },
      "source": [
        "data.Text"
      ],
      "execution_count": null,
      "outputs": [
        {
          "output_type": "execute_result",
          "data": {
            "text/plain": [
              "0        invest mudders credit card meetin purchase hsi...\n",
              "1                                    invest security mucch\n",
              "2        invest jontron slice price half bargain sure g...\n",
              "3                                      invest elmo vietnam\n",
              "4                                      invest woman statue\n",
              "                               ...                        \n",
              "29995                amltheasshole users fact asshole fuck\n",
              "29996    powerful hahaha gamer innocent beat_ esports b...\n",
              "29997    brit scar invade counter aspirin america count...\n",
              "29998                   take joke seriously start argument\n",
              "29999        like freshman week break covid junior mematic\n",
              "Name: Text, Length: 30000, dtype: object"
            ]
          },
          "metadata": {},
          "execution_count": 7
        }
      ]
    },
    {
      "cell_type": "code",
      "metadata": {
        "colab": {
          "base_uri": "https://localhost:8080/"
        },
        "id": "yzWjk21Ji85b",
        "outputId": "7920b54e-3ef3-473b-f6f8-f5729eaa464b"
      },
      "source": [
        "from numpy import loadtxt\n",
        "from keras.models import load_model\n",
        " \n",
        "# load model\n",
        "LSTM_model = load_model('/content/drive/MyDrive/best_model.hdf5')\n",
        "# summarize model.\n",
        "LSTM_model.summary()"
      ],
      "execution_count": null,
      "outputs": [
        {
          "output_type": "stream",
          "text": [
            "WARNING:tensorflow:Layer lstm_1 will not use cuDNN kernels since it doesn't meet the criteria. It will use a generic GPU kernel as fallback when running on GPU.\n",
            "WARNING:tensorflow:Layer lstm_1 will not use cuDNN kernels since it doesn't meet the criteria. It will use a generic GPU kernel as fallback when running on GPU.\n",
            "WARNING:tensorflow:Layer lstm_1 will not use cuDNN kernels since it doesn't meet the criteria. It will use a generic GPU kernel as fallback when running on GPU.\n",
            "Model: \"sequential\"\n",
            "_________________________________________________________________\n",
            "Layer (type)                 Output Shape              Param #   \n",
            "=================================================================\n",
            "embedding_1 (Embedding)      (None, 56, 100)           40000100  \n",
            "_________________________________________________________________\n",
            "bidirectional_1 (Bidirection (None, 256)               234496    \n",
            "_________________________________________________________________\n",
            "dense_1 (Dense)              (None, 512)               131584    \n",
            "_________________________________________________________________\n",
            "dropout_1 (Dropout)          (None, 512)               0         \n",
            "_________________________________________________________________\n",
            "dense_2 (Dense)              (None, 10)                5130      \n",
            "=================================================================\n",
            "Total params: 40,371,310\n",
            "Trainable params: 371,210\n",
            "Non-trainable params: 40,000,100\n",
            "_________________________________________________________________\n"
          ],
          "name": "stdout"
        }
      ]
    },
    {
      "cell_type": "code",
      "metadata": {
        "id": "IOHcqt7SmtkP"
      },
      "source": [
        "from nltk.tokenize import RegexpTokenizer"
      ],
      "execution_count": null,
      "outputs": []
    },
    {
      "cell_type": "code",
      "metadata": {
        "id": "l1LfUF_BrPpZ"
      },
      "source": [
        "import json\n",
        "word_idx = json.load(open(\"/content/drive/MyDrive/Data_word_idx.txt\"))"
      ],
      "execution_count": null,
      "outputs": []
    },
    {
      "cell_type": "code",
      "metadata": {
        "id": "vfz30OeSi0yh"
      },
      "source": [
        "def live_analyses(trained_model, data, word_idx):\n",
        "    live_list = []\n",
        "    live_list_np = np.zeros((56,1))\n",
        "    # split the sentence into its words and remove any punctuations.\n",
        "    tokenizer = RegexpTokenizer(r'\\w+')\n",
        "    data_sample_list = tokenizer.tokenize(data)\n",
        "    labels = np.array(['1','2','3','4','5','6','7','8','9','10'], dtype = \"int\")\n",
        "    # get index for the live stage\n",
        "    data_index = np.array([word_idx[word.lower()] if word.lower() in word_idx else 0 for word in data_sample_list])\n",
        "    data_index_np = np.array(data_index)\n",
        "    # padded with zeros of length 56 i.e maximum length\n",
        "    padded_array = np.zeros(56)\n",
        "    padded_array[:data_index_np.shape[0]] = data_index_np\n",
        "    data_index_np_pad = padded_array.astype(int)\n",
        "    live_list.append(data_index_np_pad)\n",
        "    live_list_np = np.asarray(live_list)\n",
        "    # get score from the model\n",
        "    score = trained_model.predict(live_list_np, batch_size=1, verbose=0)\n",
        "    single_score = np.round(np.argmax(score)/10, decimals=2) # maximum of the array i.e single band\n",
        "    # weighted score of top 3 bands\n",
        "    top_3_index = np.argsort(score)[0][-3:]\n",
        "    top_3_scores = score[0][top_3_index]\n",
        "    top_3_weights = top_3_scores/np.sum(top_3_scores)\n",
        "    single_score_dot = np.round(np.dot(top_3_index, top_3_weights)/10, decimals = 2)\n",
        "    return single_score_dot, single_score"
      ],
      "execution_count": null,
      "outputs": []
    },
    {
      "cell_type": "code",
      "metadata": {
        "colab": {
          "base_uri": "https://localhost:8080/"
        },
        "id": "--wE1m-eaPwR",
        "outputId": "faeee2ef-8842-4fc0-f5d3-6c83e73550cf"
      },
      "source": [
        "for ind in tqdm(data.index):\n",
        "    text = data['Text'][ind][:250]\n",
        "    result = np.array(live_analyses(LSTM_model,text, word_idx))[0]\n",
        "    data['Sentiment'][ind] = result"
      ],
      "execution_count": null,
      "outputs": [
        {
          "output_type": "stream",
          "text": [
            "100%|██████████| 30000/30000 [29:03<00:00, 17.21it/s]\n"
          ],
          "name": "stderr"
        }
      ]
    },
    {
      "cell_type": "code",
      "metadata": {
        "colab": {
          "base_uri": "https://localhost:8080/"
        },
        "id": "wtKbUVFKxZDU",
        "outputId": "471f5562-2138-459f-b7b9-70e2ca822c26"
      },
      "source": [
        "list(data)"
      ],
      "execution_count": null,
      "outputs": [
        {
          "output_type": "execute_result",
          "data": {
            "text/plain": [
              "['created_utc',\n",
              " 'id',\n",
              " 'is_nsfw',\n",
              " 'media',\n",
              " 'subreddit',\n",
              " 'subscribers',\n",
              " 'thumbnail.height',\n",
              " 'thumbnail.thumbnail',\n",
              " 'thumbnail.width',\n",
              " 'title',\n",
              " 'ups',\n",
              " 'text_from_meme',\n",
              " 'text_words',\n",
              " 'processed_words',\n",
              " 'Text',\n",
              " 'url',\n",
              " 'upvote ratio',\n",
              " 'dank_level',\n",
              " 'Time_of_day',\n",
              " 'stop_words',\n",
              " 'word_count',\n",
              " 'char_count',\n",
              " 'Sentiment']"
            ]
          },
          "metadata": {},
          "execution_count": 14
        }
      ]
    },
    {
      "cell_type": "code",
      "metadata": {
        "id": "cCB5TK-qlMnJ"
      },
      "source": [
        "data = data.drop(['stop_words','word_count','char_count','text_from_meme'],axis=1)"
      ],
      "execution_count": null,
      "outputs": []
    },
    {
      "cell_type": "code",
      "metadata": {
        "colab": {
          "base_uri": "https://localhost:8080/"
        },
        "id": "nHqsrSYC0N1z",
        "outputId": "944a2ffa-250e-4769-8525-a61af271ff41"
      },
      "source": [
        "list(data)"
      ],
      "execution_count": null,
      "outputs": [
        {
          "output_type": "execute_result",
          "data": {
            "text/plain": [
              "['created_utc',\n",
              " 'id',\n",
              " 'is_nsfw',\n",
              " 'media',\n",
              " 'subreddit',\n",
              " 'subscribers',\n",
              " 'thumbnail.height',\n",
              " 'thumbnail.thumbnail',\n",
              " 'thumbnail.width',\n",
              " 'title',\n",
              " 'ups',\n",
              " 'text_words',\n",
              " 'processed_words',\n",
              " 'Text',\n",
              " 'url',\n",
              " 'upvote ratio',\n",
              " 'dank_level',\n",
              " 'Time_of_day',\n",
              " 'Sentiment']"
            ]
          },
          "metadata": {},
          "execution_count": 16
        }
      ]
    },
    {
      "cell_type": "code",
      "metadata": {
        "colab": {
          "base_uri": "https://localhost:8080/",
          "height": 205
        },
        "id": "u7FRoF13yNTS",
        "outputId": "be1378c3-ae64-423e-ef81-8f191193026f"
      },
      "source": [
        "data['word_count'] = data['Text'].apply(lambda x: len(str(x).split(\" \")))\n",
        "data[['Text','word_count']].head()"
      ],
      "execution_count": null,
      "outputs": [
        {
          "output_type": "execute_result",
          "data": {
            "text/html": [
              "<div>\n",
              "<style scoped>\n",
              "    .dataframe tbody tr th:only-of-type {\n",
              "        vertical-align: middle;\n",
              "    }\n",
              "\n",
              "    .dataframe tbody tr th {\n",
              "        vertical-align: top;\n",
              "    }\n",
              "\n",
              "    .dataframe thead th {\n",
              "        text-align: right;\n",
              "    }\n",
              "</style>\n",
              "<table border=\"1\" class=\"dataframe\">\n",
              "  <thead>\n",
              "    <tr style=\"text-align: right;\">\n",
              "      <th></th>\n",
              "      <th>Text</th>\n",
              "      <th>word_count</th>\n",
              "    </tr>\n",
              "  </thead>\n",
              "  <tbody>\n",
              "    <tr>\n",
              "      <th>0</th>\n",
              "      <td>invest mudders credit card meetin purchase hsi...</td>\n",
              "      <td>10</td>\n",
              "    </tr>\n",
              "    <tr>\n",
              "      <th>1</th>\n",
              "      <td>invest security mucch</td>\n",
              "      <td>3</td>\n",
              "    </tr>\n",
              "    <tr>\n",
              "      <th>2</th>\n",
              "      <td>invest jontron slice price half bargain sure g...</td>\n",
              "      <td>13</td>\n",
              "    </tr>\n",
              "    <tr>\n",
              "      <th>3</th>\n",
              "      <td>invest elmo vietnam</td>\n",
              "      <td>3</td>\n",
              "    </tr>\n",
              "    <tr>\n",
              "      <th>4</th>\n",
              "      <td>invest woman statue</td>\n",
              "      <td>3</td>\n",
              "    </tr>\n",
              "  </tbody>\n",
              "</table>\n",
              "</div>"
            ],
            "text/plain": [
              "                                                Text  word_count\n",
              "0  invest mudders credit card meetin purchase hsi...          10\n",
              "1                              invest security mucch           3\n",
              "2  invest jontron slice price half bargain sure g...          13\n",
              "3                                invest elmo vietnam           3\n",
              "4                                invest woman statue           3"
            ]
          },
          "metadata": {},
          "execution_count": 17
        }
      ]
    },
    {
      "cell_type": "code",
      "metadata": {
        "colab": {
          "base_uri": "https://localhost:8080/",
          "height": 205
        },
        "id": "ZpPoXztsCr-E",
        "outputId": "ee008535-f327-4ffe-aebf-512f58bebe62"
      },
      "source": [
        "data['char_count'] = data['text_words'].str.len() ## this also includes spaces\n",
        "data[['text_words','char_count']].head()"
      ],
      "execution_count": null,
      "outputs": [
        {
          "output_type": "execute_result",
          "data": {
            "text/html": [
              "<div>\n",
              "<style scoped>\n",
              "    .dataframe tbody tr th:only-of-type {\n",
              "        vertical-align: middle;\n",
              "    }\n",
              "\n",
              "    .dataframe tbody tr th {\n",
              "        vertical-align: top;\n",
              "    }\n",
              "\n",
              "    .dataframe thead th {\n",
              "        text-align: right;\n",
              "    }\n",
              "</style>\n",
              "<table border=\"1\" class=\"dataframe\">\n",
              "  <thead>\n",
              "    <tr style=\"text-align: right;\">\n",
              "      <th></th>\n",
              "      <th>text_words</th>\n",
              "      <th>char_count</th>\n",
              "    </tr>\n",
              "  </thead>\n",
              "  <tbody>\n",
              "    <tr>\n",
              "      <th>0</th>\n",
              "      <td>Invest in ye mudders credit card {E || V] C ME...</td>\n",
              "      <td>101</td>\n",
              "    </tr>\n",
              "    <tr>\n",
              "      <th>1</th>\n",
              "      <td>Invest in bio-security Mucch</td>\n",
              "      <td>28</td>\n",
              "    </tr>\n",
              "    <tr>\n",
              "      <th>2</th>\n",
              "      <td>INVEST in Jontron slicing the price in half! A...</td>\n",
              "      <td>135</td>\n",
              "    </tr>\n",
              "    <tr>\n",
              "      <th>3</th>\n",
              "      <td>Invest in Elmo in Vietnam</td>\n",
              "      <td>26</td>\n",
              "    </tr>\n",
              "    <tr>\n",
              "      <th>4</th>\n",
              "      <td>Invest in woman with her statue</td>\n",
              "      <td>32</td>\n",
              "    </tr>\n",
              "  </tbody>\n",
              "</table>\n",
              "</div>"
            ],
            "text/plain": [
              "                                          text_words  char_count\n",
              "0  Invest in ye mudders credit card {E || V] C ME...         101\n",
              "1                       Invest in bio-security Mucch          28\n",
              "2  INVEST in Jontron slicing the price in half! A...         135\n",
              "3                         Invest in Elmo in Vietnam           26\n",
              "4                   Invest in woman with her statue           32"
            ]
          },
          "metadata": {},
          "execution_count": 18
        }
      ]
    },
    {
      "cell_type": "code",
      "metadata": {
        "colab": {
          "base_uri": "https://localhost:8080/",
          "height": 394
        },
        "id": "J8zjMDC4zqBT",
        "outputId": "49b93e22-3f71-4552-aad1-349fc89066e8"
      },
      "source": [
        "plt.figure(figsize=(10,6))\n",
        "sns.boxenplot(x='dank_level', y='Sentiment', data=data)\n",
        "plt.show()"
      ],
      "execution_count": null,
      "outputs": [
        {
          "output_type": "display_data",
          "data": {
            "image/png": "[encoded data removed]",
            "text/plain": [
              "<Figure size 720x432 with 1 Axes>"
            ]
          },
          "metadata": {
            "needs_background": "light"
          }
        }
      ]
    },
    {
      "cell_type": "code",
      "metadata": {
        "colab": {
          "base_uri": "https://localhost:8080/",
          "height": 410
        },
        "id": "Z_a03KqO0C5m",
        "outputId": "f81aba4d-bdd8-4be2-e95d-2fd3a378e980"
      },
      "source": [
        "num_bins = 50\n",
        "plt.figure(figsize=(10,6))\n",
        "n, bins, patches = plt.hist(data.Sentiment, num_bins, facecolor='blue', alpha=0.5)\n",
        "plt.xlabel('Sentiment')\n",
        "plt.ylabel('Number of Memes')\n",
        "plt.title('Histogram of Sentiment Score')\n",
        "plt.show()"
      ],
      "execution_count": null,
      "outputs": [
        {
          "output_type": "display_data",
          "data": {
            "image/png": "[encoded data removed]",
            "text/plain": [
              "<Figure size 720x432 with 1 Axes>"
            ]
          },
          "metadata": {
            "needs_background": "light"
          }
        }
      ]
    },
    {
      "cell_type": "code",
      "metadata": {
        "colab": {
          "base_uri": "https://localhost:8080/",
          "height": 412
        },
        "id": "1xM4ouHU1UVR",
        "outputId": "7fd25f39-fb9e-4a17-f4a7-d16ff7a61fff"
      },
      "source": [
        "df_sub= data.loc[data.word_count //2*2]\n",
        "plt.figure(figsize=(15,6))\n",
        "sns.barplot(x='word_count', y='Sentiment', hue='dank_level', data=df_sub)\n",
        "plt.xlabel('Number of Words', fontsize=13)\n",
        "plt.ylabel('Sentiment Score', fontsize=13)\n",
        "plt.title('Number of Words vs Sentiment', fontsize=15)\n",
        "plt.show()"
      ],
      "execution_count": null,
      "outputs": [
        {
          "output_type": "display_data",
          "data": {
            "image/png": "[encoded data removed]",
            "text/plain": [
              "<Figure size 1080x432 with 1 Axes>"
            ]
          },
          "metadata": {
            "needs_background": "light"
          }
        }
      ]
    },
    {
      "cell_type": "code",
      "metadata": {
        "id": "cihoOFRfmoia"
      },
      "source": [
        "data.to_csv('/content/drive/MyDrive/case_study_2/input/Sentiment_data.csv',index=False)"
      ],
      "execution_count": null,
      "outputs": []
    }
  ]
}
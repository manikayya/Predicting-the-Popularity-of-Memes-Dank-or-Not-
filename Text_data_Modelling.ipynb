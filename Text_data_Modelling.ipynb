{
  "nbformat": 4,
  "nbformat_minor": 0,
  "metadata": {
    "colab": {
      "name": "Text_data_Modelling.ipynb",
      "provenance": [],
      "collapsed_sections": [],
      "machine_shape": "hm"
    },
    "kernelspec": {
      "name": "python3",
      "display_name": "Python 3"
    },
    "language_info": {
      "name": "python"
    },
    "accelerator": "GPU"
  },
  "cells": [
    {
      "cell_type": "code",
      "metadata": {
        "colab": {
          "base_uri": "https://localhost:8080/"
        },
        "id": "Nk0xKj3uF9xN",
        "outputId": "f7be1202-3a4d-4e00-f6b0-bc83ce6bced6"
      },
      "source": [
        "!pip install sentencepiece"
      ],
      "execution_count": 1,
      "outputs": [
        {
          "output_type": "stream",
          "name": "stdout",
          "text": [
            "Collecting sentencepiece\n",
            "  Downloading sentencepiece-0.1.96-cp37-cp37m-manylinux_2_17_x86_64.manylinux2014_x86_64.whl (1.2 MB)\n",
            "\u001b[?25l\r\u001b[K     |▎                               | 10 kB 24.3 MB/s eta 0:00:01\r\u001b[K     |▌                               | 20 kB 23.6 MB/s eta 0:00:01\r\u001b[K     |▉                               | 30 kB 17.0 MB/s eta 0:00:01\r\u001b[K     |█                               | 40 kB 14.7 MB/s eta 0:00:01\r\u001b[K     |█▍                              | 51 kB 7.0 MB/s eta 0:00:01\r\u001b[K     |█▋                              | 61 kB 8.2 MB/s eta 0:00:01\r\u001b[K     |██                              | 71 kB 7.8 MB/s eta 0:00:01\r\u001b[K     |██▏                             | 81 kB 8.8 MB/s eta 0:00:01\r\u001b[K     |██▍                             | 92 kB 9.2 MB/s eta 0:00:01\r\u001b[K     |██▊                             | 102 kB 7.1 MB/s eta 0:00:01\r\u001b[K     |███                             | 112 kB 7.1 MB/s eta 0:00:01\r\u001b[K     |███▎                            | 122 kB 7.1 MB/s eta 0:00:01\r\u001b[K     |███▌                            | 133 kB 7.1 MB/s eta 0:00:01\r\u001b[K     |███▉                            | 143 kB 7.1 MB/s eta 0:00:01\r\u001b[K     |████                            | 153 kB 7.1 MB/s eta 0:00:01\r\u001b[K     |████▎                           | 163 kB 7.1 MB/s eta 0:00:01\r\u001b[K     |████▋                           | 174 kB 7.1 MB/s eta 0:00:01\r\u001b[K     |████▉                           | 184 kB 7.1 MB/s eta 0:00:01\r\u001b[K     |█████▏                          | 194 kB 7.1 MB/s eta 0:00:01\r\u001b[K     |█████▍                          | 204 kB 7.1 MB/s eta 0:00:01\r\u001b[K     |█████▊                          | 215 kB 7.1 MB/s eta 0:00:01\r\u001b[K     |██████                          | 225 kB 7.1 MB/s eta 0:00:01\r\u001b[K     |██████▏                         | 235 kB 7.1 MB/s eta 0:00:01\r\u001b[K     |██████▌                         | 245 kB 7.1 MB/s eta 0:00:01\r\u001b[K     |██████▊                         | 256 kB 7.1 MB/s eta 0:00:01\r\u001b[K     |███████                         | 266 kB 7.1 MB/s eta 0:00:01\r\u001b[K     |███████▎                        | 276 kB 7.1 MB/s eta 0:00:01\r\u001b[K     |███████▋                        | 286 kB 7.1 MB/s eta 0:00:01\r\u001b[K     |███████▉                        | 296 kB 7.1 MB/s eta 0:00:01\r\u001b[K     |████████                        | 307 kB 7.1 MB/s eta 0:00:01\r\u001b[K     |████████▍                       | 317 kB 7.1 MB/s eta 0:00:01\r\u001b[K     |████████▋                       | 327 kB 7.1 MB/s eta 0:00:01\r\u001b[K     |█████████                       | 337 kB 7.1 MB/s eta 0:00:01\r\u001b[K     |█████████▏                      | 348 kB 7.1 MB/s eta 0:00:01\r\u001b[K     |█████████▌                      | 358 kB 7.1 MB/s eta 0:00:01\r\u001b[K     |█████████▊                      | 368 kB 7.1 MB/s eta 0:00:01\r\u001b[K     |██████████                      | 378 kB 7.1 MB/s eta 0:00:01\r\u001b[K     |██████████▎                     | 389 kB 7.1 MB/s eta 0:00:01\r\u001b[K     |██████████▌                     | 399 kB 7.1 MB/s eta 0:00:01\r\u001b[K     |██████████▉                     | 409 kB 7.1 MB/s eta 0:00:01\r\u001b[K     |███████████                     | 419 kB 7.1 MB/s eta 0:00:01\r\u001b[K     |███████████▍                    | 430 kB 7.1 MB/s eta 0:00:01\r\u001b[K     |███████████▋                    | 440 kB 7.1 MB/s eta 0:00:01\r\u001b[K     |███████████▉                    | 450 kB 7.1 MB/s eta 0:00:01\r\u001b[K     |████████████▏                   | 460 kB 7.1 MB/s eta 0:00:01\r\u001b[K     |████████████▍                   | 471 kB 7.1 MB/s eta 0:00:01\r\u001b[K     |████████████▊                   | 481 kB 7.1 MB/s eta 0:00:01\r\u001b[K     |█████████████                   | 491 kB 7.1 MB/s eta 0:00:01\r\u001b[K     |█████████████▎                  | 501 kB 7.1 MB/s eta 0:00:01\r\u001b[K     |█████████████▌                  | 512 kB 7.1 MB/s eta 0:00:01\r\u001b[K     |█████████████▊                  | 522 kB 7.1 MB/s eta 0:00:01\r\u001b[K     |██████████████                  | 532 kB 7.1 MB/s eta 0:00:01\r\u001b[K     |██████████████▎                 | 542 kB 7.1 MB/s eta 0:00:01\r\u001b[K     |██████████████▋                 | 552 kB 7.1 MB/s eta 0:00:01\r\u001b[K     |██████████████▉                 | 563 kB 7.1 MB/s eta 0:00:01\r\u001b[K     |███████████████▏                | 573 kB 7.1 MB/s eta 0:00:01\r\u001b[K     |███████████████▍                | 583 kB 7.1 MB/s eta 0:00:01\r\u001b[K     |███████████████▋                | 593 kB 7.1 MB/s eta 0:00:01\r\u001b[K     |████████████████                | 604 kB 7.1 MB/s eta 0:00:01\r\u001b[K     |████████████████▏               | 614 kB 7.1 MB/s eta 0:00:01\r\u001b[K     |████████████████▌               | 624 kB 7.1 MB/s eta 0:00:01\r\u001b[K     |████████████████▊               | 634 kB 7.1 MB/s eta 0:00:01\r\u001b[K     |█████████████████               | 645 kB 7.1 MB/s eta 0:00:01\r\u001b[K     |█████████████████▎              | 655 kB 7.1 MB/s eta 0:00:01\r\u001b[K     |█████████████████▌              | 665 kB 7.1 MB/s eta 0:00:01\r\u001b[K     |█████████████████▉              | 675 kB 7.1 MB/s eta 0:00:01\r\u001b[K     |██████████████████              | 686 kB 7.1 MB/s eta 0:00:01\r\u001b[K     |██████████████████▍             | 696 kB 7.1 MB/s eta 0:00:01\r\u001b[K     |██████████████████▋             | 706 kB 7.1 MB/s eta 0:00:01\r\u001b[K     |███████████████████             | 716 kB 7.1 MB/s eta 0:00:01\r\u001b[K     |███████████████████▏            | 727 kB 7.1 MB/s eta 0:00:01\r\u001b[K     |███████████████████▍            | 737 kB 7.1 MB/s eta 0:00:01\r\u001b[K     |███████████████████▊            | 747 kB 7.1 MB/s eta 0:00:01\r\u001b[K     |████████████████████            | 757 kB 7.1 MB/s eta 0:00:01\r\u001b[K     |████████████████████▎           | 768 kB 7.1 MB/s eta 0:00:01\r\u001b[K     |████████████████████▌           | 778 kB 7.1 MB/s eta 0:00:01\r\u001b[K     |████████████████████▉           | 788 kB 7.1 MB/s eta 0:00:01\r\u001b[K     |█████████████████████           | 798 kB 7.1 MB/s eta 0:00:01\r\u001b[K     |█████████████████████▎          | 808 kB 7.1 MB/s eta 0:00:01\r\u001b[K     |█████████████████████▋          | 819 kB 7.1 MB/s eta 0:00:01\r\u001b[K     |█████████████████████▉          | 829 kB 7.1 MB/s eta 0:00:01\r\u001b[K     |██████████████████████▏         | 839 kB 7.1 MB/s eta 0:00:01\r\u001b[K     |██████████████████████▍         | 849 kB 7.1 MB/s eta 0:00:01\r\u001b[K     |██████████████████████▊         | 860 kB 7.1 MB/s eta 0:00:01\r\u001b[K     |███████████████████████         | 870 kB 7.1 MB/s eta 0:00:01\r\u001b[K     |███████████████████████▏        | 880 kB 7.1 MB/s eta 0:00:01\r\u001b[K     |███████████████████████▌        | 890 kB 7.1 MB/s eta 0:00:01\r\u001b[K     |███████████████████████▊        | 901 kB 7.1 MB/s eta 0:00:01\r\u001b[K     |████████████████████████        | 911 kB 7.1 MB/s eta 0:00:01\r\u001b[K     |████████████████████████▎       | 921 kB 7.1 MB/s eta 0:00:01\r\u001b[K     |████████████████████████▋       | 931 kB 7.1 MB/s eta 0:00:01\r\u001b[K     |████████████████████████▉       | 942 kB 7.1 MB/s eta 0:00:01\r\u001b[K     |█████████████████████████       | 952 kB 7.1 MB/s eta 0:00:01\r\u001b[K     |█████████████████████████▍      | 962 kB 7.1 MB/s eta 0:00:01\r\u001b[K     |█████████████████████████▋      | 972 kB 7.1 MB/s eta 0:00:01\r\u001b[K     |██████████████████████████      | 983 kB 7.1 MB/s eta 0:00:01\r\u001b[K     |██████████████████████████▏     | 993 kB 7.1 MB/s eta 0:00:01\r\u001b[K     |██████████████████████████▌     | 1.0 MB 7.1 MB/s eta 0:00:01\r\u001b[K     |██████████████████████████▊     | 1.0 MB 7.1 MB/s eta 0:00:01\r\u001b[K     |███████████████████████████     | 1.0 MB 7.1 MB/s eta 0:00:01\r\u001b[K     |███████████████████████████▎    | 1.0 MB 7.1 MB/s eta 0:00:01\r\u001b[K     |███████████████████████████▌    | 1.0 MB 7.1 MB/s eta 0:00:01\r\u001b[K     |███████████████████████████▉    | 1.1 MB 7.1 MB/s eta 0:00:01\r\u001b[K     |████████████████████████████    | 1.1 MB 7.1 MB/s eta 0:00:01\r\u001b[K     |████████████████████████████▍   | 1.1 MB 7.1 MB/s eta 0:00:01\r\u001b[K     |████████████████████████████▋   | 1.1 MB 7.1 MB/s eta 0:00:01\r\u001b[K     |████████████████████████████▉   | 1.1 MB 7.1 MB/s eta 0:00:01\r\u001b[K     |█████████████████████████████▏  | 1.1 MB 7.1 MB/s eta 0:00:01\r\u001b[K     |█████████████████████████████▍  | 1.1 MB 7.1 MB/s eta 0:00:01\r\u001b[K     |█████████████████████████████▊  | 1.1 MB 7.1 MB/s eta 0:00:01\r\u001b[K     |██████████████████████████████  | 1.1 MB 7.1 MB/s eta 0:00:01\r\u001b[K     |██████████████████████████████▎ | 1.1 MB 7.1 MB/s eta 0:00:01\r\u001b[K     |██████████████████████████████▌ | 1.2 MB 7.1 MB/s eta 0:00:01\r\u001b[K     |██████████████████████████████▊ | 1.2 MB 7.1 MB/s eta 0:00:01\r\u001b[K     |███████████████████████████████ | 1.2 MB 7.1 MB/s eta 0:00:01\r\u001b[K     |███████████████████████████████▎| 1.2 MB 7.1 MB/s eta 0:00:01\r\u001b[K     |███████████████████████████████▋| 1.2 MB 7.1 MB/s eta 0:00:01\r\u001b[K     |███████████████████████████████▉| 1.2 MB 7.1 MB/s eta 0:00:01\r\u001b[K     |████████████████████████████████| 1.2 MB 7.1 MB/s \n",
            "\u001b[?25hInstalling collected packages: sentencepiece\n",
            "Successfully installed sentencepiece-0.1.96\n"
          ]
        }
      ]
    },
    {
      "cell_type": "code",
      "metadata": {
        "colab": {
          "base_uri": "https://localhost:8080/"
        },
        "id": "vbg6oX1fPQDT",
        "outputId": "e73b1c02-2a0e-468a-fb97-d3f10cb7c6c3"
      },
      "source": [
        "!pip install scikit-plot"
      ],
      "execution_count": 18,
      "outputs": [
        {
          "output_type": "stream",
          "name": "stdout",
          "text": [
            "Collecting scikit-plot\n",
            "  Downloading scikit_plot-0.3.7-py3-none-any.whl (33 kB)\n",
            "Requirement already satisfied: joblib>=0.10 in /usr/local/lib/python3.7/dist-packages (from scikit-plot) (1.0.1)\n",
            "Requirement already satisfied: scipy>=0.9 in /usr/local/lib/python3.7/dist-packages (from scikit-plot) (1.4.1)\n",
            "Requirement already satisfied: scikit-learn>=0.18 in /usr/local/lib/python3.7/dist-packages (from scikit-plot) (0.22.2.post1)\n",
            "Requirement already satisfied: matplotlib>=1.4.0 in /usr/local/lib/python3.7/dist-packages (from scikit-plot) (3.2.2)\n",
            "Requirement already satisfied: numpy>=1.11 in /usr/local/lib/python3.7/dist-packages (from matplotlib>=1.4.0->scikit-plot) (1.19.5)\n",
            "Requirement already satisfied: pyparsing!=2.0.4,!=2.1.2,!=2.1.6,>=2.0.1 in /usr/local/lib/python3.7/dist-packages (from matplotlib>=1.4.0->scikit-plot) (2.4.7)\n",
            "Requirement already satisfied: kiwisolver>=1.0.1 in /usr/local/lib/python3.7/dist-packages (from matplotlib>=1.4.0->scikit-plot) (1.3.2)\n",
            "Requirement already satisfied: python-dateutil>=2.1 in /usr/local/lib/python3.7/dist-packages (from matplotlib>=1.4.0->scikit-plot) (2.8.2)\n",
            "Requirement already satisfied: cycler>=0.10 in /usr/local/lib/python3.7/dist-packages (from matplotlib>=1.4.0->scikit-plot) (0.10.0)\n",
            "Requirement already satisfied: six in /usr/local/lib/python3.7/dist-packages (from cycler>=0.10->matplotlib>=1.4.0->scikit-plot) (1.15.0)\n",
            "Installing collected packages: scikit-plot\n",
            "Successfully installed scikit-plot-0.3.7\n"
          ]
        }
      ]
    },
    {
      "cell_type": "code",
      "metadata": {
        "id": "mJS5Wo6E_oNQ"
      },
      "source": [
        "import pandas as pd\n",
        "from sklearn.model_selection import train_test_split,RandomizedSearchCV,GridSearchCV\n",
        "from sklearn.preprocessing import StandardScaler\n",
        "from sklearn.ensemble import RandomForestClassifier,GradientBoostingClassifier\n",
        "from sklearn.metrics import f1_score,confusion_matrix,roc_curve,roc_auc_score,accuracy_score,precision_score,recall_score\n",
        "import numpy as np\n",
        "import matplotlib.pyplot as plt\n",
        "from tensorflow.keras.utils import to_categorical\n",
        "from sklearn.feature_extraction.text import CountVectorizer,TfidfVectorizer\n",
        "from tqdm import tqdm\n",
        "import seaborn as sns\n",
        "sns.set(color_codes=True)\n",
        "import warnings\n",
        "warnings.filterwarnings('ignore')\n",
        "import tensorflow as tf \n",
        "from keras.preprocessing.text import Tokenizer\n",
        "from keras.preprocessing.sequence import pad_sequences\n",
        "from keras.layers import LSTM, BatchNormalization,concatenate,Flatten,Embedding,Dense,Dropout,MaxPooling2D,Input,Conv1D,CuDNNLSTM,Activation\n",
        "from keras.models import Model\n",
        "from keras.regularizers import l1,l2\n",
        "from keras.initializers import he_normal,glorot_normal\n",
        "from keras.layers import LeakyReLU\n",
        "from keras.utils.vis_utils import plot_model\n",
        "from keras.callbacks import ModelCheckpoint,TensorBoard,EarlyStopping\n",
        "from keras.callbacks import Callback\n",
        "from tensorflow.keras.optimizers import Adam\n",
        "import tokenization\n",
        "import datetime\n",
        "from xgboost import XGBClassifier\n",
        "import tensorflow_hub as hub\n",
        "import scikitplot as skplt\n",
        "from gensim.models import FastText"
      ],
      "execution_count": 86,
      "outputs": []
    },
    {
      "cell_type": "code",
      "metadata": {
        "id": "HcJZ8Atr6HBa"
      },
      "source": [
        "data = pd.read_csv('/content/drive/MyDrive/case_study_2/input/inception_features.csv')"
      ],
      "execution_count": 6,
      "outputs": []
    },
    {
      "cell_type": "code",
      "metadata": {
        "id": "okxfGLro_yl8"
      },
      "source": [
        "#considering features 'Text','created_utc','subscribers','char_count','Sentiment'\n",
        "X = data[['Text','created_utc','subscribers','char_count','Sentiment']]\n",
        "y = data['dank_level']"
      ],
      "execution_count": 7,
      "outputs": []
    },
    {
      "cell_type": "markdown",
      "metadata": {
        "id": "0hTCrzGRG33q"
      },
      "source": [
        "### Bow Of Words"
      ]
    },
    {
      "cell_type": "code",
      "metadata": {
        "id": "21PtVNmSKHyC"
      },
      "source": [
        "bow_vectorizer = CountVectorizer(max_df=0.90, min_df=2,max_features=10000, stop_words='english')\n",
        "# bag-of-words feature matrix\n",
        "bow = bow_vectorizer.fit_transform(data['Text'].values.astype('U'))\n",
        "df_bow = pd.DataFrame(bow.todense())\n",
        "df_bow['dank_level'] = data['dank_level']"
      ],
      "execution_count": 9,
      "outputs": []
    },
    {
      "cell_type": "code",
      "metadata": {
        "id": "YLfjkXTARvao"
      },
      "source": [
        "x_train_bow, x_test_bow, y_train_bow, y_test_bow = train_test_split(df_bow.drop('dank_level',axis=1),df_bow['dank_level'],test_size=0.3,random_state=2)"
      ],
      "execution_count": 10,
      "outputs": []
    },
    {
      "cell_type": "code",
      "metadata": {
        "colab": {
          "base_uri": "https://localhost:8080/"
        },
        "id": "1NxHFmkq4n1C",
        "outputId": "c71e16be-22c2-4f5d-f0e4-002b58301e49"
      },
      "source": [
        "xgb = XGBClassifier(random_state=22,learning_rate=0.9,n_jobs=-1)\n",
        "params={'n_estimators':[500,1000],\n",
        "        'max_depth':[5,7,9]}\n",
        "xgb_clf=RandomizedSearchCV(xgb,params,cv=3,verbose=15,\n",
        "                           n_iter=5,random_state=0)\n",
        "\n",
        "xgb_clf.fit(x_train_bow,y_train_bow) "
      ],
      "execution_count": 11,
      "outputs": [
        {
          "metadata": {
            "tags": null
          },
          "name": "stdout",
          "output_type": "stream",
          "text": [
            "Fitting 3 folds for each of 5 candidates, totalling 15 fits\n",
            "[CV] n_estimators=1000, max_depth=9 ..................................\n"
          ]
        },
        {
          "metadata": {
            "tags": null
          },
          "name": "stderr",
          "output_type": "stream",
          "text": [
            "[Parallel(n_jobs=1)]: Using backend SequentialBackend with 1 concurrent workers.\n"
          ]
        },
        {
          "metadata": {
            "tags": null
          },
          "name": "stdout",
          "output_type": "stream",
          "text": [
            "[CV] ...... n_estimators=1000, max_depth=9, score=0.521, total= 8.7min\n",
            "[CV] n_estimators=1000, max_depth=9 ..................................\n"
          ]
        },
        {
          "metadata": {
            "tags": null
          },
          "name": "stderr",
          "output_type": "stream",
          "text": [
            "[Parallel(n_jobs=1)]: Done   1 out of   1 | elapsed:  8.7min remaining:    0.0s\n"
          ]
        },
        {
          "metadata": {
            "tags": null
          },
          "name": "stdout",
          "output_type": "stream",
          "text": [
            "[CV] ...... n_estimators=1000, max_depth=9, score=0.548, total= 8.5min\n",
            "[CV] n_estimators=1000, max_depth=9 ..................................\n"
          ]
        },
        {
          "metadata": {
            "tags": null
          },
          "name": "stderr",
          "output_type": "stream",
          "text": [
            "[Parallel(n_jobs=1)]: Done   2 out of   2 | elapsed: 17.3min remaining:    0.0s\n"
          ]
        },
        {
          "metadata": {
            "tags": null
          },
          "name": "stdout",
          "output_type": "stream",
          "text": [
            "[CV] ...... n_estimators=1000, max_depth=9, score=0.523, total= 8.6min\n",
            "[CV] n_estimators=500, max_depth=7 ...................................\n"
          ]
        },
        {
          "metadata": {
            "tags": null
          },
          "name": "stderr",
          "output_type": "stream",
          "text": [
            "[Parallel(n_jobs=1)]: Done   3 out of   3 | elapsed: 25.9min remaining:    0.0s\n"
          ]
        },
        {
          "metadata": {
            "tags": null
          },
          "name": "stdout",
          "output_type": "stream",
          "text": [
            "[CV] ....... n_estimators=500, max_depth=7, score=0.527, total= 3.4min\n",
            "[CV] n_estimators=500, max_depth=7 ...................................\n"
          ]
        },
        {
          "metadata": {
            "tags": null
          },
          "name": "stderr",
          "output_type": "stream",
          "text": [
            "[Parallel(n_jobs=1)]: Done   4 out of   4 | elapsed: 29.3min remaining:    0.0s\n"
          ]
        },
        {
          "metadata": {
            "tags": null
          },
          "name": "stdout",
          "output_type": "stream",
          "text": [
            "[CV] ....... n_estimators=500, max_depth=7, score=0.536, total= 3.4min\n",
            "[CV] n_estimators=500, max_depth=7 ...................................\n"
          ]
        },
        {
          "metadata": {
            "tags": null
          },
          "name": "stderr",
          "output_type": "stream",
          "text": [
            "[Parallel(n_jobs=1)]: Done   5 out of   5 | elapsed: 32.7min remaining:    0.0s\n"
          ]
        },
        {
          "metadata": {
            "tags": null
          },
          "name": "stdout",
          "output_type": "stream",
          "text": [
            "[CV] ....... n_estimators=500, max_depth=7, score=0.529, total= 3.4min\n",
            "[CV] n_estimators=1000, max_depth=5 ..................................\n"
          ]
        },
        {
          "metadata": {
            "tags": null
          },
          "name": "stderr",
          "output_type": "stream",
          "text": [
            "[Parallel(n_jobs=1)]: Done   6 out of   6 | elapsed: 36.1min remaining:    0.0s\n"
          ]
        },
        {
          "metadata": {
            "tags": null
          },
          "name": "stdout",
          "output_type": "stream",
          "text": [
            "[CV] ...... n_estimators=1000, max_depth=5, score=0.518, total= 5.0min\n",
            "[CV] n_estimators=1000, max_depth=5 ..................................\n"
          ]
        },
        {
          "metadata": {
            "tags": null
          },
          "name": "stderr",
          "output_type": "stream",
          "text": [
            "[Parallel(n_jobs=1)]: Done   7 out of   7 | elapsed: 41.1min remaining:    0.0s\n"
          ]
        },
        {
          "metadata": {
            "tags": null
          },
          "name": "stdout",
          "output_type": "stream",
          "text": [
            "[CV] ...... n_estimators=1000, max_depth=5, score=0.531, total= 5.0min\n",
            "[CV] n_estimators=1000, max_depth=5 ..................................\n"
          ]
        },
        {
          "metadata": {
            "tags": null
          },
          "name": "stderr",
          "output_type": "stream",
          "text": [
            "[Parallel(n_jobs=1)]: Done   8 out of   8 | elapsed: 46.1min remaining:    0.0s\n"
          ]
        },
        {
          "output_type": "stream",
          "name": "stdout",
          "text": [
            "[CV] ...... n_estimators=1000, max_depth=5, score=0.526, total= 5.0min\n",
            "[CV] n_estimators=1000, max_depth=7 ..................................\n"
          ]
        },
        {
          "output_type": "stream",
          "name": "stderr",
          "text": [
            "[Parallel(n_jobs=1)]: Done   9 out of   9 | elapsed: 51.1min remaining:    0.0s\n"
          ]
        },
        {
          "output_type": "stream",
          "name": "stdout",
          "text": [
            "[CV] ...... n_estimators=1000, max_depth=7, score=0.528, total= 6.8min\n",
            "[CV] n_estimators=1000, max_depth=7 ..................................\n"
          ]
        },
        {
          "output_type": "stream",
          "name": "stderr",
          "text": [
            "[Parallel(n_jobs=1)]: Done  10 out of  10 | elapsed: 57.9min remaining:    0.0s\n"
          ]
        },
        {
          "output_type": "stream",
          "name": "stdout",
          "text": [
            "[CV] ...... n_estimators=1000, max_depth=7, score=0.547, total= 6.9min\n",
            "[CV] n_estimators=1000, max_depth=7 ..................................\n"
          ]
        },
        {
          "output_type": "stream",
          "name": "stderr",
          "text": [
            "[Parallel(n_jobs=1)]: Done  11 out of  11 | elapsed: 64.8min remaining:    0.0s\n"
          ]
        },
        {
          "output_type": "stream",
          "name": "stdout",
          "text": [
            "[CV] ...... n_estimators=1000, max_depth=7, score=0.523, total= 6.9min\n",
            "[CV] n_estimators=500, max_depth=5 ...................................\n"
          ]
        },
        {
          "output_type": "stream",
          "name": "stderr",
          "text": [
            "[Parallel(n_jobs=1)]: Done  12 out of  12 | elapsed: 71.7min remaining:    0.0s\n"
          ]
        },
        {
          "output_type": "stream",
          "name": "stdout",
          "text": [
            "[CV] ....... n_estimators=500, max_depth=5, score=0.534, total= 2.5min\n",
            "[CV] n_estimators=500, max_depth=5 ...................................\n"
          ]
        },
        {
          "output_type": "stream",
          "name": "stderr",
          "text": [
            "[Parallel(n_jobs=1)]: Done  13 out of  13 | elapsed: 74.3min remaining:    0.0s\n"
          ]
        },
        {
          "output_type": "stream",
          "name": "stdout",
          "text": [
            "[CV] ....... n_estimators=500, max_depth=5, score=0.536, total= 2.5min\n",
            "[CV] n_estimators=500, max_depth=5 ...................................\n"
          ]
        },
        {
          "output_type": "stream",
          "name": "stderr",
          "text": [
            "[Parallel(n_jobs=1)]: Done  14 out of  14 | elapsed: 76.8min remaining:    0.0s\n"
          ]
        },
        {
          "output_type": "stream",
          "name": "stdout",
          "text": [
            "[CV] ....... n_estimators=500, max_depth=5, score=0.528, total= 2.5min\n"
          ]
        },
        {
          "output_type": "stream",
          "name": "stderr",
          "text": [
            "[Parallel(n_jobs=1)]: Done  15 out of  15 | elapsed: 79.3min finished\n"
          ]
        },
        {
          "output_type": "execute_result",
          "data": {
            "text/plain": [
              "RandomizedSearchCV(cv=3, error_score=nan,\n",
              "                   estimator=XGBClassifier(base_score=0.5, booster='gbtree',\n",
              "                                           colsample_bylevel=1,\n",
              "                                           colsample_bynode=1,\n",
              "                                           colsample_bytree=1, gamma=0,\n",
              "                                           learning_rate=0.9, max_delta_step=0,\n",
              "                                           max_depth=3, min_child_weight=1,\n",
              "                                           missing=None, n_estimators=100,\n",
              "                                           n_jobs=-1, nthread=None,\n",
              "                                           objective='binary:logistic',\n",
              "                                           random_state=22, reg_alpha=0,\n",
              "                                           reg_lambda=1, scale_pos_weight=1,\n",
              "                                           seed=None, silent=None, subsample=1,\n",
              "                                           verbosity=1),\n",
              "                   iid='deprecated', n_iter=5, n_jobs=None,\n",
              "                   param_distributions={'max_depth': [5, 7, 9],\n",
              "                                        'n_estimators': [500, 1000]},\n",
              "                   pre_dispatch='2*n_jobs', random_state=0, refit=True,\n",
              "                   return_train_score=False, scoring=None, verbose=15)"
            ]
          },
          "metadata": {},
          "execution_count": 11
        }
      ]
    },
    {
      "cell_type": "code",
      "metadata": {
        "colab": {
          "base_uri": "https://localhost:8080/"
        },
        "id": "ZCWWtp--2EVz",
        "outputId": "783272e9-929d-47f3-e038-816d6896cb0b"
      },
      "source": [
        "xgb_clf.best_params_"
      ],
      "execution_count": 12,
      "outputs": [
        {
          "output_type": "execute_result",
          "data": {
            "text/plain": [
              "{'max_depth': 5, 'n_estimators': 500}"
            ]
          },
          "metadata": {},
          "execution_count": 12
        }
      ]
    },
    {
      "cell_type": "code",
      "metadata": {
        "colab": {
          "base_uri": "https://localhost:8080/"
        },
        "id": "LAl6vS2sRynL",
        "outputId": "15927870-ec37-4284-a747-853643b5bb7d"
      },
      "source": [
        "clf = XGBClassifier(random_state=22,learning_rate=0.9,n_jobs=-1,max_depth= 5, n_estimators= 500)\n",
        "clf.fit(x_train_bow,y_train_bow)"
      ],
      "execution_count": 13,
      "outputs": [
        {
          "output_type": "execute_result",
          "data": {
            "text/plain": [
              "XGBClassifier(base_score=0.5, booster='gbtree', colsample_bylevel=1,\n",
              "              colsample_bynode=1, colsample_bytree=1, gamma=0,\n",
              "              learning_rate=0.9, max_delta_step=0, max_depth=5,\n",
              "              min_child_weight=1, missing=None, n_estimators=500, n_jobs=-1,\n",
              "              nthread=None, objective='binary:logistic', random_state=22,\n",
              "              reg_alpha=0, reg_lambda=1, scale_pos_weight=1, seed=None,\n",
              "              silent=None, subsample=1, verbosity=1)"
            ]
          },
          "metadata": {},
          "execution_count": 13
        }
      ]
    },
    {
      "cell_type": "code",
      "metadata": {
        "colab": {
          "base_uri": "https://localhost:8080/"
        },
        "id": "cjswdQWFSaUN",
        "outputId": "a4b5de1e-71d8-4035-f713-bc5ca6b66d9e"
      },
      "source": [
        "y_pred=clf.predict(x_test_bow)\n",
        "print(\"Accuracy:\",accuracy_score(y_test_bow, y_pred))\n",
        "print(\"Precision: \",precision_score(y_test_bow,y_pred,average='weighted'))\n",
        "print(\"Recall: \",recall_score(y_test_bow,y_pred,average='weighted'))\n",
        "print(\"F-1 Score: \",f1_score(y_test_bow, y_pred,average='weighted'))"
      ],
      "execution_count": 20,
      "outputs": [
        {
          "output_type": "stream",
          "name": "stdout",
          "text": [
            "Accuracy: 0.5157142857142857\n",
            "Precision:  0.516307850180253\n",
            "Recall:  0.5157142857142857\n",
            "F-1 Score:  0.5156698099283337\n"
          ]
        }
      ]
    },
    {
      "cell_type": "code",
      "metadata": {
        "colab": {
          "base_uri": "https://localhost:8080/",
          "height": 305
        },
        "id": "oOB_ihidO2ZM",
        "outputId": "5f63e7f7-948b-4c0e-8b33-9dfc252ca014"
      },
      "source": [
        "matrix = skplt.metrics.plot_confusion_matrix(y_test_bow,y_pred,labels=[0,1],cmap='PuBu')"
      ],
      "execution_count": 27,
      "outputs": [
        {
          "output_type": "display_data",
          "data": {
            "image/png": "[encoded data removed]",
            "text/plain": [
              "<Figure size 432x288 with 2 Axes>"
            ]
          },
          "metadata": {}
        }
      ]
    },
    {
      "cell_type": "code",
      "metadata": {
        "colab": {
          "base_uri": "https://localhost:8080/",
          "height": 391
        },
        "id": "nAyHFaqiVNAL",
        "outputId": "d9ef35a3-3a4d-4a5a-e4a2-ae5b30d45c11"
      },
      "source": [
        " y_pred = clf.predict_proba(x_test_bow)\n",
        "fpr, tpr, thresholds = roc_curve(y_test_bow, y_pred[:,1], pos_label=1, sample_weight=None)\n",
        "auc = roc_auc_score(y_test_bow, y_pred[:,1], sample_weight=None)\n",
        "print(\"AUC=\", auc)\n",
        "\n",
        "# plot ROC curves \n",
        "plt.figure(figsize=(5,5))\n",
        "plt.plot(fpr,tpr,linewidth=2.0,color='blue')\n",
        "plt.plot([0,1],[0,1],color='red')\n",
        "plt.legend()\n",
        "plt.xlabel('False positive rate',fontsize=12); plt.ylabel('True positive rate',fontsize=12)\n",
        "plt.xlim([0,1]); plt.ylim([0,1])\n",
        "plt.title('XGBClassifier Performance ROC', fontsize=16)\n",
        "plt.show()"
      ],
      "execution_count": 15,
      "outputs": [
        {
          "output_type": "stream",
          "name": "stderr",
          "text": [
            "No handles with labels found to put in legend.\n"
          ]
        },
        {
          "output_type": "stream",
          "name": "stdout",
          "text": [
            "AUC= 0.5346644451692897\n"
          ]
        },
        {
          "output_type": "display_data",
          "data": {
            "image/png": "[encoded data removed]",
            "text/plain": [
              "<Figure size 360x360 with 1 Axes>"
            ]
          },
          "metadata": {}
        }
      ]
    },
    {
      "cell_type": "markdown",
      "metadata": {
        "id": "bBQhgcX2ILBt"
      },
      "source": [
        "### TFIDF Vectorizer"
      ]
    },
    {
      "cell_type": "code",
      "metadata": {
        "id": "wE7m1JVSTQpi"
      },
      "source": [
        "tfidf=TfidfVectorizer(max_df=0.90, min_df=2,max_features=10000,stop_words='english')\n",
        "tfidf_matrix=tfidf.fit_transform(data['Text'].values.astype('U'))\n",
        "df_tfidf = pd.DataFrame(tfidf_matrix.todense())\n",
        "df_tfidf['dank_level']=data['dank_level']"
      ],
      "execution_count": 59,
      "outputs": []
    },
    {
      "cell_type": "code",
      "metadata": {
        "id": "Wt9PaXsnW-HT"
      },
      "source": [
        "x_train_tfidf, x_test_tfidf, y_train_tfidf, y_test_tfidf = train_test_split(df_tfidf.drop('dank_level',axis=1),df_tfidf['dank_level'],test_size=0.3,random_state=17)"
      ],
      "execution_count": 60,
      "outputs": []
    },
    {
      "cell_type": "code",
      "metadata": {
        "colab": {
          "base_uri": "https://localhost:8080/"
        },
        "id": "ZrAh2o47TUUZ",
        "outputId": "05c37537-0247-4d49-ee85-ebe6ddc86ee4"
      },
      "source": [
        "xgb = XGBClassifier(random_state=22,learning_rate=0.9,max_depth=5,n_estimators=500,n_jobs=-1 )\n",
        "xgb.fit(x_train_tfidf, y_train_tfidf)"
      ],
      "execution_count": 61,
      "outputs": [
        {
          "output_type": "execute_result",
          "data": {
            "text/plain": [
              "XGBClassifier(base_score=0.5, booster='gbtree', colsample_bylevel=1,\n",
              "              colsample_bynode=1, colsample_bytree=1, gamma=0,\n",
              "              learning_rate=0.9, max_delta_step=0, max_depth=5,\n",
              "              min_child_weight=1, missing=None, n_estimators=500, n_jobs=-1,\n",
              "              nthread=None, objective='binary:logistic', random_state=22,\n",
              "              reg_alpha=0, reg_lambda=1, scale_pos_weight=1, seed=None,\n",
              "              silent=None, subsample=1, verbosity=1)"
            ]
          },
          "metadata": {},
          "execution_count": 61
        }
      ]
    },
    {
      "cell_type": "code",
      "metadata": {
        "colab": {
          "base_uri": "https://localhost:8080/"
        },
        "id": "c0rfXw5rTY2N",
        "outputId": "2e721922-6dc7-4a90-b318-6a7df2f9e812"
      },
      "source": [
        "y_pred=xgb.predict(x_test_tfidf)\n",
        "print(\"Accuracy:\",accuracy_score(y_test_tfidf, y_pred))\n",
        "print(\"Precision: \",precision_score(y_test_tfidf,y_pred,average='weighted'))\n",
        "print(\"Recall: \",recall_score(y_test_tfidf,y_pred,average='weighted'))\n",
        "print(\"F-1 Score: \",f1_score(y_test_tfidf, y_pred,average='weighted'))"
      ],
      "execution_count": 62,
      "outputs": [
        {
          "output_type": "stream",
          "name": "stdout",
          "text": [
            "Accuracy: 0.5085714285714286\n",
            "Precision:  0.5086066178366024\n",
            "Recall:  0.5085714285714286\n",
            "F-1 Score:  0.5085879858758259\n"
          ]
        }
      ]
    },
    {
      "cell_type": "code",
      "metadata": {
        "colab": {
          "base_uri": "https://localhost:8080/",
          "height": 305
        },
        "id": "21oRXkmdTlLq",
        "outputId": "c721d4d6-e182-4731-9a9c-17056489e541"
      },
      "source": [
        "matrix = skplt.metrics.plot_confusion_matrix(y_test_tfidf,y_pred,labels=[0,1],cmap='PuBu')"
      ],
      "execution_count": 63,
      "outputs": [
        {
          "output_type": "display_data",
          "data": {
            "image/png": "[encoded data removed]",
            "text/plain": [
              "<Figure size 432x288 with 2 Axes>"
            ]
          },
          "metadata": {}
        }
      ]
    },
    {
      "cell_type": "code",
      "metadata": {
        "colab": {
          "base_uri": "https://localhost:8080/",
          "height": 391
        },
        "id": "BgJycw0dTeS3",
        "outputId": "6d9045b1-fbad-4547-ab7d-7bfc0139fc82"
      },
      "source": [
        "y_pred = xgb.predict_proba(x_test_tfidf)\n",
        "fpr, tpr, thresholds = roc_curve(y_test_tfidf, y_pred[:,1], pos_label=1, sample_weight=None)\n",
        "auc = roc_auc_score(y_test_tfidf, y_pred[:,1], sample_weight=None)\n",
        "print(\"AUC=\", auc)\n",
        "\n",
        "# plot ROC curves \n",
        "plt.figure(figsize=(5,5))\n",
        "plt.plot(fpr,tpr,linewidth=2.0,color='blue')\n",
        "plt.plot([0,1],[0,1],color='red')\n",
        "plt.legend()\n",
        "plt.xlabel('False positive rate',fontsize=12)\n",
        "plt.ylabel('True positive rate',fontsize=12)\n",
        "plt.xlim([0,1]); plt.ylim([0,1])\n",
        "plt.title('XGBClassifier Performance ROC', fontsize=16)\n",
        "plt.show()"
      ],
      "execution_count": 64,
      "outputs": [
        {
          "output_type": "stream",
          "name": "stderr",
          "text": [
            "No handles with labels found to put in legend.\n"
          ]
        },
        {
          "output_type": "stream",
          "name": "stdout",
          "text": [
            "AUC= 0.5176602723641052\n"
          ]
        },
        {
          "output_type": "display_data",
          "data": {
            "image/png": "[encoded data removed]",
            "text/plain": [
              "<Figure size 360x360 with 1 Axes>"
            ]
          },
          "metadata": {}
        }
      ]
    },
    {
      "cell_type": "markdown",
      "metadata": {
        "id": "8WdTMaTDUXxD"
      },
      "source": [
        "### LSTM Model"
      ]
    },
    {
      "cell_type": "code",
      "metadata": {
        "id": "aTr-_fus71mg"
      },
      "source": [
        "X_train,X_test,Y_train,Y_test = train_test_split(data['Text'].astype(str),data['dank_level'],test_size=0.3)"
      ],
      "execution_count": 28,
      "outputs": []
    },
    {
      "cell_type": "code",
      "metadata": {
        "colab": {
          "base_uri": "https://localhost:8080/"
        },
        "id": "bB2R_QbCUqzf",
        "outputId": "2340a1f5-ed0d-4d0c-b2e5-01259064e851"
      },
      "source": [
        "l = []\n",
        "for text in data['Text'].astype(str):\n",
        "    l.append(len(text.split(\" \")))\n",
        "print(max(l))"
      ],
      "execution_count": 29,
      "outputs": [
        {
          "output_type": "stream",
          "name": "stdout",
          "text": [
            "212\n"
          ]
        }
      ]
    },
    {
      "cell_type": "code",
      "metadata": {
        "colab": {
          "base_uri": "https://localhost:8080/"
        },
        "id": "yfvJNrE0UvIP",
        "outputId": "c95dc106-84ac-49b4-c8db-af7c4ddb2b4a"
      },
      "source": [
        "max_words = 10000\n",
        "max_len = 212\n",
        "tok = Tokenizer(num_words=max_words)\n",
        "tok.fit_on_texts(X_train)\n",
        "train_sequences = tok.texts_to_sequences(X_train)\n",
        "train_sequences_matrix = pad_sequences(train_sequences,maxlen=max_len)\n",
        "word_index = tok.word_index\n",
        "print(\"unique words : {}\".format(len(word_index)))"
      ],
      "execution_count": 30,
      "outputs": [
        {
          "output_type": "stream",
          "name": "stdout",
          "text": [
            "unique words : 15569\n"
          ]
        }
      ]
    },
    {
      "cell_type": "code",
      "metadata": {
        "id": "64Knk2UPU80m"
      },
      "source": [
        "test_sequences = tok.texts_to_sequences(X_test)\n",
        "test_sequences_matrix = pad_sequences(test_sequences,maxlen=max_len)"
      ],
      "execution_count": 31,
      "outputs": []
    },
    {
      "cell_type": "code",
      "metadata": {
        "colab": {
          "base_uri": "https://localhost:8080/"
        },
        "id": "kuNNm2OmVJzs",
        "outputId": "2563f7d3-1659-43fd-a2f5-b269bf941a0e"
      },
      "source": [
        "inputs = Input(name='inputs',shape=[train_sequences_matrix.shape[1]])\n",
        "layer = Embedding(max_words,50,input_length=train_sequences_matrix.shape[1])(inputs)\n",
        "layer = LSTM(64,return_sequences=True)(layer)\n",
        "layer = Flatten()(layer)\n",
        "layer = Dense(128,name='FC1')(layer)\n",
        "layer = Activation('relu')(layer)\n",
        "layer = Dense(164,name='FC2')(layer)\n",
        "layer = Activation('relu')(layer)\n",
        "layer = Dropout(0.3)(layer)\n",
        "layer = Dense(1,name='out_layer')(layer)\n",
        "layer = Activation('sigmoid')(layer)\n",
        "model = Model(inputs=inputs,outputs=layer)\n",
        "model.summary()"
      ],
      "execution_count": 39,
      "outputs": [
        {
          "output_type": "stream",
          "name": "stdout",
          "text": [
            "Model: \"model_1\"\n",
            "_________________________________________________________________\n",
            "Layer (type)                 Output Shape              Param #   \n",
            "=================================================================\n",
            "inputs (InputLayer)          [(None, 212)]             0         \n",
            "_________________________________________________________________\n",
            "embedding_6 (Embedding)      (None, 212, 50)           500000    \n",
            "_________________________________________________________________\n",
            "lstm_6 (LSTM)                (None, 212, 64)           29440     \n",
            "_________________________________________________________________\n",
            "flatten_3 (Flatten)          (None, 13568)             0         \n",
            "_________________________________________________________________\n",
            "FC1 (Dense)                  (None, 128)               1736832   \n",
            "_________________________________________________________________\n",
            "activation_8 (Activation)    (None, 128)               0         \n",
            "_________________________________________________________________\n",
            "FC2 (Dense)                  (None, 164)               21156     \n",
            "_________________________________________________________________\n",
            "activation_9 (Activation)    (None, 164)               0         \n",
            "_________________________________________________________________\n",
            "dropout_1 (Dropout)          (None, 164)               0         \n",
            "_________________________________________________________________\n",
            "out_layer (Dense)            (None, 1)                 165       \n",
            "_________________________________________________________________\n",
            "activation_10 (Activation)   (None, 1)                 0         \n",
            "=================================================================\n",
            "Total params: 2,287,593\n",
            "Trainable params: 2,287,593\n",
            "Non-trainable params: 0\n",
            "_________________________________________________________________\n"
          ]
        }
      ]
    },
    {
      "cell_type": "code",
      "metadata": {
        "id": "0QSUZJ5WXX7S"
      },
      "source": [
        "tf.keras.backend.clear_session()\n",
        "model.compile(loss='binary_crossentropy',optimizer=Adam(lr=0.0006,decay=1e-4, beta_1=0.9, beta_2=0.999, epsilon=1e-08),metrics=['accuracy'])"
      ],
      "execution_count": 40,
      "outputs": []
    },
    {
      "cell_type": "code",
      "metadata": {
        "colab": {
          "base_uri": "https://localhost:8080/"
        },
        "id": "AUbunSmIXhJQ",
        "outputId": "69bae68f-064e-4500-87cb-c245c93dc439"
      },
      "source": [
        "model.fit(train_sequences_matrix,Y_train,batch_size=128,epochs=10,validation_split=0.2)"
      ],
      "execution_count": 41,
      "outputs": [
        {
          "output_type": "stream",
          "name": "stdout",
          "text": [
            "Epoch 1/10\n",
            "41/41 [==============================] - 7s 31ms/step - loss: 0.6942 - accuracy: 0.4963 - val_loss: 0.6932 - val_accuracy: 0.4966\n",
            "Epoch 2/10\n",
            "41/41 [==============================] - 1s 18ms/step - loss: 0.6926 - accuracy: 0.5225 - val_loss: 0.6924 - val_accuracy: 0.5287\n",
            "Epoch 3/10\n",
            "41/41 [==============================] - 1s 17ms/step - loss: 0.6355 - accuracy: 0.6607 - val_loss: 0.7874 - val_accuracy: 0.4950\n",
            "Epoch 4/10\n",
            "41/41 [==============================] - 1s 18ms/step - loss: 0.4332 - accuracy: 0.8013 - val_loss: 0.9498 - val_accuracy: 0.4935\n",
            "Epoch 5/10\n",
            "41/41 [==============================] - 1s 17ms/step - loss: 0.2732 - accuracy: 0.8798 - val_loss: 1.2211 - val_accuracy: 0.4866\n",
            "Epoch 6/10\n",
            "41/41 [==============================] - 1s 17ms/step - loss: 0.1896 - accuracy: 0.9236 - val_loss: 1.4955 - val_accuracy: 0.5080\n",
            "Epoch 7/10\n",
            "41/41 [==============================] - 1s 17ms/step - loss: 0.1302 - accuracy: 0.9489 - val_loss: 1.9957 - val_accuracy: 0.5111\n",
            "Epoch 8/10\n",
            "41/41 [==============================] - 1s 17ms/step - loss: 0.0971 - accuracy: 0.9633 - val_loss: 2.1452 - val_accuracy: 0.5065\n",
            "Epoch 9/10\n",
            "41/41 [==============================] - 1s 18ms/step - loss: 0.0747 - accuracy: 0.9730 - val_loss: 2.2754 - val_accuracy: 0.5042\n",
            "Epoch 10/10\n",
            "41/41 [==============================] - 1s 18ms/step - loss: 0.0679 - accuracy: 0.9767 - val_loss: 2.4147 - val_accuracy: 0.5111\n"
          ]
        },
        {
          "output_type": "execute_result",
          "data": {
            "text/plain": [
              "<keras.callbacks.History at 0x7fcb400aa210>"
            ]
          },
          "metadata": {},
          "execution_count": 41
        }
      ]
    },
    {
      "cell_type": "code",
      "metadata": {
        "id": "MILNvRDqXnmx"
      },
      "source": [
        "predictions = model.predict(test_sequences_matrix)\n",
        "y_pred = []\n",
        "for pred in predictions:\n",
        "    if pred < 0.5:\n",
        "        y_pred.append(0)\n",
        "    else:\n",
        "        y_pred.append(1)"
      ],
      "execution_count": 42,
      "outputs": []
    },
    {
      "cell_type": "code",
      "metadata": {
        "colab": {
          "base_uri": "https://localhost:8080/"
        },
        "id": "UKmaCMmdXzT8",
        "outputId": "bc72d54a-6970-49c8-fd5f-a071c96eb227"
      },
      "source": [
        "print(\"Accuracy:\",accuracy_score(Y_test, y_pred))\n",
        "print(\"Precision: \",precision_score(Y_test,y_pred))\n",
        "print(\"Recall: \",recall_score(Y_test, y_pred)) \n",
        "print(\"F-1 Score: \",f1_score(Y_test, y_pred))"
      ],
      "execution_count": 43,
      "outputs": [
        {
          "output_type": "stream",
          "name": "stdout",
          "text": [
            "Accuracy: 0.5210714285714285\n",
            "Precision:  0.5195195195195195\n",
            "Recall:  0.49676956209619527\n",
            "F-1 Score:  0.5078899082568807\n"
          ]
        }
      ]
    },
    {
      "cell_type": "code",
      "metadata": {
        "colab": {
          "base_uri": "https://localhost:8080/",
          "height": 305
        },
        "id": "DVCBarsHX_89",
        "outputId": "900f1188-dc86-453c-d41a-07190e3bb5ea"
      },
      "source": [
        "matrix = skplt.metrics.plot_confusion_matrix(Y_test,y_pred,labels=[0,1])"
      ],
      "execution_count": 45,
      "outputs": [
        {
          "output_type": "display_data",
          "data": {
            "image/png": "[encoded data removed]",
            "text/plain": [
              "<Figure size 432x288 with 2 Axes>"
            ]
          },
          "metadata": {}
        }
      ]
    },
    {
      "cell_type": "code",
      "metadata": {
        "colab": {
          "base_uri": "https://localhost:8080/",
          "height": 391
        },
        "id": "zuTJMsAcX5Sf",
        "outputId": "09ff4610-eac1-4bad-c531-79e0d32d84db"
      },
      "source": [
        "y_pred = model.predict(test_sequences_matrix)\n",
        "fpr, tpr, thresholds = roc_curve(Y_test, y_pred, pos_label=1, sample_weight=None)\n",
        "auc = roc_auc_score(Y_test, y_pred, sample_weight=None)\n",
        "print(\"AUC=\", auc)\n",
        "\n",
        "# plot ROC curves \n",
        "plt.figure(figsize=(5,5))\n",
        "plt.plot(fpr,tpr,linewidth=2.0,color='blue')\n",
        "plt.plot([0,1],[0,1],color='red')\n",
        "plt.legend()\n",
        "plt.xlabel('False positive rate',fontsize=12); plt.ylabel('True positive rate',fontsize=12)\n",
        "plt.xlim([0,1]); plt.ylim([0,1])\n",
        "plt.title('LSTM ROC', fontsize=16)\n",
        "plt.show()"
      ],
      "execution_count": 46,
      "outputs": [
        {
          "output_type": "stream",
          "name": "stderr",
          "text": [
            "No handles with labels found to put in legend.\n"
          ]
        },
        {
          "output_type": "stream",
          "name": "stdout",
          "text": [
            "AUC= 0.519316044125593\n"
          ]
        },
        {
          "output_type": "display_data",
          "data": {
            "image/png": "[encoded data removed]",
            "text/plain": [
              "<Figure size 360x360 with 1 Axes>"
            ]
          },
          "metadata": {}
        }
      ]
    },
    {
      "cell_type": "markdown",
      "metadata": {
        "id": "HKopOPMvYjUs"
      },
      "source": [
        "### Word2Vec"
      ]
    },
    {
      "cell_type": "code",
      "metadata": {
        "id": "he3HH5BPYSgt"
      },
      "source": [
        "embeddings_index = {}\n",
        "f = open('/content/drive/MyDrive/glove.6B.300d.txt','r')\n",
        "for line in f:\n",
        "    values = line.split()\n",
        "    word = values[0]\n",
        "    coefs = np.asarray(values[1:], dtype='float32')\n",
        "    embeddings_index[word] = coefs\n",
        "f.close()"
      ],
      "execution_count": 47,
      "outputs": []
    },
    {
      "cell_type": "code",
      "metadata": {
        "id": "2TToqG1LYr8u"
      },
      "source": [
        "embedding_mat = np.zeros((len(word_index) + 1, 300))\n",
        "for word, i in word_index.items():\n",
        "    embedding_vec = embeddings_index.get(word)\n",
        "    if embedding_vec is not None:\n",
        "        embedding_mat[i] = embedding_vec"
      ],
      "execution_count": 48,
      "outputs": []
    },
    {
      "cell_type": "code",
      "metadata": {
        "colab": {
          "base_uri": "https://localhost:8080/"
        },
        "id": "QDbUPZoDYvDZ",
        "outputId": "845f041e-5f54-4333-8859-36d148e394d5"
      },
      "source": [
        "len(np.where(~embedding_mat.any(axis=1))[0])"
      ],
      "execution_count": 49,
      "outputs": [
        {
          "output_type": "execute_result",
          "data": {
            "text/plain": [
              "6931"
            ]
          },
          "metadata": {},
          "execution_count": 49
        }
      ]
    },
    {
      "cell_type": "code",
      "metadata": {
        "colab": {
          "base_uri": "https://localhost:8080/"
        },
        "id": "cLDP7hYhZA9y",
        "outputId": "62b188fa-11aa-4758-db9e-d37955fc4abe"
      },
      "source": [
        "inputs = Input(name='inputs',shape=[train_sequences_matrix.shape[1]])\n",
        "layer = Embedding(len(word_index) + 1,300,weights=[embedding_mat],input_length=max_len,trainable=False)(inputs)\n",
        "layer = LSTM(64,return_sequences=True)(layer)\n",
        "layer = Flatten()(layer)\n",
        "layer = Dense(128,name='FC1')(layer)\n",
        "layer = Activation('relu')(layer)\n",
        "layer = Dense(164,name='FC2')(layer)\n",
        "layer = Activation('relu')(layer)\n",
        "layer = Dropout(0.3)(layer)\n",
        "layer = Dense(1,name='out_layer')(layer)\n",
        "layer = Activation('sigmoid')(layer)\n",
        "w2v_model = Model(inputs=inputs,outputs=layer)\n",
        "w2v_model.summary()"
      ],
      "execution_count": 52,
      "outputs": [
        {
          "output_type": "stream",
          "name": "stdout",
          "text": [
            "Model: \"model_1\"\n",
            "_________________________________________________________________\n",
            "Layer (type)                 Output Shape              Param #   \n",
            "=================================================================\n",
            "inputs (InputLayer)          [(None, 212)]             0         \n",
            "_________________________________________________________________\n",
            "embedding_2 (Embedding)      (None, 212, 300)          4671000   \n",
            "_________________________________________________________________\n",
            "lstm_1 (LSTM)                (None, 212, 64)           93440     \n",
            "_________________________________________________________________\n",
            "flatten_1 (Flatten)          (None, 13568)             0         \n",
            "_________________________________________________________________\n",
            "FC1 (Dense)                  (None, 128)               1736832   \n",
            "_________________________________________________________________\n",
            "activation_3 (Activation)    (None, 128)               0         \n",
            "_________________________________________________________________\n",
            "FC2 (Dense)                  (None, 164)               21156     \n",
            "_________________________________________________________________\n",
            "activation_4 (Activation)    (None, 164)               0         \n",
            "_________________________________________________________________\n",
            "dropout_1 (Dropout)          (None, 164)               0         \n",
            "_________________________________________________________________\n",
            "out_layer (Dense)            (None, 1)                 165       \n",
            "_________________________________________________________________\n",
            "activation_5 (Activation)    (None, 1)                 0         \n",
            "=================================================================\n",
            "Total params: 6,522,593\n",
            "Trainable params: 1,851,593\n",
            "Non-trainable params: 4,671,000\n",
            "_________________________________________________________________\n"
          ]
        }
      ]
    },
    {
      "cell_type": "code",
      "metadata": {
        "id": "okhFoAuXZppV"
      },
      "source": [
        "tf.keras.backend.clear_session()\n",
        "w2v_model.compile(loss='binary_crossentropy',optimizer=Adam(lr=0.0006,decay=1e-4, beta_1=0.9, beta_2=0.999, epsilon=1e-08),metrics=['accuracy'])"
      ],
      "execution_count": 53,
      "outputs": []
    },
    {
      "cell_type": "code",
      "metadata": {
        "colab": {
          "base_uri": "https://localhost:8080/"
        },
        "id": "Ea6x7EUMZs_k",
        "outputId": "12030c30-9f93-4f25-8a86-3cd7306cd3f2"
      },
      "source": [
        "w2v_model.fit(train_sequences_matrix,Y_train,batch_size=128,epochs=10,validation_split=0.2)"
      ],
      "execution_count": 54,
      "outputs": [
        {
          "output_type": "stream",
          "name": "stdout",
          "text": [
            "Epoch 1/10\n",
            "41/41 [==============================] - 3s 30ms/step - loss: 0.6936 - accuracy: 0.5026 - val_loss: 0.6913 - val_accuracy: 0.5180\n",
            "Epoch 2/10\n",
            "41/41 [==============================] - 1s 17ms/step - loss: 0.6824 - accuracy: 0.5493 - val_loss: 0.6898 - val_accuracy: 0.5532\n",
            "Epoch 3/10\n",
            "41/41 [==============================] - 1s 17ms/step - loss: 0.6520 - accuracy: 0.6132 - val_loss: 0.7157 - val_accuracy: 0.5210\n",
            "Epoch 4/10\n",
            "41/41 [==============================] - 1s 17ms/step - loss: 0.5942 - accuracy: 0.6691 - val_loss: 0.7361 - val_accuracy: 0.5218\n",
            "Epoch 5/10\n",
            "41/41 [==============================] - 1s 17ms/step - loss: 0.5274 - accuracy: 0.7317 - val_loss: 0.8236 - val_accuracy: 0.5111\n",
            "Epoch 6/10\n",
            "41/41 [==============================] - 1s 17ms/step - loss: 0.4382 - accuracy: 0.7887 - val_loss: 0.9651 - val_accuracy: 0.5203\n",
            "Epoch 7/10\n",
            "41/41 [==============================] - 1s 17ms/step - loss: 0.3454 - accuracy: 0.8442 - val_loss: 1.2095 - val_accuracy: 0.5203\n",
            "Epoch 8/10\n",
            "41/41 [==============================] - 1s 17ms/step - loss: 0.2778 - accuracy: 0.8779 - val_loss: 1.4049 - val_accuracy: 0.5119\n",
            "Epoch 9/10\n",
            "41/41 [==============================] - 1s 17ms/step - loss: 0.1962 - accuracy: 0.9269 - val_loss: 1.6315 - val_accuracy: 0.4935\n",
            "Epoch 10/10\n",
            "41/41 [==============================] - 1s 17ms/step - loss: 0.1478 - accuracy: 0.9544 - val_loss: 1.9856 - val_accuracy: 0.4935\n"
          ]
        },
        {
          "output_type": "execute_result",
          "data": {
            "text/plain": [
              "<keras.callbacks.History at 0x7fca779eae90>"
            ]
          },
          "metadata": {},
          "execution_count": 54
        }
      ]
    },
    {
      "cell_type": "code",
      "metadata": {
        "id": "wvRhFUdSZ5_z"
      },
      "source": [
        "predictions = model.predict(test_sequences_matrix)\n",
        "y_pred = []\n",
        "for pred in predictions:\n",
        "    if pred < 0.5:\n",
        "        y_pred.append(0)\n",
        "    else:\n",
        "        y_pred.append(1)"
      ],
      "execution_count": 55,
      "outputs": []
    },
    {
      "cell_type": "code",
      "metadata": {
        "colab": {
          "base_uri": "https://localhost:8080/"
        },
        "id": "BGy1T3KMaBQt",
        "outputId": "097553e6-01c4-4e55-9404-c5e19f0d95da"
      },
      "source": [
        "print(\"Accuracy:\",accuracy_score(Y_test, y_pred))\n",
        "print(\"Precision: \",precision_score(Y_test,y_pred))\n",
        "print(\"Recall: \",recall_score(Y_test, y_pred)) \n",
        "print(\"F-1 Score: \",f1_score(Y_test, y_pred))"
      ],
      "execution_count": 56,
      "outputs": [
        {
          "output_type": "stream",
          "name": "stdout",
          "text": [
            "Accuracy: 0.5003571428571428\n",
            "Precision:  0.43478260869565216\n",
            "Recall:  0.014357501794687724\n",
            "F-1 Score:  0.027797081306462818\n"
          ]
        }
      ]
    },
    {
      "cell_type": "code",
      "metadata": {
        "colab": {
          "base_uri": "https://localhost:8080/",
          "height": 305
        },
        "id": "87Ji0DKyaH31",
        "outputId": "500cd0d2-4bcc-4811-f4fb-d71b541efccb"
      },
      "source": [
        "matrix = skplt.metrics.plot_confusion_matrix(Y_test,y_pred,labels=[0,1])"
      ],
      "execution_count": 57,
      "outputs": [
        {
          "output_type": "display_data",
          "data": {
            "image/png": "[encoded data removed]",
            "text/plain": [
              "<Figure size 432x288 with 2 Axes>"
            ]
          },
          "metadata": {}
        }
      ]
    },
    {
      "cell_type": "code",
      "metadata": {
        "colab": {
          "base_uri": "https://localhost:8080/",
          "height": 391
        },
        "id": "W4uEy7cVaLjR",
        "outputId": "086291d8-e88a-41f8-af41-6ceaed16a882"
      },
      "source": [
        "y_pred = w2v_model.predict(test_sequences_matrix)\n",
        "fpr, tpr, thresholds = roc_curve(Y_test, y_pred, pos_label=1, sample_weight=None)\n",
        "auc = roc_auc_score(Y_test, y_pred, sample_weight=None)\n",
        "print(\"AUC=\", auc)\n",
        "\n",
        "# plot ROC curves \n",
        "plt.figure(figsize=(5,5))\n",
        "plt.plot(fpr,tpr,linewidth=2.0,color='blue')\n",
        "plt.plot([0,1],[0,1],color='red')\n",
        "plt.legend()\n",
        "plt.xlabel('False positive rate',fontsize=12); plt.ylabel('True positive rate',fontsize=12)\n",
        "plt.xlim([0,1]); plt.ylim([0,1])\n",
        "plt.title('LSTM ROC', fontsize=16)\n",
        "plt.show()"
      ],
      "execution_count": 58,
      "outputs": [
        {
          "output_type": "stream",
          "name": "stderr",
          "text": [
            "No handles with labels found to put in legend.\n"
          ]
        },
        {
          "output_type": "stream",
          "name": "stdout",
          "text": [
            "AUC= 0.527681814494342\n"
          ]
        },
        {
          "output_type": "display_data",
          "data": {
            "image/png": "[encoded data removed]",
            "text/plain": [
              "<Figure size 360x360 with 1 Axes>"
            ]
          },
          "metadata": {}
        }
      ]
    },
    {
      "cell_type": "markdown",
      "metadata": {
        "id": "kmzHVCThf9iV"
      },
      "source": [
        "### BERT Model"
      ]
    },
    {
      "cell_type": "code",
      "metadata": {
        "id": "JCv_Kifff13t"
      },
      "source": [
        "max_seq_length = 214\n",
        "input_word_ids = tf.keras.layers.Input(shape=(max_seq_length,), dtype=tf.int32, name=\"input_word_ids\")\n",
        "\n",
        "#mask vector if you are padding anything\n",
        "input_mask = tf.keras.layers.Input(shape=(max_seq_length,), dtype=tf.int32, name=\"input_mask\")\n",
        "\n",
        "#segment vectors. If you are giving only one sentence for the classification, total seg vector is 0. \n",
        "#If you are giving two sentenced with [sep] token separated, first seq segment vectors are zeros and \n",
        "#second seq segment vector are 1's\n",
        "segment_ids = tf.keras.layers.Input(shape=(max_seq_length,), dtype=tf.int32, name=\"segment_ids\")\n",
        "\n",
        "#bert layer \n",
        "bert_layer = hub.KerasLayer(\"https://tfhub.dev/tensorflow/bert_en_uncased_L-12_H-768_A-12/1\", trainable=False)\n",
        "pooled_output, sequence_output = bert_layer([input_word_ids, input_mask, segment_ids])\n",
        "\n",
        "#Bert model\n",
        "#We are using only pooled output not sequence out. \n",
        "#If you want to know about those, please read https://www.kaggle.com/questions-and-answers/86510\n",
        "bert_model = Model(inputs=[input_word_ids, input_mask, segment_ids], outputs=pooled_output)"
      ],
      "execution_count": 65,
      "outputs": []
    },
    {
      "cell_type": "code",
      "metadata": {
        "colab": {
          "base_uri": "https://localhost:8080/"
        },
        "id": "jAnpr84pgEW9",
        "outputId": "fc6a581f-0a58-44dc-813c-4648ced4637e"
      },
      "source": [
        "bert_model.summary()"
      ],
      "execution_count": 66,
      "outputs": [
        {
          "output_type": "stream",
          "name": "stdout",
          "text": [
            "Model: \"model\"\n",
            "__________________________________________________________________________________________________\n",
            "Layer (type)                    Output Shape         Param #     Connected to                     \n",
            "==================================================================================================\n",
            "input_word_ids (InputLayer)     [(None, 214)]        0                                            \n",
            "__________________________________________________________________________________________________\n",
            "input_mask (InputLayer)         [(None, 214)]        0                                            \n",
            "__________________________________________________________________________________________________\n",
            "segment_ids (InputLayer)        [(None, 214)]        0                                            \n",
            "__________________________________________________________________________________________________\n",
            "keras_layer (KerasLayer)        [(None, 768), (None, 109482241   input_word_ids[0][0]             \n",
            "                                                                 input_mask[0][0]                 \n",
            "                                                                 segment_ids[0][0]                \n",
            "==================================================================================================\n",
            "Total params: 109,482,241\n",
            "Trainable params: 0\n",
            "Non-trainable params: 109,482,241\n",
            "__________________________________________________________________________________________________\n"
          ]
        }
      ]
    },
    {
      "cell_type": "code",
      "metadata": {
        "id": "nkj3PYH-iVuq"
      },
      "source": [
        "vocab_file = bert_layer.resolved_object.vocab_file.asset_path.numpy()\n",
        "do_lower_case = bert_layer.resolved_object.do_lower_case.numpy()\n",
        "tokenizer = tokenization.FullTokenizer(vocab_file, do_lower_case)"
      ],
      "execution_count": 67,
      "outputs": []
    },
    {
      "cell_type": "code",
      "metadata": {
        "colab": {
          "base_uri": "https://localhost:8080/"
        },
        "id": "Eya10Y1jiaVb",
        "outputId": "e10d85ab-37f2-45f1-92f3-e221ddb19abd"
      },
      "source": [
        "X_train_tokens = np.empty(shape=(0,max_seq_length))\n",
        "X_train_mask = np.empty(shape=(0,max_seq_length))\n",
        "X_train_segment = np.empty(shape=(0,max_seq_length))   \n",
        "for text in tqdm(X_train.values):  \n",
        "    tokens = tokenizer.tokenize(text)\n",
        "    tokens = tokens[0:(max_seq_length-2)]\n",
        "    tokens = ['[CLS]',*tokens,'[SEP]']\n",
        "    tokens = tokenizer.convert_tokens_to_ids(tokens)\n",
        "    X_train_tokens = np.append(X_train_tokens,np.array([tokens+[0]*(max_seq_length-len(tokens))]),axis=0)\n",
        "    X_train_mask = np.append(X_train_mask,np.array([[1]*len(tokens)+[0]*(max_seq_length-len(tokens))]),axis=0)\n",
        "    X_train_segment = np.append(X_train_segment,np.array([[0]*max_seq_length]),axis=0)"
      ],
      "execution_count": 69,
      "outputs": [
        {
          "output_type": "stream",
          "name": "stderr",
          "text": [
            "100%|██████████| 6532/6532 [00:22<00:00, 291.98it/s]\n"
          ]
        }
      ]
    },
    {
      "cell_type": "code",
      "metadata": {
        "colab": {
          "base_uri": "https://localhost:8080/"
        },
        "id": "SpFTyUWGizOq",
        "outputId": "1d541951-043e-4132-9481-5174414c5803"
      },
      "source": [
        "X_test_tokens = np.empty(shape=(0,max_seq_length))\n",
        "X_test_mask = np.empty(shape=(0,max_seq_length))\n",
        "X_test_segment = np.empty(shape=(0,max_seq_length))    \n",
        "for text in tqdm(X_test.values): \n",
        "    tokens = tokenizer.tokenize(text)\n",
        "    tokens = tokens[0:(max_seq_length-2)]\n",
        "    tokens = ['[CLS]',*tokens,'[SEP]']\n",
        "    tokens = tokenizer.convert_tokens_to_ids(tokens)\n",
        "    X_test_tokens = np.append(X_test_tokens,np.array([tokens+[0]*(max_seq_length-len(tokens))]),axis=0)\n",
        "    X_test_mask = np.append(X_test_mask,np.array([[1]*len(tokens)+[0]*(max_seq_length-len(tokens))]),axis=0)\n",
        "    X_test_segment = np.append(X_test_segment,np.array([[0]*max_seq_length]),axis=0)"
      ],
      "execution_count": 71,
      "outputs": [
        {
          "output_type": "stream",
          "name": "stderr",
          "text": [
            "100%|██████████| 2800/2800 [00:04<00:00, 683.17it/s]\n"
          ]
        }
      ]
    },
    {
      "cell_type": "code",
      "metadata": {
        "colab": {
          "base_uri": "https://localhost:8080/"
        },
        "id": "7mVcEuIOi41p",
        "outputId": "5f92eec0-eacf-4597-ee23-9cc9aba4a1bb"
      },
      "source": [
        "bert_model.input"
      ],
      "execution_count": 72,
      "outputs": [
        {
          "output_type": "execute_result",
          "data": {
            "text/plain": [
              "[<KerasTensor: shape=(None, 214) dtype=int32 (created by layer 'input_word_ids')>,\n",
              " <KerasTensor: shape=(None, 214) dtype=int32 (created by layer 'input_mask')>,\n",
              " <KerasTensor: shape=(None, 214) dtype=int32 (created by layer 'segment_ids')>]"
            ]
          },
          "metadata": {},
          "execution_count": 72
        }
      ]
    },
    {
      "cell_type": "code",
      "metadata": {
        "colab": {
          "base_uri": "https://localhost:8080/"
        },
        "id": "BpUgH-3Oi8bA",
        "outputId": "1b81c342-b858-4bb7-a16b-9d23c4048f28"
      },
      "source": [
        "bert_model.output"
      ],
      "execution_count": 73,
      "outputs": [
        {
          "output_type": "execute_result",
          "data": {
            "text/plain": [
              "<KerasTensor: shape=(None, 768) dtype=float32 (created by layer 'keras_layer')>"
            ]
          },
          "metadata": {},
          "execution_count": 73
        }
      ]
    },
    {
      "cell_type": "code",
      "metadata": {
        "id": "5KjDYejsjASN"
      },
      "source": [
        "X_train_pooled_output=bert_model.predict([X_train_tokens,X_train_mask,X_train_segment])\n",
        "X_test_pooled_output=bert_model.predict([X_test_tokens,X_test_mask,X_test_segment])"
      ],
      "execution_count": 74,
      "outputs": []
    },
    {
      "cell_type": "code",
      "metadata": {
        "colab": {
          "base_uri": "https://localhost:8080/"
        },
        "id": "ZGA9Pd4Ujc3x",
        "outputId": "6fa105f0-e572-444c-ea0e-12f0da08f416"
      },
      "source": [
        "inputs = Input(name='inputs',shape=768)\n",
        "layer = Embedding(len(word_index)+1,212,input_length=768)(inputs)\n",
        "layer = LSTM(64,return_sequences=True)(layer)\n",
        "layer = Flatten()(layer)\n",
        "layer = Dense(128,name='FC1')(layer)\n",
        "layer = Activation('relu')(layer)\n",
        "layer = Dense(164,name='FC2')(layer)\n",
        "layer = Activation('relu')(layer)\n",
        "layer = Dropout(0.3)(layer)\n",
        "layer = Dense(1,name='out_layer')(layer)\n",
        "layer = Activation('sigmoid')(layer)\n",
        "bertmodel = Model(inputs=inputs,outputs=layer)\n",
        "bertmodel.summary()"
      ],
      "execution_count": 78,
      "outputs": [
        {
          "output_type": "stream",
          "name": "stdout",
          "text": [
            "Model: \"model_2\"\n",
            "_________________________________________________________________\n",
            "Layer (type)                 Output Shape              Param #   \n",
            "=================================================================\n",
            "inputs (InputLayer)          [(None, 768)]             0         \n",
            "_________________________________________________________________\n",
            "embedding_1 (Embedding)      (None, 768, 212)          3300840   \n",
            "_________________________________________________________________\n",
            "lstm_1 (LSTM)                (None, 768, 64)           70912     \n",
            "_________________________________________________________________\n",
            "flatten_1 (Flatten)          (None, 49152)             0         \n",
            "_________________________________________________________________\n",
            "FC1 (Dense)                  (None, 128)               6291584   \n",
            "_________________________________________________________________\n",
            "activation_3 (Activation)    (None, 128)               0         \n",
            "_________________________________________________________________\n",
            "FC2 (Dense)                  (None, 164)               21156     \n",
            "_________________________________________________________________\n",
            "activation_4 (Activation)    (None, 164)               0         \n",
            "_________________________________________________________________\n",
            "dropout_1 (Dropout)          (None, 164)               0         \n",
            "_________________________________________________________________\n",
            "out_layer (Dense)            (None, 1)                 165       \n",
            "_________________________________________________________________\n",
            "activation_5 (Activation)    (None, 1)                 0         \n",
            "=================================================================\n",
            "Total params: 9,684,657\n",
            "Trainable params: 9,684,657\n",
            "Non-trainable params: 0\n",
            "_________________________________________________________________\n"
          ]
        }
      ]
    },
    {
      "cell_type": "code",
      "metadata": {
        "id": "x35qGPt-nVgE"
      },
      "source": [
        "tf.keras.backend.clear_session()\n",
        "bertmodel.compile(loss='binary_crossentropy',optimizer=Adam(lr=0.0006,decay=1e-4, beta_1=0.9, beta_2=0.999, epsilon=1e-08),metrics=['accuracy'])"
      ],
      "execution_count": 79,
      "outputs": []
    },
    {
      "cell_type": "code",
      "metadata": {
        "colab": {
          "base_uri": "https://localhost:8080/"
        },
        "id": "x9nu5B8Ynttk",
        "outputId": "55cfeb62-57fb-4838-c8ff-5a4ce0a25988"
      },
      "source": [
        "bertmodel.fit(X_train_pooled_output,Y_train,batch_size=128,epochs=10,validation_split=0.2)"
      ],
      "execution_count": 80,
      "outputs": [
        {
          "output_type": "stream",
          "name": "stdout",
          "text": [
            "Epoch 1/10\n",
            "41/41 [==============================] - 5s 74ms/step - loss: 0.7018 - accuracy: 0.4965 - val_loss: 0.6933 - val_accuracy: 0.5034\n",
            "Epoch 2/10\n",
            "41/41 [==============================] - 3s 62ms/step - loss: 0.6958 - accuracy: 0.4978 - val_loss: 0.7087 - val_accuracy: 0.5034\n",
            "Epoch 3/10\n",
            "41/41 [==============================] - 2s 61ms/step - loss: 0.6971 - accuracy: 0.4984 - val_loss: 0.6955 - val_accuracy: 0.4966\n",
            "Epoch 4/10\n",
            "41/41 [==============================] - 3s 61ms/step - loss: 0.6952 - accuracy: 0.4993 - val_loss: 0.6931 - val_accuracy: 0.4973\n",
            "Epoch 5/10\n",
            "41/41 [==============================] - 2s 61ms/step - loss: 0.6966 - accuracy: 0.5087 - val_loss: 0.6936 - val_accuracy: 0.5034\n",
            "Epoch 6/10\n",
            "41/41 [==============================] - 3s 62ms/step - loss: 0.6953 - accuracy: 0.5024 - val_loss: 0.6942 - val_accuracy: 0.5034\n",
            "Epoch 7/10\n",
            "41/41 [==============================] - 3s 61ms/step - loss: 0.6960 - accuracy: 0.4850 - val_loss: 0.6932 - val_accuracy: 0.5034\n",
            "Epoch 8/10\n",
            "41/41 [==============================] - 3s 62ms/step - loss: 0.6940 - accuracy: 0.5045 - val_loss: 0.6932 - val_accuracy: 0.5034\n",
            "Epoch 9/10\n",
            "41/41 [==============================] - 3s 62ms/step - loss: 0.6949 - accuracy: 0.4991 - val_loss: 0.6941 - val_accuracy: 0.5034\n",
            "Epoch 10/10\n",
            "41/41 [==============================] - 3s 62ms/step - loss: 0.6949 - accuracy: 0.4947 - val_loss: 0.6932 - val_accuracy: 0.5027\n"
          ]
        },
        {
          "output_type": "execute_result",
          "data": {
            "text/plain": [
              "<keras.callbacks.History at 0x7fcaa85ee690>"
            ]
          },
          "metadata": {},
          "execution_count": 80
        }
      ]
    },
    {
      "cell_type": "code",
      "metadata": {
        "id": "jiltw0Hyn-8s"
      },
      "source": [
        "predictions = bertmodel.predict(X_test_pooled_output)\n",
        "y_pred = []\n",
        "for pred in predictions:\n",
        "    if pred < 0.5:\n",
        "        y_pred.append(0)\n",
        "    else:\n",
        "        y_pred.append(1)"
      ],
      "execution_count": 82,
      "outputs": []
    },
    {
      "cell_type": "code",
      "metadata": {
        "colab": {
          "base_uri": "https://localhost:8080/"
        },
        "id": "sLADRSZwoRU1",
        "outputId": "c0a5beb2-2285-44af-e168-d6e884915df8"
      },
      "source": [
        "print(\"Accuracy:\",accuracy_score(Y_test, y_pred))\n",
        "print(\"Precision: \",precision_score(Y_test,y_pred))\n",
        "print(\"Recall: \",recall_score(Y_test, y_pred)) \n",
        "print(\"F-1 Score: \",f1_score(Y_test, y_pred))"
      ],
      "execution_count": 83,
      "outputs": [
        {
          "output_type": "stream",
          "name": "stdout",
          "text": [
            "Accuracy: 0.5064285714285715\n",
            "Precision:  0.5251141552511416\n",
            "Recall:  0.08255563531945441\n",
            "F-1 Score:  0.14267990074441686\n"
          ]
        }
      ]
    },
    {
      "cell_type": "code",
      "metadata": {
        "colab": {
          "base_uri": "https://localhost:8080/",
          "height": 305
        },
        "id": "zaZ8_8zcoXSk",
        "outputId": "a0f65a8c-5f4c-4c82-9e79-1e6e772f55a1"
      },
      "source": [
        "matrix = skplt.metrics.plot_confusion_matrix(Y_test,y_pred,labels=[0,1])"
      ],
      "execution_count": 84,
      "outputs": [
        {
          "output_type": "display_data",
          "data": {
            "image/png": "[encoded data removed]",
            "text/plain": [
              "<Figure size 432x288 with 2 Axes>"
            ]
          },
          "metadata": {}
        }
      ]
    },
    {
      "cell_type": "code",
      "metadata": {
        "colab": {
          "base_uri": "https://localhost:8080/",
          "height": 391
        },
        "id": "RvjyoBfIooOM",
        "outputId": "009c175e-466f-49d0-a8ba-e761df0c634e"
      },
      "source": [
        "y_pred = bertmodel.predict(X_test_pooled_output)\n",
        "fpr, tpr, thresholds = roc_curve(Y_test, y_pred, pos_label=1, sample_weight=None)\n",
        "auc = roc_auc_score(Y_test, y_pred, sample_weight=None)\n",
        "print(\"AUC=\", auc)\n",
        "\n",
        "# plot ROC curves \n",
        "plt.figure(figsize=(5,5))\n",
        "plt.plot(fpr,tpr,linewidth=2.0,color='blue')\n",
        "plt.plot([0,1],[0,1],color='red')\n",
        "plt.legend()\n",
        "plt.xlabel('False positive rate',fontsize=12); plt.ylabel('True positive rate',fontsize=12)\n",
        "plt.xlim([0,1]); plt.ylim([0,1])\n",
        "plt.title('LSTM ROC', fontsize=16)\n",
        "plt.show()"
      ],
      "execution_count": 85,
      "outputs": [
        {
          "output_type": "stream",
          "name": "stderr",
          "text": [
            "WARNING:matplotlib.legend:No handles with labels found to put in legend.\n"
          ]
        },
        {
          "output_type": "stream",
          "name": "stdout",
          "text": [
            "AUC= 0.5125140883624132\n"
          ]
        },
        {
          "output_type": "display_data",
          "data": {
            "image/png": "[encoded data removed]",
            "text/plain": [
              "<Figure size 360x360 with 1 Axes>"
            ]
          },
          "metadata": {}
        }
      ]
    },
    {
      "cell_type": "markdown",
      "metadata": {
        "id": "-2xZvaAao8Yi"
      },
      "source": [
        "### FastText"
      ]
    },
    {
      "cell_type": "code",
      "metadata": {
        "colab": {
          "base_uri": "https://localhost:8080/"
        },
        "id": "4fqVgy9opAnU",
        "outputId": "477c6030-cab5-4607-b880-42c1a0d60d8b"
      },
      "source": [
        "#loading fasttext word embeddings\n",
        "def load_fasttext():\n",
        "        print('loading word embeddings...')\n",
        "        embeddings_index = {}\n",
        "        f = open('/content/drive/MyDrive/wiki-news-300d-1M.vec',encoding='utf-8')\n",
        "        for line in tqdm(f):\n",
        "            values = line.strip().rsplit(' ')\n",
        "            word = values[0]\n",
        "            coefs = np.asarray(values[1:], dtype='float32')\n",
        "            embeddings_index[word] = coefs\n",
        "        f.close()\n",
        "        print('found %s word vectors' % len(embeddings_index))\n",
        "    \n",
        "        return embeddings_index\n",
        "\n",
        "embeddings_index=load_fasttext()"
      ],
      "execution_count": 87,
      "outputs": [
        {
          "output_type": "stream",
          "name": "stdout",
          "text": [
            "loading word embeddings...\n"
          ]
        },
        {
          "output_type": "stream",
          "name": "stderr",
          "text": [
            "999995it [01:21, 12343.89it/s]\n"
          ]
        },
        {
          "output_type": "stream",
          "name": "stdout",
          "text": [
            "found 999995 word vectors\n"
          ]
        }
      ]
    },
    {
      "cell_type": "code",
      "metadata": {
        "id": "YpE-LxlkpuVN"
      },
      "source": [
        "embedding_mat = np.zeros((len(word_index) + 1, 300))\n",
        "for word, i in word_index.items():\n",
        "    embedding_vec = embeddings_index.get(word)\n",
        "    if embedding_vec is not None:\n",
        "        embedding_mat[i] = embedding_vec"
      ],
      "execution_count": 88,
      "outputs": []
    },
    {
      "cell_type": "code",
      "metadata": {
        "colab": {
          "base_uri": "https://localhost:8080/"
        },
        "id": "hpfy4e-spxwb",
        "outputId": "6fdd964c-e716-4b1f-addc-5f7006aad612"
      },
      "source": [
        "len(np.where(~embedding_mat.any(axis=1))[0])"
      ],
      "execution_count": 89,
      "outputs": [
        {
          "output_type": "execute_result",
          "data": {
            "text/plain": [
              "6861"
            ]
          },
          "metadata": {},
          "execution_count": 89
        }
      ]
    },
    {
      "cell_type": "code",
      "metadata": {
        "colab": {
          "base_uri": "https://localhost:8080/"
        },
        "id": "7C0Vt6ubp9vh",
        "outputId": "5da5563e-6b28-4c68-8ca0-db1a32fd75ab"
      },
      "source": [
        "#building LSTM Model\n",
        "inputs = Input(name='inputs',shape=[train_sequences_matrix.shape[1]])\n",
        "layer = Embedding(len(word_index) + 1,300,weights=[embedding_mat],input_length=max_len,trainable=False)(inputs)\n",
        "layer = LSTM(64,return_sequences=True)(layer)\n",
        "layer = Flatten()(layer)\n",
        "layer = Dense(128,name='FC1')(layer)\n",
        "layer = Activation('relu')(layer)\n",
        "layer = Dense(164,name='FC2')(layer)\n",
        "layer = Activation('relu')(layer)\n",
        "layer = Dropout(0.3)(layer)\n",
        "layer = Dense(1,name='out_layer')(layer)\n",
        "layer = Activation('sigmoid')(layer)\n",
        "fasttext_model = Model(inputs=inputs,outputs=layer)\n",
        "fasttext_model.summary()"
      ],
      "execution_count": 99,
      "outputs": [
        {
          "output_type": "stream",
          "name": "stdout",
          "text": [
            "Model: \"model_1\"\n",
            "_________________________________________________________________\n",
            "Layer (type)                 Output Shape              Param #   \n",
            "=================================================================\n",
            "inputs (InputLayer)          [(None, 212)]             0         \n",
            "_________________________________________________________________\n",
            "embedding_1 (Embedding)      (None, 212, 300)          4671000   \n",
            "_________________________________________________________________\n",
            "lstm_1 (LSTM)                (None, 212, 64)           93440     \n",
            "_________________________________________________________________\n",
            "flatten_1 (Flatten)          (None, 13568)             0         \n",
            "_________________________________________________________________\n",
            "FC1 (Dense)                  (None, 128)               1736832   \n",
            "_________________________________________________________________\n",
            "activation_3 (Activation)    (None, 128)               0         \n",
            "_________________________________________________________________\n",
            "FC2 (Dense)                  (None, 164)               21156     \n",
            "_________________________________________________________________\n",
            "activation_4 (Activation)    (None, 164)               0         \n",
            "_________________________________________________________________\n",
            "dropout_1 (Dropout)          (None, 164)               0         \n",
            "_________________________________________________________________\n",
            "out_layer (Dense)            (None, 1)                 165       \n",
            "_________________________________________________________________\n",
            "activation_5 (Activation)    (None, 1)                 0         \n",
            "=================================================================\n",
            "Total params: 6,522,593\n",
            "Trainable params: 1,851,593\n",
            "Non-trainable params: 4,671,000\n",
            "_________________________________________________________________\n"
          ]
        }
      ]
    },
    {
      "cell_type": "code",
      "metadata": {
        "id": "adqGZx0otArX"
      },
      "source": [
        "tf.keras.backend.clear_session()\n",
        "fasttext_model.compile(loss='binary_crossentropy',optimizer=Adam(lr=0.0006,decay=1e-4, beta_1=0.9, beta_2=0.999, epsilon=1e-08),metrics=['accuracy'])"
      ],
      "execution_count": 100,
      "outputs": []
    },
    {
      "cell_type": "code",
      "metadata": {
        "colab": {
          "base_uri": "https://localhost:8080/"
        },
        "id": "8-FpmDNktmi-",
        "outputId": "794d29ea-c3b7-4263-e093-f7748be62dde"
      },
      "source": [
        "fasttext_model.fit(train_sequences_matrix,Y_train,batch_size=128,epochs=10,validation_split=0.2)"
      ],
      "execution_count": 101,
      "outputs": [
        {
          "output_type": "stream",
          "name": "stdout",
          "text": [
            "Epoch 1/10\n",
            "41/41 [==============================] - 3s 29ms/step - loss: 0.6932 - accuracy: 0.5018 - val_loss: 0.6913 - val_accuracy: 0.5034\n",
            "Epoch 2/10\n",
            "41/41 [==============================] - 1s 17ms/step - loss: 0.6894 - accuracy: 0.5355 - val_loss: 0.6907 - val_accuracy: 0.5325\n",
            "Epoch 3/10\n",
            "41/41 [==============================] - 1s 17ms/step - loss: 0.6779 - accuracy: 0.5726 - val_loss: 0.6946 - val_accuracy: 0.5318\n",
            "Epoch 4/10\n",
            "41/41 [==============================] - 1s 17ms/step - loss: 0.6590 - accuracy: 0.6059 - val_loss: 0.7143 - val_accuracy: 0.5226\n",
            "Epoch 5/10\n",
            "41/41 [==============================] - 1s 17ms/step - loss: 0.6365 - accuracy: 0.6308 - val_loss: 0.7563 - val_accuracy: 0.5057\n",
            "Epoch 6/10\n",
            "41/41 [==============================] - 1s 17ms/step - loss: 0.6126 - accuracy: 0.6538 - val_loss: 0.7629 - val_accuracy: 0.5080\n",
            "Epoch 7/10\n",
            "41/41 [==============================] - 1s 17ms/step - loss: 0.5788 - accuracy: 0.6811 - val_loss: 0.7969 - val_accuracy: 0.5019\n",
            "Epoch 8/10\n",
            "41/41 [==============================] - 1s 17ms/step - loss: 0.5509 - accuracy: 0.7032 - val_loss: 0.8486 - val_accuracy: 0.5164\n",
            "Epoch 9/10\n",
            "41/41 [==============================] - 1s 17ms/step - loss: 0.5126 - accuracy: 0.7391 - val_loss: 0.9101 - val_accuracy: 0.5111\n",
            "Epoch 10/10\n",
            "41/41 [==============================] - 1s 17ms/step - loss: 0.4784 - accuracy: 0.7596 - val_loss: 0.9741 - val_accuracy: 0.5019\n"
          ]
        },
        {
          "output_type": "execute_result",
          "data": {
            "text/plain": [
              "<keras.callbacks.History at 0x7fca77ca12d0>"
            ]
          },
          "metadata": {},
          "execution_count": 101
        }
      ]
    },
    {
      "cell_type": "code",
      "metadata": {
        "id": "0V9dpw__u3iF"
      },
      "source": [
        "predictions = fasttext_model.predict(test_sequences_matrix)\n",
        "y_pred = []\n",
        "for pred in predictions:\n",
        "    if pred < 0.5:\n",
        "        y_pred.append(0)\n",
        "    else:\n",
        "        y_pred.append(1)"
      ],
      "execution_count": 102,
      "outputs": []
    },
    {
      "cell_type": "code",
      "metadata": {
        "colab": {
          "base_uri": "https://localhost:8080/"
        },
        "id": "7MohNToEvC9L",
        "outputId": "63ced3c9-ccd4-4975-ab89-18b4447ae5df"
      },
      "source": [
        "print(\"Accuracy:\",accuracy_score(Y_test, y_pred))\n",
        "print(\"Precision: \",precision_score(Y_test,y_pred))\n",
        "print(\"Recall: \",recall_score(Y_test, y_pred)) \n",
        "print(\"F-1 Score: \",f1_score(Y_test, y_pred))"
      ],
      "execution_count": 103,
      "outputs": [
        {
          "output_type": "stream",
          "name": "stdout",
          "text": [
            "Accuracy: 0.5314285714285715\n",
            "Precision:  0.5309396485867074\n",
            "Recall:  0.4989231873653984\n",
            "F-1 Score:  0.5144337527757217\n"
          ]
        }
      ]
    },
    {
      "cell_type": "code",
      "metadata": {
        "colab": {
          "base_uri": "https://localhost:8080/",
          "height": 305
        },
        "id": "p4zqPLF7vLeH",
        "outputId": "f8a60b4d-5d1c-46d0-f18e-05603516a34b"
      },
      "source": [
        "matrix = skplt.metrics.plot_confusion_matrix(Y_test,y_pred,labels=[0,1])"
      ],
      "execution_count": 104,
      "outputs": [
        {
          "output_type": "display_data",
          "data": {
            "image/png": "[encoded data removed]",
            "text/plain": [
              "<Figure size 432x288 with 2 Axes>"
            ]
          },
          "metadata": {}
        }
      ]
    },
    {
      "cell_type": "code",
      "metadata": {
        "colab": {
          "base_uri": "https://localhost:8080/",
          "height": 391
        },
        "id": "FpqEiHKvvSq4",
        "outputId": "26c38cbc-c147-4fcb-e630-751ca3e463fd"
      },
      "source": [
        "y_pred = fasttext_model.predict(test_sequences_matrix)\n",
        "fpr, tpr, thresholds = roc_curve(Y_test, y_pred, pos_label=1, sample_weight=None)\n",
        "auc = roc_auc_score(Y_test, y_pred, sample_weight=None)\n",
        "print(\"AUC=\", auc)\n",
        "\n",
        "# plot ROC curves \n",
        "plt.figure(figsize=(5,5))\n",
        "plt.plot(fpr,tpr,linewidth=2.0,color='blue')\n",
        "plt.plot([0,1],[0,1],color='red')\n",
        "plt.legend()\n",
        "plt.xlabel('False positive rate',fontsize=12); plt.ylabel('True positive rate',fontsize=12)\n",
        "plt.xlim([0,1]); plt.ylim([0,1])\n",
        "plt.title('FastText ROC', fontsize=16)\n",
        "plt.show()"
      ],
      "execution_count": 106,
      "outputs": [
        {
          "output_type": "stream",
          "name": "stderr",
          "text": [
            "WARNING:matplotlib.legend:No handles with labels found to put in legend.\n"
          ]
        },
        {
          "output_type": "stream",
          "name": "stdout",
          "text": [
            "AUC= 0.5393451162809682\n"
          ]
        },
        {
          "output_type": "display_data",
          "data": {
            "image/png": "[encoded data removed]",
            "text/plain": [
              "<Figure size 360x360 with 1 Axes>"
            ]
          },
          "metadata": {}
        }
      ]
    },
    {
      "cell_type": "code",
      "metadata": {
        "colab": {
          "base_uri": "https://localhost:8080/"
        },
        "id": "qqzBkBvEMsaU",
        "outputId": "11e66ddb-e324-4de6-934d-d80b8859b4e3"
      },
      "source": [
        "from prettytable import PrettyTable\n",
        "  \n",
        "# Specify the Column Names while initializing the Table\n",
        "myTable = PrettyTable([\"Model\", \"Textdata Model\",\"Accuracy\", \"Precision\", \"Recall\",\"F1-Score\",\"AUC\"])\n",
        "  \n",
        "# Add rows\n",
        "myTable.add_row([\"XGBClassifier\", \"BOW\", \"51.57 %\",\"51.63 %\",\"51.57 %\",\"51.56 %\",\"53.46 %\"])\n",
        "myTable.add_row([\"XGBClassifier\", \"TFIDF\", \"50.85 %\",\"50.86 %\",\"50.85 %\",\"50.85 %\",\"51.76 %\"])\n",
        "myTable.add_row([\"LSTM\", \"Tokenization\", \"52.10 %\",\"51.95 %\",\"49.67 %\",\"50.78 %\",\"51.93 %\"])\n",
        "myTable.add_row([\"LSTM\", \"Word2Vec\",\"50.03 %\",\"43.47 %\",\"1.43 %\",\"2.27 %\",\"52.76 %\"])\n",
        "myTable.add_row([\"LSTM\", \"BERT\",  \"50.64 %\",\"52.51 %\",\"8.25 %\",\"14.26 %\",\"51.25 %\"])\n",
        "myTable.add_row([\"LSTM\", \"FastText\", \"53.14 %\",\"53.09 %\",\"49.89 %\",\"51.44 %\",\"53.93 %\"])\n",
        "print(myTable)"
      ],
      "execution_count": 110,
      "outputs": [
        {
          "output_type": "stream",
          "name": "stdout",
          "text": [
            "+---------------+----------------+----------+-----------+---------+----------+---------+\n",
            "|     Model     | Textdata Model | Accuracy | Precision |  Recall | F1-Score |   AUC   |\n",
            "+---------------+----------------+----------+-----------+---------+----------+---------+\n",
            "| XGBClassifier |      BOW       | 51.57 %  |  51.63 %  | 51.57 % | 51.56 %  | 53.46 % |\n",
            "| XGBClassifier |     TFIDF      | 50.85 %  |  50.86 %  | 50.85 % | 50.85 %  | 51.76 % |\n",
            "|      LSTM     |  Tokenization  | 52.10 %  |  51.95 %  | 49.67 % | 50.78 %  | 51.93 % |\n",
            "|      LSTM     |    Word2Vec    | 50.03 %  |  43.47 %  |  1.43 % |  2.27 %  | 52.76 % |\n",
            "|      LSTM     |      BERT      | 50.64 %  |  52.51 %  |  8.25 % | 14.26 %  | 51.25 % |\n",
            "|      LSTM     |    FastText    | 53.14 %  |  53.09 %  | 49.89 % | 51.44 %  | 53.93 % |\n",
            "+---------------+----------------+----------+-----------+---------+----------+---------+\n"
          ]
        }
      ]
    },
    {
      "cell_type": "markdown",
      "metadata": {
        "id": "Eb_GohxajWfd"
      },
      "source": [
        "FastText with LSTM Model giving good results."
      ]
    }
  ]
}
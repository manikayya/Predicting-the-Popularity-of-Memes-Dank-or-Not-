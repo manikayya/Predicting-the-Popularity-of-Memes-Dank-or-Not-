{
  "nbformat": 4,
  "nbformat_minor": 0,
  "metadata": {
    "colab": {
      "name": "Text_extract_by_easyocr.ipynb",
      "provenance": [],
      "collapsed_sections": []
    },
    "kernelspec": {
      "name": "python3",
      "display_name": "Python 3"
    },
    "language_info": {
      "name": "python"
    },
    "accelerator": "GPU"
  },
  "cells": [
    {
      "cell_type": "code",
      "metadata": {
        "colab": {
          "base_uri": "https://localhost:8080/"
        },
        "id": "e5URR6pVIH7v",
        "outputId": "66dab768-8ee7-4942-ba92-bd220b020372"
      },
      "source": [
        "!pip install opencv-python\n",
        "!pip install easyocr"
      ],
      "execution_count": null,
      "outputs": [
        {
          "output_type": "stream",
          "text": [
            "Requirement already satisfied: opencv-python in /usr/local/lib/python3.7/dist-packages (4.1.2.30)\n",
            "Requirement already satisfied: numpy>=1.14.5 in /usr/local/lib/python3.7/dist-packages (from opencv-python) (1.19.5)\n",
            "Collecting easyocr\n",
            "  Downloading easyocr-1.4-py3-none-any.whl (63.6 MB)\n",
            "\u001b[K     |████████████████████████████████| 63.6 MB 15 kB/s \n",
            "\u001b[?25hRequirement already satisfied: opencv-python in /usr/local/lib/python3.7/dist-packages (from easyocr) (4.1.2.30)\n",
            "Requirement already satisfied: scipy in /usr/local/lib/python3.7/dist-packages (from easyocr) (1.4.1)\n",
            "Collecting python-bidi\n",
            "  Downloading python_bidi-0.4.2-py2.py3-none-any.whl (30 kB)\n",
            "Requirement already satisfied: scikit-image in /usr/local/lib/python3.7/dist-packages (from easyocr) (0.16.2)\n",
            "Requirement already satisfied: numpy in /usr/local/lib/python3.7/dist-packages (from easyocr) (1.19.5)\n",
            "Requirement already satisfied: torchvision>=0.5 in /usr/local/lib/python3.7/dist-packages (from easyocr) (0.10.0+cu102)\n",
            "Requirement already satisfied: torch in /usr/local/lib/python3.7/dist-packages (from easyocr) (1.9.0+cu102)\n",
            "Requirement already satisfied: Pillow in /usr/local/lib/python3.7/dist-packages (from easyocr) (7.1.2)\n",
            "Requirement already satisfied: PyYAML in /usr/local/lib/python3.7/dist-packages (from easyocr) (3.13)\n",
            "Requirement already satisfied: typing-extensions in /usr/local/lib/python3.7/dist-packages (from torch->easyocr) (3.7.4.3)\n",
            "Requirement already satisfied: six in /usr/local/lib/python3.7/dist-packages (from python-bidi->easyocr) (1.15.0)\n",
            "Requirement already satisfied: networkx>=2.0 in /usr/local/lib/python3.7/dist-packages (from scikit-image->easyocr) (2.6.2)\n",
            "Requirement already satisfied: PyWavelets>=0.4.0 in /usr/local/lib/python3.7/dist-packages (from scikit-image->easyocr) (1.1.1)\n",
            "Requirement already satisfied: matplotlib!=3.0.0,>=2.0.0 in /usr/local/lib/python3.7/dist-packages (from scikit-image->easyocr) (3.2.2)\n",
            "Requirement already satisfied: imageio>=2.3.0 in /usr/local/lib/python3.7/dist-packages (from scikit-image->easyocr) (2.4.1)\n",
            "Requirement already satisfied: kiwisolver>=1.0.1 in /usr/local/lib/python3.7/dist-packages (from matplotlib!=3.0.0,>=2.0.0->scikit-image->easyocr) (1.3.1)\n",
            "Requirement already satisfied: python-dateutil>=2.1 in /usr/local/lib/python3.7/dist-packages (from matplotlib!=3.0.0,>=2.0.0->scikit-image->easyocr) (2.8.2)\n",
            "Requirement already satisfied: cycler>=0.10 in /usr/local/lib/python3.7/dist-packages (from matplotlib!=3.0.0,>=2.0.0->scikit-image->easyocr) (0.10.0)\n",
            "Requirement already satisfied: pyparsing!=2.0.4,!=2.1.2,!=2.1.6,>=2.0.1 in /usr/local/lib/python3.7/dist-packages (from matplotlib!=3.0.0,>=2.0.0->scikit-image->easyocr) (2.4.7)\n",
            "Installing collected packages: python-bidi, easyocr\n",
            "Successfully installed easyocr-1.4 python-bidi-0.4.2\n"
          ],
          "name": "stdout"
        }
      ]
    },
    {
      "cell_type": "code",
      "metadata": {
        "id": "KWL5mE8sIanP"
      },
      "source": [
        "import matplotlib.pyplot as plt\n",
        "import pandas as pd\n",
        "import numpy as np\n",
        "import cv2\n",
        "import easyocr\n",
        "from pylab import rcParams\n",
        "from IPython.display import Image\n",
        "rcParams['figure.figsize'] = 8, 16\n",
        "import urllib.request\n",
        "import json\n",
        "from tqdm import tqdm\n",
        "import requests\n",
        "import warnings\n",
        "warnings.filterwarnings('ignore')"
      ],
      "execution_count": null,
      "outputs": []
    },
    {
      "cell_type": "code",
      "metadata": {
        "id": "5DQZNB-ZLRBj"
      },
      "source": [
        "reader = easyocr.Reader(['en'],gpu = True)"
      ],
      "execution_count": null,
      "outputs": []
    },
    {
      "cell_type": "code",
      "metadata": {
        "id": "53pdtAbfLaVO"
      },
      "source": [
        "data = pd.read_csv('/content/drive/MyDrive/case_study_2/input/data_4.csv')"
      ],
      "execution_count": null,
      "outputs": []
    },
    {
      "cell_type": "code",
      "metadata": {
        "colab": {
          "base_uri": "https://localhost:8080/"
        },
        "id": "T1hqdSjCrhxl",
        "outputId": "dbd30331-82c5-48d5-e422-3a755e2852f7"
      },
      "source": [
        "df = data[data['upvote ratio']>=data['upvote ratio'].quantile(.6782)]\n",
        "df.shape"
      ],
      "execution_count": null,
      "outputs": [
        {
          "output_type": "execute_result",
          "data": {
            "text/plain": [
              "(30000, 15)"
            ]
          },
          "metadata": {},
          "execution_count": 4
        }
      ]
    },
    {
      "cell_type": "code",
      "metadata": {
        "id": "99w4edCMtH0O"
      },
      "source": [
        "df = df.reset_index(drop=True)"
      ],
      "execution_count": null,
      "outputs": []
    },
    {
      "cell_type": "code",
      "metadata": {
        "id": "WVaEeDD9NKxY"
      },
      "source": [
        "from skimage import io\n",
        "def url_to_cvimage(url):\n",
        "    try:\n",
        "        image = io.imread(url)\n",
        "        image = cv2.cvtColor(image, cv2.COLOR_BGR2RGB)\n",
        "        cv2.waitKey(0)\n",
        "        return image\n",
        "    except:\n",
        "        return \"N/A\""
      ],
      "execution_count": null,
      "outputs": []
    },
    {
      "cell_type": "code",
      "metadata": {
        "id": "MfOCK7kZNSSo"
      },
      "source": [
        "def cvimage_to_pic(cvimage):\n",
        "    temp = cv2.cvtColor(cvimage, cv2.COLOR_BGR2RGB)\n",
        "    plt.axis('off')\n",
        "    plt.imshow(temp)\n",
        "    plt.show()"
      ],
      "execution_count": null,
      "outputs": []
    },
    {
      "cell_type": "code",
      "metadata": {
        "colab": {
          "base_uri": "https://localhost:8080/",
          "height": 248
        },
        "id": "JnBidZJrNXp-",
        "outputId": "667b06e4-42e0-40f8-97f6-8062cc4af0b8"
      },
      "source": [
        "cvimage_to_pic(url_to_cvimage(data.media.values[29998]))"
      ],
      "execution_count": null,
      "outputs": [
        {
          "output_type": "display_data",
          "data": {
            "image/png": "[encoded data removed]",
            "text/plain": [
              "<Figure size 432x288 with 1 Axes>"
            ]
          },
          "metadata": {
            "needs_background": "light"
          }
        }
      ]
    },
    {
      "cell_type": "code",
      "metadata": {
        "id": "M_D64e1TPvdV"
      },
      "source": [
        "df.insert(11,'text_from_meme','Not Present')"
      ],
      "execution_count": null,
      "outputs": []
    },
    {
      "cell_type": "code",
      "metadata": {
        "colab": {
          "base_uri": "https://localhost:8080/"
        },
        "id": "G-f5tNHGRZ8H",
        "outputId": "dcdad25a-7b4c-4a29-9a2c-e0a8c48a6e9d"
      },
      "source": [
        "#extracting text from meme with easyocr\n",
        "for index in tqdm(df.index):\n",
        "    try:\n",
        "        urllib.request.urlretrieve(df.media.values[index],'image.jpg')\n",
        "        output = reader.readtext('image.jpg',decoder = 'greedy', beamWidth= 5, batch_size = 1,\n",
        "                            workers = 0, allowlist = None, blocklist = None, detail = 1,\n",
        "                            rotation_info = None, paragraph = False, min_size = 20,\n",
        "                            contrast_ths = 0.1,adjust_contrast = 0.5, filter_ths = 0.003,\n",
        "                            text_threshold = 0.7, low_text = 0.4, link_threshold = 0.4,\n",
        "                            canvas_size = 2560, mag_ratio = 1.,\n",
        "                            slope_ths = 0.1 , ycenter_ths = 0.5, height_ths = 0.5,\n",
        "                            width_ths = 0.5, y_ths = 0.5, x_ths = 1.0, add_margin = 0.1, output_format='standard')\n",
        "        text = \"\"  \n",
        "        for i in range(len(output)):\n",
        "            text = text + \" \" +''.joi n(output[i][1])   \n",
        "            text = text.strip() \n",
        "    except:\n",
        "        text = 'Fail'\n",
        "    df['text_from_meme'][index] = text "
      ],
      "execution_count": null,
      "outputs": [
        {
          "output_type": "stream",
          "text": [
            "100%|██████████| 30000/30000 [16:47:45<00:00,  2.02s/it]\n"
          ],
          "name": "stderr"
        }
      ]
    },
    {
      "cell_type": "code",
      "metadata": {
        "id": "N38UQOCZFWZo"
      },
      "source": [
        "df.to_csv('/content/drive/MyDrive/case_study_2/input/data_6.csv',index=False)"
      ],
      "execution_count": null,
      "outputs": []
    },
    {
      "cell_type": "code",
      "metadata": {
        "colab": {
          "base_uri": "https://localhost:8080/",
          "height": 1000
        },
        "id": "jjsCITKRPnfs",
        "outputId": "73053171-d9d1-4f14-8274-2b2a453a0648"
      },
      "source": [
        "df"
      ],
      "execution_count": null,
      "outputs": [
        {
          "output_type": "execute_result",
          "data": {
            "text/html": [
              "<div>\n",
              "<style scoped>\n",
              "    .dataframe tbody tr th:only-of-type {\n",
              "        vertical-align: middle;\n",
              "    }\n",
              "\n",
              "    .dataframe tbody tr th {\n",
              "        vertical-align: top;\n",
              "    }\n",
              "\n",
              "    .dataframe thead th {\n",
              "        text-align: right;\n",
              "    }\n",
              "</style>\n",
              "<table border=\"1\" class=\"dataframe\">\n",
              "  <thead>\n",
              "    <tr style=\"text-align: right;\">\n",
              "      <th></th>\n",
              "      <th>created_utc</th>\n",
              "      <th>id</th>\n",
              "      <th>is_nsfw</th>\n",
              "      <th>media</th>\n",
              "      <th>subreddit</th>\n",
              "      <th>subscribers</th>\n",
              "      <th>thumbnail.height</th>\n",
              "      <th>thumbnail.thumbnail</th>\n",
              "      <th>thumbnail.width</th>\n",
              "      <th>title</th>\n",
              "      <th>ups</th>\n",
              "      <th>text_from_meme</th>\n",
              "      <th>url</th>\n",
              "      <th>upvote ratio</th>\n",
              "      <th>dank_level</th>\n",
              "      <th>Time_of_day</th>\n",
              "    </tr>\n",
              "  </thead>\n",
              "  <tbody>\n",
              "    <tr>\n",
              "      <th>0</th>\n",
              "      <td>1.628380e+09</td>\n",
              "      <td>p040e9</td>\n",
              "      <td>0</td>\n",
              "      <td>https://i.redd.it/238mczwev0g71.jpg</td>\n",
              "      <td>0</td>\n",
              "      <td>1430077</td>\n",
              "      <td>114.0</td>\n",
              "      <td>https://b.thumbs.redditmedia.com/WBdc-Nus6faSe...</td>\n",
              "      <td>140.0</td>\n",
              "      <td>Invest in ye mudders credit card</td>\n",
              "      <td>167</td>\n",
              "      <td>ME etiN ILM purchased themHsin' mexmueders cre...</td>\n",
              "      <td>/r/MemeEconomy/comments/p040e9/invest_in_ye_mu...</td>\n",
              "      <td>0.000117</td>\n",
              "      <td>0</td>\n",
              "      <td>5</td>\n",
              "    </tr>\n",
              "    <tr>\n",
              "      <th>1</th>\n",
              "      <td>1.628366e+09</td>\n",
              "      <td>p002qn</td>\n",
              "      <td>0</td>\n",
              "      <td>https://i.redd.it/4yacuh18qzf71.jpg</td>\n",
              "      <td>0</td>\n",
              "      <td>1430077</td>\n",
              "      <td>140.0</td>\n",
              "      <td>https://b.thumbs.redditmedia.com/avzbtegaypC3l...</td>\n",
              "      <td>140.0</td>\n",
              "      <td>Invest in bio-security</td>\n",
              "      <td>60</td>\n",
              "      <td></td>\n",
              "      <td>/r/MemeEconomy/comments/p002qn/invest_in_biose...</td>\n",
              "      <td>0.000042</td>\n",
              "      <td>0</td>\n",
              "      <td>4</td>\n",
              "    </tr>\n",
              "    <tr>\n",
              "      <th>2</th>\n",
              "      <td>1.628364e+09</td>\n",
              "      <td>ozzmum</td>\n",
              "      <td>0</td>\n",
              "      <td>https://i.redd.it/fkqta3ctlzf71.jpg</td>\n",
              "      <td>0</td>\n",
              "      <td>1430077</td>\n",
              "      <td>140.0</td>\n",
              "      <td>default</td>\n",
              "      <td>140.0</td>\n",
              "      <td>INVEST in Jontron slicing the price in half! A...</td>\n",
              "      <td>15</td>\n",
              "      <td></td>\n",
              "      <td>/r/MemeEconomy/comments/ozzmum/invest_in_jontr...</td>\n",
              "      <td>0.000010</td>\n",
              "      <td>0</td>\n",
              "      <td>4</td>\n",
              "    </tr>\n",
              "    <tr>\n",
              "      <th>3</th>\n",
              "      <td>1.628357e+09</td>\n",
              "      <td>ozxfph</td>\n",
              "      <td>0</td>\n",
              "      <td>https://i.redd.it/xv0li2430zf71.png</td>\n",
              "      <td>0</td>\n",
              "      <td>1430077</td>\n",
              "      <td>140.0</td>\n",
              "      <td>https://b.thumbs.redditmedia.com/2GQTtYFKN3Om9...</td>\n",
              "      <td>140.0</td>\n",
              "      <td>Invest in Elmo in Vietnam</td>\n",
              "      <td>26</td>\n",
              "      <td></td>\n",
              "      <td>/r/MemeEconomy/comments/ozxfph/invest_in_elmo_...</td>\n",
              "      <td>0.000018</td>\n",
              "      <td>0</td>\n",
              "      <td>4</td>\n",
              "    </tr>\n",
              "    <tr>\n",
              "      <th>4</th>\n",
              "      <td>1.628355e+09</td>\n",
              "      <td>ozwwz7</td>\n",
              "      <td>0</td>\n",
              "      <td>https://i.redd.it/n4ouph71vyf71.jpg</td>\n",
              "      <td>0</td>\n",
              "      <td>1430077</td>\n",
              "      <td>140.0</td>\n",
              "      <td>default</td>\n",
              "      <td>140.0</td>\n",
              "      <td>Invest in woman with her statue</td>\n",
              "      <td>23</td>\n",
              "      <td>56E 0 B</td>\n",
              "      <td>/r/MemeEconomy/comments/ozwwz7/invest_in_woman...</td>\n",
              "      <td>0.000016</td>\n",
              "      <td>0</td>\n",
              "      <td>3</td>\n",
              "    </tr>\n",
              "    <tr>\n",
              "      <th>...</th>\n",
              "      <td>...</td>\n",
              "      <td>...</td>\n",
              "      <td>...</td>\n",
              "      <td>...</td>\n",
              "      <td>...</td>\n",
              "      <td>...</td>\n",
              "      <td>...</td>\n",
              "      <td>...</td>\n",
              "      <td>...</td>\n",
              "      <td>...</td>\n",
              "      <td>...</td>\n",
              "      <td>...</td>\n",
              "      <td>...</td>\n",
              "      <td>...</td>\n",
              "      <td>...</td>\n",
              "      <td>...</td>\n",
              "    </tr>\n",
              "    <tr>\n",
              "      <th>29995</th>\n",
              "      <td>1.626223e+09</td>\n",
              "      <td>ojsvpg</td>\n",
              "      <td>0</td>\n",
              "      <td>https://i.redd.it/gpd9iziop2b71.jpg</td>\n",
              "      <td>1</td>\n",
              "      <td>5070468</td>\n",
              "      <td>140.0</td>\n",
              "      <td>https://b.thumbs.redditmedia.com/4aQzhaDde3mZh...</td>\n",
              "      <td>140.0</td>\n",
              "      <td>What now?</td>\n",
              "      <td>2881</td>\n",
              "      <td>r/AmltheAsshole users when are; in fact, the a...</td>\n",
              "      <td>/r/dankmemes/comments/ojsvpg/what_now/</td>\n",
              "      <td>0.000568</td>\n",
              "      <td>1</td>\n",
              "      <td>0</td>\n",
              "    </tr>\n",
              "    <tr>\n",
              "      <th>29996</th>\n",
              "      <td>1.626222e+09</td>\n",
              "      <td>ojsswy</td>\n",
              "      <td>0</td>\n",
              "      <td>https://i.redd.it/gt1zfdhwo2b71.jpg</td>\n",
              "      <td>1</td>\n",
              "      <td>5070468</td>\n",
              "      <td>137.0</td>\n",
              "      <td>https://b.thumbs.redditmedia.com/6c8QPlqZE0a6F...</td>\n",
              "      <td>140.0</td>\n",
              "      <td>Mom is too powerful</td>\n",
              "      <td>145</td>\n",
              "      <td>HaHAHA YOU am a gamerl Are So INNOCENT\" Me who...</td>\n",
              "      <td>/r/dankmemes/comments/ojsswy/mom_is_too_powerful/</td>\n",
              "      <td>0.000029</td>\n",
              "      <td>0</td>\n",
              "      <td>0</td>\n",
              "    </tr>\n",
              "    <tr>\n",
              "      <th>29997</th>\n",
              "      <td>1.626222e+09</td>\n",
              "      <td>ojspzg</td>\n",
              "      <td>0</td>\n",
              "      <td>https://i.redd.it/j6xkiq72o2b71.jpg</td>\n",
              "      <td>1</td>\n",
              "      <td>5070468</td>\n",
              "      <td>140.0</td>\n",
              "      <td>https://a.thumbs.redditmedia.com/7uHSLxutkzIIK...</td>\n",
              "      <td>140.0</td>\n",
              "      <td>As a Brit, i'm scared you'll invade us now!</td>\n",
              "      <td>38</td>\n",
              "      <td>Over the Counter Aspirin in America $10 Over t...</td>\n",
              "      <td>/r/dankmemes/comments/ojspzg/as_a_brit_im_scar...</td>\n",
              "      <td>0.000007</td>\n",
              "      <td>0</td>\n",
              "      <td>0</td>\n",
              "    </tr>\n",
              "    <tr>\n",
              "      <th>29998</th>\n",
              "      <td>1.626222e+09</td>\n",
              "      <td>ojsodw</td>\n",
              "      <td>0</td>\n",
              "      <td>https://i.redd.it/xki1it0ln2b71.jpg</td>\n",
              "      <td>1</td>\n",
              "      <td>5070468</td>\n",
              "      <td>129.0</td>\n",
              "      <td>https://b.thumbs.redditmedia.com/hVKhOjex1n2gW...</td>\n",
              "      <td>140.0</td>\n",
              "      <td>Are you serious 🧐</td>\n",
              "      <td>88</td>\n",
              "      <td>Whenl</td>\n",
              "      <td>/r/dankmemes/comments/ojsodw/are_you_serious/</td>\n",
              "      <td>0.000017</td>\n",
              "      <td>0</td>\n",
              "      <td>0</td>\n",
              "    </tr>\n",
              "    <tr>\n",
              "      <th>29999</th>\n",
              "      <td>1.626222e+09</td>\n",
              "      <td>ojskuj</td>\n",
              "      <td>0</td>\n",
              "      <td>https://i.redd.it/5iy6912lm2b71.jpg</td>\n",
              "      <td>1</td>\n",
              "      <td>5070468</td>\n",
              "      <td>140.0</td>\n",
              "      <td>https://b.thumbs.redditmedia.com/UzwVkquo3l_kI...</td>\n",
              "      <td>140.0</td>\n",
              "      <td>Like wtf</td>\n",
              "      <td>29</td>\n",
              "      <td>Freshman] two week break COVID- 19 Junior made...</td>\n",
              "      <td>/r/dankmemes/comments/ojskuj/like_wtf/</td>\n",
              "      <td>0.000006</td>\n",
              "      <td>0</td>\n",
              "      <td>0</td>\n",
              "    </tr>\n",
              "  </tbody>\n",
              "</table>\n",
              "<p>30000 rows × 16 columns</p>\n",
              "</div>"
            ],
            "text/plain": [
              "        created_utc      id  is_nsfw  ... upvote ratio  dank_level  Time_of_day\n",
              "0      1.628380e+09  p040e9        0  ...     0.000117           0            5\n",
              "1      1.628366e+09  p002qn        0  ...     0.000042           0            4\n",
              "2      1.628364e+09  ozzmum        0  ...     0.000010           0            4\n",
              "3      1.628357e+09  ozxfph        0  ...     0.000018           0            4\n",
              "4      1.628355e+09  ozwwz7        0  ...     0.000016           0            3\n",
              "...             ...     ...      ...  ...          ...         ...          ...\n",
              "29995  1.626223e+09  ojsvpg        0  ...     0.000568           1            0\n",
              "29996  1.626222e+09  ojsswy        0  ...     0.000029           0            0\n",
              "29997  1.626222e+09  ojspzg        0  ...     0.000007           0            0\n",
              "29998  1.626222e+09  ojsodw        0  ...     0.000017           0            0\n",
              "29999  1.626222e+09  ojskuj        0  ...     0.000006           0            0\n",
              "\n",
              "[30000 rows x 16 columns]"
            ]
          },
          "metadata": {
            "tags": []
          },
          "execution_count": 89
        }
      ]
    },
    {
      "cell_type": "code",
      "metadata": {
        "id": "aIR0Pim0CrA6"
      },
      "source": [
        "data = pd.read_csv('/content/drive/MyDrive/case_study_2/input/data_6.csv')"
      ],
      "execution_count": null,
      "outputs": []
    },
    {
      "cell_type": "code",
      "metadata": {
        "id": "XG9-igpIHezz"
      },
      "source": [
        "data.insert(12,'text_words','empty')"
      ],
      "execution_count": null,
      "outputs": []
    },
    {
      "cell_type": "code",
      "metadata": {
        "colab": {
          "base_uri": "https://localhost:8080/"
        },
        "id": "hbs-TTIqvPSq",
        "outputId": "45dc92d2-0304-4276-f7f4-aba0011e503d"
      },
      "source": [
        "for i in tqdm(range(data.shape[0])):\n",
        "    try:\n",
        "        if math.isnan(data.text_from_meme[i]):\n",
        "            data.text_from_meme[i]='Fail'\n",
        "    except:\n",
        "        pass"
      ],
      "execution_count": null,
      "outputs": [
        {
          "output_type": "stream",
          "text": [
            "100%|██████████| 30000/30000 [00:00<00:00, 61342.98it/s]\n"
          ],
          "name": "stderr"
        }
      ]
    },
    {
      "cell_type": "code",
      "metadata": {
        "colab": {
          "base_uri": "https://localhost:8080/"
        },
        "id": "PF4swY19zCP1",
        "outputId": "dbfef092-90fb-4ed4-d2be-919e54300938"
      },
      "source": [
        "data[data.text_from_meme=='Fail'].shape"
      ],
      "execution_count": null,
      "outputs": [
        {
          "output_type": "execute_result",
          "data": {
            "text/plain": [
              "(3287, 17)"
            ]
          },
          "metadata": {},
          "execution_count": 15
        }
      ]
    },
    {
      "cell_type": "code",
      "metadata": {
        "colab": {
          "base_uri": "https://localhost:8080/"
        },
        "id": "gW9b5vEH5jTf",
        "outputId": "23c2befc-81c3-4232-9548-39943585ba96"
      },
      "source": [
        "# concatenating title and text information\n",
        "for index in tqdm(data.index): \n",
        "    if data['text_words'][index] == 'empty':   \n",
        "        title = data['title'][index]\n",
        "        text_from_meme = data['text_from_meme'][index] \n",
        "        try:\n",
        "            if text_from_meme=='Fail':\n",
        "                text_from_meme = ''  \n",
        "            words = title + ' '+ text_from_meme\n",
        "        except:\n",
        "            words = 'Fail'\n",
        "        data['text_words'][index] = words"
      ],
      "execution_count": null,
      "outputs": [
        {
          "output_type": "stream",
          "text": [
            "100%|██████████| 30000/30000 [00:10<00:00, 2856.33it/s]\n"
          ],
          "name": "stderr"
        }
      ]
    },
    {
      "cell_type": "code",
      "metadata": {
        "id": "roZUQ8JKELko"
      },
      "source": [
        "data.to_csv('/content/drive/MyDrive/case_study_2/input/data_6u.csv',index=False)"
      ],
      "execution_count": null,
      "outputs": []
    }
  ]
}